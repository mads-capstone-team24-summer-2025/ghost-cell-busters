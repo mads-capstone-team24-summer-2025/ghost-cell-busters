{
 "cells": [
  {
   "cell_type": "markdown",
   "metadata": {},
   "source": [
    "## GSE180286 OBS Notebook"
   ]
  },
  {
   "cell_type": "markdown",
   "metadata": {},
   "source": [
    "## Table of Contents\n",
    "1. [Introduction](#introduction)\n",
    "2. [Imports](#imports)\n",
    "3. [Path for Assets](#path-for-assets)\n",
    "4. [Data Loading](#data-loading)"
   ]
  },
  {
   "cell_type": "markdown",
   "metadata": {},
   "source": [
    "## Introduction"
   ]
  },
  {
   "cell_type": "markdown",
   "metadata": {},
   "source": [
    "This notebook is the start of GSE161529 validation. It is designed to load and process single-cell RNA sequencing data from the GSE161529 dataset. The goal is to prepare the data for further analysis and validation."
   ]
  },
  {
   "cell_type": "markdown",
   "metadata": {},
   "source": [
    "## Imports"
   ]
  },
  {
   "cell_type": "code",
   "execution_count": 22,
   "metadata": {},
   "outputs": [],
   "source": [
    "# Necessary imports for the notebook. Please ensure these libraries are installed in your Python environment, \n",
    "# if not then please install them using the requirements.txt file.\n",
    "import os\n",
    "import tarfile\n",
    "import glob\n",
    "import gzip\n",
    "import pandas as pd\n",
    "import anndata as ad\n",
    "import scanpy as sc\n",
    "from gtfparse import read_gtf\n",
    "import scanpy as sc\n",
    "import gc\n",
    "import numpy as np\n",
    "from collections import defaultdict"
   ]
  },
  {
   "cell_type": "markdown",
   "metadata": {},
   "source": [
    "## Path for Assets"
   ]
  },
  {
   "cell_type": "code",
   "execution_count": 23,
   "metadata": {},
   "outputs": [],
   "source": [
    "# This is the relative path of the assets directory, if the assets are in another location please change the path accordingly.\n",
    "assets = \"../assets\""
   ]
  },
  {
   "cell_type": "code",
   "execution_count": 24,
   "metadata": {},
   "outputs": [],
   "source": [
    "# Output of this cell is truncated to avoid displaying too many files.\n",
    "# This will list all the files in the GSE180286 directory.\n",
    "gse18_files = glob.glob(f\"{assets}/GSE180286/*\")\n",
    "gsm_files = sorted([f for f in gse18_files if f.endswith(\".txt\")])\n",
    "gsm_file_names = sorted(set(f.split('\\\\')[-1].split('_')[0] for f in gsm_files if f.endswith(\"_matrix.txt\")))\n",
    "# gsm_files, gsm_file_names"
   ]
  },
  {
   "cell_type": "code",
   "execution_count": null,
   "metadata": {},
   "outputs": [],
   "source": [
    "def load_adata(gsm_files=gsm_files, gsm_file_names=gsm_file_names):\n",
    "    \"\"\"    Load GSM files into a list of AnnData objects.\n",
    "    Args:\n",
    "        gsm_files (list): List of GSM file names to load.\n",
    "        gsm_file_names (list): List of GSM file names without extensions or the path.\n",
    "    Returns:\n",
    "        list: List of AnnData objects loaded from the provided files.\n",
    "    \"\"\"    \n",
    "    list_data = []\n",
    "    for gsm_file in gsm_files:\n",
    "        path = f\"{gsm_file}\"\n",
    "        print(f\"Loading: {path}\")\n",
    "        \n",
    "        data = sc.read_csv(path, delimiter=\"\\t\")\n",
    "        # Convert to sparse\n",
    "        if not sc.utils.is_sparse(data.X):\n",
    "            data.X = sc.pp.to_sparse(data.X)\n",
    "        \n",
    "        # data.obs[\"sample\"] = gsm_file_name\n",
    "        print(f\"Successfully loaded {gsm_file} with shape {data.shape}\")\n",
    "        list_data.append(data)\n",
    "    adata = ad.concat(list_data, join=\"outer\", label=\"sample\", keys=gsm_file_names)\n",
    "    return adata"
   ]
  },
  {
   "cell_type": "code",
   "execution_count": 26,
   "metadata": {},
   "outputs": [
    {
     "name": "stdout",
     "output_type": "stream",
     "text": [
      "Loading: ../assets/GSE180286\\GSM5457199_A2019-1.expression_matrix.txt\n",
      "Successfully loaded ../assets/GSE180286\\GSM5457199_A2019-1.expression_matrix.txt with shape (25540, 3267)\n",
      "Loading: ../assets/GSE180286\\GSM5457200_A2019-2.expression_matrix.txt\n",
      "Successfully loaded ../assets/GSE180286\\GSM5457200_A2019-2.expression_matrix.txt with shape (25501, 8607)\n",
      "Loading: ../assets/GSE180286\\GSM5457201_A2019-3.expression_matrix.txt\n",
      "Successfully loaded ../assets/GSE180286\\GSM5457201_A2019-3.expression_matrix.txt with shape (27060, 16661)\n",
      "Loading: ../assets/GSE180286\\GSM5457202_B2019-1.expression_matrix.txt\n",
      "Successfully loaded ../assets/GSE180286\\GSM5457202_B2019-1.expression_matrix.txt with shape (32148, 11467)\n",
      "Loading: ../assets/GSE180286\\GSM5457203_B2019-2.expression_matrix.txt\n",
      "Successfully loaded ../assets/GSE180286\\GSM5457203_B2019-2.expression_matrix.txt with shape (29607, 11356)\n",
      "Loading: ../assets/GSE180286\\GSM5457204_B2019-3.expression_matrix.txt\n",
      "Successfully loaded ../assets/GSE180286\\GSM5457204_B2019-3.expression_matrix.txt with shape (29861, 11323)\n",
      "Loading: ../assets/GSE180286\\GSM5457205_C2020-1.expression_matrix.txt\n",
      "Successfully loaded ../assets/GSE180286\\GSM5457205_C2020-1.expression_matrix.txt with shape (30672, 4161)\n",
      "Loading: ../assets/GSE180286\\GSM5457206_C2020-2.expression_matrix.txt\n",
      "Successfully loaded ../assets/GSE180286\\GSM5457206_C2020-2.expression_matrix.txt with shape (29843, 4940)\n",
      "Loading: ../assets/GSE180286\\GSM5457207_C2020-3.expression_matrix.txt\n",
      "Successfully loaded ../assets/GSE180286\\GSM5457207_C2020-3.expression_matrix.txt with shape (26179, 8517)\n",
      "Loading: ../assets/GSE180286\\GSM5457208_D2020-1.expression_matrix.txt\n",
      "Successfully loaded ../assets/GSE180286\\GSM5457208_D2020-1.expression_matrix.txt with shape (29899, 4064)\n",
      "Loading: ../assets/GSE180286\\GSM5457209_D2020-2.expression_matrix.txt\n",
      "Successfully loaded ../assets/GSE180286\\GSM5457209_D2020-2.expression_matrix.txt with shape (26256, 5298)\n",
      "Loading: ../assets/GSE180286\\GSM5457210_D2020-3.expression_matrix.txt\n",
      "Successfully loaded ../assets/GSE180286\\GSM5457210_D2020-3.expression_matrix.txt with shape (26766, 8228)\n",
      "Loading: ../assets/GSE180286\\GSM5457211_E2020-1.expression_matrix.txt\n",
      "Successfully loaded ../assets/GSE180286\\GSM5457211_E2020-1.expression_matrix.txt with shape (30958, 7521)\n",
      "Loading: ../assets/GSE180286\\GSM5457212_E2020-2.expression_matrix.txt\n",
      "Successfully loaded ../assets/GSE180286\\GSM5457212_E2020-2.expression_matrix.txt with shape (26816, 5673)\n",
      "Loading: ../assets/GSE180286\\GSM5457213_E2020-3.expression_matrix.txt\n",
      "Successfully loaded ../assets/GSE180286\\GSM5457213_E2020-3.expression_matrix.txt with shape (25668, 6398)\n"
     ]
    },
    {
     "ename": "MemoryError",
     "evalue": "Unable to allocate 11.1 GiB for an array with shape (25540, 116820) and data type float32",
     "output_type": "error",
     "traceback": [
      "\u001b[31m---------------------------------------------------------------------------\u001b[39m",
      "\u001b[31mMemoryError\u001b[39m                               Traceback (most recent call last)",
      "\u001b[36mCell\u001b[39m\u001b[36m \u001b[39m\u001b[32mIn[26]\u001b[39m\u001b[32m, line 4\u001b[39m\n\u001b[32m      1\u001b[39m \u001b[38;5;66;03m# This block takes a really long time to run, so please be patient.\u001b[39;00m\n\u001b[32m      2\u001b[39m \u001b[38;5;66;03m# If you are running this locally on a machine please check if you have enough resources available.\u001b[39;00m\n\u001b[32m      3\u001b[39m \u001b[38;5;66;03m# If not then please run this on a cloud platform like Google Colab or Kaggle.\u001b[39;00m\n\u001b[32m----> \u001b[39m\u001b[32m4\u001b[39m adata = \u001b[43mload_adata\u001b[49m\u001b[43m(\u001b[49m\u001b[43mgsm_files\u001b[49m\u001b[43m=\u001b[49m\u001b[43mgsm_files\u001b[49m\u001b[43m,\u001b[49m\u001b[43m \u001b[49m\u001b[43mgsm_file_names\u001b[49m\u001b[43m=\u001b[49m\u001b[43mgsm_file_names\u001b[49m\u001b[43m)\u001b[49m\n",
      "\u001b[36mCell\u001b[39m\u001b[36m \u001b[39m\u001b[32mIn[25]\u001b[39m\u001b[32m, line 20\u001b[39m, in \u001b[36mload_adata\u001b[39m\u001b[34m(gsm_files, gsm_file_names)\u001b[39m\n\u001b[32m     18\u001b[39m     \u001b[38;5;28mprint\u001b[39m(\u001b[33mf\u001b[39m\u001b[33m\"\u001b[39m\u001b[33mSuccessfully loaded \u001b[39m\u001b[38;5;132;01m{\u001b[39;00mgsm_file\u001b[38;5;132;01m}\u001b[39;00m\u001b[33m with shape \u001b[39m\u001b[38;5;132;01m{\u001b[39;00mdata.shape\u001b[38;5;132;01m}\u001b[39;00m\u001b[33m\"\u001b[39m)\n\u001b[32m     19\u001b[39m     list_data.append(data)\n\u001b[32m---> \u001b[39m\u001b[32m20\u001b[39m adata = \u001b[43mad\u001b[49m\u001b[43m.\u001b[49m\u001b[43mconcat\u001b[49m\u001b[43m(\u001b[49m\u001b[43mlist_data\u001b[49m\u001b[43m,\u001b[49m\u001b[43m \u001b[49m\u001b[43mjoin\u001b[49m\u001b[43m=\u001b[49m\u001b[33;43m\"\u001b[39;49m\u001b[33;43mouter\u001b[39;49m\u001b[33;43m\"\u001b[39;49m\u001b[43m,\u001b[49m\u001b[43m \u001b[49m\u001b[43mlabel\u001b[49m\u001b[43m=\u001b[49m\u001b[33;43m\"\u001b[39;49m\u001b[33;43msample\u001b[39;49m\u001b[33;43m\"\u001b[39;49m\u001b[43m,\u001b[49m\u001b[43m \u001b[49m\u001b[43mkeys\u001b[49m\u001b[43m=\u001b[49m\u001b[43mgsm_file_names\u001b[49m\u001b[43m)\u001b[49m\n\u001b[32m     21\u001b[39m \u001b[38;5;28;01mreturn\u001b[39;00m adata\n",
      "\u001b[36mFile \u001b[39m\u001b[32ma:\\Capstone Local-GIt\\ghost-cell-busters\\venv\\Lib\\site-packages\\anndata\\_core\\merge.py:1363\u001b[39m, in \u001b[36mconcat\u001b[39m\u001b[34m(adatas, axis, join, merge, uns_merge, label, keys, index_unique, fill_value, pairwise)\u001b[39m\n\u001b[32m   1358\u001b[39m \u001b[38;5;66;03m# Annotation for other axis\u001b[39;00m\n\u001b[32m   1359\u001b[39m alt_annot = merge_dataframes(\n\u001b[32m   1360\u001b[39m     [\u001b[38;5;28mgetattr\u001b[39m(a, alt_axis_name) \u001b[38;5;28;01mfor\u001b[39;00m a \u001b[38;5;129;01min\u001b[39;00m adatas], alt_indices, merge\n\u001b[32m   1361\u001b[39m )\n\u001b[32m-> \u001b[39m\u001b[32m1363\u001b[39m X = \u001b[43mconcat_Xs\u001b[49m\u001b[43m(\u001b[49m\u001b[43madatas\u001b[49m\u001b[43m,\u001b[49m\u001b[43m \u001b[49m\u001b[43mreindexers\u001b[49m\u001b[43m,\u001b[49m\u001b[43m \u001b[49m\u001b[43maxis\u001b[49m\u001b[43m=\u001b[49m\u001b[43maxis\u001b[49m\u001b[43m,\u001b[49m\u001b[43m \u001b[49m\u001b[43mfill_value\u001b[49m\u001b[43m=\u001b[49m\u001b[43mfill_value\u001b[49m\u001b[43m)\u001b[49m\n\u001b[32m   1365\u001b[39m \u001b[38;5;28;01mif\u001b[39;00m join == \u001b[33m\"\u001b[39m\u001b[33minner\u001b[39m\u001b[33m\"\u001b[39m:\n\u001b[32m   1366\u001b[39m     concat_aligned_mapping = inner_concat_aligned_mapping\n",
      "\u001b[36mFile \u001b[39m\u001b[32ma:\\Capstone Local-GIt\\ghost-cell-busters\\venv\\Lib\\site-packages\\anndata\\_core\\merge.py:1099\u001b[39m, in \u001b[36mconcat_Xs\u001b[39m\u001b[34m(adatas, reindexers, axis, fill_value)\u001b[39m\n\u001b[32m   1097\u001b[39m     \u001b[38;5;28;01mraise\u001b[39;00m \u001b[38;5;167;01mNotImplementedError\u001b[39;00m(msg)\n\u001b[32m   1098\u001b[39m \u001b[38;5;28;01melse\u001b[39;00m:\n\u001b[32m-> \u001b[39m\u001b[32m1099\u001b[39m     \u001b[38;5;28;01mreturn\u001b[39;00m \u001b[43mconcat_arrays\u001b[49m\u001b[43m(\u001b[49m\u001b[43mXs\u001b[49m\u001b[43m,\u001b[49m\u001b[43m \u001b[49m\u001b[43mreindexers\u001b[49m\u001b[43m,\u001b[49m\u001b[43m \u001b[49m\u001b[43maxis\u001b[49m\u001b[43m=\u001b[49m\u001b[43maxis\u001b[49m\u001b[43m,\u001b[49m\u001b[43m \u001b[49m\u001b[43mfill_value\u001b[49m\u001b[43m=\u001b[49m\u001b[43mfill_value\u001b[49m\u001b[43m)\u001b[49m\n",
      "\u001b[36mFile \u001b[39m\u001b[32ma:\\Capstone Local-GIt\\ghost-cell-busters\\venv\\Lib\\site-packages\\anndata\\_core\\merge.py:848\u001b[39m, in \u001b[36mconcat_arrays\u001b[39m\u001b[34m(arrays, reindexers, axis, index, fill_value)\u001b[39m\n\u001b[32m    835\u001b[39m     \u001b[38;5;28;01mreturn\u001b[39;00m sparse_stack(\n\u001b[32m    836\u001b[39m         [\n\u001b[32m    837\u001b[39m             f(\n\u001b[32m   (...)\u001b[39m\u001b[32m    844\u001b[39m         \u001b[38;5;28mformat\u001b[39m=\u001b[33m\"\u001b[39m\u001b[33mcsr\u001b[39m\u001b[33m\"\u001b[39m,\n\u001b[32m    845\u001b[39m     )\n\u001b[32m    846\u001b[39m \u001b[38;5;28;01melse\u001b[39;00m:\n\u001b[32m    847\u001b[39m     \u001b[38;5;28;01mreturn\u001b[39;00m np.concatenate(\n\u001b[32m--> \u001b[39m\u001b[32m848\u001b[39m         \u001b[43m[\u001b[49m\n\u001b[32m    849\u001b[39m \u001b[43m            \u001b[49m\u001b[43mf\u001b[49m\u001b[43m(\u001b[49m\u001b[43mx\u001b[49m\u001b[43m,\u001b[49m\u001b[43m \u001b[49m\u001b[43mfill_value\u001b[49m\u001b[43m=\u001b[49m\u001b[43mfill_value\u001b[49m\u001b[43m,\u001b[49m\u001b[43m \u001b[49m\u001b[43maxis\u001b[49m\u001b[43m=\u001b[49m\u001b[32;43m1\u001b[39;49m\u001b[43m \u001b[49m\u001b[43m-\u001b[49m\u001b[43m \u001b[49m\u001b[43maxis\u001b[49m\u001b[43m)\u001b[49m\n\u001b[32m    850\u001b[39m \u001b[43m            \u001b[49m\u001b[38;5;28;43;01mfor\u001b[39;49;00m\u001b[43m \u001b[49m\u001b[43mf\u001b[49m\u001b[43m,\u001b[49m\u001b[43m \u001b[49m\u001b[43mx\u001b[49m\u001b[43m \u001b[49m\u001b[38;5;129;43;01min\u001b[39;49;00m\u001b[43m \u001b[49m\u001b[38;5;28;43mzip\u001b[39;49m\u001b[43m(\u001b[49m\u001b[43mreindexers\u001b[49m\u001b[43m,\u001b[49m\u001b[43m \u001b[49m\u001b[43marrays\u001b[49m\u001b[43m)\u001b[49m\n\u001b[32m    851\u001b[39m \u001b[43m        \u001b[49m\u001b[43m]\u001b[49m,\n\u001b[32m    852\u001b[39m         axis=axis,\n\u001b[32m    853\u001b[39m     )\n",
      "\u001b[36mFile \u001b[39m\u001b[32ma:\\Capstone Local-GIt\\ghost-cell-busters\\venv\\Lib\\site-packages\\anndata\\_core\\merge.py:849\u001b[39m, in \u001b[36m<listcomp>\u001b[39m\u001b[34m(.0)\u001b[39m\n\u001b[32m    835\u001b[39m     \u001b[38;5;28;01mreturn\u001b[39;00m sparse_stack(\n\u001b[32m    836\u001b[39m         [\n\u001b[32m    837\u001b[39m             f(\n\u001b[32m   (...)\u001b[39m\u001b[32m    844\u001b[39m         \u001b[38;5;28mformat\u001b[39m=\u001b[33m\"\u001b[39m\u001b[33mcsr\u001b[39m\u001b[33m\"\u001b[39m,\n\u001b[32m    845\u001b[39m     )\n\u001b[32m    846\u001b[39m \u001b[38;5;28;01melse\u001b[39;00m:\n\u001b[32m    847\u001b[39m     \u001b[38;5;28;01mreturn\u001b[39;00m np.concatenate(\n\u001b[32m    848\u001b[39m         [\n\u001b[32m--> \u001b[39m\u001b[32m849\u001b[39m             \u001b[43mf\u001b[49m\u001b[43m(\u001b[49m\u001b[43mx\u001b[49m\u001b[43m,\u001b[49m\u001b[43m \u001b[49m\u001b[43mfill_value\u001b[49m\u001b[43m=\u001b[49m\u001b[43mfill_value\u001b[49m\u001b[43m,\u001b[49m\u001b[43m \u001b[49m\u001b[43maxis\u001b[49m\u001b[43m=\u001b[49m\u001b[32;43m1\u001b[39;49m\u001b[43m \u001b[49m\u001b[43m-\u001b[49m\u001b[43m \u001b[49m\u001b[43maxis\u001b[49m\u001b[43m)\u001b[49m\n\u001b[32m    850\u001b[39m             \u001b[38;5;28;01mfor\u001b[39;00m f, x \u001b[38;5;129;01min\u001b[39;00m \u001b[38;5;28mzip\u001b[39m(reindexers, arrays)\n\u001b[32m    851\u001b[39m         ],\n\u001b[32m    852\u001b[39m         axis=axis,\n\u001b[32m    853\u001b[39m     )\n",
      "\u001b[36mFile \u001b[39m\u001b[32ma:\\Capstone Local-GIt\\ghost-cell-busters\\venv\\Lib\\site-packages\\anndata\\_core\\merge.py:530\u001b[39m, in \u001b[36mReindexer.__call__\u001b[39m\u001b[34m(self, el, axis, fill_value)\u001b[39m\n\u001b[32m    529\u001b[39m \u001b[38;5;28;01mdef\u001b[39;00m\u001b[38;5;250m \u001b[39m\u001b[34m__call__\u001b[39m(\u001b[38;5;28mself\u001b[39m, el, *, axis=\u001b[32m1\u001b[39m, fill_value=\u001b[38;5;28;01mNone\u001b[39;00m):\n\u001b[32m--> \u001b[39m\u001b[32m530\u001b[39m     \u001b[38;5;28;01mreturn\u001b[39;00m \u001b[38;5;28;43mself\u001b[39;49m\u001b[43m.\u001b[49m\u001b[43mapply\u001b[49m\u001b[43m(\u001b[49m\u001b[43mel\u001b[49m\u001b[43m,\u001b[49m\u001b[43m \u001b[49m\u001b[43maxis\u001b[49m\u001b[43m=\u001b[49m\u001b[43maxis\u001b[49m\u001b[43m,\u001b[49m\u001b[43m \u001b[49m\u001b[43mfill_value\u001b[49m\u001b[43m=\u001b[49m\u001b[43mfill_value\u001b[49m\u001b[43m)\u001b[49m\n",
      "\u001b[36mFile \u001b[39m\u001b[32ma:\\Capstone Local-GIt\\ghost-cell-busters\\venv\\Lib\\site-packages\\anndata\\_core\\merge.py:551\u001b[39m, in \u001b[36mReindexer.apply\u001b[39m\u001b[34m(self, el, axis, fill_value)\u001b[39m\n\u001b[32m    549\u001b[39m     \u001b[38;5;28;01mreturn\u001b[39;00m \u001b[38;5;28mself\u001b[39m._apply_to_cupy_array(el, axis=axis, fill_value=fill_value)\n\u001b[32m    550\u001b[39m \u001b[38;5;28;01melse\u001b[39;00m:\n\u001b[32m--> \u001b[39m\u001b[32m551\u001b[39m     \u001b[38;5;28;01mreturn\u001b[39;00m \u001b[38;5;28;43mself\u001b[39;49m\u001b[43m.\u001b[49m\u001b[43m_apply_to_array\u001b[49m\u001b[43m(\u001b[49m\u001b[43mel\u001b[49m\u001b[43m,\u001b[49m\u001b[43m \u001b[49m\u001b[43maxis\u001b[49m\u001b[43m=\u001b[49m\u001b[43maxis\u001b[49m\u001b[43m,\u001b[49m\u001b[43m \u001b[49m\u001b[43mfill_value\u001b[49m\u001b[43m=\u001b[49m\u001b[43mfill_value\u001b[49m\u001b[43m)\u001b[49m\n",
      "\u001b[36mFile \u001b[39m\u001b[32ma:\\Capstone Local-GIt\\ghost-cell-busters\\venv\\Lib\\site-packages\\anndata\\_core\\merge.py:615\u001b[39m, in \u001b[36mReindexer._apply_to_array\u001b[39m\u001b[34m(self, el, axis, fill_value)\u001b[39m\n\u001b[32m    612\u001b[39m indexer = \u001b[38;5;28mself\u001b[39m.idx\n\u001b[32m    614\u001b[39m \u001b[38;5;66;03m# Indexes real fast, and does outer indexing\u001b[39;00m\n\u001b[32m--> \u001b[39m\u001b[32m615\u001b[39m \u001b[38;5;28;01mreturn\u001b[39;00m \u001b[43mpd\u001b[49m\u001b[43m.\u001b[49m\u001b[43mapi\u001b[49m\u001b[43m.\u001b[49m\u001b[43mextensions\u001b[49m\u001b[43m.\u001b[49m\u001b[43mtake\u001b[49m\u001b[43m(\u001b[49m\n\u001b[32m    616\u001b[39m \u001b[43m    \u001b[49m\u001b[43mel\u001b[49m\u001b[43m,\u001b[49m\u001b[43m \u001b[49m\u001b[43mindexer\u001b[49m\u001b[43m,\u001b[49m\u001b[43m \u001b[49m\u001b[43maxis\u001b[49m\u001b[43m=\u001b[49m\u001b[43maxis\u001b[49m\u001b[43m,\u001b[49m\u001b[43m \u001b[49m\u001b[43mallow_fill\u001b[49m\u001b[43m=\u001b[49m\u001b[38;5;28;43;01mTrue\u001b[39;49;00m\u001b[43m,\u001b[49m\u001b[43m \u001b[49m\u001b[43mfill_value\u001b[49m\u001b[43m=\u001b[49m\u001b[43mfill_value\u001b[49m\n\u001b[32m    617\u001b[39m \u001b[43m\u001b[49m\u001b[43m)\u001b[49m\n",
      "\u001b[36mFile \u001b[39m\u001b[32ma:\\Capstone Local-GIt\\ghost-cell-busters\\venv\\Lib\\site-packages\\pandas\\core\\algorithms.py:1234\u001b[39m, in \u001b[36mtake\u001b[39m\u001b[34m(arr, indices, axis, allow_fill, fill_value)\u001b[39m\n\u001b[32m   1231\u001b[39m \u001b[38;5;28;01mif\u001b[39;00m allow_fill:\n\u001b[32m   1232\u001b[39m     \u001b[38;5;66;03m# Pandas style, -1 means NA\u001b[39;00m\n\u001b[32m   1233\u001b[39m     validate_indices(indices, arr.shape[axis])\n\u001b[32m-> \u001b[39m\u001b[32m1234\u001b[39m     result = \u001b[43mtake_nd\u001b[49m\u001b[43m(\u001b[49m\n\u001b[32m   1235\u001b[39m \u001b[43m        \u001b[49m\u001b[43marr\u001b[49m\u001b[43m,\u001b[49m\u001b[43m \u001b[49m\u001b[43mindices\u001b[49m\u001b[43m,\u001b[49m\u001b[43m \u001b[49m\u001b[43maxis\u001b[49m\u001b[43m=\u001b[49m\u001b[43maxis\u001b[49m\u001b[43m,\u001b[49m\u001b[43m \u001b[49m\u001b[43mallow_fill\u001b[49m\u001b[43m=\u001b[49m\u001b[38;5;28;43;01mTrue\u001b[39;49;00m\u001b[43m,\u001b[49m\u001b[43m \u001b[49m\u001b[43mfill_value\u001b[49m\u001b[43m=\u001b[49m\u001b[43mfill_value\u001b[49m\n\u001b[32m   1236\u001b[39m \u001b[43m    \u001b[49m\u001b[43m)\u001b[49m\n\u001b[32m   1237\u001b[39m \u001b[38;5;28;01melse\u001b[39;00m:\n\u001b[32m   1238\u001b[39m     \u001b[38;5;66;03m# NumPy style\u001b[39;00m\n\u001b[32m   1239\u001b[39m     result = arr.take(indices, axis=axis)\n",
      "\u001b[36mFile \u001b[39m\u001b[32ma:\\Capstone Local-GIt\\ghost-cell-busters\\venv\\Lib\\site-packages\\pandas\\core\\array_algos\\take.py:117\u001b[39m, in \u001b[36mtake_nd\u001b[39m\u001b[34m(arr, indexer, axis, fill_value, allow_fill)\u001b[39m\n\u001b[32m    114\u001b[39m     \u001b[38;5;28;01mreturn\u001b[39;00m arr.take(indexer, fill_value=fill_value, allow_fill=allow_fill)\n\u001b[32m    116\u001b[39m arr = np.asarray(arr)\n\u001b[32m--> \u001b[39m\u001b[32m117\u001b[39m \u001b[38;5;28;01mreturn\u001b[39;00m \u001b[43m_take_nd_ndarray\u001b[49m\u001b[43m(\u001b[49m\u001b[43marr\u001b[49m\u001b[43m,\u001b[49m\u001b[43m \u001b[49m\u001b[43mindexer\u001b[49m\u001b[43m,\u001b[49m\u001b[43m \u001b[49m\u001b[43maxis\u001b[49m\u001b[43m,\u001b[49m\u001b[43m \u001b[49m\u001b[43mfill_value\u001b[49m\u001b[43m,\u001b[49m\u001b[43m \u001b[49m\u001b[43mallow_fill\u001b[49m\u001b[43m)\u001b[49m\n",
      "\u001b[36mFile \u001b[39m\u001b[32ma:\\Capstone Local-GIt\\ghost-cell-busters\\venv\\Lib\\site-packages\\pandas\\core\\array_algos\\take.py:157\u001b[39m, in \u001b[36m_take_nd_ndarray\u001b[39m\u001b[34m(arr, indexer, axis, fill_value, allow_fill)\u001b[39m\n\u001b[32m    155\u001b[39m     out = np.empty(out_shape, dtype=dtype, order=\u001b[33m\"\u001b[39m\u001b[33mF\u001b[39m\u001b[33m\"\u001b[39m)\n\u001b[32m    156\u001b[39m \u001b[38;5;28;01melse\u001b[39;00m:\n\u001b[32m--> \u001b[39m\u001b[32m157\u001b[39m     out = np.empty(out_shape, dtype=dtype)\n\u001b[32m    159\u001b[39m func = _get_take_nd_function(\n\u001b[32m    160\u001b[39m     arr.ndim, arr.dtype, out.dtype, axis=axis, mask_info=mask_info\n\u001b[32m    161\u001b[39m )\n\u001b[32m    162\u001b[39m func(arr, indexer, out, fill_value)\n",
      "\u001b[31mMemoryError\u001b[39m: Unable to allocate 11.1 GiB for an array with shape (25540, 116820) and data type float32"
     ]
    }
   ],
   "source": [
    "# This block takes a really long time to run, so please be patient.\n",
    "# If you are running this locally on a machine please check if you have enough resources available.\n",
    "# If not then please run this on a cloud platform like Google Colab or Kaggle.\n",
    "adata = load_adata(gsm_files=gsm_files, gsm_file_names=gsm_file_names)"
   ]
  },
  {
   "cell_type": "code",
   "execution_count": 14,
   "metadata": {},
   "outputs": [
    {
     "ename": "AttributeError",
     "evalue": "'list' object has no attribute 'obs'",
     "output_type": "error",
     "traceback": [
      "\u001b[31m---------------------------------------------------------------------------\u001b[39m",
      "\u001b[31mAttributeError\u001b[39m                            Traceback (most recent call last)",
      "\u001b[36mCell\u001b[39m\u001b[36m \u001b[39m\u001b[32mIn[14]\u001b[39m\u001b[32m, line 1\u001b[39m\n\u001b[32m----> \u001b[39m\u001b[32m1\u001b[39m \u001b[43madata\u001b[49m\u001b[43m.\u001b[49m\u001b[43mobs\u001b[49m.head()\n",
      "\u001b[31mAttributeError\u001b[39m: 'list' object has no attribute 'obs'"
     ]
    }
   ],
   "source": [
    "adata.obs.head()"
   ]
  },
  {
   "cell_type": "code",
   "execution_count": null,
   "metadata": {},
   "outputs": [
    {
     "name": "stdout",
     "output_type": "stream",
     "text": [
      "Loading: /Users/adi/Desktop/Capstone/Raw Data/GSE180286_EXTRACTED/GSM5457199_A2019-1.expression_matrix.txt.gz\n",
      "Loading: /Users/adi/Desktop/Capstone/Raw Data/GSE180286_EXTRACTED/GSM5457200_A2019-2.expression_matrix.txt.gz\n",
      "Loading: /Users/adi/Desktop/Capstone/Raw Data/GSE180286_EXTRACTED/GSM5457201_A2019-3.expression_matrix.txt.gz\n",
      "Loading: /Users/adi/Desktop/Capstone/Raw Data/GSE180286_EXTRACTED/GSM5457202_B2019-1.expression_matrix.txt.gz\n",
      "Loading: /Users/adi/Desktop/Capstone/Raw Data/GSE180286_EXTRACTED/GSM5457203_B2019-2.expression_matrix.txt.gz\n",
      "Loading: /Users/adi/Desktop/Capstone/Raw Data/GSE180286_EXTRACTED/GSM5457204_B2019-3.expression_matrix.txt.gz\n",
      "Loading: /Users/adi/Desktop/Capstone/Raw Data/GSE180286_EXTRACTED/GSM5457205_C2020-1.expression_matrix.txt.gz\n",
      "Loading: /Users/adi/Desktop/Capstone/Raw Data/GSE180286_EXTRACTED/GSM5457206_C2020-2.expression_matrix.txt.gz\n",
      "Loading: /Users/adi/Desktop/Capstone/Raw Data/GSE180286_EXTRACTED/GSM5457207_C2020-3.expression_matrix.txt.gz\n",
      "Loading: /Users/adi/Desktop/Capstone/Raw Data/GSE180286_EXTRACTED/GSM5457208_D2020-1.expression_matrix.txt.gz\n",
      "Loading: /Users/adi/Desktop/Capstone/Raw Data/GSE180286_EXTRACTED/GSM5457209_D2020-2.expression_matrix.txt.gz\n",
      "Loading: /Users/adi/Desktop/Capstone/Raw Data/GSE180286_EXTRACTED/GSM5457210_D2020-3.expression_matrix.txt.gz\n",
      "Loading: /Users/adi/Desktop/Capstone/Raw Data/GSE180286_EXTRACTED/GSM5457211_E2020-1.expression_matrix.txt.gz\n",
      "Loading: /Users/adi/Desktop/Capstone/Raw Data/GSE180286_EXTRACTED/GSM5457212_E2020-2.expression_matrix.txt.gz\n",
      "Loading: /Users/adi/Desktop/Capstone/Raw Data/GSE180286_EXTRACTED/GSM5457213_E2020-3.expression_matrix.txt.gz\n"
     ]
    },
    {
     "name": "stderr",
     "output_type": "stream",
     "text": [
      "/var/folders/kx/1z2nljtd7zqgfpqmrmskdmqc0000gn/T/ipykernel_942/451958691.py:20: FutureWarning: Use anndata.concat instead of AnnData.concatenate, AnnData.concatenate is deprecated and will be removed in the future. See the tutorial for concat at: https://anndata.readthedocs.io/en/latest/concatenation.html\n",
      "  adata3 = adatas[0].concatenate(\n"
     ]
    },
    {
     "name": "stdout",
     "output_type": "stream",
     "text": [
      "✅ Combined adata3 shape: (117481, 17872)\n"
     ]
    }
   ],
   "source": [
    "adatas = []\n",
    "\n",
    "for fname in gsm_files:\n",
    "    path = os.path.join(extracted_dir, fname)\n",
    "    print(f\"Loading: {path}\")\n",
    "    \n",
    "    with gzip.open(path, 'rt') as f:\n",
    "        df = pd.read_csv(f, sep=\"\\t\", index_col=0)\n",
    "    \n",
    "    ad = sc.AnnData(df.T)\n",
    "    ad.var_names_make_unique()\n",
    "    \n",
    "    # Add metadata: sample ID (e.g., GSM5457199)\n",
    "    sample_id = fname.split(\"_\")[0]\n",
    "    ad.obs[\"sample\"] = sample_id\n",
    "    \n",
    "    adatas.append(ad)\n",
    "\n",
    "# Concatenate all into one AnnData object\n",
    "adata3 = adatas[0].concatenate(\n",
    "    adatas[1:], \n",
    "    batch_key=\"file\", \n",
    "    batch_categories=[f.split(\"_\")[0] for f in files]\n",
    ")\n",
    "print(\"✅ Combined adata3 shape:\", adata3.shape)"
   ]
  },
  {
   "cell_type": "code",
   "execution_count": 4,
   "metadata": {},
   "outputs": [
    {
     "name": "stdout",
     "output_type": "stream",
     "text": [
      "                             sample        file\n",
      "GGATAAGGGTCA-GSM5457199  GSM5457199  GSM5457199\n",
      "CCGTGCGTACTG-GSM5457199  GSM5457199  GSM5457199\n",
      "AGGTAACCTACG-GSM5457199  GSM5457199  GSM5457199\n",
      "CTGTATAACCTA-GSM5457199  GSM5457199  GSM5457199\n",
      "AAACAGGTTTGA-GSM5457199  GSM5457199  GSM5457199\n"
     ]
    },
    {
     "data": {
      "text/plain": [
       "sample\n",
       "GSM5457201    16661\n",
       "GSM5457202    11467\n",
       "GSM5457203    11356\n",
       "GSM5457204    11323\n",
       "GSM5457200     8607\n",
       "GSM5457207     8517\n",
       "GSM5457210     8228\n",
       "GSM5457211     7521\n",
       "GSM5457213     6398\n",
       "GSM5457212     5673\n",
       "GSM5457209     5298\n",
       "GSM5457206     4940\n",
       "GSM5457205     4161\n",
       "GSM5457208     4064\n",
       "GSM5457199     3267\n",
       "Name: count, dtype: int64"
      ]
     },
     "execution_count": 4,
     "metadata": {},
     "output_type": "execute_result"
    }
   ],
   "source": [
    "print(adata3.obs.head())\n",
    "adata3.obs['file'].value_counts()\n",
    "adata3.obs['sample'].value_counts()\n",
    "# adata3.obs['percent.mito']"
   ]
  },
  {
   "cell_type": "code",
   "execution_count": null,
   "metadata": {},
   "outputs": [
    {
     "name": "stdout",
     "output_type": "stream",
     "text": [
      "🔹 Loading: GSM5457199_A2019-1.expression_matrix.txt.gz\n",
      "🔹 Loading: GSM5457200_A2019-2.expression_matrix.txt.gz\n",
      "🔹 Loading: GSM5457201_A2019-3.expression_matrix.txt.gz\n",
      "🔹 Loading: GSM5457202_B2019-1.expression_matrix.txt.gz\n",
      "🔹 Loading: GSM5457203_B2019-2.expression_matrix.txt.gz\n",
      "🔹 Loading: GSM5457204_B2019-3.expression_matrix.txt.gz\n",
      "🔹 Loading: GSM5457205_C2020-1.expression_matrix.txt.gz\n",
      "🔹 Loading: GSM5457206_C2020-2.expression_matrix.txt.gz\n",
      "🔹 Loading: GSM5457207_C2020-3.expression_matrix.txt.gz\n",
      "🔹 Loading: GSM5457208_D2020-1.expression_matrix.txt.gz\n",
      "🔹 Loading: GSM5457209_D2020-2.expression_matrix.txt.gz\n",
      "🔹 Loading: GSM5457210_D2020-3.expression_matrix.txt.gz\n",
      "🔹 Loading: GSM5457211_E2020-1.expression_matrix.txt.gz\n",
      "🔹 Loading: GSM5457212_E2020-2.expression_matrix.txt.gz\n",
      "🔹 Loading: GSM5457213_E2020-3.expression_matrix.txt.gz\n",
      "✅ Final shape: (117481, 17872)\n"
     ]
    },
    {
     "name": "stderr",
     "output_type": "stream",
     "text": [
      "/Users/adi/Library/Python/3.9/lib/python/site-packages/anndata/_core/anndata.py:1754: UserWarning: Observation names are not unique. To make them unique, call `.obs_names_make_unique`.\n",
      "  utils.warn_names_duplicates(\"obs\")\n"
     ]
    }
   ],
   "source": [
    "## Don't run this code block\n",
    "\n",
    "\n",
    "# Paths\n",
    "raw_dir = os.path.expanduser(\"~/Desktop/Capstone/Raw Data\")\n",
    "extracted_dir = os.path.join(raw_dir, \"GSE180286_EXTRACTED\")\n",
    "files = sorted([f for f in os.listdir(extracted_dir) if f.endswith(\".txt.gz\")])\n",
    "\n",
    "# Load all files into AnnData objects\n",
    "adatas = []\n",
    "for fname in files:\n",
    "    path = os.path.join(extracted_dir, fname)\n",
    "    print(f\"🔹 Loading: {fname}\")\n",
    "    \n",
    "    with gzip.open(path, 'rt') as f:\n",
    "        df = pd.read_csv(f, sep=\"\\t\", index_col=0)\n",
    "    \n",
    "    # Genes = rows, Cells = columns → Transpose!\n",
    "    ad = sc.AnnData(df.T)\n",
    "    ad.var_names_make_unique()\n",
    "\n",
    "    sample_id = fname.split(\"_\")[0]\n",
    "    ad.obs[\"sample\"] = sample_id\n",
    "    adatas.append(ad)\n",
    "\n",
    "# Concatenate all samples\n",
    "adata3 = sc.concat(adatas, label=\"file\", keys=[f.split(\"_\")[0] for f in files])\n",
    "print(\"✅ Final shape:\", adata3.shape)"
   ]
  },
  {
   "cell_type": "code",
   "execution_count": null,
   "metadata": {},
   "outputs": [
    {
     "ename": "NameError",
     "evalue": "name 'adata3' is not defined",
     "output_type": "error",
     "traceback": [
      "\u001b[0;31m---------------------------------------------------------------------------\u001b[0m",
      "\u001b[0;31mNameError\u001b[0m                                 Traceback (most recent call last)",
      "\u001b[1;32m/Users/adi/Desktop/Capstone/Notebook recent/GSE180286.ipynb Cell 6\u001b[0m line \u001b[0;36m1\n\u001b[1;32m      <a href='vscode-notebook-cell:/Users/adi/Desktop/Capstone/Notebook%20recent/GSE180286.ipynb#W5sZmlsZQ%3D%3D?line=6'>7</a>\u001b[0m df_features \u001b[39m=\u001b[39m pd\u001b[39m.\u001b[39mread_csv(features_path, index_col\u001b[39m=\u001b[39m\u001b[39m0\u001b[39m)\n\u001b[1;32m      <a href='vscode-notebook-cell:/Users/adi/Desktop/Capstone/Notebook%20recent/GSE180286.ipynb#W5sZmlsZQ%3D%3D?line=8'>9</a>\u001b[0m \u001b[39m# Check alignment\u001b[39;00m\n\u001b[0;32m---> <a href='vscode-notebook-cell:/Users/adi/Desktop/Capstone/Notebook%20recent/GSE180286.ipynb#W5sZmlsZQ%3D%3D?line=9'>10</a>\u001b[0m common_obs \u001b[39m=\u001b[39m df_features\u001b[39m.\u001b[39mindex\u001b[39m.\u001b[39mintersection(adata3\u001b[39m.\u001b[39mobs_names)\n\u001b[1;32m     <a href='vscode-notebook-cell:/Users/adi/Desktop/Capstone/Notebook%20recent/GSE180286.ipynb#W5sZmlsZQ%3D%3D?line=11'>12</a>\u001b[0m \u001b[39m# Filter only common cells\u001b[39;00m\n\u001b[1;32m     <a href='vscode-notebook-cell:/Users/adi/Desktop/Capstone/Notebook%20recent/GSE180286.ipynb#W5sZmlsZQ%3D%3D?line=12'>13</a>\u001b[0m df_features_aligned \u001b[39m=\u001b[39m df_features\u001b[39m.\u001b[39mloc[common_obs]\u001b[39m.\u001b[39mcopy()\n",
      "\u001b[0;31mNameError\u001b[0m: name 'adata3' is not defined"
     ]
    }
   ],
   "source": [
    "\n",
    "\n",
    "# Load the feature file\n",
    "features_path = \"/Users/adi/Desktop/Capstone/Notebook recent/GSE180286_obs_features.csv\"\n",
    "df_features = pd.read_csv(features_path, index_col=0)\n",
    "\n",
    "# Check alignment\n",
    "common_obs = df_features.index.intersection(adata3.obs_names)\n",
    "\n",
    "# Filter only common cells\n",
    "df_features_aligned = df_features.loc[common_obs].copy()\n",
    "\n",
    "# Drop overlapping columns from the features dataframe\n",
    "df_features_aligned_clean = df_features_aligned.drop(columns=['sample', 'file'], errors='ignore')\n",
    "\n",
    "# Now perform the join\n",
    "adata3.obs = adata3.obs.join(df_features_aligned_clean)\n",
    "\n",
    "print(\"✅ Successfully joined. Columns in adata3.obs:\")\n",
    "print(adata3.obs.columns.tolist())\n"
   ]
  },
  {
   "cell_type": "code",
   "execution_count": 5,
   "metadata": {},
   "outputs": [
    {
     "name": "stdout",
     "output_type": "stream",
     "text": [
      "✅ MT genes found: ['MT-ND1', 'MT-ND2', 'MT-ND3', 'MT-ND4', 'MT-ND4L', 'MT-ND5', 'MT-ND6', 'MT-CO1', 'MT-CO2', 'MT-CO3', 'MT-ATP6', 'MT-ATP8', 'MT-CYB', 'MT-RNR1', 'MT-RNR2', 'MT-TP', 'MT-TL1', 'MT-TL2']\n"
     ]
    }
   ],
   "source": [
    "# Common mitochondrial Ensembl gene ID prefixes: ENSG00000198888 → MT-ND1, etc.\n",
    "mt_gene_names = [\n",
    "    \"MT-ND1\", \"MT-ND2\", \"MT-ND3\", \"MT-ND4\", \"MT-ND4L\", \"MT-ND5\", \"MT-ND6\",\n",
    "    \"MT-CO1\", \"MT-CO2\", \"MT-CO3\",\n",
    "    \"MT-ATP6\", \"MT-ATP8\",\n",
    "    \"MT-CYB\", \"MT-RNR1\", \"MT-RNR2\", \"MT-TP\", \"MT-TL1\", \"MT-TL2\"\n",
    "]\n",
    "\n",
    "# Check if these are present\n",
    "mt_present = [gene for gene in mt_gene_names if gene in adata3.var_names]\n",
    "print(\"✅ MT genes found:\", mt_present)\n",
    "\n"
   ]
  },
  {
   "cell_type": "code",
   "execution_count": null,
   "metadata": {},
   "outputs": [
    {
     "name": "stdout",
     "output_type": "stream",
     "text": [
      "✅ GTF file already exists.\n"
     ]
    },
    {
     "name": "stderr",
     "output_type": "stream",
     "text": [
      "INFO:root:Extracted GTF attributes: ['gene_id', 'gene_type', 'gene_name', 'level', 'tag', 'transcript_id', 'transcript_type', 'transcript_name', 'transcript_support_level', 'havana_transcript', 'exon_number', 'exon_id', 'hgnc_id', 'havana_gene', 'ont', 'protein_id', 'ccdsid', 'artif_dupl']\n"
     ]
    },
    {
     "name": "stdout",
     "output_type": "stream",
     "text": [
      "['UQCR10', 'SPP1', 'HLA-DPB1', 'MT-RNR2', 'RPS29', 'B2M', 'RAB14', 'HMGN2', 'NDUFAF6', 'AKR1A1']\n"
     ]
    }
   ],
   "source": [
    "\n",
    "\n",
    "# Step 1: Download GTF if needed\n",
    "gtf_url = \"https://ftp.ebi.ac.uk/pub/databases/gencode/Gencode_human/release_44/gencode.v44.annotation.gtf.gz\"\n",
    "gtf_file = \"gencode.v44.annotation.gtf.gz\"\n",
    "\n",
    "if not os.path.exists(gtf_file):\n",
    "    print(\"📥 Downloading GTF file...\")\n",
    "    urllib.request.urlretrieve(gtf_url, gtf_file)\n",
    "else:\n",
    "    print(\"✅ GTF file already exists.\")\n",
    "\n",
    "# Step 2: Read GTF\n",
    "gtf_df = read_gtf(gtf_file).to_pandas()\n",
    "\n",
    "# Step 3: Extract gene_id and gene_name\n",
    "genes = gtf_df[gtf_df[\"feature\"] == \"gene\"][[\"gene_id\", \"gene_name\"]].drop_duplicates()\n",
    "\n",
    "# Step 4: Strip version from Ensembl IDs\n",
    "genes[\"gene_id_clean\"] = genes[\"gene_id\"].str.replace(r\"\\..*\", \"\", regex=True)\n",
    "\n",
    "# Step 5: Create mapping\n",
    "ens_to_symbol = dict(zip(genes[\"gene_id_clean\"], genes[\"gene_name\"]))\n",
    "\n",
    "# Step 6: Map gene symbols in adata_all.var\n",
    "adata3.var[\"ensembl_id\"] = adata3.var_names.str.replace(r\"\\..*\", \"\", regex=True)\n",
    "adata3.var[\"gene_name\"] = adata3.var[\"ensembl_id\"].map(ens_to_symbol)\n",
    "\n",
    "# Step 7: Fill missing symbols with Ensembl ID, then set .var_names\n",
    "# Step 7: Fill NaNs and ensure all entries are strings\n",
    "adata3.var[\"gene_name_clean\"] = (\n",
    "    adata3.var[\"gene_name\"].fillna(adata3.var[\"ensembl_id\"])\n",
    ").astype(str)\n",
    "\n",
    "# Set .var_names safely\n",
    "adata3.var_names = adata3.var[\"gene_name_clean\"]\n",
    "adata3.var_names_make_unique()\n",
    "\n",
    "\n",
    "# ✅ Check first few gene names\n",
    "print(adata3.var_names[:10].tolist())"
   ]
  },
  {
   "cell_type": "code",
   "execution_count": 7,
   "metadata": {},
   "outputs": [],
   "source": [
    "# Identify mitochondrial genes by prefix\n",
    "adata3.var['mt'] = adata3.var_names.str.upper().str.startswith('MT-')\n",
    "\n",
    "# Recalculate QC metrics with updated mitochondrial flags\n",
    "import scanpy as sc\n",
    "sc.pp.calculate_qc_metrics(adata3, qc_vars=['mt'], inplace=True)\n",
    "\n",
    "# Assign percent.mito (to match GSE176078 column naming)\n",
    "adata3.obs['percent.mito'] = adata3.obs['pct_counts_mt']\n",
    "\n"
   ]
  },
  {
   "cell_type": "code",
   "execution_count": 8,
   "metadata": {},
   "outputs": [
    {
     "name": "stdout",
     "output_type": "stream",
     "text": [
      "🔍 MT-genes found: ['MT-RNR2', 'MT-CYB', 'MT-RNR1', 'MT-ND2', 'MT-CO1', 'MT-ND3', 'MT-CO3', 'MT-ATP6', 'MT-ND4', 'MT-ND4L', 'MT-ND5', 'MT-CO2', 'MT-ATP8', 'MT-TE', 'MT-ND1', 'MT-TR', 'MT-TW', 'MT-TP', 'MT-TT', 'MT-TV', 'MT-TL1', 'MT-TH', 'MT-ND6', 'MT-TM', 'MT-TF', 'MT-TS2', 'MT-TL2', 'MT-TI', 'MT-TD', 'MT-TG', 'MT-TQ', 'MT-TC', 'MT-TY', 'MT-TS1', 'MT-TA']\n",
      "MT-total expression: 21227320\n",
      "Total expression: 202277972\n"
     ]
    }
   ],
   "source": [
    "# Confirm if any MT- genes exist and their total expression\n",
    "mt_genes = adata3.var_names[adata3.var_names.str.upper().str.startswith(\"MT-\")]\n",
    "print(\"🔍 MT-genes found:\", mt_genes.tolist())\n",
    "\n",
    "# Check summed expression of mitochondrial genes\n",
    "mt_sum = adata3[:, mt_genes].X.sum()\n",
    "total_sum = adata3.X.sum()\n",
    "print(f\"MT-total expression: {mt_sum}\")\n",
    "print(f\"Total expression: {total_sum}\")"
   ]
  },
  {
   "cell_type": "code",
   "execution_count": 9,
   "metadata": {},
   "outputs": [
    {
     "data": {
      "text/plain": [
       "GGATAAGGGTCA-GSM5457199    20.959424\n",
       "CCGTGCGTACTG-GSM5457199    18.918919\n",
       "AGGTAACCTACG-GSM5457199    18.624554\n",
       "CTGTATAACCTA-GSM5457199    17.816680\n",
       "AAACAGGTTTGA-GSM5457199    20.350034\n",
       "                             ...    \n",
       "CTCCAACCAATG-GSM5457213    12.745098\n",
       "CTCCTGAAGCAC-GSM5457213     5.263158\n",
       "GTACCAGCGGCA-GSM5457213     6.737589\n",
       "TACCTCCTAAAG-GSM5457213    30.769231\n",
       "TGGTTTGTAGGG-GSM5457213    18.411552\n",
       "Name: percent.mito, Length: 117481, dtype: float64"
      ]
     },
     "execution_count": 9,
     "metadata": {},
     "output_type": "execute_result"
    }
   ],
   "source": [
    "adata3.obs['percent.mito']\n"
   ]
  },
  {
   "cell_type": "code",
   "execution_count": null,
   "metadata": {},
   "outputs": [
    {
     "data": {
      "text/plain": [
       "50"
      ]
     },
     "execution_count": 9,
     "metadata": {},
     "output_type": "execute_result"
    }
   ],
   "source": [
    "del adata3\n",
    "\n",
    "# Then force garbage collection\n",
    "gc.collect()"
   ]
  },
  {
   "cell_type": "code",
   "execution_count": null,
   "metadata": {},
   "outputs": [
    {
     "name": "stdout",
     "output_type": "stream",
     "text": [
      "✅ GTF file already exists.\n"
     ]
    },
    {
     "name": "stderr",
     "output_type": "stream",
     "text": [
      "INFO:root:Extracted GTF attributes: ['gene_id', 'gene_type', 'gene_name', 'level', 'tag', 'transcript_id', 'transcript_type', 'transcript_name', 'transcript_support_level', 'havana_transcript', 'exon_number', 'exon_id', 'hgnc_id', 'havana_gene', 'ont', 'protein_id', 'ccdsid', 'artif_dupl']\n"
     ]
    },
    {
     "name": "stdout",
     "output_type": "stream",
     "text": [
      "✅ Gene coordinate columns added to adata3.var:\n",
      "                chromosome       start         end\n",
      "gene_name_clean                                   \n",
      "UQCR10               chr22  29767369.0  29770413.0\n",
      "SPP1                  chr4  87975667.0  87983532.0\n",
      "HLA-DPB1              chr6  33075990.0  33089696.0\n",
      "MT-RNR2               chrM      1671.0      3229.0\n",
      "RPS29                chr14  49570984.0  49599164.0\n"
     ]
    }
   ],
   "source": [
    "\n",
    "\n",
    "\n",
    "# ✅ Step 1: Download GTF file if not present\n",
    "gtf_url = \"https://ftp.ebi.ac.uk/pub/databases/gencode/Gencode_human/release_44/gencode.v44.annotation.gtf.gz\"\n",
    "gtf_file = \"gencode.v44.annotation.gtf.gz\"\n",
    "\n",
    "if not os.path.exists(gtf_file):\n",
    "    print(\"📥 Downloading GTF file...\")\n",
    "    urllib.request.urlretrieve(gtf_url, gtf_file)\n",
    "else:\n",
    "    print(\"✅ GTF file already exists.\")\n",
    "\n",
    "# ✅ Step 2: Parse GTF and extract gene features\n",
    "gtf_df = read_gtf(gtf_file).to_pandas()\n",
    "genes = gtf_df[gtf_df[\"feature\"] == \"gene\"]\n",
    "gene_pos = genes[[\"gene_name\", \"seqname\", \"start\", \"end\"]].drop_duplicates()\n",
    "gene_pos.columns = [\"gene\", \"chromosome\", \"start\", \"end\"]\n",
    "\n",
    "# ✅ Step 3: Filter gene positions to only those in adata3\n",
    "adata3.var[\"gene\"] = adata3.var_names\n",
    "gene_pos_filtered = gene_pos[gene_pos[\"gene\"].isin(adata3.var[\"gene\"])].drop_duplicates(subset=\"gene\")\n",
    "gene_pos_filtered = gene_pos_filtered.set_index(\"gene\")\n",
    "\n",
    "# ✅ Step 4: Remove any existing coordinate columns that would conflict\n",
    "adata3.var = adata3.var.drop(columns=[\"chromosome\", \"start\", \"end\"], errors=\"ignore\")\n",
    "\n",
    "# ✅ Step 5: Join and reindex\n",
    "adata3.var = adata3.var.join(gene_pos_filtered, on=\"gene\")\n",
    "adata3.var = adata3.var.reindex(adata3.var_names)\n",
    "\n",
    "print(\"✅ Gene coordinate columns added to adata3.var:\")\n",
    "print(adata3.var[[\"chromosome\", \"start\", \"end\"]].head())\n",
    "\n"
   ]
  },
  {
   "cell_type": "code",
   "execution_count": 11,
   "metadata": {},
   "outputs": [
    {
     "name": "stdout",
     "output_type": "stream",
     "text": [
      "cnv_reference\n",
      "tumor     114214\n",
      "normal      3267\n",
      "Name: count, dtype: int64\n",
      "percent.mito\n",
      "7.692308     151\n",
      "8.333333     145\n",
      "9.090909     135\n",
      "7.142857     131\n",
      "6.250000     126\n",
      "            ... \n",
      "4.496403       1\n",
      "6.055209       1\n",
      "10.753676      1\n",
      "6.893382       1\n",
      "18.411552      1\n",
      "Name: count, Length: 65110, dtype: int64\n"
     ]
    }
   ],
   "source": [
    "adata3.obs[\"sample\"].value_counts()\n",
    "adata3.obs[\"cnv_reference\"] = \"tumor\"\n",
    "adata3.obs.loc[adata3.obs[\"sample\"] == \"GSM5457199\", \"cnv_reference\"] = \"normal\"\n",
    "print(adata3.obs[\"cnv_reference\"].value_counts())\n",
    "print(adata3.obs[\"percent.mito\"].value_counts())\n"
   ]
  },
  {
   "cell_type": "code",
   "execution_count": 12,
   "metadata": {},
   "outputs": [
    {
     "name": "stdout",
     "output_type": "stream",
     "text": [
      "✅ Sample chromosome values: ['22', '4', '6', 'M', '14', '15', '9', '1', '8', 'NAN']\n",
      "✅ Genes with valid chromosome info: 14773 / 17872\n"
     ]
    }
   ],
   "source": [
    "# Clean chromosome names\n",
    "adata3.var[\"chromosome\"] = (\n",
    "    adata3.var[\"chromosome\"].astype(str)\n",
    "    .str.replace(\"chr\", \"\", regex=False)\n",
    "    .str.upper()\n",
    ")\n",
    "\n",
    "# Show sample values\n",
    "print(\"✅ Sample chromosome values:\", adata3.var[\"chromosome\"].unique().tolist()[:10])\n",
    "\n",
    "# Keep canonical chromosomes only\n",
    "valid_chroms = [str(i) for i in range(1, 23)] + [\"X\", \"Y\"]\n",
    "mask = adata3.var[\"chromosome\"].isin(valid_chroms)\n",
    "print(f\"✅ Genes with valid chromosome info: {mask.sum()} / {adata3.shape[1]}\")\n",
    "\n",
    "# Subset the full object to valid chromosomes only\n",
    "adata3 = adata3[:, mask].copy()\n",
    "\n",
    "\n",
    "\n",
    "\n"
   ]
  },
  {
   "cell_type": "code",
   "execution_count": null,
   "metadata": {},
   "outputs": [
    {
     "name": "stdout",
     "output_type": "stream",
     "text": [
      "✅ Chromosome-wise CNV matrix shape: (117481, 24)\n"
     ]
    }
   ],
   "source": [
    "\n",
    "\n",
    "# Clean chromosome info\n",
    "adata3.var[\"chromosome\"] = (\n",
    "    adata3.var[\"chromosome\"].astype(str)\n",
    "    .str.replace(\"chr\", \"\")\n",
    "    .str.upper()\n",
    ")\n",
    "\n",
    "# Keep only genes with chromosome info\n",
    "valid_mask = adata3.var[\"chromosome\"].notna()\n",
    "valid_genes = adata3.var[valid_mask]\n",
    "\n",
    "# Extract matrix and chromosome info\n",
    "X_cnv = adata3.X[:, valid_mask]  # ✅ Use .X, not \"X_cnv\"\n",
    "chroms = valid_genes[\"chromosome\"].values\n",
    "\n",
    "# Group gene indices by chromosome\n",
    "chrom_to_idx = defaultdict(list)\n",
    "for idx, chrom in enumerate(chroms):\n",
    "    chrom_to_idx[chrom].append(idx)\n",
    "\n",
    "# Create dataframe for CNV signal\n",
    "cnv_chr_df = pd.DataFrame(index=adata3.obs_names)\n",
    "\n",
    "# Compute average signal per chromosome\n",
    "for chrom, indices in chrom_to_idx.items():\n",
    "    X_chr = X_cnv[:, indices]\n",
    "    mean_signal = np.asarray(X_chr.mean(axis=1)).ravel()\n",
    "    cnv_chr_df[chrom] = mean_signal\n",
    "\n",
    "print(\"✅ Chromosome-wise CNV matrix shape:\", cnv_chr_df.shape)\n",
    "\n",
    "\n"
   ]
  },
  {
   "cell_type": "code",
   "execution_count": 14,
   "metadata": {},
   "outputs": [
    {
     "name": "stdout",
     "output_type": "stream",
     "text": [
      "✅ Sample CNV scores:\n",
      "                         cnv_score cnv_reference\n",
      "GGATAAGGGTCA-GSM5457199   3.085859        normal\n",
      "CCGTGCGTACTG-GSM5457199   2.003530        normal\n",
      "AGGTAACCTACG-GSM5457199   1.520273        normal\n",
      "CTGTATAACCTA-GSM5457199   1.310010        normal\n",
      "AAACAGGTTTGA-GSM5457199   1.156577        normal\n"
     ]
    }
   ],
   "source": [
    "# Step 4: Compute CNV score as mean absolute deviation across chromosomes\n",
    "cnv_score = cnv_chr_df.abs().mean(axis=1)\n",
    "\n",
    "# Store in AnnData object\n",
    "adata3.obs[\"cnv_score\"] = cnv_score\n",
    "\n",
    "# ✅ Check result\n",
    "print(\"✅ Sample CNV scores:\")\n",
    "print(adata3.obs[[\"cnv_score\", \"cnv_reference\"]].head())\n"
   ]
  },
  {
   "cell_type": "code",
   "execution_count": 15,
   "metadata": {},
   "outputs": [],
   "source": [
    "adata3.obs['nCount_RNA'] = adata3.X.sum(axis=1).A1 if hasattr(adata3.X, 'A1') else adata3.X.sum(axis=1)\n",
    "mito_genes = adata3.var_names.str.startswith('MT-')\n",
    "adata3.obs['percent.mito'] = (adata3[:, mito_genes].X.sum(axis=1).A1 if hasattr(adata3.X, 'A1') \n",
    "                              else adata3[:, mito_genes].X.sum(axis=1)) / adata3.obs['nCount_RNA'] * 100"
   ]
  },
  {
   "cell_type": "code",
   "execution_count": 17,
   "metadata": {},
   "outputs": [],
   "source": [
    "ribo_genes = adata3.var_names.str.upper().str.startswith(('RPS', 'RPL'))\n",
    "adata3.obs['pct_counts_ribo'] = (adata3[:, ribo_genes].X.sum(axis=1).A1 if hasattr(adata3.X, 'A1') \n",
    "                                 else adata3[:, ribo_genes].X.sum(axis=1)) / adata3.obs['nCount_RNA'] * 100\n"
   ]
  },
  {
   "cell_type": "code",
   "execution_count": 18,
   "metadata": {},
   "outputs": [
    {
     "data": {
      "text/html": [
       "<div>\n",
       "<style scoped>\n",
       "    .dataframe tbody tr th:only-of-type {\n",
       "        vertical-align: middle;\n",
       "    }\n",
       "\n",
       "    .dataframe tbody tr th {\n",
       "        vertical-align: top;\n",
       "    }\n",
       "\n",
       "    .dataframe thead th {\n",
       "        text-align: right;\n",
       "    }\n",
       "</style>\n",
       "<table border=\"1\" class=\"dataframe\">\n",
       "  <thead>\n",
       "    <tr style=\"text-align: right;\">\n",
       "      <th></th>\n",
       "      <th>sample</th>\n",
       "      <th>file</th>\n",
       "      <th>n_genes_by_counts</th>\n",
       "      <th>log1p_n_genes_by_counts</th>\n",
       "      <th>total_counts</th>\n",
       "      <th>log1p_total_counts</th>\n",
       "      <th>pct_counts_in_top_50_genes</th>\n",
       "      <th>pct_counts_in_top_100_genes</th>\n",
       "      <th>pct_counts_in_top_200_genes</th>\n",
       "      <th>pct_counts_in_top_500_genes</th>\n",
       "      <th>total_counts_mt</th>\n",
       "      <th>log1p_total_counts_mt</th>\n",
       "      <th>pct_counts_mt</th>\n",
       "      <th>percent.mito</th>\n",
       "      <th>cnv_reference</th>\n",
       "      <th>cnv_score</th>\n",
       "      <th>nCount_RNA</th>\n",
       "      <th>pct_counts_ribo</th>\n",
       "    </tr>\n",
       "  </thead>\n",
       "  <tbody>\n",
       "    <tr>\n",
       "      <th>GGATAAGGGTCA-GSM5457199</th>\n",
       "      <td>GSM5457199</td>\n",
       "      <td>GSM5457199</td>\n",
       "      <td>6931</td>\n",
       "      <td>8.843904</td>\n",
       "      <td>61662</td>\n",
       "      <td>11.029439</td>\n",
       "      <td>35.125361</td>\n",
       "      <td>43.456262</td>\n",
       "      <td>52.221790</td>\n",
       "      <td>64.303785</td>\n",
       "      <td>12924</td>\n",
       "      <td>9.466919</td>\n",
       "      <td>20.959424</td>\n",
       "      <td>0.0</td>\n",
       "      <td>normal</td>\n",
       "      <td>3.085859</td>\n",
       "      <td>47478</td>\n",
       "      <td>18.918236</td>\n",
       "    </tr>\n",
       "    <tr>\n",
       "      <th>CCGTGCGTACTG-GSM5457199</th>\n",
       "      <td>GSM5457199</td>\n",
       "      <td>GSM5457199</td>\n",
       "      <td>5618</td>\n",
       "      <td>8.633909</td>\n",
       "      <td>39183</td>\n",
       "      <td>10.576024</td>\n",
       "      <td>33.233800</td>\n",
       "      <td>41.745145</td>\n",
       "      <td>51.570834</td>\n",
       "      <td>65.099661</td>\n",
       "      <td>7413</td>\n",
       "      <td>8.911125</td>\n",
       "      <td>18.918919</td>\n",
       "      <td>0.0</td>\n",
       "      <td>normal</td>\n",
       "      <td>2.003530</td>\n",
       "      <td>30785</td>\n",
       "      <td>18.080234</td>\n",
       "    </tr>\n",
       "  </tbody>\n",
       "</table>\n",
       "</div>"
      ],
      "text/plain": [
       "                             sample        file  n_genes_by_counts  \\\n",
       "GGATAAGGGTCA-GSM5457199  GSM5457199  GSM5457199               6931   \n",
       "CCGTGCGTACTG-GSM5457199  GSM5457199  GSM5457199               5618   \n",
       "\n",
       "                         log1p_n_genes_by_counts  total_counts  \\\n",
       "GGATAAGGGTCA-GSM5457199                 8.843904         61662   \n",
       "CCGTGCGTACTG-GSM5457199                 8.633909         39183   \n",
       "\n",
       "                         log1p_total_counts  pct_counts_in_top_50_genes  \\\n",
       "GGATAAGGGTCA-GSM5457199           11.029439                   35.125361   \n",
       "CCGTGCGTACTG-GSM5457199           10.576024                   33.233800   \n",
       "\n",
       "                         pct_counts_in_top_100_genes  \\\n",
       "GGATAAGGGTCA-GSM5457199                    43.456262   \n",
       "CCGTGCGTACTG-GSM5457199                    41.745145   \n",
       "\n",
       "                         pct_counts_in_top_200_genes  \\\n",
       "GGATAAGGGTCA-GSM5457199                    52.221790   \n",
       "CCGTGCGTACTG-GSM5457199                    51.570834   \n",
       "\n",
       "                         pct_counts_in_top_500_genes  total_counts_mt  \\\n",
       "GGATAAGGGTCA-GSM5457199                    64.303785            12924   \n",
       "CCGTGCGTACTG-GSM5457199                    65.099661             7413   \n",
       "\n",
       "                         log1p_total_counts_mt  pct_counts_mt  percent.mito  \\\n",
       "GGATAAGGGTCA-GSM5457199               9.466919      20.959424           0.0   \n",
       "CCGTGCGTACTG-GSM5457199               8.911125      18.918919           0.0   \n",
       "\n",
       "                        cnv_reference  cnv_score  nCount_RNA  pct_counts_ribo  \n",
       "GGATAAGGGTCA-GSM5457199        normal   3.085859       47478        18.918236  \n",
       "CCGTGCGTACTG-GSM5457199        normal   2.003530       30785        18.080234  "
      ]
     },
     "execution_count": 18,
     "metadata": {},
     "output_type": "execute_result"
    }
   ],
   "source": [
    "adata3.obs.head(2)"
   ]
  },
  {
   "cell_type": "code",
   "execution_count": 19,
   "metadata": {},
   "outputs": [
    {
     "name": "stdout",
     "output_type": "stream",
     "text": [
      "S phase genes found: 43\n",
      "G2M phase genes found: 52\n",
      "                             sample        file  n_genes_by_counts  \\\n",
      "GGATAAGGGTCA-GSM5457199  GSM5457199  GSM5457199               6931   \n",
      "CCGTGCGTACTG-GSM5457199  GSM5457199  GSM5457199               5618   \n",
      "AGGTAACCTACG-GSM5457199  GSM5457199  GSM5457199               5122   \n",
      "CTGTATAACCTA-GSM5457199  GSM5457199  GSM5457199               4799   \n",
      "AAACAGGTTTGA-GSM5457199  GSM5457199  GSM5457199               4634   \n",
      "\n",
      "                         log1p_n_genes_by_counts  total_counts  \\\n",
      "GGATAAGGGTCA-GSM5457199                 8.843904         61662   \n",
      "CCGTGCGTACTG-GSM5457199                 8.633909         39183   \n",
      "AGGTAACCTACG-GSM5457199                 8.541495         29445   \n",
      "CTGTATAACCTA-GSM5457199                 8.476371         25420   \n",
      "AAACAGGTTTGA-GSM5457199                 8.441391         23312   \n",
      "\n",
      "                         log1p_total_counts  pct_counts_in_top_50_genes  \\\n",
      "GGATAAGGGTCA-GSM5457199           11.029439                   35.125361   \n",
      "CCGTGCGTACTG-GSM5457199           10.576024                   33.233800   \n",
      "AGGTAACCTACG-GSM5457199           10.290313                   31.991849   \n",
      "CTGTATAACCTA-GSM5457199           10.143331                   33.674272   \n",
      "AAACAGGTTTGA-GSM5457199           10.056766                   36.577728   \n",
      "\n",
      "                         pct_counts_in_top_100_genes  \\\n",
      "GGATAAGGGTCA-GSM5457199                    43.456262   \n",
      "CCGTGCGTACTG-GSM5457199                    41.745145   \n",
      "AGGTAACCTACG-GSM5457199                    39.592461   \n",
      "CTGTATAACCTA-GSM5457199                    42.053501   \n",
      "AAACAGGTTTGA-GSM5457199                    44.753775   \n",
      "\n",
      "                         pct_counts_in_top_200_genes  \\\n",
      "GGATAAGGGTCA-GSM5457199                    52.221790   \n",
      "CCGTGCGTACTG-GSM5457199                    51.570834   \n",
      "AGGTAACCTACG-GSM5457199                    48.972661   \n",
      "CTGTATAACCTA-GSM5457199                    50.955940   \n",
      "AAACAGGTTTGA-GSM5457199                    53.307310   \n",
      "\n",
      "                         pct_counts_in_top_500_genes  ...  \\\n",
      "GGATAAGGGTCA-GSM5457199                    64.303785  ...   \n",
      "CCGTGCGTACTG-GSM5457199                    65.099661  ...   \n",
      "AGGTAACCTACG-GSM5457199                    62.947869  ...   \n",
      "CTGTATAACCTA-GSM5457199                    64.394178  ...   \n",
      "AAACAGGTTTGA-GSM5457199                    66.090426  ...   \n",
      "\n",
      "                         log1p_total_counts_mt  pct_counts_mt  percent.mito  \\\n",
      "GGATAAGGGTCA-GSM5457199               9.466919      20.959424           0.0   \n",
      "CCGTGCGTACTG-GSM5457199               8.911125      18.918919           0.0   \n",
      "AGGTAACCTACG-GSM5457199               8.609772      18.624554           0.0   \n",
      "CTGTATAACCTA-GSM5457199               8.418477      17.816680           0.0   \n",
      "AAACAGGTTTGA-GSM5457199               8.464847      20.350034           0.0   \n",
      "\n",
      "                         cnv_reference cnv_score  nCount_RNA  pct_counts_ribo  \\\n",
      "GGATAAGGGTCA-GSM5457199         normal  3.085859       47478        18.918236   \n",
      "CCGTGCGTACTG-GSM5457199         normal  2.003530       30785        18.080234   \n",
      "AGGTAACCTACG-GSM5457199         normal  1.520273       23314        14.184610   \n",
      "CTGTATAACCTA-GSM5457199         normal  1.310010       20320        18.794291   \n",
      "AAACAGGTTTGA-GSM5457199         normal  1.156577       17989        16.059814   \n",
      "\n",
      "                          S_score  G2M_score  phase  \n",
      "GGATAAGGGTCA-GSM5457199  0.124871  -1.576374      S  \n",
      "CCGTGCGTACTG-GSM5457199  0.444978   0.286940      S  \n",
      "AGGTAACCTACG-GSM5457199  0.414268   0.548015    G2M  \n",
      "CTGTATAACCTA-GSM5457199  0.021413  -0.888731      S  \n",
      "AAACAGGTTTGA-GSM5457199  0.585813   0.239374      S  \n",
      "\n",
      "[5 rows x 21 columns]\n"
     ]
    }
   ],
   "source": [
    "# Seurat v3 cell cycle gene sets\n",
    "s_genes = [\n",
    "    'MCM5', 'PCNA', 'TYMS', 'FEN1', 'MCM2', 'MCM4', 'RRM1', 'UNG', 'GINS2',\n",
    "    'MCM6', 'CDCA7', 'DTL', 'PRIM1', 'UHRF1', 'MCM10', 'HELLS', 'RFC2', 'RPA2',\n",
    "    'NASP', 'RAD51AP1', 'GMNN', 'WDR76', 'SLBP', 'CCNE2', 'UBR7', 'POLD3',\n",
    "    'MSH2', 'ATAD2', 'RAD51', 'RRM2', 'CDC45', 'CDC6', 'EXO1', 'TIPIN', 'DSCC1',\n",
    "    'BLM', 'CASP8AP2', 'USP1', 'CLSPN', 'POLA1', 'CHAF1B', 'BRIP1', 'E2F8'\n",
    "]\n",
    "\n",
    "g2m_genes = [\n",
    "    'HMGB2', 'CDK1', 'NUSAP1', 'UBE2C', 'BIRC5', 'TPX2', 'TOP2A', 'NDC80',\n",
    "    'CKS2', 'NUF2', 'CKS1B', 'MKI67', 'TMPO', 'CENPF', 'TACC3', 'FAM64A',\n",
    "    'SMC4', 'CCNB2', 'CKAP2L', 'CKAP2', 'AURKB', 'BUB1', 'KIF11', 'ANP32E',\n",
    "    'TUBB4B', 'GTSE1', 'KIF20B', 'HJURP', 'CDC20', 'TTK', 'CDC25C', 'KIF2C',\n",
    "    'RANGAP1', 'NCAPD2', 'DLGAP5', 'CDCA3', 'HN1', 'CDC45', 'CDCA8', 'ECT2',\n",
    "    'KIF23', 'HMMR', 'AURKA', 'PSRC1', 'ANLN', 'LBR', 'CKAP5', 'CENPE',\n",
    "    'CTCF', 'NEK2', 'G2E3', 'GAS2L3', 'CBX5', 'CENPA'\n",
    "]\n",
    "\n",
    "# ✅ Filter genes present in your dataset\n",
    "s_genes_present = [g for g in s_genes if g in adata3.var_names]\n",
    "g2m_genes_present = [g for g in g2m_genes if g in adata3.var_names]\n",
    "\n",
    "print(f\"S phase genes found: {len(s_genes_present)}\")\n",
    "print(f\"G2M phase genes found: {len(g2m_genes_present)}\")\n",
    "\n",
    "# ✅ Score cell cycle\n",
    "sc.tl.score_genes_cell_cycle(adata3, s_genes=s_genes_present, g2m_genes=g2m_genes_present)\n",
    "\n",
    "# ✅ Confirm it worked\n",
    "print(adata3.obs.head())"
   ]
  },
  {
   "cell_type": "code",
   "execution_count": null,
   "metadata": {},
   "outputs": [
    {
     "name": "stdout",
     "output_type": "stream",
     "text": [
      "✅ OxPhos genes used: 27\n",
      "count    117481.000000\n",
      "mean         -0.114013\n",
      "std           0.775385\n",
      "min          -9.954014\n",
      "25%          -0.264604\n",
      "50%          -0.140815\n",
      "75%          -0.036540\n",
      "max          54.356078\n",
      "Name: oxphos_score, dtype: float64\n"
     ]
    }
   ],
   "source": [
    "# Define OxPhos genes\n",
    "oxphos_genes = [\n",
    "    \"ATP5F1A\", \"ATP5F1B\", \"ATP5MC1\", \"ATP5MC2\", \"ATP5ME\", \"ATP5MG\",\n",
    "    \"COX4I1\", \"COX5A\", \"COX6A1\", \"COX6C\", \"NDUFA1\", \"NDUFA2\", \"NDUFA4\",\n",
    "    \"NDUFAB1\", \"NDUFB2\", \"NDUFB3\", \"NDUFS1\", \"NDUFS2\", \"NDUFV1\", \"UQCRC1\",\n",
    "    \"UQCRC2\", \"UQCRH\", \"SDHA\", \"SDHB\", \"SDHC\", \"SDHD\", \"CYCS\"\n",
    "]\n",
    "\n",
    "# Filter to genes present in dataset\n",
    "oxphos_genes_present = [g for g in oxphos_genes if g in adata3.var_names]\n",
    "\n",
    "# Compute OxPhos score\n",
    "\n",
    "sc.tl.score_genes(adata3, gene_list=oxphos_genes_present, score_name=\"oxphos_score\")\n",
    "\n",
    "# Check output\n",
    "print(f\"✅ OxPhos genes used: {len(oxphos_genes_present)}\")\n",
    "print(adata3.obs[\"oxphos_score\"].describe())\n"
   ]
  },
  {
   "cell_type": "code",
   "execution_count": 21,
   "metadata": {},
   "outputs": [
    {
     "name": "stdout",
     "output_type": "stream",
     "text": [
      "Apoptosis genes found in dataset: 28\n"
     ]
    },
    {
     "data": {
      "text/plain": [
       "GGATAAGGGTCA-GSM5457199   -0.742857\n",
       "CCGTGCGTACTG-GSM5457199   -1.411607\n",
       "AGGTAACCTACG-GSM5457199   -1.065893\n",
       "CTGTATAACCTA-GSM5457199    0.645179\n",
       "AAACAGGTTTGA-GSM5457199    0.143929\n",
       "                             ...   \n",
       "CTCCAACCAATG-GSM5457213   -0.026250\n",
       "CTCCTGAAGCAC-GSM5457213    0.004464\n",
       "GTACCAGCGGCA-GSM5457213   -0.013750\n",
       "TACCTCCTAAAG-GSM5457213   -0.012500\n",
       "TGGTTTGTAGGG-GSM5457213    0.018214\n",
       "Name: apoptosis_score, Length: 117481, dtype: float64"
      ]
     },
     "execution_count": 21,
     "metadata": {},
     "output_type": "execute_result"
    }
   ],
   "source": [
    "## Apoptosis genes\n",
    "apoptosis_genes = [\n",
    "    \"BAX\", \"BAK1\", \"BCL2\", \"BCL2L1\", \"BCL2L11\", \"CASP3\", \"CASP6\", \"CASP7\",\n",
    "    \"CASP8\", \"CASP9\", \"TP53\", \"FAS\", \"FASLG\", \"TNFRSF10A\", \"TNFRSF10B\",\n",
    "    \"TNFRSF1A\", \"TNF\", \"AIFM1\", \"APAF1\", \"BAD\", \"BID\", \"CFLAR\", \"DIABLO\",\n",
    "    \"MCL1\", \"NFKB1\", \"NFKBIA\", \"TRADD\", \"XIAP\"\n",
    "]\n",
    "apoptosis_genes_present = [g for g in apoptosis_genes if g in adata3.var_names]\n",
    "print(f\"Apoptosis genes found in dataset: {len(apoptosis_genes_present)}\")\n",
    "sc.tl.score_genes(adata3, gene_list=apoptosis_genes_present, score_name=\"apoptosis_score\")\n",
    "adata3.obs[\"apoptosis_score\"]"
   ]
  },
  {
   "cell_type": "code",
   "execution_count": 22,
   "metadata": {},
   "outputs": [
    {
     "name": "stdout",
     "output_type": "stream",
     "text": [
      "✅ Found 10 Proto-oncogenes in dataset: ['MYC', 'KRAS', 'EGFR', 'BRAF', 'AKT1', 'PIK3CA', 'CCND1', 'ERBB2', 'FGFR1', 'MDM2']\n"
     ]
    }
   ],
   "source": [
    "## Protooncogene score\n",
    "proto_oncogenes = ['MYC', 'KRAS', 'EGFR', 'BRAF', 'AKT1', 'PIK3CA', 'CCND1', 'ERBB2', 'FGFR1', 'MDM2']\n",
    "\n",
    "# ---------------------------------------\n",
    "# 🧪 Step 2: Score Proto-oncogene activity\n",
    "# Filter to genes in adata\n",
    "valid_protooncogenes = [g for g in proto_oncogenes if g in adata3.var_names]\n",
    "sc.tl.score_genes(adata3, gene_list=oxphos_genes_present, score_name=\"proto_oncogenescore\")\n",
    "print(f\"✅ Found {len(valid_protooncogenes)} Proto-oncogenes in dataset: {valid_protooncogenes}\")"
   ]
  },
  {
   "cell_type": "code",
   "execution_count": 29,
   "metadata": {},
   "outputs": [
    {
     "name": "stdout",
     "output_type": "stream",
     "text": [
      "                             sample        file  percent.mito cnv_reference  \\\n",
      "GGATAAGGGTCA-GSM5457199  GSM5457199  GSM5457199           0.0        normal   \n",
      "CCGTGCGTACTG-GSM5457199  GSM5457199  GSM5457199           0.0        normal   \n",
      "\n",
      "                         cnv_score  nCount_RNA  pct_counts_ribo   S_score  \\\n",
      "GGATAAGGGTCA-GSM5457199   3.085859       47478        18.918236  0.124871   \n",
      "CCGTGCGTACTG-GSM5457199   2.003530       30785        18.080234  0.444978   \n",
      "\n",
      "                         G2M_score phase  oxphos_score  apoptosis_score  \\\n",
      "GGATAAGGGTCA-GSM5457199  -1.576374     S     19.656475        -0.742857   \n",
      "CCGTGCGTACTG-GSM5457199   0.286940     S     15.979866        -1.411607   \n",
      "\n",
      "                         proto_oncogenescore  \n",
      "GGATAAGGGTCA-GSM5457199            19.656475  \n",
      "CCGTGCGTACTG-GSM5457199            15.979866  \n"
     ]
    }
   ],
   "source": [
    "print(adata3.obs.head(2))"
   ]
  },
  {
   "cell_type": "code",
   "execution_count": 30,
   "metadata": {},
   "outputs": [
    {
     "data": {
      "text/plain": [
       "['sample',\n",
       " 'file',\n",
       " 'percent.mito',\n",
       " 'cnv_reference',\n",
       " 'cnv_score',\n",
       " 'nCount_RNA',\n",
       " 'pct_counts_ribo',\n",
       " 'S_score',\n",
       " 'G2M_score',\n",
       " 'phase',\n",
       " 'oxphos_score',\n",
       " 'apoptosis_score',\n",
       " 'proto_oncogenescore']"
      ]
     },
     "execution_count": 30,
     "metadata": {},
     "output_type": "execute_result"
    }
   ],
   "source": [
    "adata3.obs.columns.tolist()"
   ]
  },
  {
   "cell_type": "code",
   "execution_count": 27,
   "metadata": {},
   "outputs": [
    {
     "ename": "KeyError",
     "evalue": "\"['n_genes_by_counts', 'log1p_n_genes_by_counts', 'total_counts', 'log1p_total_counts', 'pct_counts_in_top_50_genes', 'pct_counts_in_top_100_genes', 'pct_counts_in_top_200_genes', 'pct_counts_in_top_500_genes', 'total_counts_mt', 'log1p_total_counts_mt', 'pct_counts_mt'] not found in axis\"",
     "output_type": "error",
     "traceback": [
      "\u001b[0;31m---------------------------------------------------------------------------\u001b[0m",
      "\u001b[0;31mKeyError\u001b[0m                                  Traceback (most recent call last)",
      "\u001b[1;32m/Users/adi/Desktop/Capstone/Notebook recent/GSE180286.ipynb Cell 28\u001b[0m line \u001b[0;36m1\n\u001b[1;32m      <a href='vscode-notebook-cell:/Users/adi/Desktop/Capstone/Notebook%20recent/GSE180286.ipynb#X41sZmlsZQ%3D%3D?line=0'>1</a>\u001b[0m columns_to_drop \u001b[39m=\u001b[39m [\n\u001b[1;32m      <a href='vscode-notebook-cell:/Users/adi/Desktop/Capstone/Notebook%20recent/GSE180286.ipynb#X41sZmlsZQ%3D%3D?line=1'>2</a>\u001b[0m     \u001b[39m'\u001b[39m\u001b[39mn_genes_by_counts\u001b[39m\u001b[39m'\u001b[39m,\n\u001b[1;32m      <a href='vscode-notebook-cell:/Users/adi/Desktop/Capstone/Notebook%20recent/GSE180286.ipynb#X41sZmlsZQ%3D%3D?line=2'>3</a>\u001b[0m     \u001b[39m'\u001b[39m\u001b[39mlog1p_n_genes_by_counts\u001b[39m\u001b[39m'\u001b[39m,\n\u001b[0;32m   (...)\u001b[0m\n\u001b[1;32m     <a href='vscode-notebook-cell:/Users/adi/Desktop/Capstone/Notebook%20recent/GSE180286.ipynb#X41sZmlsZQ%3D%3D?line=11'>12</a>\u001b[0m     \u001b[39m'\u001b[39m\u001b[39mpct_counts_mt\u001b[39m\u001b[39m'\u001b[39m\n\u001b[1;32m     <a href='vscode-notebook-cell:/Users/adi/Desktop/Capstone/Notebook%20recent/GSE180286.ipynb#X41sZmlsZQ%3D%3D?line=12'>13</a>\u001b[0m ]\n\u001b[1;32m     <a href='vscode-notebook-cell:/Users/adi/Desktop/Capstone/Notebook%20recent/GSE180286.ipynb#X41sZmlsZQ%3D%3D?line=14'>15</a>\u001b[0m \u001b[39m# Drop from .obs\u001b[39;00m\n\u001b[0;32m---> <a href='vscode-notebook-cell:/Users/adi/Desktop/Capstone/Notebook%20recent/GSE180286.ipynb#X41sZmlsZQ%3D%3D?line=15'>16</a>\u001b[0m adata3\u001b[39m.\u001b[39;49mobs\u001b[39m.\u001b[39;49mdrop(columns\u001b[39m=\u001b[39;49mcolumns_to_drop, inplace\u001b[39m=\u001b[39;49m\u001b[39mTrue\u001b[39;49;00m)\n\u001b[1;32m     <a href='vscode-notebook-cell:/Users/adi/Desktop/Capstone/Notebook%20recent/GSE180286.ipynb#X41sZmlsZQ%3D%3D?line=16'>17</a>\u001b[0m \u001b[39mprint\u001b[39m(adata3\u001b[39m.\u001b[39mobs\u001b[39m.\u001b[39mcolumns\u001b[39m.\u001b[39mtolist())\n",
      "File \u001b[0;32m~/Library/Python/3.9/lib/python/site-packages/pandas/core/frame.py:5581\u001b[0m, in \u001b[0;36mDataFrame.drop\u001b[0;34m(self, labels, axis, index, columns, level, inplace, errors)\u001b[0m\n\u001b[1;32m   5433\u001b[0m \u001b[39mdef\u001b[39;00m\u001b[39m \u001b[39m\u001b[39mdrop\u001b[39m(\n\u001b[1;32m   5434\u001b[0m     \u001b[39mself\u001b[39m,\n\u001b[1;32m   5435\u001b[0m     labels: IndexLabel \u001b[39m|\u001b[39m \u001b[39mNone\u001b[39;00m \u001b[39m=\u001b[39m \u001b[39mNone\u001b[39;00m,\n\u001b[0;32m   (...)\u001b[0m\n\u001b[1;32m   5442\u001b[0m     errors: IgnoreRaise \u001b[39m=\u001b[39m \u001b[39m\"\u001b[39m\u001b[39mraise\u001b[39m\u001b[39m\"\u001b[39m,\n\u001b[1;32m   5443\u001b[0m ) \u001b[39m-\u001b[39m\u001b[39m>\u001b[39m DataFrame \u001b[39m|\u001b[39m \u001b[39mNone\u001b[39;00m:\n\u001b[1;32m   5444\u001b[0m \u001b[39m    \u001b[39m\u001b[39m\"\"\"\u001b[39;00m\n\u001b[1;32m   5445\u001b[0m \u001b[39m    Drop specified labels from rows or columns.\u001b[39;00m\n\u001b[1;32m   5446\u001b[0m \n\u001b[0;32m   (...)\u001b[0m\n\u001b[1;32m   5579\u001b[0m \u001b[39m            weight  1.0     0.8\u001b[39;00m\n\u001b[1;32m   5580\u001b[0m \u001b[39m    \"\"\"\u001b[39;00m\n\u001b[0;32m-> 5581\u001b[0m     \u001b[39mreturn\u001b[39;00m \u001b[39msuper\u001b[39;49m()\u001b[39m.\u001b[39;49mdrop(\n\u001b[1;32m   5582\u001b[0m         labels\u001b[39m=\u001b[39;49mlabels,\n\u001b[1;32m   5583\u001b[0m         axis\u001b[39m=\u001b[39;49maxis,\n\u001b[1;32m   5584\u001b[0m         index\u001b[39m=\u001b[39;49mindex,\n\u001b[1;32m   5585\u001b[0m         columns\u001b[39m=\u001b[39;49mcolumns,\n\u001b[1;32m   5586\u001b[0m         level\u001b[39m=\u001b[39;49mlevel,\n\u001b[1;32m   5587\u001b[0m         inplace\u001b[39m=\u001b[39;49minplace,\n\u001b[1;32m   5588\u001b[0m         errors\u001b[39m=\u001b[39;49merrors,\n\u001b[1;32m   5589\u001b[0m     )\n",
      "File \u001b[0;32m~/Library/Python/3.9/lib/python/site-packages/pandas/core/generic.py:4788\u001b[0m, in \u001b[0;36mNDFrame.drop\u001b[0;34m(self, labels, axis, index, columns, level, inplace, errors)\u001b[0m\n\u001b[1;32m   4786\u001b[0m \u001b[39mfor\u001b[39;00m axis, labels \u001b[39min\u001b[39;00m axes\u001b[39m.\u001b[39mitems():\n\u001b[1;32m   4787\u001b[0m     \u001b[39mif\u001b[39;00m labels \u001b[39mis\u001b[39;00m \u001b[39mnot\u001b[39;00m \u001b[39mNone\u001b[39;00m:\n\u001b[0;32m-> 4788\u001b[0m         obj \u001b[39m=\u001b[39m obj\u001b[39m.\u001b[39;49m_drop_axis(labels, axis, level\u001b[39m=\u001b[39;49mlevel, errors\u001b[39m=\u001b[39;49merrors)\n\u001b[1;32m   4790\u001b[0m \u001b[39mif\u001b[39;00m inplace:\n\u001b[1;32m   4791\u001b[0m     \u001b[39mself\u001b[39m\u001b[39m.\u001b[39m_update_inplace(obj)\n",
      "File \u001b[0;32m~/Library/Python/3.9/lib/python/site-packages/pandas/core/generic.py:4830\u001b[0m, in \u001b[0;36mNDFrame._drop_axis\u001b[0;34m(self, labels, axis, level, errors, only_slice)\u001b[0m\n\u001b[1;32m   4828\u001b[0m         new_axis \u001b[39m=\u001b[39m axis\u001b[39m.\u001b[39mdrop(labels, level\u001b[39m=\u001b[39mlevel, errors\u001b[39m=\u001b[39merrors)\n\u001b[1;32m   4829\u001b[0m     \u001b[39melse\u001b[39;00m:\n\u001b[0;32m-> 4830\u001b[0m         new_axis \u001b[39m=\u001b[39m axis\u001b[39m.\u001b[39;49mdrop(labels, errors\u001b[39m=\u001b[39;49merrors)\n\u001b[1;32m   4831\u001b[0m     indexer \u001b[39m=\u001b[39m axis\u001b[39m.\u001b[39mget_indexer(new_axis)\n\u001b[1;32m   4833\u001b[0m \u001b[39m# Case for non-unique axis\u001b[39;00m\n\u001b[1;32m   4834\u001b[0m \u001b[39melse\u001b[39;00m:\n",
      "File \u001b[0;32m~/Library/Python/3.9/lib/python/site-packages/pandas/core/indexes/base.py:7070\u001b[0m, in \u001b[0;36mIndex.drop\u001b[0;34m(self, labels, errors)\u001b[0m\n\u001b[1;32m   7068\u001b[0m \u001b[39mif\u001b[39;00m mask\u001b[39m.\u001b[39many():\n\u001b[1;32m   7069\u001b[0m     \u001b[39mif\u001b[39;00m errors \u001b[39m!=\u001b[39m \u001b[39m\"\u001b[39m\u001b[39mignore\u001b[39m\u001b[39m\"\u001b[39m:\n\u001b[0;32m-> 7070\u001b[0m         \u001b[39mraise\u001b[39;00m \u001b[39mKeyError\u001b[39;00m(\u001b[39mf\u001b[39m\u001b[39m\"\u001b[39m\u001b[39m{\u001b[39;00mlabels[mask]\u001b[39m.\u001b[39mtolist()\u001b[39m}\u001b[39;00m\u001b[39m not found in axis\u001b[39m\u001b[39m\"\u001b[39m)\n\u001b[1;32m   7071\u001b[0m     indexer \u001b[39m=\u001b[39m indexer[\u001b[39m~\u001b[39mmask]\n\u001b[1;32m   7072\u001b[0m \u001b[39mreturn\u001b[39;00m \u001b[39mself\u001b[39m\u001b[39m.\u001b[39mdelete(indexer)\n",
      "\u001b[0;31mKeyError\u001b[0m: \"['n_genes_by_counts', 'log1p_n_genes_by_counts', 'total_counts', 'log1p_total_counts', 'pct_counts_in_top_50_genes', 'pct_counts_in_top_100_genes', 'pct_counts_in_top_200_genes', 'pct_counts_in_top_500_genes', 'total_counts_mt', 'log1p_total_counts_mt', 'pct_counts_mt'] not found in axis\""
     ]
    }
   ],
   "source": [
    "##dont run this code\n",
    "columns_to_drop = [\n",
    "    'n_genes_by_counts',\n",
    "    'log1p_n_genes_by_counts',\n",
    "    'total_counts',\n",
    "    'log1p_total_counts',\n",
    "    'pct_counts_in_top_50_genes',\n",
    "    'pct_counts_in_top_100_genes',\n",
    "    'pct_counts_in_top_200_genes',\n",
    "    'pct_counts_in_top_500_genes',\n",
    "    'total_counts_mt',\n",
    "    'log1p_total_counts_mt',\n",
    "    'pct_counts_mt'\n",
    "]\n",
    "\n",
    "# Drop from .obs\n",
    "adata3.obs.drop(columns=columns_to_drop, inplace=True)\n",
    "print(adata3.obs.columns.tolist())\n"
   ]
  },
  {
   "cell_type": "code",
   "execution_count": 31,
   "metadata": {},
   "outputs": [
    {
     "name": "stdout",
     "output_type": "stream",
     "text": [
      "✅ Saved to: GSE180286_obs_features_new_16July.csv\n"
     ]
    }
   ],
   "source": [
    "# Save the .obs DataFrame to CSV\n",
    "output_path = \"GSE180286_obs_features_new_16July.csv\"\n",
    "adata3.obs.to_csv(output_path)\n",
    "\n",
    "print(f\"✅ Saved to: {output_path}\")"
   ]
  }
 ],
 "metadata": {
  "kernelspec": {
   "display_name": "venv",
   "language": "python",
   "name": "python3"
  },
  "language_info": {
   "codemirror_mode": {
    "name": "ipython",
    "version": 3
   },
   "file_extension": ".py",
   "mimetype": "text/x-python",
   "name": "python",
   "nbconvert_exporter": "python",
   "pygments_lexer": "ipython3",
   "version": "3.11.9"
  }
 },
 "nbformat": 4,
 "nbformat_minor": 2
}

{
 "cells": [
  {
   "cell_type": "code",
   "execution_count": 2,
   "id": "507b79d1",
   "metadata": {},
   "outputs": [
    {
     "data": {
      "text/html": [
       "<div>\n",
       "<style scoped>\n",
       "    .dataframe tbody tr th:only-of-type {\n",
       "        vertical-align: middle;\n",
       "    }\n",
       "\n",
       "    .dataframe tbody tr th {\n",
       "        vertical-align: top;\n",
       "    }\n",
       "\n",
       "    .dataframe thead th {\n",
       "        text-align: right;\n",
       "    }\n",
       "</style>\n",
       "<table border=\"1\" class=\"dataframe\">\n",
       "  <thead>\n",
       "    <tr style=\"text-align: right;\">\n",
       "      <th></th>\n",
       "      <th>gene</th>\n",
       "      <th>p_value</th>\n",
       "      <th>log2_fc</th>\n",
       "      <th>mean_diff</th>\n",
       "      <th>Dataset</th>\n",
       "    </tr>\n",
       "  </thead>\n",
       "  <tbody>\n",
       "    <tr>\n",
       "      <th>0</th>\n",
       "      <td>CDK4</td>\n",
       "      <td>0.0</td>\n",
       "      <td>2.428112</td>\n",
       "      <td>0.105542</td>\n",
       "      <td>GSE180286</td>\n",
       "    </tr>\n",
       "    <tr>\n",
       "      <th>1</th>\n",
       "      <td>CDKN1A</td>\n",
       "      <td>0.0</td>\n",
       "      <td>3.365022</td>\n",
       "      <td>0.134859</td>\n",
       "      <td>GSE180286</td>\n",
       "    </tr>\n",
       "    <tr>\n",
       "      <th>2</th>\n",
       "      <td>ERBB2</td>\n",
       "      <td>0.0</td>\n",
       "      <td>4.833174</td>\n",
       "      <td>0.267847</td>\n",
       "      <td>GSE180286</td>\n",
       "    </tr>\n",
       "  </tbody>\n",
       "</table>\n",
       "</div>"
      ],
      "text/plain": [
       "     gene  p_value   log2_fc  mean_diff    Dataset\n",
       "0    CDK4      0.0  2.428112   0.105542  GSE180286\n",
       "1  CDKN1A      0.0  3.365022   0.134859  GSE180286\n",
       "2   ERBB2      0.0  4.833174   0.267847  GSE180286"
      ]
     },
     "execution_count": 2,
     "metadata": {},
     "output_type": "execute_result"
    }
   ],
   "source": [
    "import pandas as pd\n",
    "\n",
    "# 🔹 Step 1: Load the annotated differential expression results\n",
    "df = pd.read_csv(\"~/Desktop/Capstone/Notebook recent/combined_de_genes.csv\")\n",
    "# 🔹 Step 5: Sort by dataset and log2 fold-change\n",
    "#df = df.sort_values(by=[\"Dataset\", \"log2FC\"], ascending=[True, False])\n",
    "df.head(3)\n"
   ]
  },
  {
   "cell_type": "code",
   "execution_count": 3,
   "id": "b1cf4f29",
   "metadata": {},
   "outputs": [
    {
     "name": "stdout",
     "output_type": "stream",
     "text": [
      "Number of druggable genes from DGIdb: 3579\n"
     ]
    }
   ],
   "source": [
    "## Step 1: Load DGIdb interaction data and extract druggable genes\n",
    "\n",
    "import pandas as pd\n",
    "import os\n",
    "\n",
    "# Load DGIdb interactions.tsv (adjust path as needed)\n",
    "dgidb_path = os.path.expanduser(\"~/Desktop/Cancer_project/ghost-cell-busters/interactions.tsv\")\n",
    "dgidb_df = pd.read_csv(dgidb_path, sep=\"\\t\")\n",
    "\n",
    "# Filter druggable genes: approved or anti-neoplastic\n",
    "dgidb_filtered = dgidb_df[\n",
    "    (dgidb_df[\"approved\"] == True) | (dgidb_df[\"anti_neoplastic\"] == True)\n",
    "]\n",
    "\n",
    "# Unique druggable gene symbols (uppercased for consistency)\n",
    "druggable_genes = dgidb_filtered[\"gene_name\"].dropna().str.upper().unique()\n",
    "print(f\"Number of druggable genes from DGIdb: {len(druggable_genes)}\")\n"
   ]
  },
  {
   "cell_type": "code",
   "execution_count": 4,
   "id": "b8e49958",
   "metadata": {},
   "outputs": [
    {
     "name": "stdout",
     "output_type": "stream",
     "text": [
      "Number of genes strongly associated with breast cancer (Open Targets): 316\n"
     ]
    }
   ],
   "source": [
    "## Step 2: Query Open Targets API for breast cancer target association scores\n",
    "import requests\n",
    "\n",
    "url = \"https://api.platform.opentargets.org/api/v4/graphql\"\n",
    "query = \"\"\"\n",
    "query BreastCancerTargets($efoId: String!, $size: Int!) {\n",
    "  disease(efoId: $efoId) {\n",
    "    associatedTargets(page: { index: 0, size: $size }) {\n",
    "      rows {\n",
    "        target {\n",
    "          approvedSymbol\n",
    "        }\n",
    "        score\n",
    "      }\n",
    "    }\n",
    "  }\n",
    "}\n",
    "\"\"\"\n",
    "variables = {\n",
    "    \"efoId\": \"EFO_0000305\",  # Breast cancer EFO ID\n",
    "    \"size\": 500\n",
    "}\n",
    "\n",
    "response = requests.post(url, json={\"query\": query, \"variables\": variables})\n",
    "data = response.json()\n",
    "\n",
    "if \"errors\" in data:\n",
    "    raise Exception(f\"Open Targets API error: {data['errors']}\")\n",
    "\n",
    "rows = data[\"data\"][\"disease\"][\"associatedTargets\"][\"rows\"]\n",
    "\n",
    "open_targets_df = pd.DataFrame([\n",
    "    {\n",
    "        \"Gene\": row[\"target\"][\"approvedSymbol\"].upper(),\n",
    "        \"OpenTargets_Score\": row[\"score\"]\n",
    "    }\n",
    "    for row in rows if row.get(\"score\") is not None\n",
    "])\n",
    "\n",
    "# Filter strong breast cancer associations\n",
    "open_targets_df = open_targets_df[open_targets_df[\"OpenTargets_Score\"] >= 0.5]\n",
    "\n",
    "print(f\"Number of genes strongly associated with breast cancer (Open Targets): {open_targets_df.shape[0]}\")\n"
   ]
  },
  {
   "cell_type": "code",
   "execution_count": 5,
   "id": "e9986d72",
   "metadata": {},
   "outputs": [],
   "source": [
    "## Step 3: Merge DE genes with DGIdb and Open Targets info\n",
    "# Ensure gene symbols uppercase in DE dataframe for consistency\n",
    "df[\"Gene\"] = df[\"gene\"].str.upper()\n",
    "\n",
    "# Add DGIdb Status\n",
    "df[\"DGIdb Status\"] = df[\"Gene\"].apply(lambda x: \"Targeted\" if x in druggable_genes else \"Not Targeted\")\n",
    "\n",
    "# Merge with Open Targets scores (left join to keep all DE genes)\n",
    "df = df.merge(open_targets_df, how=\"left\", left_on=\"Gene\", right_on=\"Gene\")\n",
    "\n",
    "# Add breast cancer support flags\n",
    "df[\"BreastCancer_Supported\"] = df[\"OpenTargets_Score\"].notna()\n",
    "df[\"Strong_BreastCancer_Support\"] = df[\"OpenTargets_Score\"].fillna(0) >= 0.5\n",
    "\n"
   ]
  },
  {
   "cell_type": "code",
   "execution_count": 6,
   "id": "efa2d69a",
   "metadata": {},
   "outputs": [],
   "source": [
    "## Step 4: Add FDA approval info from DGIdb data \n",
    "# To get FDA approval status, use the dgidb_filtered dataframe:\n",
    "# Extract gene-wise FDA approval flag\n",
    "\n",
    "# Prepare dictionary mapping gene -> FDA approved (True/False)\n",
    "fda_dict = dgidb_filtered.groupby(\"gene_name\")[\"approved\"].max().to_dict()\n",
    "\n",
    "# Map it onto df\n",
    "df[\"FDA_Approved_Drug\"] = df[\"Gene\"].map(fda_dict).fillna(False)\n",
    "df[\"FDA_Approved_Drug\"] = df[\"FDA_Approved_Drug\"].map({True: \"Yes\", False: \"No\"})\n"
   ]
  },
  {
   "cell_type": "code",
   "execution_count": 7,
   "id": "91fe4e72",
   "metadata": {},
   "outputs": [],
   "source": [
    "## Step 5: Assign therapeutic categories specific to breast cancer\n",
    "\n",
    "def assign_targeting_category(row):\n",
    "    if row[\"Strong_BreastCancer_Support\"]:\n",
    "        if row[\"DGIdb Status\"] == \"Targeted\":\n",
    "            if row[\"FDA_Approved_Drug\"] == \"Yes\":\n",
    "                return \"FDA-approved Breast Cancer Therapy\"\n",
    "            else:\n",
    "                return \"Emerging Breast Cancer Target\"\n",
    "        else:\n",
    "            return \"Lacks Breast Cancer Evidence\"\n",
    "    else:\n",
    "        return \"Lacks Breast Cancer Evidence\"\n",
    "\n",
    "df[\"Targeting Category\"] = df.apply(assign_targeting_category, axis=1)\n"
   ]
  },
  {
   "cell_type": "code",
   "execution_count": 8,
   "id": "42904479",
   "metadata": {},
   "outputs": [
    {
     "name": "stdout",
     "output_type": "stream",
     "text": [
      "✅ Saved annotated therapeutic stratification to /Users/adi/Desktop/Cancer_project/ghost-cell-busters/oncogene_therapeutic_stratification_30July.csv\n"
     ]
    }
   ],
   "source": [
    "##Step 6: Save the annotated dataframe\n",
    "\n",
    "output_path = os.path.expanduser(\"~/Desktop/Cancer_project/ghost-cell-busters/oncogene_therapeutic_stratification_30July.csv\")\n",
    "df.to_csv(output_path, index=False)\n",
    "print(f\"✅ Saved annotated therapeutic stratification to {output_path}\")\n"
   ]
  },
  {
   "cell_type": "code",
   "execution_count": 9,
   "id": "ad0b4b10",
   "metadata": {},
   "outputs": [
    {
     "name": "stdout",
     "output_type": "stream",
     "text": [
      "### Preview of data ###\n",
      "     gene  p_value   log2_fc  mean_diff    Dataset    Gene DGIdb Status  \\\n",
      "0    CDK4      0.0  2.428112   0.105542  GSE180286    CDK4     Targeted   \n",
      "1  CDKN1A      0.0  3.365022   0.134859  GSE180286  CDKN1A     Targeted   \n",
      "2   ERBB2      0.0  4.833174   0.267847  GSE180286   ERBB2     Targeted   \n",
      "3   CCND1      0.0  4.525871   0.483840  GSE180286   CCND1     Targeted   \n",
      "4  CDKN2A      0.0  3.926487   0.074630  GSE180286  CDKN2A     Targeted   \n",
      "\n",
      "   OpenTargets_Score  BreastCancer_Supported  Strong_BreastCancer_Support  \\\n",
      "0           0.693263                    True                         True   \n",
      "1                NaN                   False                        False   \n",
      "2           0.820020                    True                         True   \n",
      "3           0.568711                    True                         True   \n",
      "4           0.592468                    True                         True   \n",
      "\n",
      "  FDA_Approved_Drug                  Targeting Category  \n",
      "0               Yes  FDA-approved Breast Cancer Therapy  \n",
      "1               Yes        Lacks Breast Cancer Evidence  \n",
      "2               Yes  FDA-approved Breast Cancer Therapy  \n",
      "3               Yes  FDA-approved Breast Cancer Therapy  \n",
      "4               Yes  FDA-approved Breast Cancer Therapy  \n",
      "\n",
      "### Therapeutic Category counts ###\n",
      "Targeting Category\n",
      "FDA-approved Breast Cancer Therapy    62\n",
      "Lacks Breast Cancer Evidence          14\n",
      "Emerging Breast Cancer Target          2\n",
      "Name: count, dtype: int64\n",
      "\n",
      "### Summary statistics of log2FC by Targeting Category ###\n",
      "                                    count      mean       std       min  \\\n",
      "Targeting Category                                                        \n",
      "Emerging Breast Cancer Target         2.0  1.453105  0.496255  1.102199   \n",
      "FDA-approved Breast Cancer Therapy   62.0  2.304535  1.068108 -0.095883   \n",
      "Lacks Breast Cancer Evidence         14.0  2.395102  0.755525  1.125685   \n",
      "\n",
      "                                         25%       50%       75%       max  \n",
      "Targeting Category                                                          \n",
      "Emerging Breast Cancer Target       1.277652  1.453105  1.628557  1.804010  \n",
      "FDA-approved Breast Cancer Therapy  1.674801  2.274987  2.639172  5.594285  \n",
      "Lacks Breast Cancer Evidence        1.931997  2.342658  2.825438  3.728018  \n",
      "\n",
      "Category: FDA-approved Breast Cancer Therapy — 31 unique genes\n",
      "['CDK4' 'ERBB2' 'CCND1' 'CDKN2A' 'FOXO3' 'KRAS' 'FGFR1' 'MDM2' 'NF1'\n",
      " 'AKT1']\n",
      "\n",
      "Category: Lacks Breast Cancer Evidence — 8 unique genes\n",
      "['CDKN1A' 'BAX' 'NRAS' 'VHL' 'SRC' 'NF2' 'WT1' 'NTRK1']\n",
      "\n",
      "Category: Emerging Breast Cancer Target — 1 unique genes\n",
      "['CASP8']\n"
     ]
    }
   ],
   "source": [
    "##Load and review the saved CSV contents, including summary statistics for therapeutic categories:\n",
    "import pandas as pd\n",
    "\n",
    "# Load the annotated therapeutic stratification CSV\n",
    "csv_path = \"~/Desktop/Cancer_project/ghost-cell-busters/oncogene_therapeutic_stratification_30July.csv\"\n",
    "df = pd.read_csv(csv_path)\n",
    "\n",
    "# Show the first few rows\n",
    "print(\"### Preview of data ###\")\n",
    "print(df.head())\n",
    "\n",
    "# Summary of therapeutic categories\n",
    "print(\"\\n### Therapeutic Category counts ###\")\n",
    "print(df['Targeting Category'].value_counts())\n",
    "\n",
    "# Summary statistics for log2FC by category\n",
    "print(\"\\n### Summary statistics of log2FC by Targeting Category ###\")\n",
    "print(df.groupby('Targeting Category')['log2_fc'].describe())\n",
    "\n",
    "# Optional: List unique genes per category\n",
    "for cat in df['Targeting Category'].unique():\n",
    "    genes = df.loc[df['Targeting Category'] == cat, 'gene'].unique()\n",
    "    print(f\"\\nCategory: {cat} — {len(genes)} unique genes\")\n",
    "    print(genes[:10])  # print first 10 genes\n",
    "\n"
   ]
  },
  {
   "cell_type": "code",
   "execution_count": 11,
   "id": "e4c9d2e3",
   "metadata": {},
   "outputs": [
    {
     "name": "stdout",
     "output_type": "stream",
     "text": [
      "Counts after deduplication by gene:\n",
      "Targeting Category\n",
      "FDA-approved Breast Cancer Therapy    31\n",
      "Lacks Breast Cancer Evidence           8\n",
      "Emerging Breast Cancer Target          1\n",
      "Name: count, dtype: int64\n",
      "Total unique genes: 40\n",
      "\n",
      "Category: Emerging Breast Cancer Target — 1 unique genes\n",
      "['CASP8']\n",
      "\n",
      "Category: FDA-approved Breast Cancer Therapy — 31 unique genes\n",
      "['CDK4', 'ERBB2', 'CCND1', 'CDKN2A', 'FOXO3', 'KRAS', 'FGFR1', 'MDM2', 'NF1', 'AKT1', 'BRCA1', 'HRAS', 'TP53', 'CDK6', 'PTEN', 'MYC', 'BRCA2', 'PIK3CA', 'RB1', 'BCL2', 'MET', 'EGFR', 'NTRK2', 'TSC2', 'STK11', 'FGFR2', 'ATR', 'NOTCH1', 'SMAD4', 'CHEK2', 'ATM']\n",
      "\n",
      "Category: Lacks Breast Cancer Evidence — 8 unique genes\n",
      "['CDKN1A', 'BAX', 'NRAS', 'VHL', 'SRC', 'NF2', 'WT1', 'NTRK1']\n"
     ]
    }
   ],
   "source": [
    "# Assuming your dataframe is named df\n",
    "\n",
    "# Drop duplicates based on 'gene' column, keeping the first occurrence\n",
    "df_unique = df.drop_duplicates(subset='gene', keep='first').reset_index(drop=True)\n",
    "\n",
    "# Check counts to confirm\n",
    "print(\"Counts after deduplication by gene:\")\n",
    "print(df_unique['Targeting Category'].value_counts())\n",
    "print(f\"Total unique genes: {df_unique['gene'].nunique()}\")\n",
    "\n",
    "# Now df_unique is ready for downstream analysis\n",
    "for category, group in df_unique.groupby('Targeting Category'):\n",
    "    genes = group['gene'].tolist()\n",
    "    print(f\"\\nCategory: {category} — {len(genes)} unique genes\")\n",
    "    print(genes)\n",
    "\n"
   ]
  },
  {
   "cell_type": "code",
   "execution_count": 12,
   "id": "9a0da317",
   "metadata": {},
   "outputs": [
    {
     "name": "stdout",
     "output_type": "stream",
     "text": [
      "✅ Dynamically found 31 FDA-approved genes for breast cancer.\n",
      "['CDK4', 'ERBB2', 'CCND1', 'CDKN2A', 'FOXO3', 'KRAS', 'FGFR1', 'MDM2', 'NF1', 'AKT1', 'BRCA1', 'HRAS', 'TP53', 'CDK6', 'PTEN', 'MYC', 'BRCA2', 'PIK3CA', 'RB1', 'BCL2', 'MET', 'EGFR', 'NTRK2', 'TSC2', 'STK11', 'FGFR2', 'ATR', 'NOTCH1', 'SMAD4', 'CHEK2', 'ATM']\n",
      "\n",
      "✅ FDA Subcategory counts:\n",
      "FDA_Subcategory\n",
      "FDA-approved for Breast Cancer    31\n",
      "Name: count, dtype: int64\n",
      "\n",
      "✅ Saved file with FDA subcategories: ~/Desktop/Cancer_project/ghost-cell-busters/final_therapeutic_subcategories_dynamic.csv\n"
     ]
    }
   ],
   "source": [
    "import pandas as pd\n",
    "\n",
    "# Example: load your deduplicated dataframe if not already in memory\n",
    "# df_unique = pd.read_csv(\"path_to_your_deduplicated_file.csv\")\n",
    "\n",
    "# Step 1: Dynamically find FDA-approved breast cancer genes\n",
    "fda_bc_specific_genes = df_unique[\n",
    "    (df_unique[\"FDA_Approved_Drug\"] == \"Yes\") &\n",
    "    (df_unique[\"OpenTargets_Score\"].fillna(0) >= 0.5)\n",
    "][\"Gene\"].unique().tolist()\n",
    "\n",
    "print(f\"✅ Dynamically found {len(fda_bc_specific_genes)} FDA-approved genes for breast cancer.\")\n",
    "print(fda_bc_specific_genes)\n",
    "\n",
    "# Step 2: Filter FDA-approved Breast Cancer Therapy genes and assign subcategories\n",
    "df_fda = df_unique[df_unique['Targeting Category'] == 'FDA-approved Breast Cancer Therapy'].copy()\n",
    "\n",
    "df_fda['FDA_Subcategory'] = df_fda['Gene'].apply(\n",
    "    lambda g: 'FDA-approved for Breast Cancer' if g in fda_bc_specific_genes else 'FDA-approved for Other Cancer/General'\n",
    ")\n",
    "\n",
    "print(\"\\n✅ FDA Subcategory counts:\")\n",
    "print(df_fda['FDA_Subcategory'].value_counts())\n",
    "\n",
    "# Step 3: Combine back with other targeting categories\n",
    "df_other = df_unique[df_unique['Targeting Category'] != 'FDA-approved Breast Cancer Therapy'].copy()\n",
    "\n",
    "df_final = pd.concat([df_fda, df_other], ignore_index=True)\n",
    "\n",
    "# Optional: save the updated dataframe\n",
    "output_path = \"~/Desktop/Cancer_project/ghost-cell-busters/final_therapeutic_subcategories_dynamic.csv\"\n",
    "df_final.to_csv(output_path, index=False)\n",
    "print(f\"\\n✅ Saved file with FDA subcategories: {output_path}\")\n",
    "\n"
   ]
  },
  {
   "cell_type": "code",
   "execution_count": 13,
   "id": "952689f0",
   "metadata": {},
   "outputs": [
    {
     "name": "stdout",
     "output_type": "stream",
     "text": [
      "✅ FDA-approved Breast Cancer Therapy genes (31): ['CDK4', 'ERBB2', 'CCND1', 'CDKN2A', 'FOXO3', 'KRAS', 'FGFR1', 'MDM2', 'NF1', 'AKT1', 'BRCA1', 'HRAS', 'TP53', 'CDK6', 'PTEN', 'MYC', 'BRCA2', 'PIK3CA', 'RB1', 'BCL2', 'MET', 'EGFR', 'NTRK2', 'TSC2', 'STK11', 'FGFR2', 'ATR', 'NOTCH1', 'SMAD4', 'CHEK2', 'ATM']\n",
      "✅ Emerging Breast Cancer Target genes (1): ['CASP8']\n",
      "✅ Lacks Breast Cancer Evidence genes (8): ['CDKN1A', 'BAX', 'NRAS', 'VHL', 'SRC', 'NF2', 'WT1', 'NTRK1']\n"
     ]
    },
    {
     "data": {
      "text/html": [
       "<div>\n",
       "<style scoped>\n",
       "    .dataframe tbody tr th:only-of-type {\n",
       "        vertical-align: middle;\n",
       "    }\n",
       "\n",
       "    .dataframe tbody tr th {\n",
       "        vertical-align: top;\n",
       "    }\n",
       "\n",
       "    .dataframe thead th {\n",
       "        text-align: right;\n",
       "    }\n",
       "</style>\n",
       "<table border=\"1\" class=\"dataframe\">\n",
       "  <thead>\n",
       "    <tr style=\"text-align: right;\">\n",
       "      <th></th>\n",
       "      <th>gene</th>\n",
       "      <th>p_value</th>\n",
       "      <th>log2_fc</th>\n",
       "      <th>mean_diff</th>\n",
       "      <th>Dataset</th>\n",
       "      <th>Gene</th>\n",
       "      <th>DGIdb Status</th>\n",
       "      <th>OpenTargets_Score</th>\n",
       "      <th>BreastCancer_Supported</th>\n",
       "      <th>Strong_BreastCancer_Support</th>\n",
       "      <th>FDA_Approved_Drug</th>\n",
       "      <th>Targeting Category</th>\n",
       "      <th>Therapeutic Subcategory</th>\n",
       "    </tr>\n",
       "  </thead>\n",
       "  <tbody>\n",
       "    <tr>\n",
       "      <th>0</th>\n",
       "      <td>CDK4</td>\n",
       "      <td>0.0</td>\n",
       "      <td>2.428112</td>\n",
       "      <td>0.105542</td>\n",
       "      <td>GSE180286</td>\n",
       "      <td>CDK4</td>\n",
       "      <td>Targeted</td>\n",
       "      <td>0.693263</td>\n",
       "      <td>True</td>\n",
       "      <td>True</td>\n",
       "      <td>Yes</td>\n",
       "      <td>FDA-approved Breast Cancer Therapy</td>\n",
       "      <td>FDA-approved for Breast Cancer</td>\n",
       "    </tr>\n",
       "    <tr>\n",
       "      <th>1</th>\n",
       "      <td>CDKN1A</td>\n",
       "      <td>0.0</td>\n",
       "      <td>3.365022</td>\n",
       "      <td>0.134859</td>\n",
       "      <td>GSE180286</td>\n",
       "      <td>CDKN1A</td>\n",
       "      <td>Targeted</td>\n",
       "      <td>NaN</td>\n",
       "      <td>False</td>\n",
       "      <td>False</td>\n",
       "      <td>Yes</td>\n",
       "      <td>Lacks Breast Cancer Evidence</td>\n",
       "      <td>Lacks Breast Cancer Evidence</td>\n",
       "    </tr>\n",
       "    <tr>\n",
       "      <th>2</th>\n",
       "      <td>ERBB2</td>\n",
       "      <td>0.0</td>\n",
       "      <td>4.833174</td>\n",
       "      <td>0.267847</td>\n",
       "      <td>GSE180286</td>\n",
       "      <td>ERBB2</td>\n",
       "      <td>Targeted</td>\n",
       "      <td>0.820020</td>\n",
       "      <td>True</td>\n",
       "      <td>True</td>\n",
       "      <td>Yes</td>\n",
       "      <td>FDA-approved Breast Cancer Therapy</td>\n",
       "      <td>FDA-approved for Breast Cancer</td>\n",
       "    </tr>\n",
       "    <tr>\n",
       "      <th>3</th>\n",
       "      <td>CCND1</td>\n",
       "      <td>0.0</td>\n",
       "      <td>4.525871</td>\n",
       "      <td>0.483840</td>\n",
       "      <td>GSE180286</td>\n",
       "      <td>CCND1</td>\n",
       "      <td>Targeted</td>\n",
       "      <td>0.568711</td>\n",
       "      <td>True</td>\n",
       "      <td>True</td>\n",
       "      <td>Yes</td>\n",
       "      <td>FDA-approved Breast Cancer Therapy</td>\n",
       "      <td>FDA-approved for Breast Cancer</td>\n",
       "    </tr>\n",
       "    <tr>\n",
       "      <th>4</th>\n",
       "      <td>CDKN2A</td>\n",
       "      <td>0.0</td>\n",
       "      <td>3.926487</td>\n",
       "      <td>0.074630</td>\n",
       "      <td>GSE180286</td>\n",
       "      <td>CDKN2A</td>\n",
       "      <td>Targeted</td>\n",
       "      <td>0.592468</td>\n",
       "      <td>True</td>\n",
       "      <td>True</td>\n",
       "      <td>Yes</td>\n",
       "      <td>FDA-approved Breast Cancer Therapy</td>\n",
       "      <td>FDA-approved for Breast Cancer</td>\n",
       "    </tr>\n",
       "  </tbody>\n",
       "</table>\n",
       "</div>"
      ],
      "text/plain": [
       "     gene  p_value   log2_fc  mean_diff    Dataset    Gene DGIdb Status  \\\n",
       "0    CDK4      0.0  2.428112   0.105542  GSE180286    CDK4     Targeted   \n",
       "1  CDKN1A      0.0  3.365022   0.134859  GSE180286  CDKN1A     Targeted   \n",
       "2   ERBB2      0.0  4.833174   0.267847  GSE180286   ERBB2     Targeted   \n",
       "3   CCND1      0.0  4.525871   0.483840  GSE180286   CCND1     Targeted   \n",
       "4  CDKN2A      0.0  3.926487   0.074630  GSE180286  CDKN2A     Targeted   \n",
       "\n",
       "   OpenTargets_Score  BreastCancer_Supported  Strong_BreastCancer_Support  \\\n",
       "0           0.693263                    True                         True   \n",
       "1                NaN                   False                        False   \n",
       "2           0.820020                    True                         True   \n",
       "3           0.568711                    True                         True   \n",
       "4           0.592468                    True                         True   \n",
       "\n",
       "  FDA_Approved_Drug                  Targeting Category  \\\n",
       "0               Yes  FDA-approved Breast Cancer Therapy   \n",
       "1               Yes        Lacks Breast Cancer Evidence   \n",
       "2               Yes  FDA-approved Breast Cancer Therapy   \n",
       "3               Yes  FDA-approved Breast Cancer Therapy   \n",
       "4               Yes  FDA-approved Breast Cancer Therapy   \n",
       "\n",
       "          Therapeutic Subcategory  \n",
       "0  FDA-approved for Breast Cancer  \n",
       "1    Lacks Breast Cancer Evidence  \n",
       "2  FDA-approved for Breast Cancer  \n",
       "3  FDA-approved for Breast Cancer  \n",
       "4  FDA-approved for Breast Cancer  "
      ]
     },
     "execution_count": 13,
     "metadata": {},
     "output_type": "execute_result"
    }
   ],
   "source": [
    "import pandas as pd\n",
    "import os\n",
    "\n",
    "# Assuming df_unique is your deduplicated dataframe after previous steps\n",
    "# df_unique columns: ['gene', 'Targeting Category', 'Pathway Category', ... other cols]\n",
    "\n",
    "# 1. Dynamically extract gene lists by category\n",
    "fda_bc_genes = df_unique.loc[df_unique[\"Targeting Category\"] == \"FDA-approved Breast Cancer Therapy\", \"gene\"].unique().tolist()\n",
    "emerging_bc_genes = df_unique.loc[df_unique[\"Targeting Category\"] == \"Emerging Breast Cancer Target\", \"gene\"].unique().tolist()\n",
    "lacks_bc_genes = df_unique.loc[df_unique[\"Targeting Category\"] == \"Lacks Breast Cancer Evidence\", \"gene\"].unique().tolist()\n",
    "\n",
    "print(f\"✅ FDA-approved Breast Cancer Therapy genes ({len(fda_bc_genes)}): {fda_bc_genes}\")\n",
    "print(f\"✅ Emerging Breast Cancer Target genes ({len(emerging_bc_genes)}): {emerging_bc_genes}\")\n",
    "print(f\"✅ Lacks Breast Cancer Evidence genes ({len(lacks_bc_genes)}): {lacks_bc_genes}\")\n",
    "\n",
    "# 2. Create a new column FDA_Subcategory with subgroups (example below is simple)\n",
    "def fda_subcategory(row):\n",
    "    if row[\"gene\"] in fda_bc_genes:\n",
    "        return \"FDA-approved for Breast Cancer\"\n",
    "    elif row[\"gene\"] in emerging_bc_genes:\n",
    "        return \"Emerging Breast Cancer Target\"\n",
    "    elif row[\"gene\"] in lacks_bc_genes:\n",
    "        return \"Lacks Breast Cancer Evidence\"\n",
    "    else:\n",
    "        return \"Other\"\n",
    "\n",
    "df_unique[\"Therapeutic Subcategory\"] = df_unique.apply(fda_subcategory, axis=1)\n",
    "df_unique.head(5)\n",
    "# 3. If you have pathway info in df_unique or a master file, merge here (assuming pathway column exists)\n",
    "# If separate master file:\n",
    "# master_df = pd.read_csv(\"path_to_master_with_pathways.csv\")\n",
    "# df_unique = df_unique.merge(master_df[['gene', 'Pathway Category']], on='gene', how='left')\n",
    "\n",
    "# 4. Add drug trial data\n",
    "# Assuming you have a dataframe trial_df with columns: ['gene', 'Breast Cancer Trial'] (True/False)\n",
    "# trial_df = pd.read_csv(\"path_to_trial_info.csv\")\n",
    "# df_unique = df_unique.merge(trial_df, on='gene', how='left')\n",
    "# Fill missing trial info as False\n",
    "# df_unique['Breast Cancer Trial'] = df_unique['Breast Cancer Trial'].fillna(False)\n",
    "\n",
    "# 5. Save the final dataframe\n",
    "# output_path = os.path.expanduser(\"~/Desktop/Cancer_project/ghost-cell-busters/final_therapeutic_subcategories_extended.csv\")\n",
    "# df_unique.to_csv(output_path, index=False)\n",
    "# print(f\"✅ Saved final annotated therapeutic subcategories with pathways and trials to {output_path}\")\n"
   ]
  },
  {
   "cell_type": "code",
   "execution_count": 15,
   "id": "1290668f",
   "metadata": {},
   "outputs": [
    {
     "data": {
      "text/html": [
       "<div>\n",
       "<style scoped>\n",
       "    .dataframe tbody tr th:only-of-type {\n",
       "        vertical-align: middle;\n",
       "    }\n",
       "\n",
       "    .dataframe tbody tr th {\n",
       "        vertical-align: top;\n",
       "    }\n",
       "\n",
       "    .dataframe thead th {\n",
       "        text-align: right;\n",
       "    }\n",
       "</style>\n",
       "<table border=\"1\" class=\"dataframe\">\n",
       "  <thead>\n",
       "    <tr style=\"text-align: right;\">\n",
       "      <th></th>\n",
       "      <th>gene</th>\n",
       "      <th>p_value</th>\n",
       "      <th>log2_fc</th>\n",
       "      <th>mean_diff</th>\n",
       "      <th>Dataset</th>\n",
       "      <th>Gene</th>\n",
       "      <th>DGIdb Status</th>\n",
       "      <th>OpenTargets_Score</th>\n",
       "      <th>BreastCancer_Supported</th>\n",
       "      <th>Strong_BreastCancer_Support</th>\n",
       "      <th>FDA_Approved_Drug</th>\n",
       "      <th>Targeting Category</th>\n",
       "      <th>Therapeutic Subcategory</th>\n",
       "    </tr>\n",
       "  </thead>\n",
       "  <tbody>\n",
       "    <tr>\n",
       "      <th>0</th>\n",
       "      <td>CDK4</td>\n",
       "      <td>0.0</td>\n",
       "      <td>2.428112</td>\n",
       "      <td>0.105542</td>\n",
       "      <td>GSE180286</td>\n",
       "      <td>CDK4</td>\n",
       "      <td>Targeted</td>\n",
       "      <td>0.693263</td>\n",
       "      <td>True</td>\n",
       "      <td>True</td>\n",
       "      <td>Yes</td>\n",
       "      <td>FDA-approved Breast Cancer Therapy</td>\n",
       "      <td>FDA-approved for Breast Cancer</td>\n",
       "    </tr>\n",
       "    <tr>\n",
       "      <th>1</th>\n",
       "      <td>CDKN1A</td>\n",
       "      <td>0.0</td>\n",
       "      <td>3.365022</td>\n",
       "      <td>0.134859</td>\n",
       "      <td>GSE180286</td>\n",
       "      <td>CDKN1A</td>\n",
       "      <td>Targeted</td>\n",
       "      <td>NaN</td>\n",
       "      <td>False</td>\n",
       "      <td>False</td>\n",
       "      <td>Yes</td>\n",
       "      <td>Lacks Breast Cancer Evidence</td>\n",
       "      <td>Lacks Breast Cancer Evidence</td>\n",
       "    </tr>\n",
       "    <tr>\n",
       "      <th>2</th>\n",
       "      <td>ERBB2</td>\n",
       "      <td>0.0</td>\n",
       "      <td>4.833174</td>\n",
       "      <td>0.267847</td>\n",
       "      <td>GSE180286</td>\n",
       "      <td>ERBB2</td>\n",
       "      <td>Targeted</td>\n",
       "      <td>0.820020</td>\n",
       "      <td>True</td>\n",
       "      <td>True</td>\n",
       "      <td>Yes</td>\n",
       "      <td>FDA-approved Breast Cancer Therapy</td>\n",
       "      <td>FDA-approved for Breast Cancer</td>\n",
       "    </tr>\n",
       "    <tr>\n",
       "      <th>3</th>\n",
       "      <td>CCND1</td>\n",
       "      <td>0.0</td>\n",
       "      <td>4.525871</td>\n",
       "      <td>0.483840</td>\n",
       "      <td>GSE180286</td>\n",
       "      <td>CCND1</td>\n",
       "      <td>Targeted</td>\n",
       "      <td>0.568711</td>\n",
       "      <td>True</td>\n",
       "      <td>True</td>\n",
       "      <td>Yes</td>\n",
       "      <td>FDA-approved Breast Cancer Therapy</td>\n",
       "      <td>FDA-approved for Breast Cancer</td>\n",
       "    </tr>\n",
       "    <tr>\n",
       "      <th>4</th>\n",
       "      <td>CDKN2A</td>\n",
       "      <td>0.0</td>\n",
       "      <td>3.926487</td>\n",
       "      <td>0.074630</td>\n",
       "      <td>GSE180286</td>\n",
       "      <td>CDKN2A</td>\n",
       "      <td>Targeted</td>\n",
       "      <td>0.592468</td>\n",
       "      <td>True</td>\n",
       "      <td>True</td>\n",
       "      <td>Yes</td>\n",
       "      <td>FDA-approved Breast Cancer Therapy</td>\n",
       "      <td>FDA-approved for Breast Cancer</td>\n",
       "    </tr>\n",
       "  </tbody>\n",
       "</table>\n",
       "</div>"
      ],
      "text/plain": [
       "     gene  p_value   log2_fc  mean_diff    Dataset    Gene DGIdb Status  \\\n",
       "0    CDK4      0.0  2.428112   0.105542  GSE180286    CDK4     Targeted   \n",
       "1  CDKN1A      0.0  3.365022   0.134859  GSE180286  CDKN1A     Targeted   \n",
       "2   ERBB2      0.0  4.833174   0.267847  GSE180286   ERBB2     Targeted   \n",
       "3   CCND1      0.0  4.525871   0.483840  GSE180286   CCND1     Targeted   \n",
       "4  CDKN2A      0.0  3.926487   0.074630  GSE180286  CDKN2A     Targeted   \n",
       "\n",
       "   OpenTargets_Score  BreastCancer_Supported  Strong_BreastCancer_Support  \\\n",
       "0           0.693263                    True                         True   \n",
       "1                NaN                   False                        False   \n",
       "2           0.820020                    True                         True   \n",
       "3           0.568711                    True                         True   \n",
       "4           0.592468                    True                         True   \n",
       "\n",
       "  FDA_Approved_Drug                  Targeting Category  \\\n",
       "0               Yes  FDA-approved Breast Cancer Therapy   \n",
       "1               Yes        Lacks Breast Cancer Evidence   \n",
       "2               Yes  FDA-approved Breast Cancer Therapy   \n",
       "3               Yes  FDA-approved Breast Cancer Therapy   \n",
       "4               Yes  FDA-approved Breast Cancer Therapy   \n",
       "\n",
       "          Therapeutic Subcategory  \n",
       "0  FDA-approved for Breast Cancer  \n",
       "1    Lacks Breast Cancer Evidence  \n",
       "2  FDA-approved for Breast Cancer  \n",
       "3  FDA-approved for Breast Cancer  \n",
       "4  FDA-approved for Breast Cancer  "
      ]
     },
     "execution_count": 15,
     "metadata": {},
     "output_type": "execute_result"
    }
   ],
   "source": [
    "df_unique.head(5)"
   ]
  },
  {
   "cell_type": "code",
   "execution_count": 16,
   "id": "b1c38634",
   "metadata": {},
   "outputs": [
    {
     "name": "stdout",
     "output_type": "stream",
     "text": [
      "     gene   Clinical_Trial_Status\n",
      "0    CDK4  In Breast Cancer Trial\n",
      "1  CDKN1A  No Breast Cancer Trial\n",
      "2   ERBB2  In Breast Cancer Trial\n",
      "3   CCND1  In Breast Cancer Trial\n",
      "4  CDKN2A  In Breast Cancer Trial\n",
      "5   FOXO3  In Breast Cancer Trial\n",
      "6     BAX  No Breast Cancer Trial\n",
      "7    KRAS  In Breast Cancer Trial\n",
      "8   FGFR1  In Breast Cancer Trial\n",
      "9    MDM2  In Breast Cancer Trial\n"
     ]
    }
   ],
   "source": [
    " ## to infer Clinical Trial Status from your existing columns related to breast cancer relevance, such as the Open Targets breast cancer trial flags\n",
    "# Assume your dataframe is called df (e.g., final therapeutic stratification df)\n",
    "def clinical_trial_status(row):\n",
    "    # Define trial status if strongly breast cancer supported or high OpenTargets score\n",
    "    if pd.notna(row['OpenTargets_Score']) and row['OpenTargets_Score'] >= 0.5:\n",
    "        return \"In Breast Cancer Trial\"\n",
    "    elif row['Strong_BreastCancer_Support']:\n",
    "        return \"In Breast Cancer Trial\"\n",
    "    else:\n",
    "        return \"No Breast Cancer Trial\"\n",
    "\n",
    "df_unique['Clinical_Trial_Status'] = df_unique.apply(clinical_trial_status, axis=1)\n",
    "\n",
    "# Check results\n",
    "print(df_unique[['gene', 'Clinical_Trial_Status']].head(10))\n",
    "\n"
   ]
  },
  {
   "cell_type": "code",
   "execution_count": 17,
   "id": "a5688024",
   "metadata": {},
   "outputs": [
    {
     "name": "stdout",
     "output_type": "stream",
     "text": [
      "✅ Saved annotated file with clinical trial status to ~/Desktop/Cancer_project/ghost-cell-busters/oncogene_therapeutic_stratification_with_trial.csv\n"
     ]
    }
   ],
   "source": [
    "output_path = \"~/Desktop/Cancer_project/ghost-cell-busters/oncogene_therapeutic_stratification_with_trial.csv\"\n",
    "df_unique.to_csv(output_path, index=False)\n",
    "print(f\"✅ Saved annotated file with clinical trial status to {output_path}\")"
   ]
  },
  {
   "cell_type": "code",
   "execution_count": 18,
   "id": "8876905d",
   "metadata": {},
   "outputs": [
    {
     "name": "stdout",
     "output_type": "stream",
     "text": [
      "Index(['gene', 'p_value', 'log2_fc', 'mean_diff', 'Dataset', 'Gene',\n",
      "       'DGIdb Status', 'OpenTargets_Score', 'BreastCancer_Supported',\n",
      "       'Strong_BreastCancer_Support', 'FDA_Approved_Drug',\n",
      "       'Targeting Category', 'Therapeutic Subcategory',\n",
      "       'Clinical_Trial_Status'],\n",
      "      dtype='object')\n",
      "     Gene                  Targeting Category   Clinical_Trial_Status\n",
      "0    CDK4  FDA-approved Breast Cancer Therapy  In Breast Cancer Trial\n",
      "1  CDKN1A        Lacks Breast Cancer Evidence  No Breast Cancer Trial\n",
      "2   ERBB2  FDA-approved Breast Cancer Therapy  In Breast Cancer Trial\n",
      "3   CCND1  FDA-approved Breast Cancer Therapy  In Breast Cancer Trial\n",
      "4  CDKN2A  FDA-approved Breast Cancer Therapy  In Breast Cancer Trial\n",
      "5   FOXO3  FDA-approved Breast Cancer Therapy  In Breast Cancer Trial\n",
      "6     BAX        Lacks Breast Cancer Evidence  No Breast Cancer Trial\n",
      "7    KRAS  FDA-approved Breast Cancer Therapy  In Breast Cancer Trial\n",
      "8   FGFR1  FDA-approved Breast Cancer Therapy  In Breast Cancer Trial\n",
      "9    MDM2  FDA-approved Breast Cancer Therapy  In Breast Cancer Trial\n",
      "                   Targeting Category   Clinical_Trial_Status  counts\n",
      "0       Emerging Breast Cancer Target  In Breast Cancer Trial       1\n",
      "1  FDA-approved Breast Cancer Therapy  In Breast Cancer Trial      31\n",
      "2        Lacks Breast Cancer Evidence  No Breast Cancer Trial       8\n"
     ]
    }
   ],
   "source": [
    "import pandas as pd\n",
    "\n",
    "# Load the annotated file with clinical trial status\n",
    "file_path = \"~/Desktop/Cancer_project/ghost-cell-busters/oncogene_therapeutic_stratification_with_trial.csv\"\n",
    "df = pd.read_csv(file_path)\n",
    "\n",
    "# Quick check of the columns and sample data\n",
    "print(df.columns)\n",
    "print(df[['Gene', 'Targeting Category', 'Clinical_Trial_Status']].head(10))\n",
    "\n",
    "# If needed, fill missing trial status (safe practice)\n",
    "df['Clinical_Trial_Status'] = df['Clinical_Trial_Status'].fillna('No Breast Cancer Trial')\n",
    "\n",
    "# Example: Summary counts by Clinical Trial Status and Targeting Category\n",
    "summary = df.groupby(['Targeting Category', 'Clinical_Trial_Status']).size().reset_index(name='counts')\n",
    "print(summary)\n",
    "\n",
    "# # Save again if any modifications made\n",
    "# df.to_csv(file_path, index=False)\n",
    "# print(f\"✅ Updated file saved at {file_path}\")\n"
   ]
  },
  {
   "cell_type": "code",
   "execution_count": 19,
   "id": "c5cdf944",
   "metadata": {},
   "outputs": [
    {
     "data": {
      "application/vnd.plotly.v1+json": {
       "config": {
        "plotlyServerURL": "https://plot.ly"
       },
       "data": [
        {
         "link": {
          "color": [
           "green",
           "red",
           "orange",
           "blue",
           "gray",
           "blue",
           "blue",
           "blue",
           "blue",
           "gray",
           "blue",
           "blue",
           "blue",
           "blue",
           "blue",
           "blue",
           "blue",
           "blue",
           "blue",
           "blue",
           "blue",
           "blue",
           "blue",
           "gray",
           "gray",
           "blue",
           "blue",
           "blue",
           "blue",
           "gray",
           "blue",
           "gray",
           "blue",
           "blue",
           "blue",
           "blue",
           "blue",
           "blue",
           "blue",
           "blue",
           "blue",
           "gray",
           "gray"
          ],
          "source": [
           0,
           1,
           2,
           3,
           4,
           3,
           3,
           3,
           3,
           4,
           3,
           3,
           3,
           3,
           3,
           3,
           3,
           3,
           3,
           3,
           3,
           3,
           3,
           4,
           4,
           3,
           3,
           3,
           3,
           4,
           3,
           4,
           3,
           3,
           3,
           3,
           3,
           3,
           3,
           3,
           3,
           4,
           4
          ],
          "target": [
           3,
           4,
           3,
           5,
           6,
           7,
           8,
           9,
           10,
           11,
           12,
           13,
           14,
           15,
           16,
           17,
           18,
           19,
           20,
           21,
           22,
           23,
           24,
           25,
           26,
           27,
           28,
           29,
           30,
           31,
           32,
           33,
           34,
           35,
           36,
           37,
           38,
           39,
           40,
           41,
           42,
           43,
           44
          ],
          "value": [
           31,
           8,
           1,
           1,
           1,
           1,
           1,
           1,
           1,
           1,
           1,
           1,
           1,
           1,
           1,
           1,
           1,
           1,
           1,
           1,
           1,
           1,
           1,
           1,
           1,
           1,
           1,
           1,
           1,
           1,
           1,
           1,
           1,
           1,
           1,
           1,
           1,
           1,
           1,
           1,
           1,
           1,
           1
          ]
         },
         "node": {
          "color": [
           "green",
           "red",
           "orange",
           "blue",
           "gray",
           "lightgray",
           "lightgray",
           "lightgray",
           "lightgray",
           "lightgray",
           "lightgray",
           "lightgray",
           "lightgray",
           "lightgray",
           "lightgray",
           "lightgray",
           "lightgray",
           "lightgray",
           "lightgray",
           "lightgray",
           "lightgray",
           "lightgray",
           "lightgray",
           "lightgray",
           "lightgray",
           "lightgray",
           "lightgray",
           "lightgray",
           "lightgray",
           "lightgray",
           "lightgray",
           "lightgray",
           "lightgray",
           "lightgray",
           "lightgray",
           "lightgray",
           "lightgray",
           "lightgray",
           "lightgray",
           "lightgray",
           "lightgray",
           "lightgray",
           "lightgray",
           "lightgray",
           "lightgray"
          ],
          "label": [
           "FDA-approved Breast Cancer Therapy",
           "Lacks Breast Cancer Evidence",
           "Emerging Breast Cancer Target",
           "In Breast Cancer Trial",
           "No Breast Cancer Trial",
           "CDK4",
           "CDKN1A",
           "ERBB2",
           "CCND1",
           "CDKN2A",
           "FOXO3",
           "BAX",
           "KRAS",
           "FGFR1",
           "MDM2",
           "NF1",
           "AKT1",
           "BRCA1",
           "HRAS",
           "TP53",
           "CASP8",
           "CDK6",
           "PTEN",
           "MYC",
           "BRCA2",
           "NRAS",
           "VHL",
           "PIK3CA",
           "RB1",
           "BCL2",
           "MET",
           "SRC",
           "EGFR",
           "NF2",
           "NTRK2",
           "TSC2",
           "STK11",
           "FGFR2",
           "ATR",
           "NOTCH1",
           "SMAD4",
           "CHEK2",
           "ATM",
           "WT1",
           "NTRK1"
          ],
          "line": {
           "color": "black",
           "width": 0.5
          },
          "pad": 15,
          "thickness": 20
         },
         "type": "sankey"
        }
       ],
       "layout": {
        "font": {
         "size": 12
        },
        "height": 900,
        "template": {
         "data": {
          "bar": [
           {
            "error_x": {
             "color": "#2a3f5f"
            },
            "error_y": {
             "color": "#2a3f5f"
            },
            "marker": {
             "line": {
              "color": "#E5ECF6",
              "width": 0.5
             },
             "pattern": {
              "fillmode": "overlay",
              "size": 10,
              "solidity": 0.2
             }
            },
            "type": "bar"
           }
          ],
          "barpolar": [
           {
            "marker": {
             "line": {
              "color": "#E5ECF6",
              "width": 0.5
             },
             "pattern": {
              "fillmode": "overlay",
              "size": 10,
              "solidity": 0.2
             }
            },
            "type": "barpolar"
           }
          ],
          "carpet": [
           {
            "aaxis": {
             "endlinecolor": "#2a3f5f",
             "gridcolor": "white",
             "linecolor": "white",
             "minorgridcolor": "white",
             "startlinecolor": "#2a3f5f"
            },
            "baxis": {
             "endlinecolor": "#2a3f5f",
             "gridcolor": "white",
             "linecolor": "white",
             "minorgridcolor": "white",
             "startlinecolor": "#2a3f5f"
            },
            "type": "carpet"
           }
          ],
          "choropleth": [
           {
            "colorbar": {
             "outlinewidth": 0,
             "ticks": ""
            },
            "type": "choropleth"
           }
          ],
          "contour": [
           {
            "colorbar": {
             "outlinewidth": 0,
             "ticks": ""
            },
            "colorscale": [
             [
              0,
              "#0d0887"
             ],
             [
              0.1111111111111111,
              "#46039f"
             ],
             [
              0.2222222222222222,
              "#7201a8"
             ],
             [
              0.3333333333333333,
              "#9c179e"
             ],
             [
              0.4444444444444444,
              "#bd3786"
             ],
             [
              0.5555555555555556,
              "#d8576b"
             ],
             [
              0.6666666666666666,
              "#ed7953"
             ],
             [
              0.7777777777777778,
              "#fb9f3a"
             ],
             [
              0.8888888888888888,
              "#fdca26"
             ],
             [
              1,
              "#f0f921"
             ]
            ],
            "type": "contour"
           }
          ],
          "contourcarpet": [
           {
            "colorbar": {
             "outlinewidth": 0,
             "ticks": ""
            },
            "type": "contourcarpet"
           }
          ],
          "heatmap": [
           {
            "colorbar": {
             "outlinewidth": 0,
             "ticks": ""
            },
            "colorscale": [
             [
              0,
              "#0d0887"
             ],
             [
              0.1111111111111111,
              "#46039f"
             ],
             [
              0.2222222222222222,
              "#7201a8"
             ],
             [
              0.3333333333333333,
              "#9c179e"
             ],
             [
              0.4444444444444444,
              "#bd3786"
             ],
             [
              0.5555555555555556,
              "#d8576b"
             ],
             [
              0.6666666666666666,
              "#ed7953"
             ],
             [
              0.7777777777777778,
              "#fb9f3a"
             ],
             [
              0.8888888888888888,
              "#fdca26"
             ],
             [
              1,
              "#f0f921"
             ]
            ],
            "type": "heatmap"
           }
          ],
          "histogram": [
           {
            "marker": {
             "pattern": {
              "fillmode": "overlay",
              "size": 10,
              "solidity": 0.2
             }
            },
            "type": "histogram"
           }
          ],
          "histogram2d": [
           {
            "colorbar": {
             "outlinewidth": 0,
             "ticks": ""
            },
            "colorscale": [
             [
              0,
              "#0d0887"
             ],
             [
              0.1111111111111111,
              "#46039f"
             ],
             [
              0.2222222222222222,
              "#7201a8"
             ],
             [
              0.3333333333333333,
              "#9c179e"
             ],
             [
              0.4444444444444444,
              "#bd3786"
             ],
             [
              0.5555555555555556,
              "#d8576b"
             ],
             [
              0.6666666666666666,
              "#ed7953"
             ],
             [
              0.7777777777777778,
              "#fb9f3a"
             ],
             [
              0.8888888888888888,
              "#fdca26"
             ],
             [
              1,
              "#f0f921"
             ]
            ],
            "type": "histogram2d"
           }
          ],
          "histogram2dcontour": [
           {
            "colorbar": {
             "outlinewidth": 0,
             "ticks": ""
            },
            "colorscale": [
             [
              0,
              "#0d0887"
             ],
             [
              0.1111111111111111,
              "#46039f"
             ],
             [
              0.2222222222222222,
              "#7201a8"
             ],
             [
              0.3333333333333333,
              "#9c179e"
             ],
             [
              0.4444444444444444,
              "#bd3786"
             ],
             [
              0.5555555555555556,
              "#d8576b"
             ],
             [
              0.6666666666666666,
              "#ed7953"
             ],
             [
              0.7777777777777778,
              "#fb9f3a"
             ],
             [
              0.8888888888888888,
              "#fdca26"
             ],
             [
              1,
              "#f0f921"
             ]
            ],
            "type": "histogram2dcontour"
           }
          ],
          "mesh3d": [
           {
            "colorbar": {
             "outlinewidth": 0,
             "ticks": ""
            },
            "type": "mesh3d"
           }
          ],
          "parcoords": [
           {
            "line": {
             "colorbar": {
              "outlinewidth": 0,
              "ticks": ""
             }
            },
            "type": "parcoords"
           }
          ],
          "pie": [
           {
            "automargin": true,
            "type": "pie"
           }
          ],
          "scatter": [
           {
            "fillpattern": {
             "fillmode": "overlay",
             "size": 10,
             "solidity": 0.2
            },
            "type": "scatter"
           }
          ],
          "scatter3d": [
           {
            "line": {
             "colorbar": {
              "outlinewidth": 0,
              "ticks": ""
             }
            },
            "marker": {
             "colorbar": {
              "outlinewidth": 0,
              "ticks": ""
             }
            },
            "type": "scatter3d"
           }
          ],
          "scattercarpet": [
           {
            "marker": {
             "colorbar": {
              "outlinewidth": 0,
              "ticks": ""
             }
            },
            "type": "scattercarpet"
           }
          ],
          "scattergeo": [
           {
            "marker": {
             "colorbar": {
              "outlinewidth": 0,
              "ticks": ""
             }
            },
            "type": "scattergeo"
           }
          ],
          "scattergl": [
           {
            "marker": {
             "colorbar": {
              "outlinewidth": 0,
              "ticks": ""
             }
            },
            "type": "scattergl"
           }
          ],
          "scattermap": [
           {
            "marker": {
             "colorbar": {
              "outlinewidth": 0,
              "ticks": ""
             }
            },
            "type": "scattermap"
           }
          ],
          "scattermapbox": [
           {
            "marker": {
             "colorbar": {
              "outlinewidth": 0,
              "ticks": ""
             }
            },
            "type": "scattermapbox"
           }
          ],
          "scatterpolar": [
           {
            "marker": {
             "colorbar": {
              "outlinewidth": 0,
              "ticks": ""
             }
            },
            "type": "scatterpolar"
           }
          ],
          "scatterpolargl": [
           {
            "marker": {
             "colorbar": {
              "outlinewidth": 0,
              "ticks": ""
             }
            },
            "type": "scatterpolargl"
           }
          ],
          "scatterternary": [
           {
            "marker": {
             "colorbar": {
              "outlinewidth": 0,
              "ticks": ""
             }
            },
            "type": "scatterternary"
           }
          ],
          "surface": [
           {
            "colorbar": {
             "outlinewidth": 0,
             "ticks": ""
            },
            "colorscale": [
             [
              0,
              "#0d0887"
             ],
             [
              0.1111111111111111,
              "#46039f"
             ],
             [
              0.2222222222222222,
              "#7201a8"
             ],
             [
              0.3333333333333333,
              "#9c179e"
             ],
             [
              0.4444444444444444,
              "#bd3786"
             ],
             [
              0.5555555555555556,
              "#d8576b"
             ],
             [
              0.6666666666666666,
              "#ed7953"
             ],
             [
              0.7777777777777778,
              "#fb9f3a"
             ],
             [
              0.8888888888888888,
              "#fdca26"
             ],
             [
              1,
              "#f0f921"
             ]
            ],
            "type": "surface"
           }
          ],
          "table": [
           {
            "cells": {
             "fill": {
              "color": "#EBF0F8"
             },
             "line": {
              "color": "white"
             }
            },
            "header": {
             "fill": {
              "color": "#C8D4E3"
             },
             "line": {
              "color": "white"
             }
            },
            "type": "table"
           }
          ]
         },
         "layout": {
          "annotationdefaults": {
           "arrowcolor": "#2a3f5f",
           "arrowhead": 0,
           "arrowwidth": 1
          },
          "autotypenumbers": "strict",
          "coloraxis": {
           "colorbar": {
            "outlinewidth": 0,
            "ticks": ""
           }
          },
          "colorscale": {
           "diverging": [
            [
             0,
             "#8e0152"
            ],
            [
             0.1,
             "#c51b7d"
            ],
            [
             0.2,
             "#de77ae"
            ],
            [
             0.3,
             "#f1b6da"
            ],
            [
             0.4,
             "#fde0ef"
            ],
            [
             0.5,
             "#f7f7f7"
            ],
            [
             0.6,
             "#e6f5d0"
            ],
            [
             0.7,
             "#b8e186"
            ],
            [
             0.8,
             "#7fbc41"
            ],
            [
             0.9,
             "#4d9221"
            ],
            [
             1,
             "#276419"
            ]
           ],
           "sequential": [
            [
             0,
             "#0d0887"
            ],
            [
             0.1111111111111111,
             "#46039f"
            ],
            [
             0.2222222222222222,
             "#7201a8"
            ],
            [
             0.3333333333333333,
             "#9c179e"
            ],
            [
             0.4444444444444444,
             "#bd3786"
            ],
            [
             0.5555555555555556,
             "#d8576b"
            ],
            [
             0.6666666666666666,
             "#ed7953"
            ],
            [
             0.7777777777777778,
             "#fb9f3a"
            ],
            [
             0.8888888888888888,
             "#fdca26"
            ],
            [
             1,
             "#f0f921"
            ]
           ],
           "sequentialminus": [
            [
             0,
             "#0d0887"
            ],
            [
             0.1111111111111111,
             "#46039f"
            ],
            [
             0.2222222222222222,
             "#7201a8"
            ],
            [
             0.3333333333333333,
             "#9c179e"
            ],
            [
             0.4444444444444444,
             "#bd3786"
            ],
            [
             0.5555555555555556,
             "#d8576b"
            ],
            [
             0.6666666666666666,
             "#ed7953"
            ],
            [
             0.7777777777777778,
             "#fb9f3a"
            ],
            [
             0.8888888888888888,
             "#fdca26"
            ],
            [
             1,
             "#f0f921"
            ]
           ]
          },
          "colorway": [
           "#636efa",
           "#EF553B",
           "#00cc96",
           "#ab63fa",
           "#FFA15A",
           "#19d3f3",
           "#FF6692",
           "#B6E880",
           "#FF97FF",
           "#FECB52"
          ],
          "font": {
           "color": "#2a3f5f"
          },
          "geo": {
           "bgcolor": "white",
           "lakecolor": "white",
           "landcolor": "#E5ECF6",
           "showlakes": true,
           "showland": true,
           "subunitcolor": "white"
          },
          "hoverlabel": {
           "align": "left"
          },
          "hovermode": "closest",
          "mapbox": {
           "style": "light"
          },
          "paper_bgcolor": "white",
          "plot_bgcolor": "#E5ECF6",
          "polar": {
           "angularaxis": {
            "gridcolor": "white",
            "linecolor": "white",
            "ticks": ""
           },
           "bgcolor": "#E5ECF6",
           "radialaxis": {
            "gridcolor": "white",
            "linecolor": "white",
            "ticks": ""
           }
          },
          "scene": {
           "xaxis": {
            "backgroundcolor": "#E5ECF6",
            "gridcolor": "white",
            "gridwidth": 2,
            "linecolor": "white",
            "showbackground": true,
            "ticks": "",
            "zerolinecolor": "white"
           },
           "yaxis": {
            "backgroundcolor": "#E5ECF6",
            "gridcolor": "white",
            "gridwidth": 2,
            "linecolor": "white",
            "showbackground": true,
            "ticks": "",
            "zerolinecolor": "white"
           },
           "zaxis": {
            "backgroundcolor": "#E5ECF6",
            "gridcolor": "white",
            "gridwidth": 2,
            "linecolor": "white",
            "showbackground": true,
            "ticks": "",
            "zerolinecolor": "white"
           }
          },
          "shapedefaults": {
           "line": {
            "color": "#2a3f5f"
           }
          },
          "ternary": {
           "aaxis": {
            "gridcolor": "white",
            "linecolor": "white",
            "ticks": ""
           },
           "baxis": {
            "gridcolor": "white",
            "linecolor": "white",
            "ticks": ""
           },
           "bgcolor": "#E5ECF6",
           "caxis": {
            "gridcolor": "white",
            "linecolor": "white",
            "ticks": ""
           }
          },
          "title": {
           "x": 0.05
          },
          "xaxis": {
           "automargin": true,
           "gridcolor": "white",
           "linecolor": "white",
           "ticks": "",
           "title": {
            "standoff": 15
           },
           "zerolinecolor": "white",
           "zerolinewidth": 2
          },
          "yaxis": {
           "automargin": true,
           "gridcolor": "white",
           "linecolor": "white",
           "ticks": "",
           "title": {
            "standoff": 15
           },
           "zerolinecolor": "white",
           "zerolinewidth": 2
          }
         }
        },
        "title": {
         "text": "Therapeutic Categories and Clinical Trial Status Sankey Diagram"
        },
        "width": 1400
       }
      }
     },
     "metadata": {},
     "output_type": "display_data"
    }
   ],
   "source": [
    "## Sankey Plot Code: Therapeutic Categories → Clinical Trial Status → Genes\n",
    "import plotly.graph_objects as go\n",
    "import pandas as pd\n",
    "\n",
    "# Load your annotated dataframe (replace with your actual path if needed)\n",
    "df = pd.read_csv(\"~/Desktop/Cancer_project/ghost-cell-busters/oncogene_therapeutic_stratification_with_trial.csv\")\n",
    "\n",
    "# Deduplicate on gene to avoid repeats in plot\n",
    "df_unique = df.drop_duplicates(subset=[\"gene\", \"Targeting Category\", \"Clinical_Trial_Status\"]).copy()\n",
    "\n",
    "# Define major nodes (categories and trial statuses)\n",
    "categories = df_unique[\"Targeting Category\"].unique().tolist()\n",
    "trial_statuses = df_unique[\"Clinical_Trial_Status\"].unique().tolist()\n",
    "genes = df_unique[\"gene\"].unique().tolist()\n",
    "\n",
    "# Combine all nodes in order\n",
    "label_list = categories + trial_statuses + genes\n",
    "\n",
    "# Create a dict to map label to index\n",
    "label_to_idx = {label: i for i, label in enumerate(label_list)}\n",
    "\n",
    "# Prepare sankey links\n",
    "source = []\n",
    "target = []\n",
    "value = []\n",
    "colors = []\n",
    "\n",
    "# Color palette (you can customize)\n",
    "category_colors = {\n",
    "    \"FDA-approved Breast Cancer Therapy\": \"green\",\n",
    "    \"Emerging Breast Cancer Target\": \"orange\",\n",
    "    \"Lacks Breast Cancer Evidence\": \"red\",\n",
    "}\n",
    "trial_colors = {\n",
    "    \"In Breast Cancer Trial\": \"blue\",\n",
    "    \"No Breast Cancer Trial\": \"gray\",\n",
    "}\n",
    "\n",
    "# 1) Links from Categories → Clinical Trial Status\n",
    "for cat in categories:\n",
    "    for trial in trial_statuses:\n",
    "        count = df_unique[\n",
    "            (df_unique[\"Targeting Category\"] == cat) &\n",
    "            (df_unique[\"Clinical_Trial_Status\"] == trial)\n",
    "        ].shape[0]\n",
    "        if count > 0:\n",
    "            source.append(label_to_idx[cat])\n",
    "            target.append(label_to_idx[trial])\n",
    "            value.append(count)\n",
    "            colors.append(category_colors.get(cat, \"lightgray\"))\n",
    "\n",
    "# 2) Links from Clinical Trial Status → Genes\n",
    "for _, row in df_unique.iterrows():\n",
    "    source.append(label_to_idx[row[\"Clinical_Trial_Status\"]])\n",
    "    target.append(label_to_idx[row[\"gene\"]])\n",
    "    value.append(1)\n",
    "    colors.append(trial_colors.get(row[\"Clinical_Trial_Status\"], \"lightgray\"))\n",
    "\n",
    "# Node colors: categories and trial statuses get colored, genes are light gray\n",
    "node_colors = []\n",
    "for label in label_list:\n",
    "    if label in category_colors:\n",
    "        node_colors.append(category_colors[label])\n",
    "    elif label in trial_colors:\n",
    "        node_colors.append(trial_colors[label])\n",
    "    else:\n",
    "        node_colors.append(\"lightgray\")\n",
    "\n",
    "# Build Sankey figure\n",
    "fig = go.Figure(go.Sankey(\n",
    "    node=dict(\n",
    "        pad=15,\n",
    "        thickness=20,\n",
    "        line=dict(color=\"black\", width=0.5),\n",
    "        label=label_list,\n",
    "        color=node_colors\n",
    "    ),\n",
    "    link=dict(\n",
    "        source=source,\n",
    "        target=target,\n",
    "        value=value,\n",
    "        color=colors\n",
    "    )\n",
    "))\n",
    "\n",
    "fig.update_layout(\n",
    "    title_text=\"Therapeutic Categories and Clinical Trial Status Sankey Diagram\",\n",
    "    font_size=12,\n",
    "    height=900,\n",
    "    width=1400,\n",
    ")\n",
    "\n",
    "fig.show()\n"
   ]
  },
  {
   "cell_type": "code",
   "execution_count": 23,
   "id": "005ae750",
   "metadata": {},
   "outputs": [
    {
     "name": "stdout",
     "output_type": "stream",
     "text": [
      "Updated unique pathway categories:\n",
      "Pathway Category\n",
      "Other                             14\n",
      "RTKs / Growth Factor Signaling     5\n",
      "DNA Repair / Tumor Suppressors     5\n",
      "Cell Cycle & Apoptosis             3\n",
      "RAS Pathway                        3\n",
      "PI3K–MAPK–EGFR                     3\n",
      "CDK4–CCND1 Axis                    2\n",
      "Tumor Suppressor                   2\n",
      "Apoptosis                          1\n",
      "MYC Axis                           1\n",
      "Transcription Factors              1\n",
      "Name: count, dtype: int64\n"
     ]
    }
   ],
   "source": [
    "gene_to_pathway = {\n",
    "    # Original mappings\n",
    "    'CDK4': 'CDK4–CCND1 Axis',\n",
    "    'CCND1': 'CDK4–CCND1 Axis',\n",
    "    'CDKN2A': 'Cell Cycle & Apoptosis',\n",
    "    'TP53': 'DNA Repair / Tumor Suppressors',\n",
    "    'BRCA1': 'DNA Repair / Tumor Suppressors',\n",
    "    'BRCA2': 'DNA Repair / Tumor Suppressors',\n",
    "    'EGFR': 'PI3K–MAPK–EGFR',\n",
    "    'KRAS': 'RAS Pathway',\n",
    "    'NRAS': 'RAS Pathway',\n",
    "    'HRAS': 'RAS Pathway',\n",
    "    'PIK3CA': 'PI3K–MAPK–EGFR',\n",
    "    'PTEN': 'PI3K–MAPK–EGFR',\n",
    "    'MYC': 'MYC Axis',\n",
    "    'FGFR1': 'RTKs / Growth Factor Signaling',\n",
    "    'FGFR2': 'RTKs / Growth Factor Signaling',\n",
    "    'ATM': 'DNA Repair / Tumor Suppressors',\n",
    "    'CHEK2': 'DNA Repair / Tumor Suppressors',\n",
    "    'MDM2': 'Cell Cycle & Apoptosis',\n",
    "    # Additional mappings for “Other” genes\n",
    "    'WT1': 'Transcription Factors',\n",
    "    'CDKN1A': 'Cell Cycle & Apoptosis',\n",
    "    'BAX': 'Apoptosis',\n",
    "    'SRC': 'RTKs / Growth Factor Signaling',\n",
    "    'NF2': 'Tumor Suppressor',\n",
    "    'VHL': 'Tumor Suppressor',\n",
    "    'NTRK1': 'RTKs / Growth Factor Signaling',\n",
    "    'NTRK2': 'RTKs / Growth Factor Signaling',\n",
    "    # Add more as needed\n",
    "}\n",
    "\n",
    "# Now apply this single dictionary to your dataframe\n",
    "df_unique['Pathway Category'] = df_unique['gene'].map(gene_to_pathway).fillna('Other')\n",
    "\n",
    "print(\"Updated unique pathway categories:\")\n",
    "print(df_unique['Pathway Category'].value_counts())\n",
    "\n",
    "\n"
   ]
  },
  {
   "cell_type": "code",
   "execution_count": 24,
   "id": "052e2a6c",
   "metadata": {},
   "outputs": [
    {
     "data": {
      "application/vnd.plotly.v1+json": {
       "config": {
        "plotlyServerURL": "https://plot.ly"
       },
       "data": [
        {
         "link": {
          "hovertemplate": "From %{source.label} to %{target.label}<extra></extra>",
          "source": [
           2,
           0,
           0,
           0,
           0,
           0,
           0,
           0,
           0,
           1,
           1,
           1,
           1,
           1,
           1,
           9,
           6,
           7,
           7,
           12,
           14,
           8,
           13,
           10,
           10,
           11,
           11,
           16,
           15,
           28,
           28,
           28,
           28,
           28,
           28,
           28,
           28,
           28,
           28,
           28,
           28,
           28,
           28,
           28,
           28,
           28,
           28,
           28,
           28,
           28,
           28,
           28,
           28,
           28,
           28,
           28,
           28,
           28,
           28,
           28,
           28,
           29,
           29,
           29,
           29,
           29,
           29,
           29,
           29
          ],
          "target": [
           8,
           6,
           7,
           12,
           14,
           8,
           13,
           10,
           11,
           9,
           7,
           10,
           11,
           16,
           15,
           29,
           28,
           28,
           29,
           28,
           28,
           28,
           28,
           28,
           29,
           28,
           29,
           29,
           29,
           43,
           69,
           65,
           56,
           44,
           51,
           47,
           35,
           32,
           48,
           36,
           68,
           59,
           34,
           40,
           64,
           37,
           45,
           39,
           41,
           57,
           50,
           42,
           66,
           61,
           54,
           49,
           55,
           67,
           63,
           46,
           62,
           38,
           33,
           60,
           52,
           71,
           58,
           53,
           70
          ],
          "value": [
           1,
           2,
           2,
           5,
           1,
           13,
           3,
           2,
           3,
           1,
           1,
           1,
           2,
           1,
           2,
           1,
           2,
           2,
           1,
           5,
           1,
           14,
           3,
           2,
           1,
           3,
           2,
           1,
           2,
           1,
           1,
           1,
           1,
           1,
           1,
           1,
           1,
           1,
           1,
           1,
           1,
           1,
           1,
           1,
           1,
           1,
           1,
           1,
           1,
           1,
           1,
           1,
           1,
           1,
           1,
           1,
           1,
           1,
           1,
           1,
           1,
           1,
           1,
           1,
           1,
           1,
           1,
           1,
           1
          ]
         },
         "node": {
          "color": [
           "#4CAF50",
           "#FFC107",
           "#F44336",
           "#a6cee3",
           "#1f78b4",
           "#b2df8a",
           "#33a02c",
           "#fb9a99",
           "#e31a1c",
           "#fdbf6f",
           "#ff7f00",
           "#cab2d6",
           "#6a3d9a",
           "#ffff99",
           "#66c2a5",
           "#fc8d62",
           "lightgray",
           "lightgray",
           "lightgray",
           "lightgray",
           "lightgray",
           "lightgray",
           "lightgray",
           "lightgray",
           "lightgray",
           "lightgray",
           "lightgray",
           "lightgray",
           "lightgray",
           "lightgray",
           "lightgray",
           "lightgray",
           "lightgray",
           "lightgray",
           "lightgray",
           "lightgray",
           "lightgray",
           "lightgray",
           "lightgray",
           "lightgray",
           "lightgray",
           "lightgray",
           "lightgray",
           "lightgray",
           "lightgray",
           "lightgray",
           "lightgray",
           "lightgray",
           "lightgray",
           "lightgray",
           "lightgray",
           "lightgray",
           "lightgray",
           "lightgray",
           "lightgray",
           "lightgray"
          ],
          "hovertemplate": "%{label}<extra></extra>",
          "label": [
           "FDA-approved Breast Cancer Therapy",
           "Lacks Breast Cancer Evidence",
           "Emerging Breast Cancer Target",
           "CDK4–CCND1 Axis",
           "Cell Cycle & Apoptosis",
           "Other",
           "Apoptosis",
           "RAS Pathway",
           "RTKs / Growth Factor Signaling",
           "DNA Repair / Tumor Suppressors",
           "PI3K–MAPK–EGFR",
           "MYC Axis",
           "Tumor Suppressor",
           "Transcription Factors",
           "In Breast Cancer Trial",
           "No Breast Cancer Trial",
           "CDK4",
           "CDKN1A",
           "ERBB2",
           "CCND1",
           "CDKN2A",
           "FOXO3",
           "BAX",
           "KRAS",
           "FGFR1",
           "MDM2",
           "NF1",
           "AKT1",
           "BRCA1",
           "HRAS",
           "TP53",
           "CASP8",
           "CDK6",
           "PTEN",
           "MYC",
           "BRCA2",
           "NRAS",
           "VHL",
           "PIK3CA",
           "RB1",
           "BCL2",
           "MET",
           "SRC",
           "EGFR",
           "NF2",
           "NTRK2",
           "TSC2",
           "STK11",
           "FGFR2",
           "ATR",
           "NOTCH1",
           "SMAD4",
           "CHEK2",
           "ATM",
           "WT1",
           "NTRK1"
          ],
          "line": {
           "color": "black",
           "width": 0.5
          },
          "pad": 15,
          "thickness": 15
         },
         "type": "sankey"
        }
       ],
       "layout": {
        "font": {
         "size": 12
        },
        "height": 900,
        "template": {
         "data": {
          "bar": [
           {
            "error_x": {
             "color": "#2a3f5f"
            },
            "error_y": {
             "color": "#2a3f5f"
            },
            "marker": {
             "line": {
              "color": "#E5ECF6",
              "width": 0.5
             },
             "pattern": {
              "fillmode": "overlay",
              "size": 10,
              "solidity": 0.2
             }
            },
            "type": "bar"
           }
          ],
          "barpolar": [
           {
            "marker": {
             "line": {
              "color": "#E5ECF6",
              "width": 0.5
             },
             "pattern": {
              "fillmode": "overlay",
              "size": 10,
              "solidity": 0.2
             }
            },
            "type": "barpolar"
           }
          ],
          "carpet": [
           {
            "aaxis": {
             "endlinecolor": "#2a3f5f",
             "gridcolor": "white",
             "linecolor": "white",
             "minorgridcolor": "white",
             "startlinecolor": "#2a3f5f"
            },
            "baxis": {
             "endlinecolor": "#2a3f5f",
             "gridcolor": "white",
             "linecolor": "white",
             "minorgridcolor": "white",
             "startlinecolor": "#2a3f5f"
            },
            "type": "carpet"
           }
          ],
          "choropleth": [
           {
            "colorbar": {
             "outlinewidth": 0,
             "ticks": ""
            },
            "type": "choropleth"
           }
          ],
          "contour": [
           {
            "colorbar": {
             "outlinewidth": 0,
             "ticks": ""
            },
            "colorscale": [
             [
              0,
              "#0d0887"
             ],
             [
              0.1111111111111111,
              "#46039f"
             ],
             [
              0.2222222222222222,
              "#7201a8"
             ],
             [
              0.3333333333333333,
              "#9c179e"
             ],
             [
              0.4444444444444444,
              "#bd3786"
             ],
             [
              0.5555555555555556,
              "#d8576b"
             ],
             [
              0.6666666666666666,
              "#ed7953"
             ],
             [
              0.7777777777777778,
              "#fb9f3a"
             ],
             [
              0.8888888888888888,
              "#fdca26"
             ],
             [
              1,
              "#f0f921"
             ]
            ],
            "type": "contour"
           }
          ],
          "contourcarpet": [
           {
            "colorbar": {
             "outlinewidth": 0,
             "ticks": ""
            },
            "type": "contourcarpet"
           }
          ],
          "heatmap": [
           {
            "colorbar": {
             "outlinewidth": 0,
             "ticks": ""
            },
            "colorscale": [
             [
              0,
              "#0d0887"
             ],
             [
              0.1111111111111111,
              "#46039f"
             ],
             [
              0.2222222222222222,
              "#7201a8"
             ],
             [
              0.3333333333333333,
              "#9c179e"
             ],
             [
              0.4444444444444444,
              "#bd3786"
             ],
             [
              0.5555555555555556,
              "#d8576b"
             ],
             [
              0.6666666666666666,
              "#ed7953"
             ],
             [
              0.7777777777777778,
              "#fb9f3a"
             ],
             [
              0.8888888888888888,
              "#fdca26"
             ],
             [
              1,
              "#f0f921"
             ]
            ],
            "type": "heatmap"
           }
          ],
          "histogram": [
           {
            "marker": {
             "pattern": {
              "fillmode": "overlay",
              "size": 10,
              "solidity": 0.2
             }
            },
            "type": "histogram"
           }
          ],
          "histogram2d": [
           {
            "colorbar": {
             "outlinewidth": 0,
             "ticks": ""
            },
            "colorscale": [
             [
              0,
              "#0d0887"
             ],
             [
              0.1111111111111111,
              "#46039f"
             ],
             [
              0.2222222222222222,
              "#7201a8"
             ],
             [
              0.3333333333333333,
              "#9c179e"
             ],
             [
              0.4444444444444444,
              "#bd3786"
             ],
             [
              0.5555555555555556,
              "#d8576b"
             ],
             [
              0.6666666666666666,
              "#ed7953"
             ],
             [
              0.7777777777777778,
              "#fb9f3a"
             ],
             [
              0.8888888888888888,
              "#fdca26"
             ],
             [
              1,
              "#f0f921"
             ]
            ],
            "type": "histogram2d"
           }
          ],
          "histogram2dcontour": [
           {
            "colorbar": {
             "outlinewidth": 0,
             "ticks": ""
            },
            "colorscale": [
             [
              0,
              "#0d0887"
             ],
             [
              0.1111111111111111,
              "#46039f"
             ],
             [
              0.2222222222222222,
              "#7201a8"
             ],
             [
              0.3333333333333333,
              "#9c179e"
             ],
             [
              0.4444444444444444,
              "#bd3786"
             ],
             [
              0.5555555555555556,
              "#d8576b"
             ],
             [
              0.6666666666666666,
              "#ed7953"
             ],
             [
              0.7777777777777778,
              "#fb9f3a"
             ],
             [
              0.8888888888888888,
              "#fdca26"
             ],
             [
              1,
              "#f0f921"
             ]
            ],
            "type": "histogram2dcontour"
           }
          ],
          "mesh3d": [
           {
            "colorbar": {
             "outlinewidth": 0,
             "ticks": ""
            },
            "type": "mesh3d"
           }
          ],
          "parcoords": [
           {
            "line": {
             "colorbar": {
              "outlinewidth": 0,
              "ticks": ""
             }
            },
            "type": "parcoords"
           }
          ],
          "pie": [
           {
            "automargin": true,
            "type": "pie"
           }
          ],
          "scatter": [
           {
            "fillpattern": {
             "fillmode": "overlay",
             "size": 10,
             "solidity": 0.2
            },
            "type": "scatter"
           }
          ],
          "scatter3d": [
           {
            "line": {
             "colorbar": {
              "outlinewidth": 0,
              "ticks": ""
             }
            },
            "marker": {
             "colorbar": {
              "outlinewidth": 0,
              "ticks": ""
             }
            },
            "type": "scatter3d"
           }
          ],
          "scattercarpet": [
           {
            "marker": {
             "colorbar": {
              "outlinewidth": 0,
              "ticks": ""
             }
            },
            "type": "scattercarpet"
           }
          ],
          "scattergeo": [
           {
            "marker": {
             "colorbar": {
              "outlinewidth": 0,
              "ticks": ""
             }
            },
            "type": "scattergeo"
           }
          ],
          "scattergl": [
           {
            "marker": {
             "colorbar": {
              "outlinewidth": 0,
              "ticks": ""
             }
            },
            "type": "scattergl"
           }
          ],
          "scattermap": [
           {
            "marker": {
             "colorbar": {
              "outlinewidth": 0,
              "ticks": ""
             }
            },
            "type": "scattermap"
           }
          ],
          "scattermapbox": [
           {
            "marker": {
             "colorbar": {
              "outlinewidth": 0,
              "ticks": ""
             }
            },
            "type": "scattermapbox"
           }
          ],
          "scatterpolar": [
           {
            "marker": {
             "colorbar": {
              "outlinewidth": 0,
              "ticks": ""
             }
            },
            "type": "scatterpolar"
           }
          ],
          "scatterpolargl": [
           {
            "marker": {
             "colorbar": {
              "outlinewidth": 0,
              "ticks": ""
             }
            },
            "type": "scatterpolargl"
           }
          ],
          "scatterternary": [
           {
            "marker": {
             "colorbar": {
              "outlinewidth": 0,
              "ticks": ""
             }
            },
            "type": "scatterternary"
           }
          ],
          "surface": [
           {
            "colorbar": {
             "outlinewidth": 0,
             "ticks": ""
            },
            "colorscale": [
             [
              0,
              "#0d0887"
             ],
             [
              0.1111111111111111,
              "#46039f"
             ],
             [
              0.2222222222222222,
              "#7201a8"
             ],
             [
              0.3333333333333333,
              "#9c179e"
             ],
             [
              0.4444444444444444,
              "#bd3786"
             ],
             [
              0.5555555555555556,
              "#d8576b"
             ],
             [
              0.6666666666666666,
              "#ed7953"
             ],
             [
              0.7777777777777778,
              "#fb9f3a"
             ],
             [
              0.8888888888888888,
              "#fdca26"
             ],
             [
              1,
              "#f0f921"
             ]
            ],
            "type": "surface"
           }
          ],
          "table": [
           {
            "cells": {
             "fill": {
              "color": "#EBF0F8"
             },
             "line": {
              "color": "white"
             }
            },
            "header": {
             "fill": {
              "color": "#C8D4E3"
             },
             "line": {
              "color": "white"
             }
            },
            "type": "table"
           }
          ]
         },
         "layout": {
          "annotationdefaults": {
           "arrowcolor": "#2a3f5f",
           "arrowhead": 0,
           "arrowwidth": 1
          },
          "autotypenumbers": "strict",
          "coloraxis": {
           "colorbar": {
            "outlinewidth": 0,
            "ticks": ""
           }
          },
          "colorscale": {
           "diverging": [
            [
             0,
             "#8e0152"
            ],
            [
             0.1,
             "#c51b7d"
            ],
            [
             0.2,
             "#de77ae"
            ],
            [
             0.3,
             "#f1b6da"
            ],
            [
             0.4,
             "#fde0ef"
            ],
            [
             0.5,
             "#f7f7f7"
            ],
            [
             0.6,
             "#e6f5d0"
            ],
            [
             0.7,
             "#b8e186"
            ],
            [
             0.8,
             "#7fbc41"
            ],
            [
             0.9,
             "#4d9221"
            ],
            [
             1,
             "#276419"
            ]
           ],
           "sequential": [
            [
             0,
             "#0d0887"
            ],
            [
             0.1111111111111111,
             "#46039f"
            ],
            [
             0.2222222222222222,
             "#7201a8"
            ],
            [
             0.3333333333333333,
             "#9c179e"
            ],
            [
             0.4444444444444444,
             "#bd3786"
            ],
            [
             0.5555555555555556,
             "#d8576b"
            ],
            [
             0.6666666666666666,
             "#ed7953"
            ],
            [
             0.7777777777777778,
             "#fb9f3a"
            ],
            [
             0.8888888888888888,
             "#fdca26"
            ],
            [
             1,
             "#f0f921"
            ]
           ],
           "sequentialminus": [
            [
             0,
             "#0d0887"
            ],
            [
             0.1111111111111111,
             "#46039f"
            ],
            [
             0.2222222222222222,
             "#7201a8"
            ],
            [
             0.3333333333333333,
             "#9c179e"
            ],
            [
             0.4444444444444444,
             "#bd3786"
            ],
            [
             0.5555555555555556,
             "#d8576b"
            ],
            [
             0.6666666666666666,
             "#ed7953"
            ],
            [
             0.7777777777777778,
             "#fb9f3a"
            ],
            [
             0.8888888888888888,
             "#fdca26"
            ],
            [
             1,
             "#f0f921"
            ]
           ]
          },
          "colorway": [
           "#636efa",
           "#EF553B",
           "#00cc96",
           "#ab63fa",
           "#FFA15A",
           "#19d3f3",
           "#FF6692",
           "#B6E880",
           "#FF97FF",
           "#FECB52"
          ],
          "font": {
           "color": "#2a3f5f"
          },
          "geo": {
           "bgcolor": "white",
           "lakecolor": "white",
           "landcolor": "#E5ECF6",
           "showlakes": true,
           "showland": true,
           "subunitcolor": "white"
          },
          "hoverlabel": {
           "align": "left"
          },
          "hovermode": "closest",
          "mapbox": {
           "style": "light"
          },
          "paper_bgcolor": "white",
          "plot_bgcolor": "#E5ECF6",
          "polar": {
           "angularaxis": {
            "gridcolor": "white",
            "linecolor": "white",
            "ticks": ""
           },
           "bgcolor": "#E5ECF6",
           "radialaxis": {
            "gridcolor": "white",
            "linecolor": "white",
            "ticks": ""
           }
          },
          "scene": {
           "xaxis": {
            "backgroundcolor": "#E5ECF6",
            "gridcolor": "white",
            "gridwidth": 2,
            "linecolor": "white",
            "showbackground": true,
            "ticks": "",
            "zerolinecolor": "white"
           },
           "yaxis": {
            "backgroundcolor": "#E5ECF6",
            "gridcolor": "white",
            "gridwidth": 2,
            "linecolor": "white",
            "showbackground": true,
            "ticks": "",
            "zerolinecolor": "white"
           },
           "zaxis": {
            "backgroundcolor": "#E5ECF6",
            "gridcolor": "white",
            "gridwidth": 2,
            "linecolor": "white",
            "showbackground": true,
            "ticks": "",
            "zerolinecolor": "white"
           }
          },
          "shapedefaults": {
           "line": {
            "color": "#2a3f5f"
           }
          },
          "ternary": {
           "aaxis": {
            "gridcolor": "white",
            "linecolor": "white",
            "ticks": ""
           },
           "baxis": {
            "gridcolor": "white",
            "linecolor": "white",
            "ticks": ""
           },
           "bgcolor": "#E5ECF6",
           "caxis": {
            "gridcolor": "white",
            "linecolor": "white",
            "ticks": ""
           }
          },
          "title": {
           "x": 0.05
          },
          "xaxis": {
           "automargin": true,
           "gridcolor": "white",
           "linecolor": "white",
           "ticks": "",
           "title": {
            "standoff": 15
           },
           "zerolinecolor": "white",
           "zerolinewidth": 2
          },
          "yaxis": {
           "automargin": true,
           "gridcolor": "white",
           "linecolor": "white",
           "ticks": "",
           "title": {
            "standoff": 15
           },
           "zerolinecolor": "white",
           "zerolinewidth": 2
          }
         }
        },
        "title": {
         "text": "4-Layer Sankey Diagram: Targeting Category → Pathway → Clinical Trial Status → Genes"
        },
        "width": 1400
       }
      }
     },
     "metadata": {},
     "output_type": "display_data"
    }
   ],
   "source": [
    "import pandas as pd\n",
    "import plotly.graph_objects as go\n",
    "\n",
    "# Assuming df_unique contains the necessary columns:\n",
    "# 'Targeting Category', 'Pathway Category', 'Clinical_Trial_Status', 'gene'\n",
    "\n",
    "df = df_unique.copy()\n",
    "\n",
    "# Ensure no missing values in pathway or trial columns\n",
    "df['Pathway Category'] = df['Pathway Category'].fillna('Other')\n",
    "df['Clinical_Trial_Status'] = df['Clinical_Trial_Status'].fillna('No Trial Info')\n",
    "\n",
    "# Define node labels for each layer\n",
    "layer1 = df['Targeting Category'].unique().tolist()\n",
    "layer2 = df['Pathway Category'].unique().tolist()\n",
    "layer3 = df['Clinical_Trial_Status'].unique().tolist()\n",
    "layer4 = df['gene'].unique().tolist()\n",
    "\n",
    "# Combine all labels for nodes\n",
    "label_list = layer1 + layer2 + layer3 + layer4\n",
    "\n",
    "# Create mapping from label to index\n",
    "label_to_idx = {label: i for i, label in enumerate(label_list)}\n",
    "\n",
    "# Helper to add links for a pair of layers\n",
    "def add_links(df, source_col, target_col):\n",
    "    links = df.groupby([source_col, target_col]).size().reset_index(name='count')\n",
    "    source_indices = links[source_col].map(label_to_idx).tolist()\n",
    "    target_indices = links[target_col].map(label_to_idx).tolist()\n",
    "    values = links['count'].tolist()\n",
    "    return source_indices, target_indices, values\n",
    "\n",
    "# Links from Layer 1 (Targeting Category) → Layer 2 (Pathway Category)\n",
    "source1, target1, value1 = add_links(df, 'Targeting Category', 'Pathway Category')\n",
    "\n",
    "# Links from Layer 2 (Pathway Category) → Layer 3 (Clinical Trial Status)\n",
    "source2, target2, value2 = add_links(df, 'Pathway Category', 'Clinical_Trial_Status')\n",
    "\n",
    "# Links from Layer 3 (Clinical Trial Status) → Layer 4 (Genes)\n",
    "source3, target3, value3 = add_links(df, 'Clinical_Trial_Status', 'gene')\n",
    "\n",
    "# Adjust indices of targets for layers 2, 3, 4\n",
    "# Since label_list = layer1 + layer2 + layer3 + layer4,\n",
    "# Layer 1 nodes start at 0\n",
    "# Layer 2 nodes start at len(layer1)\n",
    "# Layer 3 nodes start at len(layer1) + len(layer2)\n",
    "# Layer 4 nodes start at len(layer1) + len(layer2) + len(layer3)\n",
    "\n",
    "offset_layer2 = len(layer1)\n",
    "offset_layer3 = offset_layer2 + len(layer2)\n",
    "offset_layer4 = offset_layer3 + len(layer3)\n",
    "\n",
    "target1 = [i + offset_layer2 for i in target1]\n",
    "source2 = [i + offset_layer2 for i in source2]\n",
    "target2 = [i + offset_layer3 for i in target2]\n",
    "source3 = [i + offset_layer3 for i in source3]\n",
    "target3 = [i + offset_layer4 for i in target3]\n",
    "\n",
    "# Combine all links\n",
    "all_sources = source1 + source2 + source3\n",
    "all_targets = target1 + target2 + target3\n",
    "all_values = value1 + value2 + value3\n",
    "\n",
    "# Assign node colors by layer for better visualization\n",
    "color_layer1 = ['#4CAF50', '#FFC107', '#F44336']  # Example colors for Targeting Category\n",
    "color_layer2 = ['#a6cee3', '#1f78b4', '#b2df8a', '#33a02c', '#fb9a99', '#e31a1c', '#fdbf6f', '#ff7f00', '#cab2d6', '#6a3d9a', '#ffff99', '#b15928']\n",
    "color_layer3 = ['#66c2a5', '#fc8d62', '#8da0cb', '#e78ac3']\n",
    "color_layer4 = ['lightgray'] * len(layer4)  # All genes light gray (or customize)\n",
    "\n",
    "node_colors = (\n",
    "    color_layer1[:len(layer1)] +\n",
    "    color_layer2[:len(layer2)] +\n",
    "    color_layer3[:len(layer3)] +\n",
    "    color_layer4\n",
    ")\n",
    "\n",
    "fig = go.Figure(data=[go.Sankey(\n",
    "    node=dict(\n",
    "        pad=15,\n",
    "        thickness=15,\n",
    "        line=dict(color=\"black\", width=0.5),\n",
    "        label=label_list,\n",
    "        color=node_colors,\n",
    "        hovertemplate='%{label}<extra></extra>',\n",
    "    ),\n",
    "    link=dict(\n",
    "        source=all_sources,\n",
    "        target=all_targets,\n",
    "        value=all_values,\n",
    "        # You can add colors or hover templates here if needed\n",
    "        hovertemplate='From %{source.label} to %{target.label}<extra></extra>',\n",
    "    )\n",
    ")])\n",
    "\n",
    "fig.update_layout(\n",
    "    title_text=\"4-Layer Sankey Diagram: Targeting Category → Pathway → Clinical Trial Status → Genes\",\n",
    "    font_size=12,\n",
    "    height=900,\n",
    "    width=1400\n",
    ")\n",
    "\n",
    "fig.show()\n"
   ]
  },
  {
   "cell_type": "code",
   "execution_count": 28,
   "id": "fe23d164",
   "metadata": {},
   "outputs": [
    {
     "data": {
      "application/vnd.plotly.v1+json": {
       "config": {
        "plotlyServerURL": "https://plot.ly"
       },
       "data": [
        {
         "link": {
          "color": "rgba(150,150,150,0.4)",
          "hovertemplate": [
           "1 gene(s)<br>Avg log2FC: 1.10",
           "2 gene(s)<br>Avg log2FC: 3.48",
           "2 gene(s)<br>Avg log2FC: 2.83",
           "5 gene(s)<br>Avg log2FC: 1.40",
           "1 gene(s)<br>Avg log2FC: 0.96",
           "13 gene(s)<br>Avg log2FC: 2.09",
           "3 gene(s)<br>Avg log2FC: 2.13",
           "2 gene(s)<br>Avg log2FC: 1.71",
           "3 gene(s)<br>Avg log2FC: 3.85",
           "1 gene(s)<br>Avg log2FC: 1.53",
           "1 gene(s)<br>Avg log2FC: 3.37",
           "1 gene(s)<br>Avg log2FC: 1.90",
           "2 gene(s)<br>Avg log2FC: 2.87",
           "1 gene(s)<br>Avg log2FC: 3.43",
           "2 gene(s)<br>Avg log2FC: 1.42",
           "1 gene(s)<br>Avg log2FC: 1.53",
           "2 gene(s)<br>Avg log2FC: 3.48",
           "2 gene(s)<br>Avg log2FC: 2.83",
           "1 gene(s)<br>Avg log2FC: 3.37",
           "5 gene(s)<br>Avg log2FC: 1.40",
           "1 gene(s)<br>Avg log2FC: 0.96",
           "14 gene(s)<br>Avg log2FC: 2.02",
           "3 gene(s)<br>Avg log2FC: 2.13",
           "2 gene(s)<br>Avg log2FC: 1.71",
           "1 gene(s)<br>Avg log2FC: 1.90",
           "3 gene(s)<br>Avg log2FC: 3.85",
           "2 gene(s)<br>Avg log2FC: 2.87",
           "1 gene(s)<br>Avg log2FC: 3.43",
           "2 gene(s)<br>Avg log2FC: 1.42",
           "1 gene(s)<br>Avg log2FC: 2.73",
           "1 gene(s)<br>Avg log2FC: -0.10",
           "1 gene(s)<br>Avg log2FC: 0.68",
           "1 gene(s)<br>Avg log2FC: 0.70",
           "1 gene(s)<br>Avg log2FC: 2.53",
           "1 gene(s)<br>Avg log2FC: 1.92",
           "1 gene(s)<br>Avg log2FC: 1.10",
           "1 gene(s)<br>Avg log2FC: 4.53",
           "1 gene(s)<br>Avg log2FC: 2.43",
           "1 gene(s)<br>Avg log2FC: 1.33",
           "1 gene(s)<br>Avg log2FC: 3.93",
           "1 gene(s)<br>Avg log2FC: 1.09",
           "1 gene(s)<br>Avg log2FC: 4.36",
           "1 gene(s)<br>Avg log2FC: 4.83",
           "1 gene(s)<br>Avg log2FC: 3.61",
           "1 gene(s)<br>Avg log2FC: 4.14",
           "1 gene(s)<br>Avg log2FC: 2.27",
           "1 gene(s)<br>Avg log2FC: 2.08",
           "1 gene(s)<br>Avg log2FC: 1.33",
           "1 gene(s)<br>Avg log2FC: 1.73",
           "1 gene(s)<br>Avg log2FC: 5.59",
           "1 gene(s)<br>Avg log2FC: 0.96",
           "1 gene(s)<br>Avg log2FC: 2.28",
           "1 gene(s)<br>Avg log2FC: 1.66",
           "1 gene(s)<br>Avg log2FC: 3.80",
           "1 gene(s)<br>Avg log2FC: 1.18",
           "1 gene(s)<br>Avg log2FC: 0.84",
           "1 gene(s)<br>Avg log2FC: 1.00",
           "1 gene(s)<br>Avg log2FC: 0.82",
           "1 gene(s)<br>Avg log2FC: 1.62",
           "1 gene(s)<br>Avg log2FC: 1.54",
           "1 gene(s)<br>Avg log2FC: 1.65",
           "1 gene(s)<br>Avg log2FC: 1.53",
           "1 gene(s)<br>Avg log2FC: 3.37",
           "1 gene(s)<br>Avg log2FC: 1.72",
           "1 gene(s)<br>Avg log2FC: 1.90",
           "1 gene(s)<br>Avg log2FC: 2.02",
           "1 gene(s)<br>Avg log2FC: 3.73",
           "1 gene(s)<br>Avg log2FC: 1.13",
           "1 gene(s)<br>Avg log2FC: 3.43"
          ],
          "source": [
           2,
           0,
           0,
           0,
           0,
           0,
           0,
           0,
           0,
           1,
           1,
           1,
           1,
           1,
           1,
           6,
           3,
           4,
           4,
           9,
           11,
           5,
           10,
           7,
           7,
           8,
           8,
           13,
           12,
           14,
           14,
           14,
           14,
           14,
           14,
           14,
           14,
           14,
           14,
           14,
           14,
           14,
           14,
           14,
           14,
           14,
           14,
           14,
           14,
           14,
           14,
           14,
           14,
           14,
           14,
           14,
           14,
           14,
           14,
           14,
           14,
           15,
           15,
           15,
           15,
           15,
           15,
           15,
           15
          ],
          "target": [
           5,
           3,
           4,
           9,
           11,
           5,
           10,
           7,
           8,
           6,
           4,
           7,
           8,
           13,
           12,
           15,
           14,
           14,
           15,
           14,
           14,
           14,
           14,
           14,
           15,
           14,
           15,
           15,
           15,
           27,
           53,
           49,
           40,
           28,
           35,
           31,
           19,
           16,
           32,
           20,
           52,
           43,
           18,
           24,
           48,
           21,
           29,
           23,
           25,
           41,
           34,
           26,
           50,
           45,
           38,
           33,
           39,
           51,
           47,
           30,
           46,
           22,
           17,
           44,
           36,
           55,
           42,
           37,
           54
          ],
          "value": [
           1,
           2,
           2,
           5,
           1,
           13,
           3,
           2,
           3,
           1,
           1,
           1,
           2,
           1,
           2,
           1,
           2,
           2,
           1,
           5,
           1,
           14,
           3,
           2,
           1,
           3,
           2,
           1,
           2,
           1,
           1,
           1,
           1,
           1,
           1,
           1,
           1,
           1,
           1,
           1,
           1,
           1,
           1,
           1,
           1,
           1,
           1,
           1,
           1,
           1,
           1,
           1,
           1,
           1,
           1,
           1,
           1,
           1,
           1,
           1,
           1,
           1,
           1,
           1,
           1,
           1,
           1,
           1,
           1
          ]
         },
         "node": {
          "color": [
           "#2ca02c",
           "#d62728",
           "#ff7f0e",
           "#aec7e8",
           "#aec7e8",
           "#aec7e8",
           "#aec7e8",
           "#aec7e8",
           "#aec7e8",
           "#aec7e8",
           "#aec7e8",
           "#aec7e8",
           "#aec7e8",
           "#aec7e8",
           "#c7c7c7",
           "#c7c7c7",
           "#7f7f7f",
           "#7f7f7f",
           "#7f7f7f",
           "#7f7f7f",
           "#7f7f7f",
           "#7f7f7f",
           "#7f7f7f",
           "#7f7f7f",
           "#7f7f7f",
           "#7f7f7f",
           "#7f7f7f",
           "#7f7f7f",
           "#7f7f7f",
           "#7f7f7f",
           "#7f7f7f",
           "#7f7f7f",
           "#7f7f7f",
           "#7f7f7f",
           "#7f7f7f",
           "#7f7f7f",
           "#7f7f7f",
           "#7f7f7f",
           "#7f7f7f",
           "#7f7f7f",
           "#7f7f7f",
           "#7f7f7f",
           "#7f7f7f",
           "#7f7f7f",
           "#7f7f7f",
           "#7f7f7f",
           "#7f7f7f",
           "#7f7f7f",
           "#7f7f7f",
           "#7f7f7f",
           "#7f7f7f",
           "#7f7f7f",
           "#7f7f7f",
           "#7f7f7f",
           "#7f7f7f",
           "#7f7f7f"
          ],
          "hovertemplate": "%{label}<extra></extra>",
          "label": [
           "FDA-approved Breast Cancer Therapy",
           "Lacks Breast Cancer Evidence",
           "Emerging Breast Cancer Target",
           "CDK4–CCND1 Axis",
           "Cell Cycle & Apoptosis",
           "Other",
           "Apoptosis",
           "RAS Pathway",
           "RTKs / Growth Factor Signaling",
           "DNA Repair / Tumor Suppressors",
           "PI3K–MAPK–EGFR",
           "MYC Axis",
           "Tumor Suppressor",
           "Transcription Factors",
           "In Breast Cancer Trial",
           "No Breast Cancer Trial",
           "CDK4",
           "CDKN1A",
           "ERBB2",
           "CCND1",
           "CDKN2A",
           "FOXO3",
           "BAX",
           "KRAS",
           "FGFR1",
           "MDM2",
           "NF1",
           "AKT1",
           "BRCA1",
           "HRAS",
           "TP53",
           "CASP8",
           "CDK6",
           "PTEN",
           "MYC",
           "BRCA2",
           "NRAS",
           "VHL",
           "PIK3CA",
           "RB1",
           "BCL2",
           "MET",
           "SRC",
           "EGFR",
           "NF2",
           "NTRK2",
           "TSC2",
           "STK11",
           "FGFR2",
           "ATR",
           "NOTCH1",
           "SMAD4",
           "CHEK2",
           "ATM",
           "WT1",
           "NTRK1"
          ],
          "line": {
           "color": "black",
           "width": 0.5
          },
          "pad": 15,
          "thickness": 20
         },
         "type": "sankey"
        }
       ],
       "layout": {
        "annotations": [
         {
          "font": {
           "size": 14
          },
          "showarrow": false,
          "text": "<b>Color Legend</b>",
          "x": 0.05,
          "xref": "paper",
          "y": 0.95,
          "yref": "paper"
         },
         {
          "font": {
           "size": 12
          },
          "showarrow": false,
          "text": "<span style=\"color:#2ca02c\">&#9632;</span> FDA-approved Breast Cancer Therapy",
          "x": 0.05,
          "xref": "paper",
          "y": 0.9,
          "yref": "paper"
         },
         {
          "font": {
           "size": 12
          },
          "showarrow": false,
          "text": "<span style=\"color:#ff7f0e\">&#9632;</span> Emerging Breast Cancer Target",
          "x": 0.05,
          "xref": "paper",
          "y": 0.85,
          "yref": "paper"
         },
         {
          "font": {
           "size": 12
          },
          "showarrow": false,
          "text": "<span style=\"color:#d62728\">&#9632;</span> Lacks Breast Cancer Evidence",
          "x": 0.05,
          "xref": "paper",
          "y": 0.8,
          "yref": "paper"
         },
         {
          "font": {
           "size": 12
          },
          "showarrow": false,
          "text": "<span style=\"color:#aec7e8\">&#9632;</span> Pathway Categories",
          "x": 0.05,
          "xref": "paper",
          "y": 0.75,
          "yref": "paper"
         },
         {
          "font": {
           "size": 12
          },
          "showarrow": false,
          "text": "<span style=\"color:#c7c7c7\">&#9632;</span> Clinical Trial Status",
          "x": 0.05,
          "xref": "paper",
          "y": 0.7,
          "yref": "paper"
         },
         {
          "font": {
           "size": 12
          },
          "showarrow": false,
          "text": "<span style=\"color:#7f7f7f\">&#9632;</span> Genes",
          "x": 0.05,
          "xref": "paper",
          "y": 0.65,
          "yref": "paper"
         }
        ],
        "font": {
         "size": 12
        },
        "height": 800,
        "margin": {
         "b": 50,
         "l": 200,
         "r": 50,
         "t": 100
        },
        "template": {
         "data": {
          "bar": [
           {
            "error_x": {
             "color": "#2a3f5f"
            },
            "error_y": {
             "color": "#2a3f5f"
            },
            "marker": {
             "line": {
              "color": "#E5ECF6",
              "width": 0.5
             },
             "pattern": {
              "fillmode": "overlay",
              "size": 10,
              "solidity": 0.2
             }
            },
            "type": "bar"
           }
          ],
          "barpolar": [
           {
            "marker": {
             "line": {
              "color": "#E5ECF6",
              "width": 0.5
             },
             "pattern": {
              "fillmode": "overlay",
              "size": 10,
              "solidity": 0.2
             }
            },
            "type": "barpolar"
           }
          ],
          "carpet": [
           {
            "aaxis": {
             "endlinecolor": "#2a3f5f",
             "gridcolor": "white",
             "linecolor": "white",
             "minorgridcolor": "white",
             "startlinecolor": "#2a3f5f"
            },
            "baxis": {
             "endlinecolor": "#2a3f5f",
             "gridcolor": "white",
             "linecolor": "white",
             "minorgridcolor": "white",
             "startlinecolor": "#2a3f5f"
            },
            "type": "carpet"
           }
          ],
          "choropleth": [
           {
            "colorbar": {
             "outlinewidth": 0,
             "ticks": ""
            },
            "type": "choropleth"
           }
          ],
          "contour": [
           {
            "colorbar": {
             "outlinewidth": 0,
             "ticks": ""
            },
            "colorscale": [
             [
              0,
              "#0d0887"
             ],
             [
              0.1111111111111111,
              "#46039f"
             ],
             [
              0.2222222222222222,
              "#7201a8"
             ],
             [
              0.3333333333333333,
              "#9c179e"
             ],
             [
              0.4444444444444444,
              "#bd3786"
             ],
             [
              0.5555555555555556,
              "#d8576b"
             ],
             [
              0.6666666666666666,
              "#ed7953"
             ],
             [
              0.7777777777777778,
              "#fb9f3a"
             ],
             [
              0.8888888888888888,
              "#fdca26"
             ],
             [
              1,
              "#f0f921"
             ]
            ],
            "type": "contour"
           }
          ],
          "contourcarpet": [
           {
            "colorbar": {
             "outlinewidth": 0,
             "ticks": ""
            },
            "type": "contourcarpet"
           }
          ],
          "heatmap": [
           {
            "colorbar": {
             "outlinewidth": 0,
             "ticks": ""
            },
            "colorscale": [
             [
              0,
              "#0d0887"
             ],
             [
              0.1111111111111111,
              "#46039f"
             ],
             [
              0.2222222222222222,
              "#7201a8"
             ],
             [
              0.3333333333333333,
              "#9c179e"
             ],
             [
              0.4444444444444444,
              "#bd3786"
             ],
             [
              0.5555555555555556,
              "#d8576b"
             ],
             [
              0.6666666666666666,
              "#ed7953"
             ],
             [
              0.7777777777777778,
              "#fb9f3a"
             ],
             [
              0.8888888888888888,
              "#fdca26"
             ],
             [
              1,
              "#f0f921"
             ]
            ],
            "type": "heatmap"
           }
          ],
          "histogram": [
           {
            "marker": {
             "pattern": {
              "fillmode": "overlay",
              "size": 10,
              "solidity": 0.2
             }
            },
            "type": "histogram"
           }
          ],
          "histogram2d": [
           {
            "colorbar": {
             "outlinewidth": 0,
             "ticks": ""
            },
            "colorscale": [
             [
              0,
              "#0d0887"
             ],
             [
              0.1111111111111111,
              "#46039f"
             ],
             [
              0.2222222222222222,
              "#7201a8"
             ],
             [
              0.3333333333333333,
              "#9c179e"
             ],
             [
              0.4444444444444444,
              "#bd3786"
             ],
             [
              0.5555555555555556,
              "#d8576b"
             ],
             [
              0.6666666666666666,
              "#ed7953"
             ],
             [
              0.7777777777777778,
              "#fb9f3a"
             ],
             [
              0.8888888888888888,
              "#fdca26"
             ],
             [
              1,
              "#f0f921"
             ]
            ],
            "type": "histogram2d"
           }
          ],
          "histogram2dcontour": [
           {
            "colorbar": {
             "outlinewidth": 0,
             "ticks": ""
            },
            "colorscale": [
             [
              0,
              "#0d0887"
             ],
             [
              0.1111111111111111,
              "#46039f"
             ],
             [
              0.2222222222222222,
              "#7201a8"
             ],
             [
              0.3333333333333333,
              "#9c179e"
             ],
             [
              0.4444444444444444,
              "#bd3786"
             ],
             [
              0.5555555555555556,
              "#d8576b"
             ],
             [
              0.6666666666666666,
              "#ed7953"
             ],
             [
              0.7777777777777778,
              "#fb9f3a"
             ],
             [
              0.8888888888888888,
              "#fdca26"
             ],
             [
              1,
              "#f0f921"
             ]
            ],
            "type": "histogram2dcontour"
           }
          ],
          "mesh3d": [
           {
            "colorbar": {
             "outlinewidth": 0,
             "ticks": ""
            },
            "type": "mesh3d"
           }
          ],
          "parcoords": [
           {
            "line": {
             "colorbar": {
              "outlinewidth": 0,
              "ticks": ""
             }
            },
            "type": "parcoords"
           }
          ],
          "pie": [
           {
            "automargin": true,
            "type": "pie"
           }
          ],
          "scatter": [
           {
            "fillpattern": {
             "fillmode": "overlay",
             "size": 10,
             "solidity": 0.2
            },
            "type": "scatter"
           }
          ],
          "scatter3d": [
           {
            "line": {
             "colorbar": {
              "outlinewidth": 0,
              "ticks": ""
             }
            },
            "marker": {
             "colorbar": {
              "outlinewidth": 0,
              "ticks": ""
             }
            },
            "type": "scatter3d"
           }
          ],
          "scattercarpet": [
           {
            "marker": {
             "colorbar": {
              "outlinewidth": 0,
              "ticks": ""
             }
            },
            "type": "scattercarpet"
           }
          ],
          "scattergeo": [
           {
            "marker": {
             "colorbar": {
              "outlinewidth": 0,
              "ticks": ""
             }
            },
            "type": "scattergeo"
           }
          ],
          "scattergl": [
           {
            "marker": {
             "colorbar": {
              "outlinewidth": 0,
              "ticks": ""
             }
            },
            "type": "scattergl"
           }
          ],
          "scattermap": [
           {
            "marker": {
             "colorbar": {
              "outlinewidth": 0,
              "ticks": ""
             }
            },
            "type": "scattermap"
           }
          ],
          "scattermapbox": [
           {
            "marker": {
             "colorbar": {
              "outlinewidth": 0,
              "ticks": ""
             }
            },
            "type": "scattermapbox"
           }
          ],
          "scatterpolar": [
           {
            "marker": {
             "colorbar": {
              "outlinewidth": 0,
              "ticks": ""
             }
            },
            "type": "scatterpolar"
           }
          ],
          "scatterpolargl": [
           {
            "marker": {
             "colorbar": {
              "outlinewidth": 0,
              "ticks": ""
             }
            },
            "type": "scatterpolargl"
           }
          ],
          "scatterternary": [
           {
            "marker": {
             "colorbar": {
              "outlinewidth": 0,
              "ticks": ""
             }
            },
            "type": "scatterternary"
           }
          ],
          "surface": [
           {
            "colorbar": {
             "outlinewidth": 0,
             "ticks": ""
            },
            "colorscale": [
             [
              0,
              "#0d0887"
             ],
             [
              0.1111111111111111,
              "#46039f"
             ],
             [
              0.2222222222222222,
              "#7201a8"
             ],
             [
              0.3333333333333333,
              "#9c179e"
             ],
             [
              0.4444444444444444,
              "#bd3786"
             ],
             [
              0.5555555555555556,
              "#d8576b"
             ],
             [
              0.6666666666666666,
              "#ed7953"
             ],
             [
              0.7777777777777778,
              "#fb9f3a"
             ],
             [
              0.8888888888888888,
              "#fdca26"
             ],
             [
              1,
              "#f0f921"
             ]
            ],
            "type": "surface"
           }
          ],
          "table": [
           {
            "cells": {
             "fill": {
              "color": "#EBF0F8"
             },
             "line": {
              "color": "white"
             }
            },
            "header": {
             "fill": {
              "color": "#C8D4E3"
             },
             "line": {
              "color": "white"
             }
            },
            "type": "table"
           }
          ]
         },
         "layout": {
          "annotationdefaults": {
           "arrowcolor": "#2a3f5f",
           "arrowhead": 0,
           "arrowwidth": 1
          },
          "autotypenumbers": "strict",
          "coloraxis": {
           "colorbar": {
            "outlinewidth": 0,
            "ticks": ""
           }
          },
          "colorscale": {
           "diverging": [
            [
             0,
             "#8e0152"
            ],
            [
             0.1,
             "#c51b7d"
            ],
            [
             0.2,
             "#de77ae"
            ],
            [
             0.3,
             "#f1b6da"
            ],
            [
             0.4,
             "#fde0ef"
            ],
            [
             0.5,
             "#f7f7f7"
            ],
            [
             0.6,
             "#e6f5d0"
            ],
            [
             0.7,
             "#b8e186"
            ],
            [
             0.8,
             "#7fbc41"
            ],
            [
             0.9,
             "#4d9221"
            ],
            [
             1,
             "#276419"
            ]
           ],
           "sequential": [
            [
             0,
             "#0d0887"
            ],
            [
             0.1111111111111111,
             "#46039f"
            ],
            [
             0.2222222222222222,
             "#7201a8"
            ],
            [
             0.3333333333333333,
             "#9c179e"
            ],
            [
             0.4444444444444444,
             "#bd3786"
            ],
            [
             0.5555555555555556,
             "#d8576b"
            ],
            [
             0.6666666666666666,
             "#ed7953"
            ],
            [
             0.7777777777777778,
             "#fb9f3a"
            ],
            [
             0.8888888888888888,
             "#fdca26"
            ],
            [
             1,
             "#f0f921"
            ]
           ],
           "sequentialminus": [
            [
             0,
             "#0d0887"
            ],
            [
             0.1111111111111111,
             "#46039f"
            ],
            [
             0.2222222222222222,
             "#7201a8"
            ],
            [
             0.3333333333333333,
             "#9c179e"
            ],
            [
             0.4444444444444444,
             "#bd3786"
            ],
            [
             0.5555555555555556,
             "#d8576b"
            ],
            [
             0.6666666666666666,
             "#ed7953"
            ],
            [
             0.7777777777777778,
             "#fb9f3a"
            ],
            [
             0.8888888888888888,
             "#fdca26"
            ],
            [
             1,
             "#f0f921"
            ]
           ]
          },
          "colorway": [
           "#636efa",
           "#EF553B",
           "#00cc96",
           "#ab63fa",
           "#FFA15A",
           "#19d3f3",
           "#FF6692",
           "#B6E880",
           "#FF97FF",
           "#FECB52"
          ],
          "font": {
           "color": "#2a3f5f"
          },
          "geo": {
           "bgcolor": "white",
           "lakecolor": "white",
           "landcolor": "#E5ECF6",
           "showlakes": true,
           "showland": true,
           "subunitcolor": "white"
          },
          "hoverlabel": {
           "align": "left"
          },
          "hovermode": "closest",
          "mapbox": {
           "style": "light"
          },
          "paper_bgcolor": "white",
          "plot_bgcolor": "#E5ECF6",
          "polar": {
           "angularaxis": {
            "gridcolor": "white",
            "linecolor": "white",
            "ticks": ""
           },
           "bgcolor": "#E5ECF6",
           "radialaxis": {
            "gridcolor": "white",
            "linecolor": "white",
            "ticks": ""
           }
          },
          "scene": {
           "xaxis": {
            "backgroundcolor": "#E5ECF6",
            "gridcolor": "white",
            "gridwidth": 2,
            "linecolor": "white",
            "showbackground": true,
            "ticks": "",
            "zerolinecolor": "white"
           },
           "yaxis": {
            "backgroundcolor": "#E5ECF6",
            "gridcolor": "white",
            "gridwidth": 2,
            "linecolor": "white",
            "showbackground": true,
            "ticks": "",
            "zerolinecolor": "white"
           },
           "zaxis": {
            "backgroundcolor": "#E5ECF6",
            "gridcolor": "white",
            "gridwidth": 2,
            "linecolor": "white",
            "showbackground": true,
            "ticks": "",
            "zerolinecolor": "white"
           }
          },
          "shapedefaults": {
           "line": {
            "color": "#2a3f5f"
           }
          },
          "ternary": {
           "aaxis": {
            "gridcolor": "white",
            "linecolor": "white",
            "ticks": ""
           },
           "baxis": {
            "gridcolor": "white",
            "linecolor": "white",
            "ticks": ""
           },
           "bgcolor": "#E5ECF6",
           "caxis": {
            "gridcolor": "white",
            "linecolor": "white",
            "ticks": ""
           }
          },
          "title": {
           "x": 0.05
          },
          "xaxis": {
           "automargin": true,
           "gridcolor": "white",
           "linecolor": "white",
           "ticks": "",
           "title": {
            "standoff": 15
           },
           "zerolinecolor": "white",
           "zerolinewidth": 2
          },
          "yaxis": {
           "automargin": true,
           "gridcolor": "white",
           "linecolor": "white",
           "ticks": "",
           "title": {
            "standoff": 15
           },
           "zerolinecolor": "white",
           "zerolinewidth": 2
          }
         }
        },
        "title": {
         "text": "🧬 Multi-layer Therapeutic Stratification Sankey Diagram with Interactive Hover and Color Legend"
        },
        "width": 1200
       }
      }
     },
     "metadata": {},
     "output_type": "display_data"
    }
   ],
   "source": [
    "import plotly.graph_objects as go\n",
    "import pandas as pd\n",
    "\n",
    "# Assuming df_unique with columns:\n",
    "# 'Targeting Category', 'Pathway Category', 'Clinical_Trial_Status', 'gene', 'log2_fc'\n",
    "\n",
    "df = df_unique.copy()\n",
    "\n",
    "# Build lists of unique nodes per layer\n",
    "layer1 = df['Targeting Category'].unique().tolist()\n",
    "layer2 = df['Pathway Category'].unique().tolist()\n",
    "layer3 = df['Clinical_Trial_Status'].unique().tolist()\n",
    "layer4 = df['gene'].tolist()  # genes can repeat, will handle later\n",
    "\n",
    "# Unique gene list (for node labels)\n",
    "layer4_unique = list(dict.fromkeys(layer4))\n",
    "\n",
    "# Combine all nodes for Sankey (order matters: Layer1 → Layer2 → Layer3 → Layer4)\n",
    "labels = layer1 + layer2 + layer3 + layer4_unique\n",
    "\n",
    "# Create dict mapping label to index\n",
    "label_to_index = {label: i for i, label in enumerate(labels)}\n",
    "\n",
    "# Function to aggregate counts and mean log2FC between two node sets\n",
    "def link_stats(df, source_col, target_col):\n",
    "    grouped = df.groupby([source_col, target_col])\n",
    "    counts = grouped.size()\n",
    "    mean_log2fc = grouped['log2_fc'].mean()\n",
    "    return counts, mean_log2fc\n",
    "\n",
    "# Layer1 → Layer2 links with stats\n",
    "counts_12, mean_log2fc_12 = link_stats(df, 'Targeting Category', 'Pathway Category')\n",
    "\n",
    "# Layer2 → Layer3 links\n",
    "counts_23, mean_log2fc_23 = link_stats(df, 'Pathway Category', 'Clinical_Trial_Status')\n",
    "\n",
    "# Layer3 → Layer4 links\n",
    "counts_34, mean_log2fc_34 = link_stats(df, 'Clinical_Trial_Status', 'gene')\n",
    "\n",
    "# Helper to build source, target, value, and hover text lists from counts & mean_log2fc\n",
    "def build_link_data(counts, mean_log2fc):\n",
    "    sources = []\n",
    "    targets = []\n",
    "    values = []\n",
    "    hover_texts = []\n",
    "    for (src, tgt), count in counts.items():\n",
    "        sources.append(label_to_index[src])\n",
    "        targets.append(label_to_index[tgt])\n",
    "        values.append(count)\n",
    "        avg_fc = mean_log2fc.loc[(src, tgt)]\n",
    "        hover_texts.append(f'{count} gene(s)<br>Avg log2FC: {avg_fc:.2f}')\n",
    "    return sources, targets, values, hover_texts\n",
    "\n",
    "src_12, tgt_12, val_12, hover_12 = build_link_data(counts_12, mean_log2fc_12)\n",
    "src_23, tgt_23, val_23, hover_23 = build_link_data(counts_23, mean_log2fc_23)\n",
    "src_34, tgt_34, val_34, hover_34 = build_link_data(counts_34, mean_log2fc_34)\n",
    "\n",
    "# Combine all links\n",
    "source = src_12 + src_23 + src_34\n",
    "target = tgt_12 + tgt_23 + tgt_34\n",
    "value = val_12 + val_23 + val_34\n",
    "hover_text = hover_12 + hover_23 + hover_34\n",
    "\n",
    "# Color mapping for nodes (customize colors as desired)\n",
    "category_colors = {\n",
    "    'FDA-approved Breast Cancer Therapy': '#2ca02c',  # green\n",
    "    'Emerging Breast Cancer Target': '#ff7f0e',      # orange\n",
    "    'Lacks Breast Cancer Evidence': '#d62728',       # red\n",
    "}\n",
    "\n",
    "# For pathways, clinical trials, genes — assign grayscale or distinct colors\n",
    "pathway_color = '#aec7e8'\n",
    "trial_color = '#c7c7c7'\n",
    "gene_color = '#7f7f7f'\n",
    "\n",
    "node_colors = []\n",
    "for label in labels:\n",
    "    if label in category_colors:\n",
    "        node_colors.append(category_colors[label])\n",
    "    elif label in layer2:\n",
    "        node_colors.append(pathway_color)\n",
    "    elif label in layer3:\n",
    "        node_colors.append(trial_color)\n",
    "    else:\n",
    "        node_colors.append(gene_color)\n",
    "\n",
    "# Build Sankey diagram\n",
    "fig = go.Figure(data=[go.Sankey(\n",
    "    node=dict(\n",
    "        pad=15,\n",
    "        thickness=20,\n",
    "        line=dict(color='black', width=0.5),\n",
    "        label=labels,\n",
    "        color=node_colors,\n",
    "        hovertemplate='%{label}<extra></extra>'\n",
    "    ),\n",
    "    link=dict(\n",
    "        source=source,\n",
    "        target=target,\n",
    "        value=value,\n",
    "        color='rgba(150,150,150,0.4)',  # subtle link color\n",
    "        hovertemplate=hover_text\n",
    "    )\n",
    ")])\n",
    "\n",
    "fig.update_layout(\n",
    "    title_text='🧬 Multi-layer Therapeutic Stratification Sankey Diagram with Interactive Hover and Color Legend',\n",
    "    font_size=12,\n",
    "    height=800,\n",
    "    width=1200,  # Adjust width as needed\n",
    "    margin=dict(l=200, r=50, t=100, b=50),  # More left margin to make space for legend\n",
    "    annotations=[\n",
    "        dict(x=0.05, y=0.95, xref='paper', yref='paper', showarrow=False,\n",
    "             text='<b>Color Legend</b>', font=dict(size=14)),\n",
    "        dict(x=0.05, y=0.90, xref='paper', yref='paper', showarrow=False,\n",
    "             text=f'<span style=\"color:{category_colors[\"FDA-approved Breast Cancer Therapy\"]}\">&#9632;</span> FDA-approved Breast Cancer Therapy', font=dict(size=12)),\n",
    "        dict(x=0.05, y=0.85, xref='paper', yref='paper', showarrow=False,\n",
    "             text=f'<span style=\"color:{category_colors[\"Emerging Breast Cancer Target\"]}\">&#9632;</span> Emerging Breast Cancer Target', font=dict(size=12)),\n",
    "        dict(x=0.05, y=0.80, xref='paper', yref='paper', showarrow=False,\n",
    "             text=f'<span style=\"color:{category_colors[\"Lacks Breast Cancer Evidence\"]}\">&#9632;</span> Lacks Breast Cancer Evidence', font=dict(size=12)),\n",
    "        dict(x=0.05, y=0.75, xref='paper', yref='paper', showarrow=False,\n",
    "             text=f'<span style=\"color:{pathway_color}\">&#9632;</span> Pathway Categories', font=dict(size=12)),\n",
    "        dict(x=0.05, y=0.70, xref='paper', yref='paper', showarrow=False,\n",
    "             text=f'<span style=\"color:{trial_color}\">&#9632;</span> Clinical Trial Status', font=dict(size=12)),\n",
    "        dict(x=0.05, y=0.65, xref='paper', yref='paper', showarrow=False,\n",
    "             text=f'<span style=\"color:{gene_color}\">&#9632;</span> Genes', font=dict(size=12))\n",
    "    ]\n",
    ")\n",
    "\n",
    "\n",
    "\n",
    "fig.show()\n"
   ]
  },
  {
   "cell_type": "code",
   "execution_count": 29,
   "id": "abcc35d9",
   "metadata": {},
   "outputs": [
    {
     "data": {
      "application/vnd.plotly.v1+json": {
       "config": {
        "plotlyServerURL": "https://plot.ly"
       },
       "data": [
        {
         "link": {
          "color": [
           "lightgray",
           "lightgray",
           "lightgray",
           "lightgray",
           "lightgray",
           "lightgray",
           "lightgray",
           "lightgray",
           "lightgray",
           "lightgray",
           "lightgray",
           "lightgray",
           "lightgray",
           "lightgray",
           "lightgray",
           "lightgray",
           "lightgray",
           "lightgray",
           "lightgray",
           "lightgray",
           "lightgray",
           "lightgray",
           "lightgray",
           "lightgray",
           "lightgray",
           "lightgray",
           "lightgray",
           "lightgray",
           "lightgray",
           "rgba(226,226,255,1.0)",
           "rgba(255,200,200,1.0)",
           "rgba(255,68,68,1.0)",
           "rgba(255,96,96,1.0)",
           "rgba(255,150,150,1.0)",
           "rgba(211,211,255,1.0)",
           "rgba(146,146,255,1.0)",
           "rgba(128,128,255,1.0)",
           "rgba(255,178,178,1.0)",
           "rgba(163,163,255,1.0)",
           "rgba(211,211,255,1.0)",
           "rgba(252,252,255,1.0)",
           "rgba(236,236,255,1.0)",
           "rgba(195,195,255,1.0)",
           "rgba(146,146,255,1.0)",
           "rgba(105,105,255,1.0)",
           "rgba(128,128,255,1.0)",
           "rgba(84,84,255,1.0)",
           "rgba(94,94,255,1.0)",
           "rgba(179,179,255,1.0)",
           "rgba(178,178,255,1.0)",
           "rgba(108,108,255,1.0)",
           "rgba(113,113,255,1.0)",
           "rgba(97,97,255,1.0)",
           "rgba(70,70,255,1.0)",
           "rgba(255,0,0,1.0)",
           "rgba(255,166,166,1.0)",
           "rgba(255,110,110,1.0)",
           "rgba(162,162,255,1.0)",
           "rgba(255,160,160,1.0)",
           "rgba(156,156,255,1.0)",
           "rgba(154,154,255,1.0)",
           "rgba(255,130,130,1.0)",
           "rgba(70,70,255,1.0)",
           "rgba(156,156,255,1.0)",
           "rgba(81,81,255,1.0)",
           "rgba(105,105,255,1.0)",
           "rgba(0,0,255,1.0)",
           "rgba(255,194,194,1.0)",
           "rgba(190,190,255,1.0)"
          ],
          "hovertemplate": "From %{source.label} to %{target.label}<extra></extra>",
          "source": [
           0,
           1,
           0,
           0,
           1,
           0,
           0,
           0,
           2,
           0,
           0,
           1,
           1,
           1,
           1,
           3,
           4,
           5,
           4,
           6,
           7,
           8,
           9,
           10,
           11,
           7,
           12,
           8,
           13,
           14,
           15,
           14,
           14,
           14,
           14,
           15,
           14,
           14,
           14,
           14,
           14,
           14,
           14,
           14,
           14,
           14,
           14,
           14,
           14,
           15,
           15,
           14,
           14,
           14,
           14,
           15,
           14,
           15,
           14,
           14,
           14,
           14,
           14,
           14,
           14,
           14,
           14,
           15,
           15
          ],
          "target": [
           3,
           4,
           5,
           4,
           6,
           7,
           8,
           9,
           5,
           10,
           11,
           7,
           12,
           8,
           13,
           14,
           15,
           14,
           14,
           15,
           14,
           14,
           14,
           14,
           14,
           15,
           15,
           15,
           15,
           16,
           17,
           18,
           19,
           20,
           21,
           22,
           23,
           24,
           25,
           26,
           27,
           28,
           29,
           30,
           31,
           32,
           33,
           34,
           35,
           36,
           37,
           38,
           39,
           40,
           41,
           42,
           43,
           44,
           45,
           46,
           47,
           48,
           49,
           50,
           51,
           52,
           53,
           54,
           55
          ],
          "value": [
           2,
           1,
           13,
           2,
           1,
           2,
           3,
           5,
           1,
           3,
           1,
           1,
           2,
           2,
           1,
           2,
           1,
           14,
           2,
           1,
           2,
           3,
           5,
           3,
           1,
           1,
           2,
           2,
           1,
           1,
           1,
           1,
           1,
           1,
           1,
           1,
           1,
           1,
           1,
           1,
           1,
           1,
           1,
           1,
           1,
           1,
           1,
           1,
           1,
           1,
           1,
           1,
           1,
           1,
           1,
           1,
           1,
           1,
           1,
           1,
           1,
           1,
           1,
           1,
           1,
           1,
           1,
           1,
           1
          ]
         },
         "node": {
          "color": [
           "green",
           "red",
           "orange",
           "lightblue",
           "lightblue",
           "lightblue",
           "lightblue",
           "lightblue",
           "lightblue",
           "lightblue",
           "lightblue",
           "lightblue",
           "lightblue",
           "lightblue",
           "lightgray",
           "lightgray",
           "darkgray",
           "darkgray",
           "darkgray",
           "darkgray",
           "darkgray",
           "darkgray",
           "darkgray",
           "darkgray",
           "darkgray",
           "darkgray",
           "darkgray",
           "darkgray",
           "darkgray",
           "darkgray",
           "darkgray",
           "darkgray",
           "darkgray",
           "darkgray",
           "darkgray",
           "darkgray",
           "darkgray",
           "darkgray",
           "darkgray",
           "darkgray",
           "darkgray",
           "darkgray",
           "darkgray",
           "darkgray",
           "darkgray",
           "darkgray",
           "darkgray",
           "darkgray",
           "darkgray",
           "darkgray",
           "darkgray",
           "darkgray",
           "darkgray",
           "darkgray",
           "darkgray",
           "darkgray"
          ],
          "hovertemplate": "%{label}<extra></extra>",
          "label": [
           "FDA-approved Breast Cancer Therapy",
           "Lacks Breast Cancer Evidence",
           "Emerging Breast Cancer Target",
           "CDK4–CCND1 Axis",
           "Cell Cycle & Apoptosis",
           "Other",
           "Apoptosis",
           "RAS Pathway",
           "RTKs / Growth Factor Signaling",
           "DNA Repair / Tumor Suppressors",
           "PI3K–MAPK–EGFR",
           "MYC Axis",
           "Tumor Suppressor",
           "Transcription Factors",
           "In Breast Cancer Trial",
           "No Breast Cancer Trial",
           "CDK4",
           "CDKN1A",
           "ERBB2",
           "CCND1",
           "CDKN2A",
           "FOXO3",
           "BAX",
           "KRAS",
           "FGFR1",
           "MDM2",
           "NF1",
           "AKT1",
           "BRCA1",
           "HRAS",
           "TP53",
           "CASP8",
           "CDK6",
           "PTEN",
           "MYC",
           "BRCA2",
           "NRAS",
           "VHL",
           "PIK3CA",
           "RB1",
           "BCL2",
           "MET",
           "SRC",
           "EGFR",
           "NF2",
           "NTRK2",
           "TSC2",
           "STK11",
           "FGFR2",
           "ATR",
           "NOTCH1",
           "SMAD4",
           "CHEK2",
           "ATM",
           "WT1",
           "NTRK1"
          ],
          "line": {
           "color": "black",
           "width": 0.5
          },
          "pad": 15,
          "thickness": 15
         },
         "type": "sankey"
        }
       ],
       "layout": {
        "annotations": [
         {
          "font": {
           "size": 14
          },
          "showarrow": false,
          "text": "<b>Color Legend</b>",
          "x": 0.05,
          "xref": "paper",
          "y": 0.95,
          "yref": "paper"
         },
         {
          "font": {
           "size": 12
          },
          "showarrow": false,
          "text": "<span style=\"color:green\">&#9632;</span> FDA-approved Breast Cancer Therapy",
          "x": 0.05,
          "xref": "paper",
          "y": 0.9,
          "yref": "paper"
         },
         {
          "font": {
           "size": 12
          },
          "showarrow": false,
          "text": "<span style=\"color:orange\">&#9632;</span> Emerging Breast Cancer Target",
          "x": 0.05,
          "xref": "paper",
          "y": 0.85,
          "yref": "paper"
         },
         {
          "font": {
           "size": 12
          },
          "showarrow": false,
          "text": "<span style=\"color:red\">&#9632;</span> Lacks Breast Cancer Evidence",
          "x": 0.05,
          "xref": "paper",
          "y": 0.8,
          "yref": "paper"
         },
         {
          "font": {
           "size": 12
          },
          "showarrow": false,
          "text": "<span style=\"color:lightblue\">&#9632;</span> Pathway Categories",
          "x": 0.05,
          "xref": "paper",
          "y": 0.75,
          "yref": "paper"
         },
         {
          "font": {
           "size": 12
          },
          "showarrow": false,
          "text": "<span style=\"color:lightgray\">&#9632;</span> Clinical Trial Status",
          "x": 0.05,
          "xref": "paper",
          "y": 0.7,
          "yref": "paper"
         },
         {
          "font": {
           "size": 12
          },
          "showarrow": false,
          "text": "Gene links colored by log2 Fold Change (red = up, blue = down)",
          "x": 0.05,
          "xref": "paper",
          "y": 0.65,
          "yref": "paper"
         }
        ],
        "font": {
         "size": 12
        },
        "height": 700,
        "template": {
         "data": {
          "bar": [
           {
            "error_x": {
             "color": "#2a3f5f"
            },
            "error_y": {
             "color": "#2a3f5f"
            },
            "marker": {
             "line": {
              "color": "#E5ECF6",
              "width": 0.5
             },
             "pattern": {
              "fillmode": "overlay",
              "size": 10,
              "solidity": 0.2
             }
            },
            "type": "bar"
           }
          ],
          "barpolar": [
           {
            "marker": {
             "line": {
              "color": "#E5ECF6",
              "width": 0.5
             },
             "pattern": {
              "fillmode": "overlay",
              "size": 10,
              "solidity": 0.2
             }
            },
            "type": "barpolar"
           }
          ],
          "carpet": [
           {
            "aaxis": {
             "endlinecolor": "#2a3f5f",
             "gridcolor": "white",
             "linecolor": "white",
             "minorgridcolor": "white",
             "startlinecolor": "#2a3f5f"
            },
            "baxis": {
             "endlinecolor": "#2a3f5f",
             "gridcolor": "white",
             "linecolor": "white",
             "minorgridcolor": "white",
             "startlinecolor": "#2a3f5f"
            },
            "type": "carpet"
           }
          ],
          "choropleth": [
           {
            "colorbar": {
             "outlinewidth": 0,
             "ticks": ""
            },
            "type": "choropleth"
           }
          ],
          "contour": [
           {
            "colorbar": {
             "outlinewidth": 0,
             "ticks": ""
            },
            "colorscale": [
             [
              0,
              "#0d0887"
             ],
             [
              0.1111111111111111,
              "#46039f"
             ],
             [
              0.2222222222222222,
              "#7201a8"
             ],
             [
              0.3333333333333333,
              "#9c179e"
             ],
             [
              0.4444444444444444,
              "#bd3786"
             ],
             [
              0.5555555555555556,
              "#d8576b"
             ],
             [
              0.6666666666666666,
              "#ed7953"
             ],
             [
              0.7777777777777778,
              "#fb9f3a"
             ],
             [
              0.8888888888888888,
              "#fdca26"
             ],
             [
              1,
              "#f0f921"
             ]
            ],
            "type": "contour"
           }
          ],
          "contourcarpet": [
           {
            "colorbar": {
             "outlinewidth": 0,
             "ticks": ""
            },
            "type": "contourcarpet"
           }
          ],
          "heatmap": [
           {
            "colorbar": {
             "outlinewidth": 0,
             "ticks": ""
            },
            "colorscale": [
             [
              0,
              "#0d0887"
             ],
             [
              0.1111111111111111,
              "#46039f"
             ],
             [
              0.2222222222222222,
              "#7201a8"
             ],
             [
              0.3333333333333333,
              "#9c179e"
             ],
             [
              0.4444444444444444,
              "#bd3786"
             ],
             [
              0.5555555555555556,
              "#d8576b"
             ],
             [
              0.6666666666666666,
              "#ed7953"
             ],
             [
              0.7777777777777778,
              "#fb9f3a"
             ],
             [
              0.8888888888888888,
              "#fdca26"
             ],
             [
              1,
              "#f0f921"
             ]
            ],
            "type": "heatmap"
           }
          ],
          "histogram": [
           {
            "marker": {
             "pattern": {
              "fillmode": "overlay",
              "size": 10,
              "solidity": 0.2
             }
            },
            "type": "histogram"
           }
          ],
          "histogram2d": [
           {
            "colorbar": {
             "outlinewidth": 0,
             "ticks": ""
            },
            "colorscale": [
             [
              0,
              "#0d0887"
             ],
             [
              0.1111111111111111,
              "#46039f"
             ],
             [
              0.2222222222222222,
              "#7201a8"
             ],
             [
              0.3333333333333333,
              "#9c179e"
             ],
             [
              0.4444444444444444,
              "#bd3786"
             ],
             [
              0.5555555555555556,
              "#d8576b"
             ],
             [
              0.6666666666666666,
              "#ed7953"
             ],
             [
              0.7777777777777778,
              "#fb9f3a"
             ],
             [
              0.8888888888888888,
              "#fdca26"
             ],
             [
              1,
              "#f0f921"
             ]
            ],
            "type": "histogram2d"
           }
          ],
          "histogram2dcontour": [
           {
            "colorbar": {
             "outlinewidth": 0,
             "ticks": ""
            },
            "colorscale": [
             [
              0,
              "#0d0887"
             ],
             [
              0.1111111111111111,
              "#46039f"
             ],
             [
              0.2222222222222222,
              "#7201a8"
             ],
             [
              0.3333333333333333,
              "#9c179e"
             ],
             [
              0.4444444444444444,
              "#bd3786"
             ],
             [
              0.5555555555555556,
              "#d8576b"
             ],
             [
              0.6666666666666666,
              "#ed7953"
             ],
             [
              0.7777777777777778,
              "#fb9f3a"
             ],
             [
              0.8888888888888888,
              "#fdca26"
             ],
             [
              1,
              "#f0f921"
             ]
            ],
            "type": "histogram2dcontour"
           }
          ],
          "mesh3d": [
           {
            "colorbar": {
             "outlinewidth": 0,
             "ticks": ""
            },
            "type": "mesh3d"
           }
          ],
          "parcoords": [
           {
            "line": {
             "colorbar": {
              "outlinewidth": 0,
              "ticks": ""
             }
            },
            "type": "parcoords"
           }
          ],
          "pie": [
           {
            "automargin": true,
            "type": "pie"
           }
          ],
          "scatter": [
           {
            "fillpattern": {
             "fillmode": "overlay",
             "size": 10,
             "solidity": 0.2
            },
            "type": "scatter"
           }
          ],
          "scatter3d": [
           {
            "line": {
             "colorbar": {
              "outlinewidth": 0,
              "ticks": ""
             }
            },
            "marker": {
             "colorbar": {
              "outlinewidth": 0,
              "ticks": ""
             }
            },
            "type": "scatter3d"
           }
          ],
          "scattercarpet": [
           {
            "marker": {
             "colorbar": {
              "outlinewidth": 0,
              "ticks": ""
             }
            },
            "type": "scattercarpet"
           }
          ],
          "scattergeo": [
           {
            "marker": {
             "colorbar": {
              "outlinewidth": 0,
              "ticks": ""
             }
            },
            "type": "scattergeo"
           }
          ],
          "scattergl": [
           {
            "marker": {
             "colorbar": {
              "outlinewidth": 0,
              "ticks": ""
             }
            },
            "type": "scattergl"
           }
          ],
          "scattermap": [
           {
            "marker": {
             "colorbar": {
              "outlinewidth": 0,
              "ticks": ""
             }
            },
            "type": "scattermap"
           }
          ],
          "scattermapbox": [
           {
            "marker": {
             "colorbar": {
              "outlinewidth": 0,
              "ticks": ""
             }
            },
            "type": "scattermapbox"
           }
          ],
          "scatterpolar": [
           {
            "marker": {
             "colorbar": {
              "outlinewidth": 0,
              "ticks": ""
             }
            },
            "type": "scatterpolar"
           }
          ],
          "scatterpolargl": [
           {
            "marker": {
             "colorbar": {
              "outlinewidth": 0,
              "ticks": ""
             }
            },
            "type": "scatterpolargl"
           }
          ],
          "scatterternary": [
           {
            "marker": {
             "colorbar": {
              "outlinewidth": 0,
              "ticks": ""
             }
            },
            "type": "scatterternary"
           }
          ],
          "surface": [
           {
            "colorbar": {
             "outlinewidth": 0,
             "ticks": ""
            },
            "colorscale": [
             [
              0,
              "#0d0887"
             ],
             [
              0.1111111111111111,
              "#46039f"
             ],
             [
              0.2222222222222222,
              "#7201a8"
             ],
             [
              0.3333333333333333,
              "#9c179e"
             ],
             [
              0.4444444444444444,
              "#bd3786"
             ],
             [
              0.5555555555555556,
              "#d8576b"
             ],
             [
              0.6666666666666666,
              "#ed7953"
             ],
             [
              0.7777777777777778,
              "#fb9f3a"
             ],
             [
              0.8888888888888888,
              "#fdca26"
             ],
             [
              1,
              "#f0f921"
             ]
            ],
            "type": "surface"
           }
          ],
          "table": [
           {
            "cells": {
             "fill": {
              "color": "#EBF0F8"
             },
             "line": {
              "color": "white"
             }
            },
            "header": {
             "fill": {
              "color": "#C8D4E3"
             },
             "line": {
              "color": "white"
             }
            },
            "type": "table"
           }
          ]
         },
         "layout": {
          "annotationdefaults": {
           "arrowcolor": "#2a3f5f",
           "arrowhead": 0,
           "arrowwidth": 1
          },
          "autotypenumbers": "strict",
          "coloraxis": {
           "colorbar": {
            "outlinewidth": 0,
            "ticks": ""
           }
          },
          "colorscale": {
           "diverging": [
            [
             0,
             "#8e0152"
            ],
            [
             0.1,
             "#c51b7d"
            ],
            [
             0.2,
             "#de77ae"
            ],
            [
             0.3,
             "#f1b6da"
            ],
            [
             0.4,
             "#fde0ef"
            ],
            [
             0.5,
             "#f7f7f7"
            ],
            [
             0.6,
             "#e6f5d0"
            ],
            [
             0.7,
             "#b8e186"
            ],
            [
             0.8,
             "#7fbc41"
            ],
            [
             0.9,
             "#4d9221"
            ],
            [
             1,
             "#276419"
            ]
           ],
           "sequential": [
            [
             0,
             "#0d0887"
            ],
            [
             0.1111111111111111,
             "#46039f"
            ],
            [
             0.2222222222222222,
             "#7201a8"
            ],
            [
             0.3333333333333333,
             "#9c179e"
            ],
            [
             0.4444444444444444,
             "#bd3786"
            ],
            [
             0.5555555555555556,
             "#d8576b"
            ],
            [
             0.6666666666666666,
             "#ed7953"
            ],
            [
             0.7777777777777778,
             "#fb9f3a"
            ],
            [
             0.8888888888888888,
             "#fdca26"
            ],
            [
             1,
             "#f0f921"
            ]
           ],
           "sequentialminus": [
            [
             0,
             "#0d0887"
            ],
            [
             0.1111111111111111,
             "#46039f"
            ],
            [
             0.2222222222222222,
             "#7201a8"
            ],
            [
             0.3333333333333333,
             "#9c179e"
            ],
            [
             0.4444444444444444,
             "#bd3786"
            ],
            [
             0.5555555555555556,
             "#d8576b"
            ],
            [
             0.6666666666666666,
             "#ed7953"
            ],
            [
             0.7777777777777778,
             "#fb9f3a"
            ],
            [
             0.8888888888888888,
             "#fdca26"
            ],
            [
             1,
             "#f0f921"
            ]
           ]
          },
          "colorway": [
           "#636efa",
           "#EF553B",
           "#00cc96",
           "#ab63fa",
           "#FFA15A",
           "#19d3f3",
           "#FF6692",
           "#B6E880",
           "#FF97FF",
           "#FECB52"
          ],
          "font": {
           "color": "#2a3f5f"
          },
          "geo": {
           "bgcolor": "white",
           "lakecolor": "white",
           "landcolor": "#E5ECF6",
           "showlakes": true,
           "showland": true,
           "subunitcolor": "white"
          },
          "hoverlabel": {
           "align": "left"
          },
          "hovermode": "closest",
          "mapbox": {
           "style": "light"
          },
          "paper_bgcolor": "white",
          "plot_bgcolor": "#E5ECF6",
          "polar": {
           "angularaxis": {
            "gridcolor": "white",
            "linecolor": "white",
            "ticks": ""
           },
           "bgcolor": "#E5ECF6",
           "radialaxis": {
            "gridcolor": "white",
            "linecolor": "white",
            "ticks": ""
           }
          },
          "scene": {
           "xaxis": {
            "backgroundcolor": "#E5ECF6",
            "gridcolor": "white",
            "gridwidth": 2,
            "linecolor": "white",
            "showbackground": true,
            "ticks": "",
            "zerolinecolor": "white"
           },
           "yaxis": {
            "backgroundcolor": "#E5ECF6",
            "gridcolor": "white",
            "gridwidth": 2,
            "linecolor": "white",
            "showbackground": true,
            "ticks": "",
            "zerolinecolor": "white"
           },
           "zaxis": {
            "backgroundcolor": "#E5ECF6",
            "gridcolor": "white",
            "gridwidth": 2,
            "linecolor": "white",
            "showbackground": true,
            "ticks": "",
            "zerolinecolor": "white"
           }
          },
          "shapedefaults": {
           "line": {
            "color": "#2a3f5f"
           }
          },
          "ternary": {
           "aaxis": {
            "gridcolor": "white",
            "linecolor": "white",
            "ticks": ""
           },
           "baxis": {
            "gridcolor": "white",
            "linecolor": "white",
            "ticks": ""
           },
           "bgcolor": "#E5ECF6",
           "caxis": {
            "gridcolor": "white",
            "linecolor": "white",
            "ticks": ""
           }
          },
          "title": {
           "x": 0.05
          },
          "xaxis": {
           "automargin": true,
           "gridcolor": "white",
           "linecolor": "white",
           "ticks": "",
           "title": {
            "standoff": 15
           },
           "zerolinecolor": "white",
           "zerolinewidth": 2
          },
          "yaxis": {
           "automargin": true,
           "gridcolor": "white",
           "linecolor": "white",
           "ticks": "",
           "title": {
            "standoff": 15
           },
           "zerolinecolor": "white",
           "zerolinewidth": 2
          }
         }
        },
        "title": {
         "text": "🧬 Multi-layer Therapeutic Stratification Sankey with Gene Expression Coloring"
        },
        "width": 1200
       }
      }
     },
     "metadata": {},
     "output_type": "display_data"
    }
   ],
   "source": [
    "import plotly.graph_objects as go\n",
    "import matplotlib.pyplot as plt  # for color mapping\n",
    "import matplotlib.colors as mcolors\n",
    "\n",
    "# Normalize log2_fc for color mapping (assuming df_unique with 'log2_fc' column)\n",
    "log2_fc = df_unique['log2_fc']\n",
    "norm = plt.Normalize(vmin=log2_fc.min(), vmax=log2_fc.max())\n",
    "cmap = plt.cm.bwr  # blue-white-red colormap (red = upregulated, blue = downregulated)\n",
    "\n",
    "def map_log2fc_to_color(value):\n",
    "    rgba = cmap(norm(value))\n",
    "    # Convert matplotlib rgba to 'rgba(r,g,b,a)' string format for plotly\n",
    "    return f'rgba({int(rgba[0]*255)},{int(rgba[1]*255)},{int(rgba[2]*255)},{rgba[3]})'\n",
    "\n",
    "# Prepare label list and mapping as before\n",
    "targeting_categories = df_unique['Targeting Category'].unique().tolist()\n",
    "pathways = df_unique['Pathway Category'].unique().tolist()\n",
    "trial_statuses = df_unique['Clinical_Trial_Status'].unique().tolist()\n",
    "genes = df_unique['gene'].unique().tolist()\n",
    "\n",
    "label_list = targeting_categories + pathways + trial_statuses + genes\n",
    "label_to_index = {label: idx for idx, label in enumerate(label_list)}\n",
    "\n",
    "source = []\n",
    "target = []\n",
    "value = []\n",
    "link_colors = []\n",
    "\n",
    "# Layer 1 -> Layer 2: Targeting Category to Pathway Category\n",
    "for cat, pathway in df_unique[['Targeting Category', 'Pathway Category']].drop_duplicates().values:\n",
    "    source.append(label_to_index[cat])\n",
    "    target.append(label_to_index[pathway])\n",
    "    value.append(df_unique[(df_unique['Targeting Category'] == cat) & (df_unique['Pathway Category'] == pathway)].shape[0])\n",
    "    link_colors.append('lightgray')  # neutral color for upper layers\n",
    "\n",
    "# Layer 2 -> Layer 3: Pathway Category to Clinical Trial Status\n",
    "for pathway, trial in df_unique[['Pathway Category', 'Clinical_Trial_Status']].drop_duplicates().values:\n",
    "    source.append(label_to_index[pathway])\n",
    "    target.append(label_to_index[trial])\n",
    "    value.append(df_unique[(df_unique['Pathway Category'] == pathway) & (df_unique['Clinical_Trial_Status'] == trial)].shape[0])\n",
    "    link_colors.append('lightgray')  # neutral color\n",
    "\n",
    "# Layer 3 -> Layer 4: Clinical Trial Status to Genes (color by log2_fc)\n",
    "for _, row in df_unique.iterrows():\n",
    "    source.append(label_to_index[row['Clinical_Trial_Status']])\n",
    "    target.append(label_to_index[row['gene']])\n",
    "    value.append(1)  # each gene counts as 1 link\n",
    "    link_colors.append(map_log2fc_to_color(row['log2_fc']))\n",
    "\n",
    "# Node colors (same as before, or customize)\n",
    "cat_colors = {\n",
    "    'FDA-approved Breast Cancer Therapy': 'green',\n",
    "    'Emerging Breast Cancer Target': 'orange',\n",
    "    'Lacks Breast Cancer Evidence': 'red'\n",
    "}\n",
    "\n",
    "node_colors = []\n",
    "for label in label_list:\n",
    "    if label in cat_colors:\n",
    "        node_colors.append(cat_colors[label])\n",
    "    elif label in pathways:\n",
    "        node_colors.append('lightblue')  # pathway nodes\n",
    "    elif label in trial_statuses:\n",
    "        node_colors.append('lightgray')  # clinical trial status nodes\n",
    "    else:\n",
    "        node_colors.append('darkgray')  # genes node color\n",
    "\n",
    "fig = go.Figure(data=[go.Sankey(\n",
    "    node=dict(\n",
    "        pad=15,\n",
    "        thickness=15,\n",
    "        line=dict(color='black', width=0.5),\n",
    "        label=label_list,\n",
    "        color=node_colors,\n",
    "        hovertemplate='%{label}<extra></extra>'\n",
    "    ),\n",
    "    link=dict(\n",
    "        source=source,\n",
    "        target=target,\n",
    "        value=value,\n",
    "        color=link_colors,\n",
    "        hovertemplate='From %{source.label} to %{target.label}<extra></extra>'\n",
    "    )\n",
    ")])\n",
    "\n",
    "# Legend annotations (adjust as needed)\n",
    "fig.update_layout(\n",
    "    title_text='🧬 Multi-layer Therapeutic Stratification Sankey with Gene Expression Coloring',\n",
    "    font_size=12,\n",
    "    height=700,\n",
    "    width=1200,\n",
    "    annotations=[\n",
    "        dict(x=0.05, y=0.95, xref='paper', yref='paper', showarrow=False,\n",
    "             text='<b>Color Legend</b>', font=dict(size=14)),\n",
    "        dict(x=0.05, y=0.90, xref='paper', yref='paper', showarrow=False,\n",
    "             text='<span style=\"color:green\">&#9632;</span> FDA-approved Breast Cancer Therapy', font=dict(size=12)),\n",
    "        dict(x=0.05, y=0.85, xref='paper', yref='paper', showarrow=False,\n",
    "             text='<span style=\"color:orange\">&#9632;</span> Emerging Breast Cancer Target', font=dict(size=12)),\n",
    "        dict(x=0.05, y=0.80, xref='paper', yref='paper', showarrow=False,\n",
    "             text='<span style=\"color:red\">&#9632;</span> Lacks Breast Cancer Evidence', font=dict(size=12)),\n",
    "        dict(x=0.05, y=0.75, xref='paper', yref='paper', showarrow=False,\n",
    "             text='<span style=\"color:lightblue\">&#9632;</span> Pathway Categories', font=dict(size=12)),\n",
    "        dict(x=0.05, y=0.70, xref='paper', yref='paper', showarrow=False,\n",
    "             text='<span style=\"color:lightgray\">&#9632;</span> Clinical Trial Status', font=dict(size=12)),\n",
    "        dict(x=0.05, y=0.65, xref='paper', yref='paper', showarrow=False,\n",
    "             text='Gene links colored by log2 Fold Change (red = up, blue = down)', font=dict(size=12))\n",
    "    ]\n",
    ")\n",
    "\n",
    "fig.show()\n"
   ]
  },
  {
   "cell_type": "code",
   "execution_count": 30,
   "id": "7f5ce0eb",
   "metadata": {},
   "outputs": [
    {
     "data": {
      "application/vnd.plotly.v1+json": {
       "config": {
        "plotlyServerURL": "https://plot.ly"
       },
       "data": [
        {
         "link": {
          "color": [
           "green",
           "red",
           "green",
           "green",
           "green",
           "green",
           "red",
           "green",
           "green",
           "green",
           "green",
           "green",
           "green",
           "green",
           "green",
           "orange",
           "green",
           "green",
           "green",
           "green",
           "red",
           "red",
           "green",
           "green",
           "green",
           "green",
           "red",
           "green",
           "red",
           "green",
           "green",
           "green",
           "green",
           "green",
           "green",
           "green",
           "green",
           "green",
           "red",
           "red",
           "#aec7e8",
           "#ffbb78",
           "#98df8a",
           "#aec7e8",
           "#ffbb78",
           "#98df8a",
           "#ff9896",
           "#c5b0d5",
           "#c49c94",
           "#ffbb78",
           "#98df8a",
           "#98df8a",
           "#f7b6d2",
           "#c5b0d5",
           "#f7b6d2",
           "#98df8a",
           "#98df8a",
           "#dbdb8d",
           "#9edae5",
           "#f7b6d2",
           "#c5b0d5",
           "#393b79",
           "#dbdb8d",
           "#98df8a",
           "#98df8a",
           "#98df8a",
           "#c49c94",
           "#dbdb8d",
           "#393b79",
           "#c49c94",
           "#98df8a",
           "#98df8a",
           "#c49c94",
           "#98df8a",
           "#98df8a",
           "#98df8a",
           "#f7b6d2",
           "#f7b6d2",
           "#aec7e8",
           "#c49c94",
           "rgba(182,0,72,0.8)",
           "rgba(204,0,50,0.8)",
           "rgba(237,0,17,0.8)",
           "rgba(230,0,24,0.8)",
           "rgba(216,0,38,0.8)",
           "rgba(179,0,75,0.8)",
           "rgba(162,0,92,0.8)",
           "rgba(157,0,97,0.8)",
           "rgba(209,0,45,0.8)",
           "rgba(166,0,88,0.8)",
           "rgba(179,0,75,0.8)",
           "rgba(189,0,65,0.8)",
           "rgba(185,0,69,0.8)",
           "rgba(174,0,80,0.8)",
           "rgba(162,0,92,0.8)",
           "rgba(152,0,102,0.8)",
           "rgba(157,0,97,0.8)",
           "rgba(146,0,108,0.8)",
           "rgba(149,0,105,0.8)",
           "rgba(171,0,83,0.8)",
           "rgba(170,0,84,0.8)",
           "rgba(153,0,101,0.8)",
           "rgba(154,0,100,0.8)",
           "rgba(150,0,104,0.8)",
           "rgba(143,0,111,0.8)",
           "rgba(255,0,0,0.8)",
           "rgba(212,0,42,0.8)",
           "rgba(226,0,28,0.8)",
           "rgba(166,0,88,0.8)",
           "rgba(214,0,40,0.8)",
           "rgba(165,0,89,0.8)",
           "rgba(164,0,90,0.8)",
           "rgba(221,0,33,0.8)",
           "rgba(143,0,111,0.8)",
           "rgba(165,0,89,0.8)",
           "rgba(146,0,108,0.8)",
           "rgba(152,0,102,0.8)",
           "rgba(125,0,129,0.8)",
           "rgba(205,0,49,0.8)",
           "rgba(173,0,81,0.8)"
          ],
          "hovertemplate": "From %{source.label} to %{target.label}<extra></extra>",
          "source": [
           0,
           1,
           0,
           0,
           0,
           0,
           1,
           0,
           0,
           0,
           0,
           0,
           0,
           0,
           0,
           2,
           0,
           0,
           0,
           0,
           1,
           1,
           0,
           0,
           0,
           0,
           1,
           0,
           1,
           0,
           0,
           0,
           0,
           0,
           0,
           0,
           0,
           0,
           1,
           1,
           3,
           4,
           5,
           3,
           4,
           5,
           6,
           7,
           8,
           4,
           5,
           5,
           9,
           7,
           9,
           5,
           5,
           10,
           11,
           9,
           7,
           12,
           10,
           5,
           5,
           5,
           8,
           10,
           12,
           8,
           5,
           5,
           8,
           5,
           5,
           5,
           9,
           9,
           13,
           8,
           14,
           15,
           14,
           14,
           14,
           14,
           15,
           14,
           14,
           14,
           14,
           14,
           14,
           14,
           14,
           14,
           14,
           14,
           14,
           14,
           15,
           15,
           14,
           14,
           14,
           14,
           15,
           14,
           15,
           14,
           14,
           14,
           14,
           14,
           14,
           14,
           14,
           14,
           15,
           15
          ],
          "target": [
           3,
           4,
           5,
           3,
           4,
           5,
           6,
           7,
           8,
           4,
           5,
           5,
           9,
           7,
           9,
           5,
           5,
           10,
           11,
           9,
           7,
           12,
           10,
           5,
           5,
           5,
           8,
           10,
           12,
           8,
           5,
           5,
           8,
           5,
           5,
           5,
           9,
           9,
           13,
           8,
           14,
           15,
           14,
           14,
           14,
           14,
           15,
           14,
           14,
           14,
           14,
           14,
           14,
           14,
           14,
           14,
           14,
           14,
           14,
           14,
           15,
           15,
           14,
           14,
           14,
           14,
           15,
           14,
           15,
           14,
           14,
           14,
           14,
           14,
           14,
           14,
           14,
           14,
           15,
           15,
           16,
           17,
           18,
           19,
           20,
           21,
           22,
           23,
           24,
           25,
           26,
           27,
           28,
           29,
           30,
           31,
           32,
           33,
           34,
           35,
           36,
           37,
           38,
           39,
           40,
           41,
           42,
           43,
           44,
           45,
           46,
           47,
           48,
           49,
           50,
           51,
           52,
           53,
           54,
           55
          ],
          "value": [
           1,
           1,
           1,
           1,
           1,
           1,
           1,
           1,
           1,
           1,
           1,
           1,
           1,
           1,
           1,
           1,
           1,
           1,
           1,
           1,
           1,
           1,
           1,
           1,
           1,
           1,
           1,
           1,
           1,
           1,
           1,
           1,
           1,
           1,
           1,
           1,
           1,
           1,
           1,
           1,
           1,
           1,
           1,
           1,
           1,
           1,
           1,
           1,
           1,
           1,
           1,
           1,
           1,
           1,
           1,
           1,
           1,
           1,
           1,
           1,
           1,
           1,
           1,
           1,
           1,
           1,
           1,
           1,
           1,
           1,
           1,
           1,
           1,
           1,
           1,
           1,
           1,
           1,
           1,
           1,
           1,
           1,
           1,
           1,
           1,
           1,
           1,
           1,
           1,
           1,
           1,
           1,
           1,
           1,
           1,
           1,
           1,
           1,
           1,
           1,
           1,
           1,
           1,
           1,
           1,
           1,
           1,
           1,
           1,
           1,
           1,
           1,
           1,
           1,
           1,
           1,
           1,
           1,
           1,
           1
          ]
         },
         "node": {
          "color": [
           "green",
           "red",
           "orange",
           "#aec7e8",
           "#ffbb78",
           "#98df8a",
           "#ff9896",
           "#c5b0d5",
           "#c49c94",
           "#f7b6d2",
           "#dbdb8d",
           "#9edae5",
           "#393b79",
           "#aec7e8",
           "#8c564b",
           "#7f7f7f",
           "lightgray",
           "lightgray",
           "lightgray",
           "lightgray",
           "lightgray",
           "lightgray",
           "lightgray",
           "lightgray",
           "lightgray",
           "lightgray",
           "lightgray",
           "lightgray",
           "lightgray",
           "lightgray",
           "lightgray",
           "lightgray",
           "lightgray",
           "lightgray",
           "lightgray",
           "lightgray",
           "lightgray",
           "lightgray",
           "lightgray",
           "lightgray",
           "lightgray",
           "lightgray",
           "lightgray",
           "lightgray",
           "lightgray",
           "lightgray",
           "lightgray",
           "lightgray",
           "lightgray",
           "lightgray",
           "lightgray",
           "lightgray",
           "lightgray",
           "lightgray",
           "lightgray",
           "lightgray"
          ],
          "hovertemplate": "%{label}<extra></extra>",
          "label": [
           "FDA-approved Breast Cancer Therapy",
           "Lacks Breast Cancer Evidence",
           "Emerging Breast Cancer Target",
           "CDK4–CCND1 Axis",
           "Cell Cycle & Apoptosis",
           "Other",
           "Apoptosis",
           "RAS Pathway",
           "RTKs / Growth Factor Signaling",
           "DNA Repair / Tumor Suppressors",
           "PI3K–MAPK–EGFR",
           "MYC Axis",
           "Tumor Suppressor",
           "Transcription Factors",
           "In Breast Cancer Trial",
           "No Breast Cancer Trial",
           "CDK4",
           "CDKN1A",
           "ERBB2",
           "CCND1",
           "CDKN2A",
           "FOXO3",
           "BAX",
           "KRAS",
           "FGFR1",
           "MDM2",
           "NF1",
           "AKT1",
           "BRCA1",
           "HRAS",
           "TP53",
           "CASP8",
           "CDK6",
           "PTEN",
           "MYC",
           "BRCA2",
           "NRAS",
           "VHL",
           "PIK3CA",
           "RB1",
           "BCL2",
           "MET",
           "SRC",
           "EGFR",
           "NF2",
           "NTRK2",
           "TSC2",
           "STK11",
           "FGFR2",
           "ATR",
           "NOTCH1",
           "SMAD4",
           "CHEK2",
           "ATM",
           "WT1",
           "NTRK1"
          ],
          "line": {
           "color": "black",
           "width": 0.5
          },
          "pad": 15,
          "thickness": 15
         },
         "type": "sankey"
        }
       ],
       "layout": {
        "annotations": [
         {
          "align": "left",
          "bgcolor": "white",
          "bordercolor": "black",
          "borderpad": 5,
          "borderwidth": 1,
          "font": {
           "size": 12
          },
          "showarrow": false,
          "text": "<b>Color Legend</b><br><span style='color:green'>&#9632;</span> FDA-approved Breast Cancer Therapy<br><span style='color:orange'>&#9632;</span> Emerging Breast Cancer Target<br><span style='color:red'>&#9632;</span> Lacks Breast Cancer Evidence<br><span style='color:#8c564b'>&#9632;</span> In Breast Cancer Trial<br><span style='color:#7f7f7f'>&#9632;</span> No Breast Cancer Trial<br><br><b>Gene Link Color</b><br><span style='color:red'>&#8594;</span> Upregulated (High log2FC)<br><span style='color:blue'>&#8594;</span> Downregulated (Low log2FC)",
          "x": 0.02,
          "xref": "paper",
          "y": 0.95,
          "yref": "paper"
         }
        ],
        "font": {
         "size": 12
        },
        "height": 700,
        "template": {
         "data": {
          "bar": [
           {
            "error_x": {
             "color": "#2a3f5f"
            },
            "error_y": {
             "color": "#2a3f5f"
            },
            "marker": {
             "line": {
              "color": "#E5ECF6",
              "width": 0.5
             },
             "pattern": {
              "fillmode": "overlay",
              "size": 10,
              "solidity": 0.2
             }
            },
            "type": "bar"
           }
          ],
          "barpolar": [
           {
            "marker": {
             "line": {
              "color": "#E5ECF6",
              "width": 0.5
             },
             "pattern": {
              "fillmode": "overlay",
              "size": 10,
              "solidity": 0.2
             }
            },
            "type": "barpolar"
           }
          ],
          "carpet": [
           {
            "aaxis": {
             "endlinecolor": "#2a3f5f",
             "gridcolor": "white",
             "linecolor": "white",
             "minorgridcolor": "white",
             "startlinecolor": "#2a3f5f"
            },
            "baxis": {
             "endlinecolor": "#2a3f5f",
             "gridcolor": "white",
             "linecolor": "white",
             "minorgridcolor": "white",
             "startlinecolor": "#2a3f5f"
            },
            "type": "carpet"
           }
          ],
          "choropleth": [
           {
            "colorbar": {
             "outlinewidth": 0,
             "ticks": ""
            },
            "type": "choropleth"
           }
          ],
          "contour": [
           {
            "colorbar": {
             "outlinewidth": 0,
             "ticks": ""
            },
            "colorscale": [
             [
              0,
              "#0d0887"
             ],
             [
              0.1111111111111111,
              "#46039f"
             ],
             [
              0.2222222222222222,
              "#7201a8"
             ],
             [
              0.3333333333333333,
              "#9c179e"
             ],
             [
              0.4444444444444444,
              "#bd3786"
             ],
             [
              0.5555555555555556,
              "#d8576b"
             ],
             [
              0.6666666666666666,
              "#ed7953"
             ],
             [
              0.7777777777777778,
              "#fb9f3a"
             ],
             [
              0.8888888888888888,
              "#fdca26"
             ],
             [
              1,
              "#f0f921"
             ]
            ],
            "type": "contour"
           }
          ],
          "contourcarpet": [
           {
            "colorbar": {
             "outlinewidth": 0,
             "ticks": ""
            },
            "type": "contourcarpet"
           }
          ],
          "heatmap": [
           {
            "colorbar": {
             "outlinewidth": 0,
             "ticks": ""
            },
            "colorscale": [
             [
              0,
              "#0d0887"
             ],
             [
              0.1111111111111111,
              "#46039f"
             ],
             [
              0.2222222222222222,
              "#7201a8"
             ],
             [
              0.3333333333333333,
              "#9c179e"
             ],
             [
              0.4444444444444444,
              "#bd3786"
             ],
             [
              0.5555555555555556,
              "#d8576b"
             ],
             [
              0.6666666666666666,
              "#ed7953"
             ],
             [
              0.7777777777777778,
              "#fb9f3a"
             ],
             [
              0.8888888888888888,
              "#fdca26"
             ],
             [
              1,
              "#f0f921"
             ]
            ],
            "type": "heatmap"
           }
          ],
          "histogram": [
           {
            "marker": {
             "pattern": {
              "fillmode": "overlay",
              "size": 10,
              "solidity": 0.2
             }
            },
            "type": "histogram"
           }
          ],
          "histogram2d": [
           {
            "colorbar": {
             "outlinewidth": 0,
             "ticks": ""
            },
            "colorscale": [
             [
              0,
              "#0d0887"
             ],
             [
              0.1111111111111111,
              "#46039f"
             ],
             [
              0.2222222222222222,
              "#7201a8"
             ],
             [
              0.3333333333333333,
              "#9c179e"
             ],
             [
              0.4444444444444444,
              "#bd3786"
             ],
             [
              0.5555555555555556,
              "#d8576b"
             ],
             [
              0.6666666666666666,
              "#ed7953"
             ],
             [
              0.7777777777777778,
              "#fb9f3a"
             ],
             [
              0.8888888888888888,
              "#fdca26"
             ],
             [
              1,
              "#f0f921"
             ]
            ],
            "type": "histogram2d"
           }
          ],
          "histogram2dcontour": [
           {
            "colorbar": {
             "outlinewidth": 0,
             "ticks": ""
            },
            "colorscale": [
             [
              0,
              "#0d0887"
             ],
             [
              0.1111111111111111,
              "#46039f"
             ],
             [
              0.2222222222222222,
              "#7201a8"
             ],
             [
              0.3333333333333333,
              "#9c179e"
             ],
             [
              0.4444444444444444,
              "#bd3786"
             ],
             [
              0.5555555555555556,
              "#d8576b"
             ],
             [
              0.6666666666666666,
              "#ed7953"
             ],
             [
              0.7777777777777778,
              "#fb9f3a"
             ],
             [
              0.8888888888888888,
              "#fdca26"
             ],
             [
              1,
              "#f0f921"
             ]
            ],
            "type": "histogram2dcontour"
           }
          ],
          "mesh3d": [
           {
            "colorbar": {
             "outlinewidth": 0,
             "ticks": ""
            },
            "type": "mesh3d"
           }
          ],
          "parcoords": [
           {
            "line": {
             "colorbar": {
              "outlinewidth": 0,
              "ticks": ""
             }
            },
            "type": "parcoords"
           }
          ],
          "pie": [
           {
            "automargin": true,
            "type": "pie"
           }
          ],
          "scatter": [
           {
            "fillpattern": {
             "fillmode": "overlay",
             "size": 10,
             "solidity": 0.2
            },
            "type": "scatter"
           }
          ],
          "scatter3d": [
           {
            "line": {
             "colorbar": {
              "outlinewidth": 0,
              "ticks": ""
             }
            },
            "marker": {
             "colorbar": {
              "outlinewidth": 0,
              "ticks": ""
             }
            },
            "type": "scatter3d"
           }
          ],
          "scattercarpet": [
           {
            "marker": {
             "colorbar": {
              "outlinewidth": 0,
              "ticks": ""
             }
            },
            "type": "scattercarpet"
           }
          ],
          "scattergeo": [
           {
            "marker": {
             "colorbar": {
              "outlinewidth": 0,
              "ticks": ""
             }
            },
            "type": "scattergeo"
           }
          ],
          "scattergl": [
           {
            "marker": {
             "colorbar": {
              "outlinewidth": 0,
              "ticks": ""
             }
            },
            "type": "scattergl"
           }
          ],
          "scattermap": [
           {
            "marker": {
             "colorbar": {
              "outlinewidth": 0,
              "ticks": ""
             }
            },
            "type": "scattermap"
           }
          ],
          "scattermapbox": [
           {
            "marker": {
             "colorbar": {
              "outlinewidth": 0,
              "ticks": ""
             }
            },
            "type": "scattermapbox"
           }
          ],
          "scatterpolar": [
           {
            "marker": {
             "colorbar": {
              "outlinewidth": 0,
              "ticks": ""
             }
            },
            "type": "scatterpolar"
           }
          ],
          "scatterpolargl": [
           {
            "marker": {
             "colorbar": {
              "outlinewidth": 0,
              "ticks": ""
             }
            },
            "type": "scatterpolargl"
           }
          ],
          "scatterternary": [
           {
            "marker": {
             "colorbar": {
              "outlinewidth": 0,
              "ticks": ""
             }
            },
            "type": "scatterternary"
           }
          ],
          "surface": [
           {
            "colorbar": {
             "outlinewidth": 0,
             "ticks": ""
            },
            "colorscale": [
             [
              0,
              "#0d0887"
             ],
             [
              0.1111111111111111,
              "#46039f"
             ],
             [
              0.2222222222222222,
              "#7201a8"
             ],
             [
              0.3333333333333333,
              "#9c179e"
             ],
             [
              0.4444444444444444,
              "#bd3786"
             ],
             [
              0.5555555555555556,
              "#d8576b"
             ],
             [
              0.6666666666666666,
              "#ed7953"
             ],
             [
              0.7777777777777778,
              "#fb9f3a"
             ],
             [
              0.8888888888888888,
              "#fdca26"
             ],
             [
              1,
              "#f0f921"
             ]
            ],
            "type": "surface"
           }
          ],
          "table": [
           {
            "cells": {
             "fill": {
              "color": "#EBF0F8"
             },
             "line": {
              "color": "white"
             }
            },
            "header": {
             "fill": {
              "color": "#C8D4E3"
             },
             "line": {
              "color": "white"
             }
            },
            "type": "table"
           }
          ]
         },
         "layout": {
          "annotationdefaults": {
           "arrowcolor": "#2a3f5f",
           "arrowhead": 0,
           "arrowwidth": 1
          },
          "autotypenumbers": "strict",
          "coloraxis": {
           "colorbar": {
            "outlinewidth": 0,
            "ticks": ""
           }
          },
          "colorscale": {
           "diverging": [
            [
             0,
             "#8e0152"
            ],
            [
             0.1,
             "#c51b7d"
            ],
            [
             0.2,
             "#de77ae"
            ],
            [
             0.3,
             "#f1b6da"
            ],
            [
             0.4,
             "#fde0ef"
            ],
            [
             0.5,
             "#f7f7f7"
            ],
            [
             0.6,
             "#e6f5d0"
            ],
            [
             0.7,
             "#b8e186"
            ],
            [
             0.8,
             "#7fbc41"
            ],
            [
             0.9,
             "#4d9221"
            ],
            [
             1,
             "#276419"
            ]
           ],
           "sequential": [
            [
             0,
             "#0d0887"
            ],
            [
             0.1111111111111111,
             "#46039f"
            ],
            [
             0.2222222222222222,
             "#7201a8"
            ],
            [
             0.3333333333333333,
             "#9c179e"
            ],
            [
             0.4444444444444444,
             "#bd3786"
            ],
            [
             0.5555555555555556,
             "#d8576b"
            ],
            [
             0.6666666666666666,
             "#ed7953"
            ],
            [
             0.7777777777777778,
             "#fb9f3a"
            ],
            [
             0.8888888888888888,
             "#fdca26"
            ],
            [
             1,
             "#f0f921"
            ]
           ],
           "sequentialminus": [
            [
             0,
             "#0d0887"
            ],
            [
             0.1111111111111111,
             "#46039f"
            ],
            [
             0.2222222222222222,
             "#7201a8"
            ],
            [
             0.3333333333333333,
             "#9c179e"
            ],
            [
             0.4444444444444444,
             "#bd3786"
            ],
            [
             0.5555555555555556,
             "#d8576b"
            ],
            [
             0.6666666666666666,
             "#ed7953"
            ],
            [
             0.7777777777777778,
             "#fb9f3a"
            ],
            [
             0.8888888888888888,
             "#fdca26"
            ],
            [
             1,
             "#f0f921"
            ]
           ]
          },
          "colorway": [
           "#636efa",
           "#EF553B",
           "#00cc96",
           "#ab63fa",
           "#FFA15A",
           "#19d3f3",
           "#FF6692",
           "#B6E880",
           "#FF97FF",
           "#FECB52"
          ],
          "font": {
           "color": "#2a3f5f"
          },
          "geo": {
           "bgcolor": "white",
           "lakecolor": "white",
           "landcolor": "#E5ECF6",
           "showlakes": true,
           "showland": true,
           "subunitcolor": "white"
          },
          "hoverlabel": {
           "align": "left"
          },
          "hovermode": "closest",
          "mapbox": {
           "style": "light"
          },
          "paper_bgcolor": "white",
          "plot_bgcolor": "#E5ECF6",
          "polar": {
           "angularaxis": {
            "gridcolor": "white",
            "linecolor": "white",
            "ticks": ""
           },
           "bgcolor": "#E5ECF6",
           "radialaxis": {
            "gridcolor": "white",
            "linecolor": "white",
            "ticks": ""
           }
          },
          "scene": {
           "xaxis": {
            "backgroundcolor": "#E5ECF6",
            "gridcolor": "white",
            "gridwidth": 2,
            "linecolor": "white",
            "showbackground": true,
            "ticks": "",
            "zerolinecolor": "white"
           },
           "yaxis": {
            "backgroundcolor": "#E5ECF6",
            "gridcolor": "white",
            "gridwidth": 2,
            "linecolor": "white",
            "showbackground": true,
            "ticks": "",
            "zerolinecolor": "white"
           },
           "zaxis": {
            "backgroundcolor": "#E5ECF6",
            "gridcolor": "white",
            "gridwidth": 2,
            "linecolor": "white",
            "showbackground": true,
            "ticks": "",
            "zerolinecolor": "white"
           }
          },
          "shapedefaults": {
           "line": {
            "color": "#2a3f5f"
           }
          },
          "ternary": {
           "aaxis": {
            "gridcolor": "white",
            "linecolor": "white",
            "ticks": ""
           },
           "baxis": {
            "gridcolor": "white",
            "linecolor": "white",
            "ticks": ""
           },
           "bgcolor": "#E5ECF6",
           "caxis": {
            "gridcolor": "white",
            "linecolor": "white",
            "ticks": ""
           }
          },
          "title": {
           "x": 0.05
          },
          "xaxis": {
           "automargin": true,
           "gridcolor": "white",
           "linecolor": "white",
           "ticks": "",
           "title": {
            "standoff": 15
           },
           "zerolinecolor": "white",
           "zerolinewidth": 2
          },
          "yaxis": {
           "automargin": true,
           "gridcolor": "white",
           "linecolor": "white",
           "ticks": "",
           "title": {
            "standoff": 15
           },
           "zerolinecolor": "white",
           "zerolinewidth": 2
          }
         }
        },
        "title": {
         "text": "🧬 Multi-layer Therapeutic Stratification Sankey with Expression Coloring"
        },
        "width": 1200
       }
      }
     },
     "metadata": {},
     "output_type": "display_data"
    }
   ],
   "source": [
    "import plotly.graph_objects as go\n",
    "\n",
    "# Define node groups\n",
    "targeting_cats = df_unique['Targeting Category'].unique().tolist()\n",
    "pathways = df_unique['Pathway Category'].unique().tolist()\n",
    "trials = df_unique['Clinical_Trial_Status'].unique().tolist()\n",
    "genes = df_unique['gene'].unique().tolist()\n",
    "\n",
    "# Build label list and mapping\n",
    "labels = targeting_cats + pathways + trials + genes\n",
    "label_to_idx = {label: idx for idx, label in enumerate(labels)}\n",
    "\n",
    "# Define colors for Targeting Categories\n",
    "targeting_colors_map = {\n",
    "    'FDA-approved Breast Cancer Therapy': 'green',\n",
    "    'Emerging Breast Cancer Target': 'orange',\n",
    "    'Lacks Breast Cancer Evidence': 'red'\n",
    "}\n",
    "\n",
    "# Define colors for Pathways (choose a palette)\n",
    "pathway_palette = ['#aec7e8', '#ffbb78', '#98df8a', '#ff9896', '#c5b0d5', '#c49c94',\n",
    "                   '#f7b6d2', '#dbdb8d', '#9edae5', '#393b79']\n",
    "pathway_colors_map = {path: pathway_palette[i % len(pathway_palette)] for i, path in enumerate(pathways)}\n",
    "\n",
    "# Colors for Clinical Trial Status\n",
    "trial_colors_map = {\n",
    "    'In Breast Cancer Trial': '#8c564b',  # Brown shade\n",
    "    'No Breast Cancer Trial': '#7f7f7f'   # Gray shade\n",
    "}\n",
    "\n",
    "# Assign node colors\n",
    "node_colors = []\n",
    "for label in labels:\n",
    "    if label in targeting_colors_map:\n",
    "        node_colors.append(targeting_colors_map[label])\n",
    "    elif label in pathway_colors_map:\n",
    "        node_colors.append(pathway_colors_map[label])\n",
    "    elif label in trial_colors_map:\n",
    "        node_colors.append(trial_colors_map[label])\n",
    "    else:\n",
    "        node_colors.append('lightgray')  # genes or unknowns\n",
    "\n",
    "# Prepare links as before\n",
    "source = []\n",
    "target = []\n",
    "value = []\n",
    "link_colors = []\n",
    "\n",
    "# Category -> Pathway\n",
    "for _, row in df_unique.iterrows():\n",
    "    source.append(label_to_idx[row['Targeting Category']])\n",
    "    target.append(label_to_idx[row['Pathway Category']])\n",
    "    value.append(1)\n",
    "    link_colors.append(node_colors[label_to_idx[row['Targeting Category']]])  # link colored by source\n",
    "\n",
    "# Pathway -> Trial\n",
    "for _, row in df_unique.iterrows():\n",
    "    source.append(label_to_idx[row['Pathway Category']])\n",
    "    target.append(label_to_idx[row['Clinical_Trial_Status']])\n",
    "    value.append(1)\n",
    "    link_colors.append(node_colors[label_to_idx[row['Pathway Category']]])  # link colored by source\n",
    "\n",
    "# Trial -> Gene (color by expression log2FC)\n",
    "max_abs_fc = max(abs(df_unique['log2_fc'].min()), abs(df_unique['log2_fc'].max()))\n",
    "\n",
    "def fc_to_color(fc):\n",
    "    norm = (fc + max_abs_fc) / (2 * max_abs_fc)\n",
    "    r = int(255 * norm)\n",
    "    b = int(255 * (1 - norm))\n",
    "    return f'rgba({r},0,{b},0.8)'\n",
    "\n",
    "for _, row in df_unique.iterrows():\n",
    "    source.append(label_to_idx[row['Clinical_Trial_Status']])\n",
    "    target.append(label_to_idx[row['gene']])\n",
    "    value.append(1)\n",
    "    link_colors.append(fc_to_color(row['log2_fc']))\n",
    "\n",
    "# Create Sankey diagram\n",
    "fig = go.Figure(data=[go.Sankey(\n",
    "    node=dict(\n",
    "        pad=15,\n",
    "        thickness=15,\n",
    "        line=dict(color='black', width=0.5),\n",
    "        label=labels,\n",
    "        color=node_colors,\n",
    "        hovertemplate='%{label}<extra></extra>'\n",
    "    ),\n",
    "    link=dict(\n",
    "        source=source,\n",
    "        target=target,\n",
    "        value=value,\n",
    "        color=link_colors,\n",
    "        hovertemplate='From %{source.label} to %{target.label}<extra></extra>'\n",
    "    )\n",
    ")])\n",
    "\n",
    "# Add color legend as annotation block (top left corner)\n",
    "fig.update_layout(\n",
    "    title_text=\"🧬 Multi-layer Therapeutic Stratification Sankey with Expression Coloring\",\n",
    "    font_size=12,\n",
    "    height=700,\n",
    "    width=1200,\n",
    "    annotations=[\n",
    "        dict(\n",
    "            x=0.02, y=0.95, xref='paper', yref='paper',\n",
    "            text=\"<b>Color Legend</b><br>\" +\n",
    "                 \"<span style='color:green'>&#9632;</span> FDA-approved Breast Cancer Therapy<br>\" +\n",
    "                 \"<span style='color:orange'>&#9632;</span> Emerging Breast Cancer Target<br>\" +\n",
    "                 \"<span style='color:red'>&#9632;</span> Lacks Breast Cancer Evidence<br>\" +\n",
    "                 \"<span style='color:#8c564b'>&#9632;</span> In Breast Cancer Trial<br>\" +\n",
    "                 \"<span style='color:#7f7f7f'>&#9632;</span> No Breast Cancer Trial<br>\" +\n",
    "                 \"<br><b>Gene Link Color</b><br>\" +\n",
    "                 \"<span style='color:red'>&#8594;</span> Upregulated (High log2FC)<br>\" +\n",
    "                 \"<span style='color:blue'>&#8594;</span> Downregulated (Low log2FC)\",\n",
    "            showarrow=False,\n",
    "            font=dict(size=12),\n",
    "            align=\"left\",\n",
    "            bgcolor=\"white\",\n",
    "            bordercolor=\"black\",\n",
    "            borderwidth=1,\n",
    "            borderpad=5\n",
    "        )\n",
    "    ]\n",
    ")\n",
    "\n",
    "fig.show()\n"
   ]
  },
  {
   "cell_type": "code",
   "execution_count": 31,
   "id": "d990c822",
   "metadata": {},
   "outputs": [
    {
     "data": {
      "application/vnd.plotly.v1+json": {
       "config": {
        "plotlyServerURL": "https://plot.ly"
       },
       "data": [
        {
         "hovertemplate": "<b>%{hovertext}</b><br><br>Clinical_Trial_Status=In Breast Cancer Trial<br>Therapeutic Subcategory=%{x}<br>Pathway Category=%{y}<br>abs_log2_fc=%{marker.size}<extra></extra>",
         "hovertext": [
          "CDK4",
          "ERBB2",
          "CCND1",
          "CDKN2A",
          "FOXO3",
          "KRAS",
          "FGFR1",
          "MDM2",
          "NF1",
          "AKT1",
          "BRCA1",
          "HRAS",
          "TP53",
          "CASP8",
          "CDK6",
          "PTEN",
          "MYC",
          "BRCA2",
          "PIK3CA",
          "RB1",
          "BCL2",
          "MET",
          "EGFR",
          "NTRK2",
          "TSC2",
          "STK11",
          "FGFR2",
          "ATR",
          "NOTCH1",
          "SMAD4",
          "CHEK2",
          "ATM"
         ],
         "legendgroup": "In Breast Cancer Trial",
         "marker": {
          "color": "#636efa",
          "size": {
           "bdata": "q6mzycVsA0AUcMiKK1UTQNzScwR+GhJA5qJeDXJpD0DugsWslDICQFLEyCzcO/U/fkEShYrdDEA+lQDXDKz7P10VW4zEMwJAC179uhLNBUDxR6HlBjkEQJB9gUI2rABAbc2hpJ+W+D9EccTHm6LxPyjgmkc6R/U/z3AYaoXw6j94SxpN3bnuPzL7lVzqtP4/n79ZWk/o8j8PiFftyQLwP4LK6+gFR+Y/1PJaX4xgFkBibrs63XARQGtb59U7Zw5AVc9FNh5s+j8z5HCvlfD5P+7rUtKhkRBAV9fNcxzX5T+izZv6S4H6P28doZv/Kuo/QjMVsQln8T8wv/hrx4u4Pw==",
           "dtype": "f8"
          },
          "sizemode": "area",
          "sizeref": 0.00621587275391267,
          "symbol": "circle"
         },
         "mode": "markers",
         "name": "In Breast Cancer Trial",
         "orientation": "v",
         "showlegend": true,
         "type": "scatter",
         "x": [
          "FDA-approved for Breast Cancer",
          "FDA-approved for Breast Cancer",
          "FDA-approved for Breast Cancer",
          "FDA-approved for Breast Cancer",
          "FDA-approved for Breast Cancer",
          "FDA-approved for Breast Cancer",
          "FDA-approved for Breast Cancer",
          "FDA-approved for Breast Cancer",
          "FDA-approved for Breast Cancer",
          "FDA-approved for Breast Cancer",
          "FDA-approved for Breast Cancer",
          "FDA-approved for Breast Cancer",
          "FDA-approved for Breast Cancer",
          "Emerging Breast Cancer Target",
          "FDA-approved for Breast Cancer",
          "FDA-approved for Breast Cancer",
          "FDA-approved for Breast Cancer",
          "FDA-approved for Breast Cancer",
          "FDA-approved for Breast Cancer",
          "FDA-approved for Breast Cancer",
          "FDA-approved for Breast Cancer",
          "FDA-approved for Breast Cancer",
          "FDA-approved for Breast Cancer",
          "FDA-approved for Breast Cancer",
          "FDA-approved for Breast Cancer",
          "FDA-approved for Breast Cancer",
          "FDA-approved for Breast Cancer",
          "FDA-approved for Breast Cancer",
          "FDA-approved for Breast Cancer",
          "FDA-approved for Breast Cancer",
          "FDA-approved for Breast Cancer",
          "FDA-approved for Breast Cancer"
         ],
         "xaxis": "x",
         "y": [
          "CDK4–CCND1 Axis",
          "Other",
          "CDK4–CCND1 Axis",
          "Cell Cycle & Apoptosis",
          "Other",
          "RAS Pathway",
          "RTKs / Growth Factor Signaling",
          "Cell Cycle & Apoptosis",
          "Other",
          "Other",
          "DNA Repair / Tumor Suppressors",
          "RAS Pathway",
          "DNA Repair / Tumor Suppressors",
          "Other",
          "Other",
          "PI3K–MAPK–EGFR",
          "MYC Axis",
          "DNA Repair / Tumor Suppressors",
          "PI3K–MAPK–EGFR",
          "Other",
          "Other",
          "Other",
          "PI3K–MAPK–EGFR",
          "RTKs / Growth Factor Signaling",
          "Other",
          "Other",
          "RTKs / Growth Factor Signaling",
          "Other",
          "Other",
          "Other",
          "DNA Repair / Tumor Suppressors",
          "DNA Repair / Tumor Suppressors"
         ],
         "yaxis": "y"
        },
        {
         "hovertemplate": "<b>%{hovertext}</b><br><br>Clinical_Trial_Status=No Breast Cancer Trial<br>Therapeutic Subcategory=%{x}<br>Pathway Category=%{y}<br>abs_log2_fc=%{marker.size}<extra></extra>",
         "hovertext": [
          "CDKN1A",
          "BAX",
          "NRAS",
          "VHL",
          "SRC",
          "NF2",
          "WT1",
          "NTRK1"
         ],
         "legendgroup": "No Breast Cancer Trial",
         "marker": {
          "color": "#EF553B",
          "size": {
           "bdata": "sDMJm5DrCkAhViU7E3j4P+o9ZFi2dP4/xXFQss4C8j9W9wz7+tINQHl7UOjmfPs/Qg8cPaB1C0BjOvmU2iMAQA==",
           "dtype": "f8"
          },
          "sizemode": "area",
          "sizeref": 0.00621587275391267,
          "symbol": "circle"
         },
         "mode": "markers",
         "name": "No Breast Cancer Trial",
         "orientation": "v",
         "showlegend": true,
         "type": "scatter",
         "x": [
          "Lacks Breast Cancer Evidence",
          "Lacks Breast Cancer Evidence",
          "Lacks Breast Cancer Evidence",
          "Lacks Breast Cancer Evidence",
          "Lacks Breast Cancer Evidence",
          "Lacks Breast Cancer Evidence",
          "Lacks Breast Cancer Evidence",
          "Lacks Breast Cancer Evidence"
         ],
         "xaxis": "x",
         "y": [
          "Cell Cycle & Apoptosis",
          "Apoptosis",
          "RAS Pathway",
          "Tumor Suppressor",
          "RTKs / Growth Factor Signaling",
          "Tumor Suppressor",
          "Transcription Factors",
          "RTKs / Growth Factor Signaling"
         ],
         "yaxis": "y"
        }
       ],
       "layout": {
        "legend": {
         "itemsizing": "constant",
         "title": {
          "text": "Clinical Trial Status"
         },
         "tracegroupgap": 0
        },
        "template": {
         "data": {
          "bar": [
           {
            "error_x": {
             "color": "#2a3f5f"
            },
            "error_y": {
             "color": "#2a3f5f"
            },
            "marker": {
             "line": {
              "color": "#E5ECF6",
              "width": 0.5
             },
             "pattern": {
              "fillmode": "overlay",
              "size": 10,
              "solidity": 0.2
             }
            },
            "type": "bar"
           }
          ],
          "barpolar": [
           {
            "marker": {
             "line": {
              "color": "#E5ECF6",
              "width": 0.5
             },
             "pattern": {
              "fillmode": "overlay",
              "size": 10,
              "solidity": 0.2
             }
            },
            "type": "barpolar"
           }
          ],
          "carpet": [
           {
            "aaxis": {
             "endlinecolor": "#2a3f5f",
             "gridcolor": "white",
             "linecolor": "white",
             "minorgridcolor": "white",
             "startlinecolor": "#2a3f5f"
            },
            "baxis": {
             "endlinecolor": "#2a3f5f",
             "gridcolor": "white",
             "linecolor": "white",
             "minorgridcolor": "white",
             "startlinecolor": "#2a3f5f"
            },
            "type": "carpet"
           }
          ],
          "choropleth": [
           {
            "colorbar": {
             "outlinewidth": 0,
             "ticks": ""
            },
            "type": "choropleth"
           }
          ],
          "contour": [
           {
            "colorbar": {
             "outlinewidth": 0,
             "ticks": ""
            },
            "colorscale": [
             [
              0,
              "#0d0887"
             ],
             [
              0.1111111111111111,
              "#46039f"
             ],
             [
              0.2222222222222222,
              "#7201a8"
             ],
             [
              0.3333333333333333,
              "#9c179e"
             ],
             [
              0.4444444444444444,
              "#bd3786"
             ],
             [
              0.5555555555555556,
              "#d8576b"
             ],
             [
              0.6666666666666666,
              "#ed7953"
             ],
             [
              0.7777777777777778,
              "#fb9f3a"
             ],
             [
              0.8888888888888888,
              "#fdca26"
             ],
             [
              1,
              "#f0f921"
             ]
            ],
            "type": "contour"
           }
          ],
          "contourcarpet": [
           {
            "colorbar": {
             "outlinewidth": 0,
             "ticks": ""
            },
            "type": "contourcarpet"
           }
          ],
          "heatmap": [
           {
            "colorbar": {
             "outlinewidth": 0,
             "ticks": ""
            },
            "colorscale": [
             [
              0,
              "#0d0887"
             ],
             [
              0.1111111111111111,
              "#46039f"
             ],
             [
              0.2222222222222222,
              "#7201a8"
             ],
             [
              0.3333333333333333,
              "#9c179e"
             ],
             [
              0.4444444444444444,
              "#bd3786"
             ],
             [
              0.5555555555555556,
              "#d8576b"
             ],
             [
              0.6666666666666666,
              "#ed7953"
             ],
             [
              0.7777777777777778,
              "#fb9f3a"
             ],
             [
              0.8888888888888888,
              "#fdca26"
             ],
             [
              1,
              "#f0f921"
             ]
            ],
            "type": "heatmap"
           }
          ],
          "histogram": [
           {
            "marker": {
             "pattern": {
              "fillmode": "overlay",
              "size": 10,
              "solidity": 0.2
             }
            },
            "type": "histogram"
           }
          ],
          "histogram2d": [
           {
            "colorbar": {
             "outlinewidth": 0,
             "ticks": ""
            },
            "colorscale": [
             [
              0,
              "#0d0887"
             ],
             [
              0.1111111111111111,
              "#46039f"
             ],
             [
              0.2222222222222222,
              "#7201a8"
             ],
             [
              0.3333333333333333,
              "#9c179e"
             ],
             [
              0.4444444444444444,
              "#bd3786"
             ],
             [
              0.5555555555555556,
              "#d8576b"
             ],
             [
              0.6666666666666666,
              "#ed7953"
             ],
             [
              0.7777777777777778,
              "#fb9f3a"
             ],
             [
              0.8888888888888888,
              "#fdca26"
             ],
             [
              1,
              "#f0f921"
             ]
            ],
            "type": "histogram2d"
           }
          ],
          "histogram2dcontour": [
           {
            "colorbar": {
             "outlinewidth": 0,
             "ticks": ""
            },
            "colorscale": [
             [
              0,
              "#0d0887"
             ],
             [
              0.1111111111111111,
              "#46039f"
             ],
             [
              0.2222222222222222,
              "#7201a8"
             ],
             [
              0.3333333333333333,
              "#9c179e"
             ],
             [
              0.4444444444444444,
              "#bd3786"
             ],
             [
              0.5555555555555556,
              "#d8576b"
             ],
             [
              0.6666666666666666,
              "#ed7953"
             ],
             [
              0.7777777777777778,
              "#fb9f3a"
             ],
             [
              0.8888888888888888,
              "#fdca26"
             ],
             [
              1,
              "#f0f921"
             ]
            ],
            "type": "histogram2dcontour"
           }
          ],
          "mesh3d": [
           {
            "colorbar": {
             "outlinewidth": 0,
             "ticks": ""
            },
            "type": "mesh3d"
           }
          ],
          "parcoords": [
           {
            "line": {
             "colorbar": {
              "outlinewidth": 0,
              "ticks": ""
             }
            },
            "type": "parcoords"
           }
          ],
          "pie": [
           {
            "automargin": true,
            "type": "pie"
           }
          ],
          "scatter": [
           {
            "fillpattern": {
             "fillmode": "overlay",
             "size": 10,
             "solidity": 0.2
            },
            "type": "scatter"
           }
          ],
          "scatter3d": [
           {
            "line": {
             "colorbar": {
              "outlinewidth": 0,
              "ticks": ""
             }
            },
            "marker": {
             "colorbar": {
              "outlinewidth": 0,
              "ticks": ""
             }
            },
            "type": "scatter3d"
           }
          ],
          "scattercarpet": [
           {
            "marker": {
             "colorbar": {
              "outlinewidth": 0,
              "ticks": ""
             }
            },
            "type": "scattercarpet"
           }
          ],
          "scattergeo": [
           {
            "marker": {
             "colorbar": {
              "outlinewidth": 0,
              "ticks": ""
             }
            },
            "type": "scattergeo"
           }
          ],
          "scattergl": [
           {
            "marker": {
             "colorbar": {
              "outlinewidth": 0,
              "ticks": ""
             }
            },
            "type": "scattergl"
           }
          ],
          "scattermap": [
           {
            "marker": {
             "colorbar": {
              "outlinewidth": 0,
              "ticks": ""
             }
            },
            "type": "scattermap"
           }
          ],
          "scattermapbox": [
           {
            "marker": {
             "colorbar": {
              "outlinewidth": 0,
              "ticks": ""
             }
            },
            "type": "scattermapbox"
           }
          ],
          "scatterpolar": [
           {
            "marker": {
             "colorbar": {
              "outlinewidth": 0,
              "ticks": ""
             }
            },
            "type": "scatterpolar"
           }
          ],
          "scatterpolargl": [
           {
            "marker": {
             "colorbar": {
              "outlinewidth": 0,
              "ticks": ""
             }
            },
            "type": "scatterpolargl"
           }
          ],
          "scatterternary": [
           {
            "marker": {
             "colorbar": {
              "outlinewidth": 0,
              "ticks": ""
             }
            },
            "type": "scatterternary"
           }
          ],
          "surface": [
           {
            "colorbar": {
             "outlinewidth": 0,
             "ticks": ""
            },
            "colorscale": [
             [
              0,
              "#0d0887"
             ],
             [
              0.1111111111111111,
              "#46039f"
             ],
             [
              0.2222222222222222,
              "#7201a8"
             ],
             [
              0.3333333333333333,
              "#9c179e"
             ],
             [
              0.4444444444444444,
              "#bd3786"
             ],
             [
              0.5555555555555556,
              "#d8576b"
             ],
             [
              0.6666666666666666,
              "#ed7953"
             ],
             [
              0.7777777777777778,
              "#fb9f3a"
             ],
             [
              0.8888888888888888,
              "#fdca26"
             ],
             [
              1,
              "#f0f921"
             ]
            ],
            "type": "surface"
           }
          ],
          "table": [
           {
            "cells": {
             "fill": {
              "color": "#EBF0F8"
             },
             "line": {
              "color": "white"
             }
            },
            "header": {
             "fill": {
              "color": "#C8D4E3"
             },
             "line": {
              "color": "white"
             }
            },
            "type": "table"
           }
          ]
         },
         "layout": {
          "annotationdefaults": {
           "arrowcolor": "#2a3f5f",
           "arrowhead": 0,
           "arrowwidth": 1
          },
          "autotypenumbers": "strict",
          "coloraxis": {
           "colorbar": {
            "outlinewidth": 0,
            "ticks": ""
           }
          },
          "colorscale": {
           "diverging": [
            [
             0,
             "#8e0152"
            ],
            [
             0.1,
             "#c51b7d"
            ],
            [
             0.2,
             "#de77ae"
            ],
            [
             0.3,
             "#f1b6da"
            ],
            [
             0.4,
             "#fde0ef"
            ],
            [
             0.5,
             "#f7f7f7"
            ],
            [
             0.6,
             "#e6f5d0"
            ],
            [
             0.7,
             "#b8e186"
            ],
            [
             0.8,
             "#7fbc41"
            ],
            [
             0.9,
             "#4d9221"
            ],
            [
             1,
             "#276419"
            ]
           ],
           "sequential": [
            [
             0,
             "#0d0887"
            ],
            [
             0.1111111111111111,
             "#46039f"
            ],
            [
             0.2222222222222222,
             "#7201a8"
            ],
            [
             0.3333333333333333,
             "#9c179e"
            ],
            [
             0.4444444444444444,
             "#bd3786"
            ],
            [
             0.5555555555555556,
             "#d8576b"
            ],
            [
             0.6666666666666666,
             "#ed7953"
            ],
            [
             0.7777777777777778,
             "#fb9f3a"
            ],
            [
             0.8888888888888888,
             "#fdca26"
            ],
            [
             1,
             "#f0f921"
            ]
           ],
           "sequentialminus": [
            [
             0,
             "#0d0887"
            ],
            [
             0.1111111111111111,
             "#46039f"
            ],
            [
             0.2222222222222222,
             "#7201a8"
            ],
            [
             0.3333333333333333,
             "#9c179e"
            ],
            [
             0.4444444444444444,
             "#bd3786"
            ],
            [
             0.5555555555555556,
             "#d8576b"
            ],
            [
             0.6666666666666666,
             "#ed7953"
            ],
            [
             0.7777777777777778,
             "#fb9f3a"
            ],
            [
             0.8888888888888888,
             "#fdca26"
            ],
            [
             1,
             "#f0f921"
            ]
           ]
          },
          "colorway": [
           "#636efa",
           "#EF553B",
           "#00cc96",
           "#ab63fa",
           "#FFA15A",
           "#19d3f3",
           "#FF6692",
           "#B6E880",
           "#FF97FF",
           "#FECB52"
          ],
          "font": {
           "color": "#2a3f5f"
          },
          "geo": {
           "bgcolor": "white",
           "lakecolor": "white",
           "landcolor": "#E5ECF6",
           "showlakes": true,
           "showland": true,
           "subunitcolor": "white"
          },
          "hoverlabel": {
           "align": "left"
          },
          "hovermode": "closest",
          "mapbox": {
           "style": "light"
          },
          "paper_bgcolor": "white",
          "plot_bgcolor": "#E5ECF6",
          "polar": {
           "angularaxis": {
            "gridcolor": "white",
            "linecolor": "white",
            "ticks": ""
           },
           "bgcolor": "#E5ECF6",
           "radialaxis": {
            "gridcolor": "white",
            "linecolor": "white",
            "ticks": ""
           }
          },
          "scene": {
           "xaxis": {
            "backgroundcolor": "#E5ECF6",
            "gridcolor": "white",
            "gridwidth": 2,
            "linecolor": "white",
            "showbackground": true,
            "ticks": "",
            "zerolinecolor": "white"
           },
           "yaxis": {
            "backgroundcolor": "#E5ECF6",
            "gridcolor": "white",
            "gridwidth": 2,
            "linecolor": "white",
            "showbackground": true,
            "ticks": "",
            "zerolinecolor": "white"
           },
           "zaxis": {
            "backgroundcolor": "#E5ECF6",
            "gridcolor": "white",
            "gridwidth": 2,
            "linecolor": "white",
            "showbackground": true,
            "ticks": "",
            "zerolinecolor": "white"
           }
          },
          "shapedefaults": {
           "line": {
            "color": "#2a3f5f"
           }
          },
          "ternary": {
           "aaxis": {
            "gridcolor": "white",
            "linecolor": "white",
            "ticks": ""
           },
           "baxis": {
            "gridcolor": "white",
            "linecolor": "white",
            "ticks": ""
           },
           "bgcolor": "#E5ECF6",
           "caxis": {
            "gridcolor": "white",
            "linecolor": "white",
            "ticks": ""
           }
          },
          "title": {
           "x": 0.05
          },
          "xaxis": {
           "automargin": true,
           "gridcolor": "white",
           "linecolor": "white",
           "ticks": "",
           "title": {
            "standoff": 15
           },
           "zerolinecolor": "white",
           "zerolinewidth": 2
          },
          "yaxis": {
           "automargin": true,
           "gridcolor": "white",
           "linecolor": "white",
           "ticks": "",
           "title": {
            "standoff": 15
           },
           "zerolinecolor": "white",
           "zerolinewidth": 2
          }
         }
        },
        "title": {
         "text": "Gene Expression Bubble Plot by Therapeutic Subcategory, Pathway, and Clinical Trial Status"
        },
        "xaxis": {
         "anchor": "y",
         "categoryarray": [
          "FDA-approved for Breast Cancer",
          "Emerging Breast Cancer Target",
          "Lacks Breast Cancer Evidence"
         ],
         "categoryorder": "array",
         "domain": [
          0,
          1
         ],
         "title": {
          "text": "Therapeutic Subcategory"
         }
        },
        "yaxis": {
         "anchor": "x",
         "domain": [
          0,
          1
         ],
         "title": {
          "text": "Pathway Category"
         }
        }
       }
      }
     },
     "metadata": {},
     "output_type": "display_data"
    }
   ],
   "source": [
    "import plotly.express as px\n",
    "\n",
    "# Assuming df_unique is your dataframe with these columns:\n",
    "# 'gene', 'log2_fc', 'Therapeutic Subcategory', 'Clinical_Trial_Status', 'Pathway Category'\n",
    "\n",
    "# Prepare size and color columns\n",
    "df_unique['abs_log2_fc'] = df_unique['log2_fc'].abs()\n",
    "\n",
    "# Create bubble plot\n",
    "fig = px.scatter(\n",
    "    df_unique,\n",
    "    x='Therapeutic Subcategory',            # categories on x-axis\n",
    "    y='Pathway Category',                    # pathways on y-axis\n",
    "    size='abs_log2_fc',                      # bubble size = magnitude of expression change\n",
    "    color='Clinical_Trial_Status',           # color by trial status\n",
    "    hover_name='gene',                       # hover shows gene name\n",
    "    size_max=30,\n",
    "    title='Gene Expression Bubble Plot by Therapeutic Subcategory, Pathway, and Clinical Trial Status',\n",
    "    category_orders={\n",
    "        \"Therapeutic Subcategory\": [\n",
    "            \"FDA-approved for Breast Cancer\",\n",
    "            \"Emerging Breast Cancer Target\",\n",
    "            \"Lacks Breast Cancer Evidence\"\n",
    "        ],\n",
    "        # You can also specify order for pathways if desired\n",
    "    }\n",
    ")\n",
    "\n",
    "fig.update_layout(\n",
    "    xaxis_title='Therapeutic Subcategory',\n",
    "    yaxis_title='Pathway Category',\n",
    "    legend_title='Clinical Trial Status'\n",
    ")\n",
    "\n",
    "fig.show()\n"
   ]
  },
  {
   "cell_type": "code",
   "execution_count": 34,
   "id": "28d20a8e",
   "metadata": {},
   "outputs": [
    {
     "data": {
      "application/vnd.plotly.v1+json": {
       "config": {
        "plotlyServerURL": "https://plot.ly"
       },
       "data": [
        {
         "hovertemplate": "Clinical Trial Status=In Breast Cancer Trial<br>Therapeutic Subcategory=FDA-approved for Breast Cancer<br>Gene=%{x}<br>Log2 Fold Change=%{y}<extra></extra>",
         "legendgroup": "In Breast Cancer Trial",
         "marker": {
          "color": "#636efa",
          "pattern": {
           "shape": ""
          }
         },
         "name": "In Breast Cancer Trial",
         "orientation": "v",
         "showlegend": true,
         "textposition": "auto",
         "type": "bar",
         "x": [
          "MET",
          "ERBB2",
          "CCND1",
          "EGFR",
          "FGFR2",
          "CDKN2A",
          "NTRK2",
          "FGFR1",
          "AKT1",
          "BRCA1",
          "CDK4",
          "NF1",
          "FOXO3",
          "HRAS",
          "BRCA2",
          "MDM2",
          "NOTCH1",
          "TSC2",
          "STK11",
          "TP53",
          "CDK6",
          "KRAS",
          "PIK3CA",
          "CHEK2",
          "RB1",
          "MYC",
          "PTEN",
          "SMAD4",
          "BCL2",
          "ATR",
          "ATM"
         ],
         "xaxis": "x",
         "y": {
          "bdata": "1PJaX4xgFkAUcMiKK1UTQNzScwR+GhJAYm67Ot1wEUDu61LSoZEQQOaiXg1yaQ9Aa1vn1TtnDkB+QRKFit0MQAte/boSzQVA8Ueh5QY5BECrqbPJxWwDQF0VW4zEMwJA7oLFrJQyAkCQfYFCNqwAQDL7lVzqtP4/PpUA1wys+z+izZv6S4H6P1XPRTYebPo/M+Rwr5Xw+T9tzaGkn5b4Pyjgmkc6R/U/UsTILNw79T+fv1laT+jyP0IzFbEJZ/E/D4hX7ckC8D94SxpN3bnuP89wGGqF8Oo/bx2hm/8q6j+CyuvoBUfmP1fXzXMc1+U/ML/4a8eLuL8=",
          "dtype": "f8"
         },
         "yaxis": "y"
        },
        {
         "hovertemplate": "Clinical Trial Status=In Breast Cancer Trial<br>Therapeutic Subcategory=Emerging Breast Cancer Target<br>Gene=%{x}<br>Log2 Fold Change=%{y}<extra></extra>",
         "legendgroup": "In Breast Cancer Trial",
         "marker": {
          "color": "#636efa",
          "pattern": {
           "shape": ""
          }
         },
         "name": "In Breast Cancer Trial",
         "orientation": "v",
         "showlegend": false,
         "textposition": "auto",
         "type": "bar",
         "x": [
          "CASP8"
         ],
         "xaxis": "x2",
         "y": {
          "bdata": "RHHEx5ui8T8=",
          "dtype": "f8"
         },
         "yaxis": "y2"
        },
        {
         "hovertemplate": "Clinical Trial Status=No Breast Cancer Trial<br>Therapeutic Subcategory=Lacks Breast Cancer Evidence<br>Gene=%{x}<br>Log2 Fold Change=%{y}<extra></extra>",
         "legendgroup": "No Breast Cancer Trial",
         "marker": {
          "color": "#EF553B",
          "pattern": {
           "shape": ""
          }
         },
         "name": "No Breast Cancer Trial",
         "orientation": "v",
         "showlegend": true,
         "textposition": "auto",
         "type": "bar",
         "x": [
          "SRC",
          "WT1",
          "CDKN1A",
          "NTRK1",
          "NRAS",
          "NF2",
          "BAX",
          "VHL"
         ],
         "xaxis": "x3",
         "y": {
          "bdata": "VvcM+/rSDUBCDxw9oHULQLAzCZuQ6wpAYzr5lNojAEDqPWRYtnT+P3l7UOjmfPs/IVYlOxN4+D/FcVCyzgLyPw==",
          "dtype": "f8"
         },
         "yaxis": "y3"
        }
       ],
       "layout": {
        "annotations": [
         {
          "font": {},
          "showarrow": false,
          "text": "FDA-approved for Breast Cancer",
          "x": 0.15999999999999998,
          "xanchor": "center",
          "xref": "paper",
          "y": 1,
          "yanchor": "bottom",
          "yref": "paper"
         },
         {
          "font": {},
          "showarrow": false,
          "text": "Emerging Breast Cancer Target",
          "x": 0.49999999999999994,
          "xanchor": "center",
          "xref": "paper",
          "y": 1,
          "yanchor": "bottom",
          "yref": "paper"
         },
         {
          "font": {},
          "showarrow": false,
          "text": "Lacks Breast Cancer Evidence",
          "x": 0.8399999999999999,
          "xanchor": "center",
          "xref": "paper",
          "y": 1,
          "yanchor": "bottom",
          "yref": "paper"
         }
        ],
        "barmode": "relative",
        "grid": {
         "columns": 3,
         "rows": 1
        },
        "height": 600,
        "legend": {
         "title": {
          "text": "Clinical Trial Status"
         },
         "tracegroupgap": 0,
         "x": 1.02,
         "xanchor": "left",
         "y": 0.98,
         "yanchor": "top"
        },
        "margin": {
         "b": 80,
         "t": 70
        },
        "template": {
         "data": {
          "bar": [
           {
            "error_x": {
             "color": "#2a3f5f"
            },
            "error_y": {
             "color": "#2a3f5f"
            },
            "marker": {
             "line": {
              "color": "#E5ECF6",
              "width": 0.5
             },
             "pattern": {
              "fillmode": "overlay",
              "size": 10,
              "solidity": 0.2
             }
            },
            "type": "bar"
           }
          ],
          "barpolar": [
           {
            "marker": {
             "line": {
              "color": "#E5ECF6",
              "width": 0.5
             },
             "pattern": {
              "fillmode": "overlay",
              "size": 10,
              "solidity": 0.2
             }
            },
            "type": "barpolar"
           }
          ],
          "carpet": [
           {
            "aaxis": {
             "endlinecolor": "#2a3f5f",
             "gridcolor": "white",
             "linecolor": "white",
             "minorgridcolor": "white",
             "startlinecolor": "#2a3f5f"
            },
            "baxis": {
             "endlinecolor": "#2a3f5f",
             "gridcolor": "white",
             "linecolor": "white",
             "minorgridcolor": "white",
             "startlinecolor": "#2a3f5f"
            },
            "type": "carpet"
           }
          ],
          "choropleth": [
           {
            "colorbar": {
             "outlinewidth": 0,
             "ticks": ""
            },
            "type": "choropleth"
           }
          ],
          "contour": [
           {
            "colorbar": {
             "outlinewidth": 0,
             "ticks": ""
            },
            "colorscale": [
             [
              0,
              "#0d0887"
             ],
             [
              0.1111111111111111,
              "#46039f"
             ],
             [
              0.2222222222222222,
              "#7201a8"
             ],
             [
              0.3333333333333333,
              "#9c179e"
             ],
             [
              0.4444444444444444,
              "#bd3786"
             ],
             [
              0.5555555555555556,
              "#d8576b"
             ],
             [
              0.6666666666666666,
              "#ed7953"
             ],
             [
              0.7777777777777778,
              "#fb9f3a"
             ],
             [
              0.8888888888888888,
              "#fdca26"
             ],
             [
              1,
              "#f0f921"
             ]
            ],
            "type": "contour"
           }
          ],
          "contourcarpet": [
           {
            "colorbar": {
             "outlinewidth": 0,
             "ticks": ""
            },
            "type": "contourcarpet"
           }
          ],
          "heatmap": [
           {
            "colorbar": {
             "outlinewidth": 0,
             "ticks": ""
            },
            "colorscale": [
             [
              0,
              "#0d0887"
             ],
             [
              0.1111111111111111,
              "#46039f"
             ],
             [
              0.2222222222222222,
              "#7201a8"
             ],
             [
              0.3333333333333333,
              "#9c179e"
             ],
             [
              0.4444444444444444,
              "#bd3786"
             ],
             [
              0.5555555555555556,
              "#d8576b"
             ],
             [
              0.6666666666666666,
              "#ed7953"
             ],
             [
              0.7777777777777778,
              "#fb9f3a"
             ],
             [
              0.8888888888888888,
              "#fdca26"
             ],
             [
              1,
              "#f0f921"
             ]
            ],
            "type": "heatmap"
           }
          ],
          "histogram": [
           {
            "marker": {
             "pattern": {
              "fillmode": "overlay",
              "size": 10,
              "solidity": 0.2
             }
            },
            "type": "histogram"
           }
          ],
          "histogram2d": [
           {
            "colorbar": {
             "outlinewidth": 0,
             "ticks": ""
            },
            "colorscale": [
             [
              0,
              "#0d0887"
             ],
             [
              0.1111111111111111,
              "#46039f"
             ],
             [
              0.2222222222222222,
              "#7201a8"
             ],
             [
              0.3333333333333333,
              "#9c179e"
             ],
             [
              0.4444444444444444,
              "#bd3786"
             ],
             [
              0.5555555555555556,
              "#d8576b"
             ],
             [
              0.6666666666666666,
              "#ed7953"
             ],
             [
              0.7777777777777778,
              "#fb9f3a"
             ],
             [
              0.8888888888888888,
              "#fdca26"
             ],
             [
              1,
              "#f0f921"
             ]
            ],
            "type": "histogram2d"
           }
          ],
          "histogram2dcontour": [
           {
            "colorbar": {
             "outlinewidth": 0,
             "ticks": ""
            },
            "colorscale": [
             [
              0,
              "#0d0887"
             ],
             [
              0.1111111111111111,
              "#46039f"
             ],
             [
              0.2222222222222222,
              "#7201a8"
             ],
             [
              0.3333333333333333,
              "#9c179e"
             ],
             [
              0.4444444444444444,
              "#bd3786"
             ],
             [
              0.5555555555555556,
              "#d8576b"
             ],
             [
              0.6666666666666666,
              "#ed7953"
             ],
             [
              0.7777777777777778,
              "#fb9f3a"
             ],
             [
              0.8888888888888888,
              "#fdca26"
             ],
             [
              1,
              "#f0f921"
             ]
            ],
            "type": "histogram2dcontour"
           }
          ],
          "mesh3d": [
           {
            "colorbar": {
             "outlinewidth": 0,
             "ticks": ""
            },
            "type": "mesh3d"
           }
          ],
          "parcoords": [
           {
            "line": {
             "colorbar": {
              "outlinewidth": 0,
              "ticks": ""
             }
            },
            "type": "parcoords"
           }
          ],
          "pie": [
           {
            "automargin": true,
            "type": "pie"
           }
          ],
          "scatter": [
           {
            "fillpattern": {
             "fillmode": "overlay",
             "size": 10,
             "solidity": 0.2
            },
            "type": "scatter"
           }
          ],
          "scatter3d": [
           {
            "line": {
             "colorbar": {
              "outlinewidth": 0,
              "ticks": ""
             }
            },
            "marker": {
             "colorbar": {
              "outlinewidth": 0,
              "ticks": ""
             }
            },
            "type": "scatter3d"
           }
          ],
          "scattercarpet": [
           {
            "marker": {
             "colorbar": {
              "outlinewidth": 0,
              "ticks": ""
             }
            },
            "type": "scattercarpet"
           }
          ],
          "scattergeo": [
           {
            "marker": {
             "colorbar": {
              "outlinewidth": 0,
              "ticks": ""
             }
            },
            "type": "scattergeo"
           }
          ],
          "scattergl": [
           {
            "marker": {
             "colorbar": {
              "outlinewidth": 0,
              "ticks": ""
             }
            },
            "type": "scattergl"
           }
          ],
          "scattermap": [
           {
            "marker": {
             "colorbar": {
              "outlinewidth": 0,
              "ticks": ""
             }
            },
            "type": "scattermap"
           }
          ],
          "scattermapbox": [
           {
            "marker": {
             "colorbar": {
              "outlinewidth": 0,
              "ticks": ""
             }
            },
            "type": "scattermapbox"
           }
          ],
          "scatterpolar": [
           {
            "marker": {
             "colorbar": {
              "outlinewidth": 0,
              "ticks": ""
             }
            },
            "type": "scatterpolar"
           }
          ],
          "scatterpolargl": [
           {
            "marker": {
             "colorbar": {
              "outlinewidth": 0,
              "ticks": ""
             }
            },
            "type": "scatterpolargl"
           }
          ],
          "scatterternary": [
           {
            "marker": {
             "colorbar": {
              "outlinewidth": 0,
              "ticks": ""
             }
            },
            "type": "scatterternary"
           }
          ],
          "surface": [
           {
            "colorbar": {
             "outlinewidth": 0,
             "ticks": ""
            },
            "colorscale": [
             [
              0,
              "#0d0887"
             ],
             [
              0.1111111111111111,
              "#46039f"
             ],
             [
              0.2222222222222222,
              "#7201a8"
             ],
             [
              0.3333333333333333,
              "#9c179e"
             ],
             [
              0.4444444444444444,
              "#bd3786"
             ],
             [
              0.5555555555555556,
              "#d8576b"
             ],
             [
              0.6666666666666666,
              "#ed7953"
             ],
             [
              0.7777777777777778,
              "#fb9f3a"
             ],
             [
              0.8888888888888888,
              "#fdca26"
             ],
             [
              1,
              "#f0f921"
             ]
            ],
            "type": "surface"
           }
          ],
          "table": [
           {
            "cells": {
             "fill": {
              "color": "#EBF0F8"
             },
             "line": {
              "color": "white"
             }
            },
            "header": {
             "fill": {
              "color": "#C8D4E3"
             },
             "line": {
              "color": "white"
             }
            },
            "type": "table"
           }
          ]
         },
         "layout": {
          "annotationdefaults": {
           "arrowcolor": "#2a3f5f",
           "arrowhead": 0,
           "arrowwidth": 1
          },
          "autotypenumbers": "strict",
          "coloraxis": {
           "colorbar": {
            "outlinewidth": 0,
            "ticks": ""
           }
          },
          "colorscale": {
           "diverging": [
            [
             0,
             "#8e0152"
            ],
            [
             0.1,
             "#c51b7d"
            ],
            [
             0.2,
             "#de77ae"
            ],
            [
             0.3,
             "#f1b6da"
            ],
            [
             0.4,
             "#fde0ef"
            ],
            [
             0.5,
             "#f7f7f7"
            ],
            [
             0.6,
             "#e6f5d0"
            ],
            [
             0.7,
             "#b8e186"
            ],
            [
             0.8,
             "#7fbc41"
            ],
            [
             0.9,
             "#4d9221"
            ],
            [
             1,
             "#276419"
            ]
           ],
           "sequential": [
            [
             0,
             "#0d0887"
            ],
            [
             0.1111111111111111,
             "#46039f"
            ],
            [
             0.2222222222222222,
             "#7201a8"
            ],
            [
             0.3333333333333333,
             "#9c179e"
            ],
            [
             0.4444444444444444,
             "#bd3786"
            ],
            [
             0.5555555555555556,
             "#d8576b"
            ],
            [
             0.6666666666666666,
             "#ed7953"
            ],
            [
             0.7777777777777778,
             "#fb9f3a"
            ],
            [
             0.8888888888888888,
             "#fdca26"
            ],
            [
             1,
             "#f0f921"
            ]
           ],
           "sequentialminus": [
            [
             0,
             "#0d0887"
            ],
            [
             0.1111111111111111,
             "#46039f"
            ],
            [
             0.2222222222222222,
             "#7201a8"
            ],
            [
             0.3333333333333333,
             "#9c179e"
            ],
            [
             0.4444444444444444,
             "#bd3786"
            ],
            [
             0.5555555555555556,
             "#d8576b"
            ],
            [
             0.6666666666666666,
             "#ed7953"
            ],
            [
             0.7777777777777778,
             "#fb9f3a"
            ],
            [
             0.8888888888888888,
             "#fdca26"
            ],
            [
             1,
             "#f0f921"
            ]
           ]
          },
          "colorway": [
           "#636efa",
           "#EF553B",
           "#00cc96",
           "#ab63fa",
           "#FFA15A",
           "#19d3f3",
           "#FF6692",
           "#B6E880",
           "#FF97FF",
           "#FECB52"
          ],
          "font": {
           "color": "#2a3f5f"
          },
          "geo": {
           "bgcolor": "white",
           "lakecolor": "white",
           "landcolor": "#E5ECF6",
           "showlakes": true,
           "showland": true,
           "subunitcolor": "white"
          },
          "hoverlabel": {
           "align": "left"
          },
          "hovermode": "closest",
          "mapbox": {
           "style": "light"
          },
          "paper_bgcolor": "white",
          "plot_bgcolor": "#E5ECF6",
          "polar": {
           "angularaxis": {
            "gridcolor": "white",
            "linecolor": "white",
            "ticks": ""
           },
           "bgcolor": "#E5ECF6",
           "radialaxis": {
            "gridcolor": "white",
            "linecolor": "white",
            "ticks": ""
           }
          },
          "scene": {
           "xaxis": {
            "backgroundcolor": "#E5ECF6",
            "gridcolor": "white",
            "gridwidth": 2,
            "linecolor": "white",
            "showbackground": true,
            "ticks": "",
            "zerolinecolor": "white"
           },
           "yaxis": {
            "backgroundcolor": "#E5ECF6",
            "gridcolor": "white",
            "gridwidth": 2,
            "linecolor": "white",
            "showbackground": true,
            "ticks": "",
            "zerolinecolor": "white"
           },
           "zaxis": {
            "backgroundcolor": "#E5ECF6",
            "gridcolor": "white",
            "gridwidth": 2,
            "linecolor": "white",
            "showbackground": true,
            "ticks": "",
            "zerolinecolor": "white"
           }
          },
          "shapedefaults": {
           "line": {
            "color": "#2a3f5f"
           }
          },
          "ternary": {
           "aaxis": {
            "gridcolor": "white",
            "linecolor": "white",
            "ticks": ""
           },
           "baxis": {
            "gridcolor": "white",
            "linecolor": "white",
            "ticks": ""
           },
           "bgcolor": "#E5ECF6",
           "caxis": {
            "gridcolor": "white",
            "linecolor": "white",
            "ticks": ""
           }
          },
          "title": {
           "x": 0.05
          },
          "xaxis": {
           "automargin": true,
           "gridcolor": "white",
           "linecolor": "white",
           "ticks": "",
           "title": {
            "standoff": 15
           },
           "zerolinecolor": "white",
           "zerolinewidth": 2
          },
          "yaxis": {
           "automargin": true,
           "gridcolor": "white",
           "linecolor": "white",
           "ticks": "",
           "title": {
            "standoff": 15
           },
           "zerolinecolor": "white",
           "zerolinewidth": 2
          }
         }
        },
        "title": {
         "text": "Gene Expression Log2 Fold Change by Therapeutic Subcategory and Clinical Trial Status"
        },
        "uniformtext": {
         "minsize": 10,
         "mode": "hide"
        },
        "width": 1400,
        "xaxis": {
         "anchor": "y",
         "domain": [
          0,
          0.31999999999999995
         ],
         "tickangle": -45,
         "tickfont": {
          "size": 10
         },
         "title": {
          "text": "Gene"
         }
        },
        "xaxis2": {
         "anchor": "y2",
         "domain": [
          0.33999999999999997,
          0.6599999999999999
         ],
         "matches": "x",
         "title": {
          "text": "Gene"
         }
        },
        "xaxis3": {
         "anchor": "y3",
         "domain": [
          0.6799999999999999,
          0.9999999999999999
         ],
         "matches": "x",
         "title": {
          "text": "Gene"
         }
        },
        "yaxis": {
         "anchor": "x",
         "domain": [
          0,
          1
         ],
         "matches": "y",
         "title": {
          "text": "Log2 Fold Change"
         }
        },
        "yaxis2": {
         "anchor": "x2",
         "domain": [
          0,
          1
         ],
         "matches": "y",
         "showticklabels": false
        },
        "yaxis3": {
         "anchor": "x3",
         "domain": [
          0,
          1
         ],
         "matches": "y",
         "showticklabels": false
        }
       }
      }
     },
     "metadata": {},
     "output_type": "display_data"
    }
   ],
   "source": [
    "import plotly.express as px\n",
    "\n",
    "fig = px.bar(\n",
    "    df_unique.sort_values('log2_fc', ascending=False),\n",
    "    x='gene',\n",
    "    y='log2_fc',\n",
    "    color='Clinical_Trial_Status',\n",
    "    facet_col='Therapeutic Subcategory',\n",
    "    category_orders={\n",
    "        \"Therapeutic Subcategory\": [\n",
    "            \"FDA-approved for Breast Cancer\",\n",
    "            \"Emerging Breast Cancer Target\",\n",
    "            \"Lacks Breast Cancer Evidence\"\n",
    "        ]\n",
    "    },\n",
    "    labels={\n",
    "        'gene': 'Gene',\n",
    "        'log2_fc': 'Log2 Fold Change',\n",
    "        'Clinical_Trial_Status': 'Clinical Trial Status'\n",
    "    },\n",
    "    title='Gene Expression Log2 Fold Change by Therapeutic Subcategory and Clinical Trial Status',\n",
    "    height=600,\n",
    "    width=1400  # Increased width for better horizontal spacing\n",
    ")\n",
    "\n",
    "fig.update_layout(\n",
    "    xaxis_tickangle=-45,   # Less rotation to save vertical space\n",
    "    xaxis_tickfont=dict(size=10),\n",
    "    legend_title_text='Clinical Trial Status',\n",
    "    legend=dict(y=0.98, yanchor='top', x=1.02, xanchor='left'),\n",
    "    margin=dict(t=70, b=80),\n",
    "    # Reduce space between facets\n",
    "    grid=dict(columns=3, rows=1),\n",
    "    # Adjust facet subplot spacing\n",
    "    uniformtext_minsize=10, \n",
    "    uniformtext_mode='hide'\n",
    ")\n",
    "\n",
    "# Make y-axis same range across facets\n",
    "fig.update_yaxes(matches='y')\n",
    "\n",
    "# Clean facet titles (remove 'Therapeutic Subcategory=')\n",
    "fig.for_each_annotation(lambda a: a.update(text=a.text.split(\"=\")[-1]))\n",
    "\n",
    "fig.show()\n",
    "\n",
    "\n"
   ]
  },
  {
   "cell_type": "code",
   "execution_count": 36,
   "id": "e737d2c8",
   "metadata": {},
   "outputs": [
    {
     "data": {
      "application/vnd.plotly.v1+json": {
       "config": {
        "plotlyServerURL": "https://plot.ly"
       },
       "data": [
        {
         "customdata": [
          [
           2.4281116254762387,
           "In Breast Cancer Trial",
           17.36137088318918,
           "Upregulated"
          ],
          [
           3.365021907060928,
           "No Breast Cancer Trial",
           24.060423229958726,
           "Upregulated"
          ],
          [
           4.833173912509682,
           "In Breast Cancer Trial",
           34.557935458003215,
           "Upregulated"
          ],
          [
           4.525871343201938,
           "In Breast Cancer Trial",
           32.360674910699395,
           "Upregulated"
          ],
          [
           3.926487068605968,
           "In Breast Cancer Trial",
           28.074985330521656,
           "Upregulated"
          ],
          [
           2.2746976373458585,
           "In Breast Cancer Trial",
           16.26443731610974,
           "Upregulated"
          ],
          [
           1.529315215147456,
           "No Breast Cancer Trial",
           10.934838567099092,
           "Upregulated"
          ],
          [
           1.327114272058925,
           "In Breast Cancer Trial",
           9.489070782349048,
           "Upregulated"
          ],
          [
           3.608174361819862,
           "In Breast Cancer Trial",
           25.799000609983317,
           "Upregulated"
          ],
          [
           1.7295044325376945,
           "In Breast Cancer Trial",
           12.366222204268425,
           "Upregulated"
          ],
          [
           2.275277229814192,
           "In Breast Cancer Trial",
           16.268581491236723,
           "Upregulated"
          ],
          [
           2.725133381707342,
           "In Breast Cancer Trial",
           19.485122038695874,
           "Upregulated"
          ],
          [
           2.527845186218649,
           "In Breast Cancer Trial",
           18.074481153484292,
           "Upregulated"
          ],
          [
           2.08408786733316,
           "In Breast Cancer Trial",
           14.901548198316076,
           "Upregulated"
          ],
          [
           1.536773341268453,
           "In Breast Cancer Trial",
           10.988165313827565,
           "Upregulated"
          ],
          [
           1.1021993449604262,
           "In Breast Cancer Trial",
           7.880894524901814,
           "Upregulated"
          ],
          [
           1.3298895642346995,
           "In Breast Cancer Trial",
           9.508914547465645,
           "Upregulated"
          ],
          [
           0.841860491960256,
           "In Breast Cancer Trial",
           6.019431759015372,
           "Upregulated"
          ],
          [
           0.9601885324394592,
           "In Breast Cancer Trial",
           6.865495414032691,
           "Upregulated"
          ],
          [
           1.9191688171992607,
           "In Breast Cancer Trial",
           13.72235167166697,
           "Upregulated"
          ],
          [
           1.9034942105098431,
           "No Breast Cancer Trial",
           13.610275827489204,
           "Upregulated"
          ],
          [
           1.125685402431473,
           "No Breast Cancer Trial",
           8.048823441373587,
           "Upregulated"
          ],
          [
           1.1817163018531358,
           "In Breast Cancer Trial",
           8.44945297404071,
           "Upregulated"
          ],
          [
           1.000680853955149,
           "In Breast Cancer Trial",
           7.155021729206668,
           "Upregulated"
          ],
          [
           0.6961698102225713,
           "In Breast Cancer Trial",
           4.97772101831723,
           "Upregulated"
          ],
          [
           5.594285478521403,
           "In Breast Cancer Trial",
           40,
           "Upregulated"
          ],
          [
           3.7280177701312978,
           "No Breast Cancer Trial",
           26.655899377638704,
           "Upregulated"
          ],
          [
           4.360218923272983,
           "In Breast Cancer Trial",
           31.176234677429512,
           "Upregulated"
          ],
          [
           1.7179936480312945,
           "No Breast Cancer Trial",
           12.283918327924649,
           "Upregulated"
          ],
          [
           3.800407096026381,
           "In Breast Cancer Trial",
           27.173494170918477,
           "Upregulated"
          ],
          [
           1.651395999911036,
           "In Breast Cancer Trial",
           11.807734919866892,
           "Upregulated"
          ],
          [
           1.621236501041733,
           "In Breast Cancer Trial",
           11.592089872898182,
           "Upregulated"
          ],
          [
           4.142218862830289,
           "In Breast Cancer Trial",
           29.617500778134026,
           "Upregulated"
          ],
          [
           0.6825086843298135,
           "In Breast Cancer Trial",
           4.880041870942946,
           "Upregulated"
          ],
          [
           1.6565665997885408,
           "In Breast Cancer Trial",
           11.844705502775874,
           "Upregulated"
          ],
          [
           0.8177488364826057,
           "In Breast Cancer Trial",
           5.8470297207552635,
           "Upregulated"
          ],
          [
           1.0876557271287344,
           "In Breast Cancer Trial",
           7.776905424684956,
           "Upregulated"
          ],
          [
           3.4324345373333083,
           "No Breast Cancer Trial",
           24.54243388551932,
           "Upregulated"
          ],
          [
           2.017506755691373,
           "No Breast Cancer Trial",
           14.425483028618054,
           "Upregulated"
          ]
         ],
         "hovertemplate": "<b>%{hovertext}</b><br><br>log2_fc=%{customdata[0]:.3f}<br>Clinical_Trial_Status=%{customdata[1]}<extra></extra>",
         "hovertext": [
          "CDK4",
          "CDKN1A",
          "ERBB2",
          "CCND1",
          "CDKN2A",
          "FOXO3",
          "BAX",
          "KRAS",
          "FGFR1",
          "MDM2",
          "NF1",
          "AKT1",
          "BRCA1",
          "HRAS",
          "TP53",
          "CASP8",
          "CDK6",
          "PTEN",
          "MYC",
          "BRCA2",
          "NRAS",
          "VHL",
          "PIK3CA",
          "RB1",
          "BCL2",
          "MET",
          "SRC",
          "EGFR",
          "NF2",
          "NTRK2",
          "TSC2",
          "STK11",
          "FGFR2",
          "ATR",
          "NOTCH1",
          "SMAD4",
          "CHEK2",
          "WT1",
          "NTRK1"
         ],
         "legendgroup": "Upregulated",
         "marker": {
          "color": "red",
          "size": {
           "bdata": "MAZdzYJcMUBnl5Tldw84QIiz2G1qR0FAh/hwmCouQEAwRRY9MhM8QImI+CmyQzBA0HUhKaPeJUCRPE98Z/oiQMZc0U2LzDlAyM0MeoG7KEAyLLHBwUQwQIPEOvUwfDNAJmJmMhETMkAPEre5l80tQKjc083w+SVACrfeNgmGH0CtpZNykAQjQCzmRevlExhA/W4IbkR2G0CICgwU2HErQAA2wRJ2OCtAmfTXYv8YIECIMEGzHuYgQLJyJAS+nhxAJSPZsi/pE0AAAAAAAABEQMxsiAXppzpAGvs/tx0tP0C+Vzq+XZEoQDkkLh1qLDtAulRxbo+dJ0Dux2BnJi8nQBdX74cUnj1ADz47simFE0DkWFo9fbAnQBWJVcJbYxdAcW18GI0bH0A1jHby3Io4QMzVWenY2SxA",
           "dtype": "f8"
          },
          "sizemode": "area",
          "sizeref": 0.025,
          "symbol": "circle"
         },
         "mode": "markers",
         "name": "Upregulated",
         "orientation": "v",
         "showlegend": true,
         "type": "scatter",
         "x": [
          "FDA-approved for Breast Cancer",
          "Lacks Breast Cancer Evidence",
          "FDA-approved for Breast Cancer",
          "FDA-approved for Breast Cancer",
          "FDA-approved for Breast Cancer",
          "FDA-approved for Breast Cancer",
          "Lacks Breast Cancer Evidence",
          "FDA-approved for Breast Cancer",
          "FDA-approved for Breast Cancer",
          "FDA-approved for Breast Cancer",
          "FDA-approved for Breast Cancer",
          "FDA-approved for Breast Cancer",
          "FDA-approved for Breast Cancer",
          "FDA-approved for Breast Cancer",
          "FDA-approved for Breast Cancer",
          "Emerging Breast Cancer Target",
          "FDA-approved for Breast Cancer",
          "FDA-approved for Breast Cancer",
          "FDA-approved for Breast Cancer",
          "FDA-approved for Breast Cancer",
          "Lacks Breast Cancer Evidence",
          "Lacks Breast Cancer Evidence",
          "FDA-approved for Breast Cancer",
          "FDA-approved for Breast Cancer",
          "FDA-approved for Breast Cancer",
          "FDA-approved for Breast Cancer",
          "Lacks Breast Cancer Evidence",
          "FDA-approved for Breast Cancer",
          "Lacks Breast Cancer Evidence",
          "FDA-approved for Breast Cancer",
          "FDA-approved for Breast Cancer",
          "FDA-approved for Breast Cancer",
          "FDA-approved for Breast Cancer",
          "FDA-approved for Breast Cancer",
          "FDA-approved for Breast Cancer",
          "FDA-approved for Breast Cancer",
          "FDA-approved for Breast Cancer",
          "Lacks Breast Cancer Evidence",
          "Lacks Breast Cancer Evidence"
         ],
         "xaxis": "x",
         "y": [
          "CDK4–CCND1 Axis",
          "Cell Cycle & Apoptosis",
          "Other",
          "CDK4–CCND1 Axis",
          "Cell Cycle & Apoptosis",
          "Other",
          "Apoptosis",
          "RAS Pathway",
          "RTKs / Growth Factor Signaling",
          "Cell Cycle & Apoptosis",
          "Other",
          "Other",
          "DNA Repair / Tumor Suppressors",
          "RAS Pathway",
          "DNA Repair / Tumor Suppressors",
          "Other",
          "Other",
          "PI3K–MAPK–EGFR",
          "MYC Axis",
          "DNA Repair / Tumor Suppressors",
          "RAS Pathway",
          "Tumor Suppressor",
          "PI3K–MAPK–EGFR",
          "Other",
          "Other",
          "Other",
          "RTKs / Growth Factor Signaling",
          "PI3K–MAPK–EGFR",
          "Tumor Suppressor",
          "RTKs / Growth Factor Signaling",
          "Other",
          "Other",
          "RTKs / Growth Factor Signaling",
          "Other",
          "Other",
          "Other",
          "DNA Repair / Tumor Suppressors",
          "Transcription Factors",
          "RTKs / Growth Factor Signaling"
         ],
         "yaxis": "y"
        },
        {
         "customdata": [
          [
           -0.0958828581431106,
           "In Breast Cancer Trial",
           0.6855771555544777,
           "Downregulated"
          ]
         ],
         "hovertemplate": "<b>%{hovertext}</b><br><br>log2_fc=%{customdata[0]:.3f}<br>Clinical_Trial_Status=%{customdata[1]}<extra></extra>",
         "hovertext": [
          "ATM"
         ],
         "legendgroup": "Downregulated",
         "marker": {
          "color": "blue",
          "size": {
           "bdata": "zbe/gD/w5T8=",
           "dtype": "f8"
          },
          "sizemode": "area",
          "sizeref": 0.025,
          "symbol": "circle"
         },
         "mode": "markers",
         "name": "Downregulated",
         "orientation": "v",
         "showlegend": true,
         "type": "scatter",
         "x": [
          "FDA-approved for Breast Cancer"
         ],
         "xaxis": "x",
         "y": [
          "DNA Repair / Tumor Suppressors"
         ],
         "yaxis": "y"
        }
       ],
       "layout": {
        "legend": {
         "itemsizing": "constant",
         "title": {
          "text": "Expression Direction"
         },
         "tracegroupgap": 0
        },
        "plot_bgcolor": "white",
        "template": {
         "data": {
          "bar": [
           {
            "error_x": {
             "color": "#2a3f5f"
            },
            "error_y": {
             "color": "#2a3f5f"
            },
            "marker": {
             "line": {
              "color": "#E5ECF6",
              "width": 0.5
             },
             "pattern": {
              "fillmode": "overlay",
              "size": 10,
              "solidity": 0.2
             }
            },
            "type": "bar"
           }
          ],
          "barpolar": [
           {
            "marker": {
             "line": {
              "color": "#E5ECF6",
              "width": 0.5
             },
             "pattern": {
              "fillmode": "overlay",
              "size": 10,
              "solidity": 0.2
             }
            },
            "type": "barpolar"
           }
          ],
          "carpet": [
           {
            "aaxis": {
             "endlinecolor": "#2a3f5f",
             "gridcolor": "white",
             "linecolor": "white",
             "minorgridcolor": "white",
             "startlinecolor": "#2a3f5f"
            },
            "baxis": {
             "endlinecolor": "#2a3f5f",
             "gridcolor": "white",
             "linecolor": "white",
             "minorgridcolor": "white",
             "startlinecolor": "#2a3f5f"
            },
            "type": "carpet"
           }
          ],
          "choropleth": [
           {
            "colorbar": {
             "outlinewidth": 0,
             "ticks": ""
            },
            "type": "choropleth"
           }
          ],
          "contour": [
           {
            "colorbar": {
             "outlinewidth": 0,
             "ticks": ""
            },
            "colorscale": [
             [
              0,
              "#0d0887"
             ],
             [
              0.1111111111111111,
              "#46039f"
             ],
             [
              0.2222222222222222,
              "#7201a8"
             ],
             [
              0.3333333333333333,
              "#9c179e"
             ],
             [
              0.4444444444444444,
              "#bd3786"
             ],
             [
              0.5555555555555556,
              "#d8576b"
             ],
             [
              0.6666666666666666,
              "#ed7953"
             ],
             [
              0.7777777777777778,
              "#fb9f3a"
             ],
             [
              0.8888888888888888,
              "#fdca26"
             ],
             [
              1,
              "#f0f921"
             ]
            ],
            "type": "contour"
           }
          ],
          "contourcarpet": [
           {
            "colorbar": {
             "outlinewidth": 0,
             "ticks": ""
            },
            "type": "contourcarpet"
           }
          ],
          "heatmap": [
           {
            "colorbar": {
             "outlinewidth": 0,
             "ticks": ""
            },
            "colorscale": [
             [
              0,
              "#0d0887"
             ],
             [
              0.1111111111111111,
              "#46039f"
             ],
             [
              0.2222222222222222,
              "#7201a8"
             ],
             [
              0.3333333333333333,
              "#9c179e"
             ],
             [
              0.4444444444444444,
              "#bd3786"
             ],
             [
              0.5555555555555556,
              "#d8576b"
             ],
             [
              0.6666666666666666,
              "#ed7953"
             ],
             [
              0.7777777777777778,
              "#fb9f3a"
             ],
             [
              0.8888888888888888,
              "#fdca26"
             ],
             [
              1,
              "#f0f921"
             ]
            ],
            "type": "heatmap"
           }
          ],
          "histogram": [
           {
            "marker": {
             "pattern": {
              "fillmode": "overlay",
              "size": 10,
              "solidity": 0.2
             }
            },
            "type": "histogram"
           }
          ],
          "histogram2d": [
           {
            "colorbar": {
             "outlinewidth": 0,
             "ticks": ""
            },
            "colorscale": [
             [
              0,
              "#0d0887"
             ],
             [
              0.1111111111111111,
              "#46039f"
             ],
             [
              0.2222222222222222,
              "#7201a8"
             ],
             [
              0.3333333333333333,
              "#9c179e"
             ],
             [
              0.4444444444444444,
              "#bd3786"
             ],
             [
              0.5555555555555556,
              "#d8576b"
             ],
             [
              0.6666666666666666,
              "#ed7953"
             ],
             [
              0.7777777777777778,
              "#fb9f3a"
             ],
             [
              0.8888888888888888,
              "#fdca26"
             ],
             [
              1,
              "#f0f921"
             ]
            ],
            "type": "histogram2d"
           }
          ],
          "histogram2dcontour": [
           {
            "colorbar": {
             "outlinewidth": 0,
             "ticks": ""
            },
            "colorscale": [
             [
              0,
              "#0d0887"
             ],
             [
              0.1111111111111111,
              "#46039f"
             ],
             [
              0.2222222222222222,
              "#7201a8"
             ],
             [
              0.3333333333333333,
              "#9c179e"
             ],
             [
              0.4444444444444444,
              "#bd3786"
             ],
             [
              0.5555555555555556,
              "#d8576b"
             ],
             [
              0.6666666666666666,
              "#ed7953"
             ],
             [
              0.7777777777777778,
              "#fb9f3a"
             ],
             [
              0.8888888888888888,
              "#fdca26"
             ],
             [
              1,
              "#f0f921"
             ]
            ],
            "type": "histogram2dcontour"
           }
          ],
          "mesh3d": [
           {
            "colorbar": {
             "outlinewidth": 0,
             "ticks": ""
            },
            "type": "mesh3d"
           }
          ],
          "parcoords": [
           {
            "line": {
             "colorbar": {
              "outlinewidth": 0,
              "ticks": ""
             }
            },
            "type": "parcoords"
           }
          ],
          "pie": [
           {
            "automargin": true,
            "type": "pie"
           }
          ],
          "scatter": [
           {
            "fillpattern": {
             "fillmode": "overlay",
             "size": 10,
             "solidity": 0.2
            },
            "type": "scatter"
           }
          ],
          "scatter3d": [
           {
            "line": {
             "colorbar": {
              "outlinewidth": 0,
              "ticks": ""
             }
            },
            "marker": {
             "colorbar": {
              "outlinewidth": 0,
              "ticks": ""
             }
            },
            "type": "scatter3d"
           }
          ],
          "scattercarpet": [
           {
            "marker": {
             "colorbar": {
              "outlinewidth": 0,
              "ticks": ""
             }
            },
            "type": "scattercarpet"
           }
          ],
          "scattergeo": [
           {
            "marker": {
             "colorbar": {
              "outlinewidth": 0,
              "ticks": ""
             }
            },
            "type": "scattergeo"
           }
          ],
          "scattergl": [
           {
            "marker": {
             "colorbar": {
              "outlinewidth": 0,
              "ticks": ""
             }
            },
            "type": "scattergl"
           }
          ],
          "scattermap": [
           {
            "marker": {
             "colorbar": {
              "outlinewidth": 0,
              "ticks": ""
             }
            },
            "type": "scattermap"
           }
          ],
          "scattermapbox": [
           {
            "marker": {
             "colorbar": {
              "outlinewidth": 0,
              "ticks": ""
             }
            },
            "type": "scattermapbox"
           }
          ],
          "scatterpolar": [
           {
            "marker": {
             "colorbar": {
              "outlinewidth": 0,
              "ticks": ""
             }
            },
            "type": "scatterpolar"
           }
          ],
          "scatterpolargl": [
           {
            "marker": {
             "colorbar": {
              "outlinewidth": 0,
              "ticks": ""
             }
            },
            "type": "scatterpolargl"
           }
          ],
          "scatterternary": [
           {
            "marker": {
             "colorbar": {
              "outlinewidth": 0,
              "ticks": ""
             }
            },
            "type": "scatterternary"
           }
          ],
          "surface": [
           {
            "colorbar": {
             "outlinewidth": 0,
             "ticks": ""
            },
            "colorscale": [
             [
              0,
              "#0d0887"
             ],
             [
              0.1111111111111111,
              "#46039f"
             ],
             [
              0.2222222222222222,
              "#7201a8"
             ],
             [
              0.3333333333333333,
              "#9c179e"
             ],
             [
              0.4444444444444444,
              "#bd3786"
             ],
             [
              0.5555555555555556,
              "#d8576b"
             ],
             [
              0.6666666666666666,
              "#ed7953"
             ],
             [
              0.7777777777777778,
              "#fb9f3a"
             ],
             [
              0.8888888888888888,
              "#fdca26"
             ],
             [
              1,
              "#f0f921"
             ]
            ],
            "type": "surface"
           }
          ],
          "table": [
           {
            "cells": {
             "fill": {
              "color": "#EBF0F8"
             },
             "line": {
              "color": "white"
             }
            },
            "header": {
             "fill": {
              "color": "#C8D4E3"
             },
             "line": {
              "color": "white"
             }
            },
            "type": "table"
           }
          ]
         },
         "layout": {
          "annotationdefaults": {
           "arrowcolor": "#2a3f5f",
           "arrowhead": 0,
           "arrowwidth": 1
          },
          "autotypenumbers": "strict",
          "coloraxis": {
           "colorbar": {
            "outlinewidth": 0,
            "ticks": ""
           }
          },
          "colorscale": {
           "diverging": [
            [
             0,
             "#8e0152"
            ],
            [
             0.1,
             "#c51b7d"
            ],
            [
             0.2,
             "#de77ae"
            ],
            [
             0.3,
             "#f1b6da"
            ],
            [
             0.4,
             "#fde0ef"
            ],
            [
             0.5,
             "#f7f7f7"
            ],
            [
             0.6,
             "#e6f5d0"
            ],
            [
             0.7,
             "#b8e186"
            ],
            [
             0.8,
             "#7fbc41"
            ],
            [
             0.9,
             "#4d9221"
            ],
            [
             1,
             "#276419"
            ]
           ],
           "sequential": [
            [
             0,
             "#0d0887"
            ],
            [
             0.1111111111111111,
             "#46039f"
            ],
            [
             0.2222222222222222,
             "#7201a8"
            ],
            [
             0.3333333333333333,
             "#9c179e"
            ],
            [
             0.4444444444444444,
             "#bd3786"
            ],
            [
             0.5555555555555556,
             "#d8576b"
            ],
            [
             0.6666666666666666,
             "#ed7953"
            ],
            [
             0.7777777777777778,
             "#fb9f3a"
            ],
            [
             0.8888888888888888,
             "#fdca26"
            ],
            [
             1,
             "#f0f921"
            ]
           ],
           "sequentialminus": [
            [
             0,
             "#0d0887"
            ],
            [
             0.1111111111111111,
             "#46039f"
            ],
            [
             0.2222222222222222,
             "#7201a8"
            ],
            [
             0.3333333333333333,
             "#9c179e"
            ],
            [
             0.4444444444444444,
             "#bd3786"
            ],
            [
             0.5555555555555556,
             "#d8576b"
            ],
            [
             0.6666666666666666,
             "#ed7953"
            ],
            [
             0.7777777777777778,
             "#fb9f3a"
            ],
            [
             0.8888888888888888,
             "#fdca26"
            ],
            [
             1,
             "#f0f921"
            ]
           ]
          },
          "colorway": [
           "#636efa",
           "#EF553B",
           "#00cc96",
           "#ab63fa",
           "#FFA15A",
           "#19d3f3",
           "#FF6692",
           "#B6E880",
           "#FF97FF",
           "#FECB52"
          ],
          "font": {
           "color": "#2a3f5f"
          },
          "geo": {
           "bgcolor": "white",
           "lakecolor": "white",
           "landcolor": "#E5ECF6",
           "showlakes": true,
           "showland": true,
           "subunitcolor": "white"
          },
          "hoverlabel": {
           "align": "left"
          },
          "hovermode": "closest",
          "mapbox": {
           "style": "light"
          },
          "paper_bgcolor": "white",
          "plot_bgcolor": "#E5ECF6",
          "polar": {
           "angularaxis": {
            "gridcolor": "white",
            "linecolor": "white",
            "ticks": ""
           },
           "bgcolor": "#E5ECF6",
           "radialaxis": {
            "gridcolor": "white",
            "linecolor": "white",
            "ticks": ""
           }
          },
          "scene": {
           "xaxis": {
            "backgroundcolor": "#E5ECF6",
            "gridcolor": "white",
            "gridwidth": 2,
            "linecolor": "white",
            "showbackground": true,
            "ticks": "",
            "zerolinecolor": "white"
           },
           "yaxis": {
            "backgroundcolor": "#E5ECF6",
            "gridcolor": "white",
            "gridwidth": 2,
            "linecolor": "white",
            "showbackground": true,
            "ticks": "",
            "zerolinecolor": "white"
           },
           "zaxis": {
            "backgroundcolor": "#E5ECF6",
            "gridcolor": "white",
            "gridwidth": 2,
            "linecolor": "white",
            "showbackground": true,
            "ticks": "",
            "zerolinecolor": "white"
           }
          },
          "shapedefaults": {
           "line": {
            "color": "#2a3f5f"
           }
          },
          "ternary": {
           "aaxis": {
            "gridcolor": "white",
            "linecolor": "white",
            "ticks": ""
           },
           "baxis": {
            "gridcolor": "white",
            "linecolor": "white",
            "ticks": ""
           },
           "bgcolor": "#E5ECF6",
           "caxis": {
            "gridcolor": "white",
            "linecolor": "white",
            "ticks": ""
           }
          },
          "title": {
           "x": 0.05
          },
          "xaxis": {
           "automargin": true,
           "gridcolor": "white",
           "linecolor": "white",
           "ticks": "",
           "title": {
            "standoff": 15
           },
           "zerolinecolor": "white",
           "zerolinewidth": 2
          },
          "yaxis": {
           "automargin": true,
           "gridcolor": "white",
           "linecolor": "white",
           "ticks": "",
           "title": {
            "standoff": 15
           },
           "zerolinecolor": "white",
           "zerolinewidth": 2
          }
         }
        },
        "title": {
         "text": "Gene Expression Bubble Plot by Therapeutic Subcategory and Pathway"
        },
        "xaxis": {
         "anchor": "y",
         "domain": [
          0,
          1
         ],
         "title": {
          "text": "Therapeutic Subcategory"
         }
        },
        "yaxis": {
         "anchor": "x",
         "categoryorder": "total ascending",
         "domain": [
          0,
          1
         ],
         "title": {
          "text": "Pathway Category"
         }
        }
       }
      }
     },
     "metadata": {},
     "output_type": "display_data"
    }
   ],
   "source": [
    "import plotly.express as px\n",
    "import numpy as np\n",
    "\n",
    "# Create a new column for absolute log2 fold change for bubble size\n",
    "df_unique['abs_log2_fc'] = np.abs(df_unique['log2_fc'])\n",
    "\n",
    "# Create color column: red if upregulated (log2_fc > 0), blue if downregulated (log2_fc < 0)\n",
    "df_unique['expr_direction'] = df_unique['log2_fc'].apply(lambda x: 'Upregulated' if x > 0 else 'Downregulated')\n",
    "\n",
    "# Bubble size scaling for better visibility (adjust max size as needed)\n",
    "max_size = 40\n",
    "df_unique['bubble_size'] = df_unique['abs_log2_fc'] / df_unique['abs_log2_fc'].max() * max_size\n",
    "\n",
    "fig = px.scatter(\n",
    "    df_unique,\n",
    "    x='Therapeutic Subcategory',\n",
    "    y='Pathway Category',\n",
    "    size='bubble_size',\n",
    "    color='expr_direction',\n",
    "    hover_name='gene',\n",
    "    hover_data={\n",
    "        'log2_fc': ':.3f',\n",
    "        'Clinical_Trial_Status': True,\n",
    "        'bubble_size': False,  # hide raw size\n",
    "        'Therapeutic Subcategory': False,\n",
    "        'Pathway Category': False,\n",
    "        'expr_direction': False\n",
    "    },\n",
    "    color_discrete_map={'Upregulated': 'red', 'Downregulated': 'blue'},\n",
    "    size_max=max_size,\n",
    "    title='Gene Expression Bubble Plot by Therapeutic Subcategory and Pathway',\n",
    "    labels={'Therapeutic Subcategory': 'Therapeutic Subcategory', 'Pathway Category': 'Pathway Category'}\n",
    ")\n",
    "\n",
    "fig.update_layout(\n",
    "    yaxis={'categoryorder': 'total ascending'},  # order Y-axis categories\n",
    "    legend_title_text='Expression Direction',\n",
    "    plot_bgcolor='white'\n",
    ")\n",
    "\n",
    "fig.show()\n",
    "\n"
   ]
  },
  {
   "cell_type": "code",
   "execution_count": 37,
   "id": "79af15b1",
   "metadata": {},
   "outputs": [
    {
     "data": {
      "application/vnd.plotly.v1+json": {
       "config": {
        "plotlyServerURL": "https://plot.ly"
       },
       "data": [
        {
         "customdata": [
          [
           2.4281116254762387,
           "In Breast Cancer Trial",
           17.36137088318918,
           "Upregulated"
          ],
          [
           3.365021907060928,
           "No Breast Cancer Trial",
           24.060423229958726,
           "Upregulated"
          ],
          [
           4.833173912509682,
           "In Breast Cancer Trial",
           34.557935458003215,
           "Upregulated"
          ],
          [
           4.525871343201938,
           "In Breast Cancer Trial",
           32.360674910699395,
           "Upregulated"
          ],
          [
           3.926487068605968,
           "In Breast Cancer Trial",
           28.074985330521656,
           "Upregulated"
          ],
          [
           2.2746976373458585,
           "In Breast Cancer Trial",
           16.26443731610974,
           "Upregulated"
          ],
          [
           1.529315215147456,
           "No Breast Cancer Trial",
           10.934838567099092,
           "Upregulated"
          ],
          [
           1.327114272058925,
           "In Breast Cancer Trial",
           9.489070782349048,
           "Upregulated"
          ],
          [
           3.608174361819862,
           "In Breast Cancer Trial",
           25.799000609983317,
           "Upregulated"
          ],
          [
           1.7295044325376945,
           "In Breast Cancer Trial",
           12.366222204268425,
           "Upregulated"
          ],
          [
           2.275277229814192,
           "In Breast Cancer Trial",
           16.268581491236723,
           "Upregulated"
          ],
          [
           2.725133381707342,
           "In Breast Cancer Trial",
           19.485122038695874,
           "Upregulated"
          ],
          [
           2.527845186218649,
           "In Breast Cancer Trial",
           18.074481153484292,
           "Upregulated"
          ],
          [
           2.08408786733316,
           "In Breast Cancer Trial",
           14.901548198316076,
           "Upregulated"
          ],
          [
           1.536773341268453,
           "In Breast Cancer Trial",
           10.988165313827565,
           "Upregulated"
          ],
          [
           1.1021993449604262,
           "In Breast Cancer Trial",
           7.880894524901814,
           "Upregulated"
          ],
          [
           1.3298895642346995,
           "In Breast Cancer Trial",
           9.508914547465645,
           "Upregulated"
          ],
          [
           0.841860491960256,
           "In Breast Cancer Trial",
           6.019431759015372,
           "Upregulated"
          ],
          [
           0.9601885324394592,
           "In Breast Cancer Trial",
           6.865495414032691,
           "Upregulated"
          ],
          [
           1.9191688171992607,
           "In Breast Cancer Trial",
           13.72235167166697,
           "Upregulated"
          ],
          [
           1.9034942105098431,
           "No Breast Cancer Trial",
           13.610275827489204,
           "Upregulated"
          ],
          [
           1.125685402431473,
           "No Breast Cancer Trial",
           8.048823441373587,
           "Upregulated"
          ],
          [
           1.1817163018531358,
           "In Breast Cancer Trial",
           8.44945297404071,
           "Upregulated"
          ],
          [
           1.000680853955149,
           "In Breast Cancer Trial",
           7.155021729206668,
           "Upregulated"
          ],
          [
           0.6961698102225713,
           "In Breast Cancer Trial",
           4.97772101831723,
           "Upregulated"
          ],
          [
           5.594285478521403,
           "In Breast Cancer Trial",
           40,
           "Upregulated"
          ],
          [
           3.7280177701312978,
           "No Breast Cancer Trial",
           26.655899377638704,
           "Upregulated"
          ],
          [
           4.360218923272983,
           "In Breast Cancer Trial",
           31.176234677429512,
           "Upregulated"
          ],
          [
           1.7179936480312945,
           "No Breast Cancer Trial",
           12.283918327924649,
           "Upregulated"
          ],
          [
           3.800407096026381,
           "In Breast Cancer Trial",
           27.173494170918477,
           "Upregulated"
          ],
          [
           1.651395999911036,
           "In Breast Cancer Trial",
           11.807734919866892,
           "Upregulated"
          ],
          [
           1.621236501041733,
           "In Breast Cancer Trial",
           11.592089872898182,
           "Upregulated"
          ],
          [
           4.142218862830289,
           "In Breast Cancer Trial",
           29.617500778134026,
           "Upregulated"
          ],
          [
           0.6825086843298135,
           "In Breast Cancer Trial",
           4.880041870942946,
           "Upregulated"
          ],
          [
           1.6565665997885408,
           "In Breast Cancer Trial",
           11.844705502775874,
           "Upregulated"
          ],
          [
           0.8177488364826057,
           "In Breast Cancer Trial",
           5.8470297207552635,
           "Upregulated"
          ],
          [
           1.0876557271287344,
           "In Breast Cancer Trial",
           7.776905424684956,
           "Upregulated"
          ],
          [
           3.4324345373333083,
           "No Breast Cancer Trial",
           24.54243388551932,
           "Upregulated"
          ],
          [
           2.017506755691373,
           "No Breast Cancer Trial",
           14.425483028618054,
           "Upregulated"
          ]
         ],
         "hovertemplate": "<b>%{hovertext}</b><br><br>log2_fc=%{customdata[0]:.3f}<br>Clinical_Trial_Status=%{customdata[1]}<extra></extra>",
         "hovertext": [
          "CDK4",
          "CDKN1A",
          "ERBB2",
          "CCND1",
          "CDKN2A",
          "FOXO3",
          "BAX",
          "KRAS",
          "FGFR1",
          "MDM2",
          "NF1",
          "AKT1",
          "BRCA1",
          "HRAS",
          "TP53",
          "CASP8",
          "CDK6",
          "PTEN",
          "MYC",
          "BRCA2",
          "NRAS",
          "VHL",
          "PIK3CA",
          "RB1",
          "BCL2",
          "MET",
          "SRC",
          "EGFR",
          "NF2",
          "NTRK2",
          "TSC2",
          "STK11",
          "FGFR2",
          "ATR",
          "NOTCH1",
          "SMAD4",
          "CHEK2",
          "WT1",
          "NTRK1"
         ],
         "legendgroup": "Upregulated",
         "marker": {
          "color": "red",
          "size": {
           "bdata": "MAZdzYJcMUBnl5Tldw84QIiz2G1qR0FAh/hwmCouQEAwRRY9MhM8QImI+CmyQzBA0HUhKaPeJUCRPE98Z/oiQMZc0U2LzDlAyM0MeoG7KEAyLLHBwUQwQIPEOvUwfDNAJmJmMhETMkAPEre5l80tQKjc083w+SVACrfeNgmGH0CtpZNykAQjQCzmRevlExhA/W4IbkR2G0CICgwU2HErQAA2wRJ2OCtAmfTXYv8YIECIMEGzHuYgQLJyJAS+nhxAJSPZsi/pE0AAAAAAAABEQMxsiAXppzpAGvs/tx0tP0C+Vzq+XZEoQDkkLh1qLDtAulRxbo+dJ0Dux2BnJi8nQBdX74cUnj1ADz47simFE0DkWFo9fbAnQBWJVcJbYxdAcW18GI0bH0A1jHby3Io4QMzVWenY2SxA",
           "dtype": "f8"
          },
          "sizemode": "area",
          "sizeref": 0.025,
          "symbol": "circle"
         },
         "mode": "markers",
         "name": "Upregulated",
         "orientation": "v",
         "showlegend": true,
         "type": "scatter",
         "x": [
          "FDA-approved for Breast Cancer",
          "Lacks Breast Cancer Evidence",
          "FDA-approved for Breast Cancer",
          "FDA-approved for Breast Cancer",
          "FDA-approved for Breast Cancer",
          "FDA-approved for Breast Cancer",
          "Lacks Breast Cancer Evidence",
          "FDA-approved for Breast Cancer",
          "FDA-approved for Breast Cancer",
          "FDA-approved for Breast Cancer",
          "FDA-approved for Breast Cancer",
          "FDA-approved for Breast Cancer",
          "FDA-approved for Breast Cancer",
          "FDA-approved for Breast Cancer",
          "FDA-approved for Breast Cancer",
          "Emerging Breast Cancer Target",
          "FDA-approved for Breast Cancer",
          "FDA-approved for Breast Cancer",
          "FDA-approved for Breast Cancer",
          "FDA-approved for Breast Cancer",
          "Lacks Breast Cancer Evidence",
          "Lacks Breast Cancer Evidence",
          "FDA-approved for Breast Cancer",
          "FDA-approved for Breast Cancer",
          "FDA-approved for Breast Cancer",
          "FDA-approved for Breast Cancer",
          "Lacks Breast Cancer Evidence",
          "FDA-approved for Breast Cancer",
          "Lacks Breast Cancer Evidence",
          "FDA-approved for Breast Cancer",
          "FDA-approved for Breast Cancer",
          "FDA-approved for Breast Cancer",
          "FDA-approved for Breast Cancer",
          "FDA-approved for Breast Cancer",
          "FDA-approved for Breast Cancer",
          "FDA-approved for Breast Cancer",
          "FDA-approved for Breast Cancer",
          "Lacks Breast Cancer Evidence",
          "Lacks Breast Cancer Evidence"
         ],
         "xaxis": "x",
         "y": [
          "CDK4–CCND1 Axis",
          "Cell Cycle & Apoptosis",
          "Other",
          "CDK4–CCND1 Axis",
          "Cell Cycle & Apoptosis",
          "Other",
          "Apoptosis",
          "RAS Pathway",
          "RTKs / Growth Factor Signaling",
          "Cell Cycle & Apoptosis",
          "Other",
          "Other",
          "DNA Repair / Tumor Suppressors",
          "RAS Pathway",
          "DNA Repair / Tumor Suppressors",
          "Other",
          "Other",
          "PI3K–MAPK–EGFR",
          "MYC Axis",
          "DNA Repair / Tumor Suppressors",
          "RAS Pathway",
          "Tumor Suppressor",
          "PI3K–MAPK–EGFR",
          "Other",
          "Other",
          "Other",
          "RTKs / Growth Factor Signaling",
          "PI3K–MAPK–EGFR",
          "Tumor Suppressor",
          "RTKs / Growth Factor Signaling",
          "Other",
          "Other",
          "RTKs / Growth Factor Signaling",
          "Other",
          "Other",
          "Other",
          "DNA Repair / Tumor Suppressors",
          "Transcription Factors",
          "RTKs / Growth Factor Signaling"
         ],
         "yaxis": "y"
        },
        {
         "customdata": [
          [
           -0.0958828581431106,
           "In Breast Cancer Trial",
           0.6855771555544777,
           "Downregulated"
          ]
         ],
         "hovertemplate": "<b>%{hovertext}</b><br><br>log2_fc=%{customdata[0]:.3f}<br>Clinical_Trial_Status=%{customdata[1]}<extra></extra>",
         "hovertext": [
          "ATM"
         ],
         "legendgroup": "Downregulated",
         "marker": {
          "color": "blue",
          "size": {
           "bdata": "zbe/gD/w5T8=",
           "dtype": "f8"
          },
          "sizemode": "area",
          "sizeref": 0.025,
          "symbol": "circle"
         },
         "mode": "markers",
         "name": "Downregulated",
         "orientation": "v",
         "showlegend": true,
         "type": "scatter",
         "x": [
          "FDA-approved for Breast Cancer"
         ],
         "xaxis": "x",
         "y": [
          "DNA Repair / Tumor Suppressors"
         ],
         "yaxis": "y"
        }
       ],
       "layout": {
        "height": 600,
        "legend": {
         "font": {
          "size": 12
         },
         "itemsizing": "constant",
         "title": {
          "text": "Expression Direction"
         },
         "tracegroupgap": 0
        },
        "plot_bgcolor": "white",
        "template": {
         "data": {
          "bar": [
           {
            "error_x": {
             "color": "#2a3f5f"
            },
            "error_y": {
             "color": "#2a3f5f"
            },
            "marker": {
             "line": {
              "color": "#E5ECF6",
              "width": 0.5
             },
             "pattern": {
              "fillmode": "overlay",
              "size": 10,
              "solidity": 0.2
             }
            },
            "type": "bar"
           }
          ],
          "barpolar": [
           {
            "marker": {
             "line": {
              "color": "#E5ECF6",
              "width": 0.5
             },
             "pattern": {
              "fillmode": "overlay",
              "size": 10,
              "solidity": 0.2
             }
            },
            "type": "barpolar"
           }
          ],
          "carpet": [
           {
            "aaxis": {
             "endlinecolor": "#2a3f5f",
             "gridcolor": "white",
             "linecolor": "white",
             "minorgridcolor": "white",
             "startlinecolor": "#2a3f5f"
            },
            "baxis": {
             "endlinecolor": "#2a3f5f",
             "gridcolor": "white",
             "linecolor": "white",
             "minorgridcolor": "white",
             "startlinecolor": "#2a3f5f"
            },
            "type": "carpet"
           }
          ],
          "choropleth": [
           {
            "colorbar": {
             "outlinewidth": 0,
             "ticks": ""
            },
            "type": "choropleth"
           }
          ],
          "contour": [
           {
            "colorbar": {
             "outlinewidth": 0,
             "ticks": ""
            },
            "colorscale": [
             [
              0,
              "#0d0887"
             ],
             [
              0.1111111111111111,
              "#46039f"
             ],
             [
              0.2222222222222222,
              "#7201a8"
             ],
             [
              0.3333333333333333,
              "#9c179e"
             ],
             [
              0.4444444444444444,
              "#bd3786"
             ],
             [
              0.5555555555555556,
              "#d8576b"
             ],
             [
              0.6666666666666666,
              "#ed7953"
             ],
             [
              0.7777777777777778,
              "#fb9f3a"
             ],
             [
              0.8888888888888888,
              "#fdca26"
             ],
             [
              1,
              "#f0f921"
             ]
            ],
            "type": "contour"
           }
          ],
          "contourcarpet": [
           {
            "colorbar": {
             "outlinewidth": 0,
             "ticks": ""
            },
            "type": "contourcarpet"
           }
          ],
          "heatmap": [
           {
            "colorbar": {
             "outlinewidth": 0,
             "ticks": ""
            },
            "colorscale": [
             [
              0,
              "#0d0887"
             ],
             [
              0.1111111111111111,
              "#46039f"
             ],
             [
              0.2222222222222222,
              "#7201a8"
             ],
             [
              0.3333333333333333,
              "#9c179e"
             ],
             [
              0.4444444444444444,
              "#bd3786"
             ],
             [
              0.5555555555555556,
              "#d8576b"
             ],
             [
              0.6666666666666666,
              "#ed7953"
             ],
             [
              0.7777777777777778,
              "#fb9f3a"
             ],
             [
              0.8888888888888888,
              "#fdca26"
             ],
             [
              1,
              "#f0f921"
             ]
            ],
            "type": "heatmap"
           }
          ],
          "histogram": [
           {
            "marker": {
             "pattern": {
              "fillmode": "overlay",
              "size": 10,
              "solidity": 0.2
             }
            },
            "type": "histogram"
           }
          ],
          "histogram2d": [
           {
            "colorbar": {
             "outlinewidth": 0,
             "ticks": ""
            },
            "colorscale": [
             [
              0,
              "#0d0887"
             ],
             [
              0.1111111111111111,
              "#46039f"
             ],
             [
              0.2222222222222222,
              "#7201a8"
             ],
             [
              0.3333333333333333,
              "#9c179e"
             ],
             [
              0.4444444444444444,
              "#bd3786"
             ],
             [
              0.5555555555555556,
              "#d8576b"
             ],
             [
              0.6666666666666666,
              "#ed7953"
             ],
             [
              0.7777777777777778,
              "#fb9f3a"
             ],
             [
              0.8888888888888888,
              "#fdca26"
             ],
             [
              1,
              "#f0f921"
             ]
            ],
            "type": "histogram2d"
           }
          ],
          "histogram2dcontour": [
           {
            "colorbar": {
             "outlinewidth": 0,
             "ticks": ""
            },
            "colorscale": [
             [
              0,
              "#0d0887"
             ],
             [
              0.1111111111111111,
              "#46039f"
             ],
             [
              0.2222222222222222,
              "#7201a8"
             ],
             [
              0.3333333333333333,
              "#9c179e"
             ],
             [
              0.4444444444444444,
              "#bd3786"
             ],
             [
              0.5555555555555556,
              "#d8576b"
             ],
             [
              0.6666666666666666,
              "#ed7953"
             ],
             [
              0.7777777777777778,
              "#fb9f3a"
             ],
             [
              0.8888888888888888,
              "#fdca26"
             ],
             [
              1,
              "#f0f921"
             ]
            ],
            "type": "histogram2dcontour"
           }
          ],
          "mesh3d": [
           {
            "colorbar": {
             "outlinewidth": 0,
             "ticks": ""
            },
            "type": "mesh3d"
           }
          ],
          "parcoords": [
           {
            "line": {
             "colorbar": {
              "outlinewidth": 0,
              "ticks": ""
             }
            },
            "type": "parcoords"
           }
          ],
          "pie": [
           {
            "automargin": true,
            "type": "pie"
           }
          ],
          "scatter": [
           {
            "fillpattern": {
             "fillmode": "overlay",
             "size": 10,
             "solidity": 0.2
            },
            "type": "scatter"
           }
          ],
          "scatter3d": [
           {
            "line": {
             "colorbar": {
              "outlinewidth": 0,
              "ticks": ""
             }
            },
            "marker": {
             "colorbar": {
              "outlinewidth": 0,
              "ticks": ""
             }
            },
            "type": "scatter3d"
           }
          ],
          "scattercarpet": [
           {
            "marker": {
             "colorbar": {
              "outlinewidth": 0,
              "ticks": ""
             }
            },
            "type": "scattercarpet"
           }
          ],
          "scattergeo": [
           {
            "marker": {
             "colorbar": {
              "outlinewidth": 0,
              "ticks": ""
             }
            },
            "type": "scattergeo"
           }
          ],
          "scattergl": [
           {
            "marker": {
             "colorbar": {
              "outlinewidth": 0,
              "ticks": ""
             }
            },
            "type": "scattergl"
           }
          ],
          "scattermap": [
           {
            "marker": {
             "colorbar": {
              "outlinewidth": 0,
              "ticks": ""
             }
            },
            "type": "scattermap"
           }
          ],
          "scattermapbox": [
           {
            "marker": {
             "colorbar": {
              "outlinewidth": 0,
              "ticks": ""
             }
            },
            "type": "scattermapbox"
           }
          ],
          "scatterpolar": [
           {
            "marker": {
             "colorbar": {
              "outlinewidth": 0,
              "ticks": ""
             }
            },
            "type": "scatterpolar"
           }
          ],
          "scatterpolargl": [
           {
            "marker": {
             "colorbar": {
              "outlinewidth": 0,
              "ticks": ""
             }
            },
            "type": "scatterpolargl"
           }
          ],
          "scatterternary": [
           {
            "marker": {
             "colorbar": {
              "outlinewidth": 0,
              "ticks": ""
             }
            },
            "type": "scatterternary"
           }
          ],
          "surface": [
           {
            "colorbar": {
             "outlinewidth": 0,
             "ticks": ""
            },
            "colorscale": [
             [
              0,
              "#0d0887"
             ],
             [
              0.1111111111111111,
              "#46039f"
             ],
             [
              0.2222222222222222,
              "#7201a8"
             ],
             [
              0.3333333333333333,
              "#9c179e"
             ],
             [
              0.4444444444444444,
              "#bd3786"
             ],
             [
              0.5555555555555556,
              "#d8576b"
             ],
             [
              0.6666666666666666,
              "#ed7953"
             ],
             [
              0.7777777777777778,
              "#fb9f3a"
             ],
             [
              0.8888888888888888,
              "#fdca26"
             ],
             [
              1,
              "#f0f921"
             ]
            ],
            "type": "surface"
           }
          ],
          "table": [
           {
            "cells": {
             "fill": {
              "color": "#EBF0F8"
             },
             "line": {
              "color": "white"
             }
            },
            "header": {
             "fill": {
              "color": "#C8D4E3"
             },
             "line": {
              "color": "white"
             }
            },
            "type": "table"
           }
          ]
         },
         "layout": {
          "annotationdefaults": {
           "arrowcolor": "#2a3f5f",
           "arrowhead": 0,
           "arrowwidth": 1
          },
          "autotypenumbers": "strict",
          "coloraxis": {
           "colorbar": {
            "outlinewidth": 0,
            "ticks": ""
           }
          },
          "colorscale": {
           "diverging": [
            [
             0,
             "#8e0152"
            ],
            [
             0.1,
             "#c51b7d"
            ],
            [
             0.2,
             "#de77ae"
            ],
            [
             0.3,
             "#f1b6da"
            ],
            [
             0.4,
             "#fde0ef"
            ],
            [
             0.5,
             "#f7f7f7"
            ],
            [
             0.6,
             "#e6f5d0"
            ],
            [
             0.7,
             "#b8e186"
            ],
            [
             0.8,
             "#7fbc41"
            ],
            [
             0.9,
             "#4d9221"
            ],
            [
             1,
             "#276419"
            ]
           ],
           "sequential": [
            [
             0,
             "#0d0887"
            ],
            [
             0.1111111111111111,
             "#46039f"
            ],
            [
             0.2222222222222222,
             "#7201a8"
            ],
            [
             0.3333333333333333,
             "#9c179e"
            ],
            [
             0.4444444444444444,
             "#bd3786"
            ],
            [
             0.5555555555555556,
             "#d8576b"
            ],
            [
             0.6666666666666666,
             "#ed7953"
            ],
            [
             0.7777777777777778,
             "#fb9f3a"
            ],
            [
             0.8888888888888888,
             "#fdca26"
            ],
            [
             1,
             "#f0f921"
            ]
           ],
           "sequentialminus": [
            [
             0,
             "#0d0887"
            ],
            [
             0.1111111111111111,
             "#46039f"
            ],
            [
             0.2222222222222222,
             "#7201a8"
            ],
            [
             0.3333333333333333,
             "#9c179e"
            ],
            [
             0.4444444444444444,
             "#bd3786"
            ],
            [
             0.5555555555555556,
             "#d8576b"
            ],
            [
             0.6666666666666666,
             "#ed7953"
            ],
            [
             0.7777777777777778,
             "#fb9f3a"
            ],
            [
             0.8888888888888888,
             "#fdca26"
            ],
            [
             1,
             "#f0f921"
            ]
           ]
          },
          "colorway": [
           "#636efa",
           "#EF553B",
           "#00cc96",
           "#ab63fa",
           "#FFA15A",
           "#19d3f3",
           "#FF6692",
           "#B6E880",
           "#FF97FF",
           "#FECB52"
          ],
          "font": {
           "color": "#2a3f5f"
          },
          "geo": {
           "bgcolor": "white",
           "lakecolor": "white",
           "landcolor": "#E5ECF6",
           "showlakes": true,
           "showland": true,
           "subunitcolor": "white"
          },
          "hoverlabel": {
           "align": "left"
          },
          "hovermode": "closest",
          "mapbox": {
           "style": "light"
          },
          "paper_bgcolor": "white",
          "plot_bgcolor": "#E5ECF6",
          "polar": {
           "angularaxis": {
            "gridcolor": "white",
            "linecolor": "white",
            "ticks": ""
           },
           "bgcolor": "#E5ECF6",
           "radialaxis": {
            "gridcolor": "white",
            "linecolor": "white",
            "ticks": ""
           }
          },
          "scene": {
           "xaxis": {
            "backgroundcolor": "#E5ECF6",
            "gridcolor": "white",
            "gridwidth": 2,
            "linecolor": "white",
            "showbackground": true,
            "ticks": "",
            "zerolinecolor": "white"
           },
           "yaxis": {
            "backgroundcolor": "#E5ECF6",
            "gridcolor": "white",
            "gridwidth": 2,
            "linecolor": "white",
            "showbackground": true,
            "ticks": "",
            "zerolinecolor": "white"
           },
           "zaxis": {
            "backgroundcolor": "#E5ECF6",
            "gridcolor": "white",
            "gridwidth": 2,
            "linecolor": "white",
            "showbackground": true,
            "ticks": "",
            "zerolinecolor": "white"
           }
          },
          "shapedefaults": {
           "line": {
            "color": "#2a3f5f"
           }
          },
          "ternary": {
           "aaxis": {
            "gridcolor": "white",
            "linecolor": "white",
            "ticks": ""
           },
           "baxis": {
            "gridcolor": "white",
            "linecolor": "white",
            "ticks": ""
           },
           "bgcolor": "#E5ECF6",
           "caxis": {
            "gridcolor": "white",
            "linecolor": "white",
            "ticks": ""
           }
          },
          "title": {
           "x": 0.05
          },
          "xaxis": {
           "automargin": true,
           "gridcolor": "white",
           "linecolor": "white",
           "ticks": "",
           "title": {
            "standoff": 15
           },
           "zerolinecolor": "white",
           "zerolinewidth": 2
          },
          "yaxis": {
           "automargin": true,
           "gridcolor": "white",
           "linecolor": "white",
           "ticks": "",
           "title": {
            "standoff": 15
           },
           "zerolinecolor": "white",
           "zerolinewidth": 2
          }
         }
        },
        "title": {
         "font": {
          "size": 16
         },
         "text": "Gene Expression Bubble Plot by Therapeutic Subcategory and Pathway"
        },
        "width": 1000,
        "xaxis": {
         "anchor": "y",
         "categoryarray": [
          "FDA-approved for Breast Cancer",
          "Emerging Breast Cancer Target",
          "Lacks Breast Cancer Evidence"
         ],
         "categoryorder": "array",
         "domain": [
          0,
          1
         ],
         "title": {
          "text": "Therapeutic Subcategory"
         }
        },
        "yaxis": {
         "anchor": "x",
         "categoryarray": [
          "CDK4–CCND1 Axis",
          "PI3K–MAPK–EGFR",
          "MYC Axis",
          "Cell Cycle & Apoptosis",
          "RAS Pathway",
          "RTKs / Growth Factor Signaling",
          "Tumor Suppressor",
          "DNA Repair / Tumor Suppressors",
          "Apoptosis",
          "Transcription Factors",
          "Other"
         ],
         "categoryorder": "array",
         "domain": [
          0,
          1
         ],
         "title": {
          "text": "Pathway Category"
         }
        }
       }
      }
     },
     "metadata": {},
     "output_type": "display_data"
    }
   ],
   "source": [
    "fig.update_layout(\n",
    "    width=1000,  # Increase width for more spacing\n",
    "    height=600,\n",
    "    xaxis=dict(\n",
    "        title=\"Therapeutic Subcategory\",\n",
    "        categoryorder='array',\n",
    "        categoryarray=['FDA-approved for Breast Cancer', 'Emerging Breast Cancer Target', 'Lacks Breast Cancer Evidence']\n",
    "    ),\n",
    "    yaxis=dict(\n",
    "        title=\"Pathway Category\",\n",
    "        categoryorder='array',\n",
    "        categoryarray=[\n",
    "            'CDK4–CCND1 Axis', 'PI3K–MAPK–EGFR', 'MYC Axis', 'Cell Cycle & Apoptosis',\n",
    "            'RAS Pathway', 'RTKs / Growth Factor Signaling', 'Tumor Suppressor',\n",
    "            'DNA Repair / Tumor Suppressors', 'Apoptosis', 'Transcription Factors', 'Other'\n",
    "        ]\n",
    "    ),\n",
    "    legend=dict(\n",
    "        title=\"Expression Direction\",\n",
    "        font=dict(size=12)\n",
    "    ),\n",
    "    title=dict(\n",
    "        text=\"Gene Expression Bubble Plot by Therapeutic Subcategory and Pathway\",\n",
    "        font=dict(size=16)\n",
    "    )\n",
    ")\n",
    "\n",
    "fig.show()\n"
   ]
  },
  {
   "cell_type": "code",
   "execution_count": 42,
   "id": "3cc8b5af",
   "metadata": {},
   "outputs": [
    {
     "data": {
      "application/vnd.plotly.v1+json": {
       "config": {
        "plotlyServerURL": "https://plot.ly"
       },
       "data": [
        {
         "hovertemplate": "Clinical Trial Status=In Breast Cancer Trial<br>Therapeutic Subcategory=FDA-approved for Breast Cancer<br>Gene=%{x}<br>Log2 Fold Change=%{y}<extra></extra>",
         "legendgroup": "In Breast Cancer Trial",
         "marker": {
          "color": "blue",
          "pattern": {
           "shape": ""
          }
         },
         "name": "In Breast Cancer Trial",
         "orientation": "v",
         "showlegend": true,
         "textposition": "auto",
         "type": "bar",
         "x": [
          "MET",
          "ERBB2",
          "CCND1",
          "EGFR",
          "FGFR2",
          "CDKN2A",
          "NTRK2",
          "FGFR1",
          "AKT1",
          "BRCA1",
          "CDK4",
          "NF1",
          "FOXO3",
          "HRAS",
          "BRCA2",
          "MDM2",
          "NOTCH1",
          "TSC2",
          "STK11",
          "TP53",
          "CDK6",
          "KRAS",
          "PIK3CA",
          "CHEK2",
          "RB1",
          "MYC",
          "PTEN",
          "SMAD4",
          "BCL2",
          "ATR",
          "ATM"
         ],
         "xaxis": "x",
         "y": {
          "bdata": "1PJaX4xgFkAUcMiKK1UTQNzScwR+GhJAYm67Ot1wEUDu61LSoZEQQOaiXg1yaQ9Aa1vn1TtnDkB+QRKFit0MQAte/boSzQVA8Ueh5QY5BECrqbPJxWwDQF0VW4zEMwJA7oLFrJQyAkCQfYFCNqwAQDL7lVzqtP4/PpUA1wys+z+izZv6S4H6P1XPRTYebPo/M+Rwr5Xw+T9tzaGkn5b4Pyjgmkc6R/U/UsTILNw79T+fv1laT+jyP0IzFbEJZ/E/D4hX7ckC8D94SxpN3bnuP89wGGqF8Oo/bx2hm/8q6j+CyuvoBUfmP1fXzXMc1+U/ML/4a8eLuL8=",
          "dtype": "f8"
         },
         "yaxis": "y"
        },
        {
         "hovertemplate": "Clinical Trial Status=In Breast Cancer Trial<br>Therapeutic Subcategory=Emerging Breast Cancer Target<br>Gene=%{x}<br>Log2 Fold Change=%{y}<extra></extra>",
         "legendgroup": "In Breast Cancer Trial",
         "marker": {
          "color": "blue",
          "pattern": {
           "shape": ""
          }
         },
         "name": "In Breast Cancer Trial",
         "orientation": "v",
         "showlegend": false,
         "textposition": "auto",
         "type": "bar",
         "x": [
          "CASP8"
         ],
         "xaxis": "x2",
         "y": {
          "bdata": "RHHEx5ui8T8=",
          "dtype": "f8"
         },
         "yaxis": "y2"
        },
        {
         "hovertemplate": "Clinical Trial Status=No Breast Cancer Trial<br>Therapeutic Subcategory=Lacks Breast Cancer Evidence<br>Gene=%{x}<br>Log2 Fold Change=%{y}<extra></extra>",
         "legendgroup": "No Breast Cancer Trial",
         "marker": {
          "color": "red",
          "pattern": {
           "shape": ""
          }
         },
         "name": "No Breast Cancer Trial",
         "orientation": "v",
         "showlegend": true,
         "textposition": "auto",
         "type": "bar",
         "x": [
          "SRC",
          "WT1",
          "CDKN1A",
          "NTRK1",
          "NRAS",
          "NF2",
          "BAX",
          "VHL"
         ],
         "xaxis": "x3",
         "y": {
          "bdata": "VvcM+/rSDUBCDxw9oHULQLAzCZuQ6wpAYzr5lNojAEDqPWRYtnT+P3l7UOjmfPs/IVYlOxN4+D/FcVCyzgLyPw==",
          "dtype": "f8"
         },
         "yaxis": "y3"
        }
       ],
       "layout": {
        "annotations": [
         {
          "font": {},
          "showarrow": false,
          "text": "Therapeutic Subcategory=FDA-approved for Breast Cancer",
          "x": 0.15999999999999998,
          "xanchor": "center",
          "xref": "paper",
          "y": 1,
          "yanchor": "bottom",
          "yref": "paper"
         },
         {
          "font": {},
          "showarrow": false,
          "text": "Therapeutic Subcategory=Emerging Breast Cancer Target",
          "x": 0.49999999999999994,
          "xanchor": "center",
          "xref": "paper",
          "y": 1,
          "yanchor": "bottom",
          "yref": "paper"
         },
         {
          "font": {},
          "showarrow": false,
          "text": "Therapeutic Subcategory=Lacks Breast Cancer Evidence",
          "x": 0.8399999999999999,
          "xanchor": "center",
          "xref": "paper",
          "y": 1,
          "yanchor": "bottom",
          "yref": "paper"
         }
        ],
        "bargap": 0.2,
        "barmode": "relative",
        "height": 600,
        "legend": {
         "title": {
          "text": "Clinical Trial Status"
         },
         "tracegroupgap": 0
        },
        "margin": {
         "b": 150,
         "l": 50,
         "r": 20,
         "t": 80
        },
        "template": {
         "data": {
          "bar": [
           {
            "error_x": {
             "color": "#2a3f5f"
            },
            "error_y": {
             "color": "#2a3f5f"
            },
            "marker": {
             "line": {
              "color": "#E5ECF6",
              "width": 0.5
             },
             "pattern": {
              "fillmode": "overlay",
              "size": 10,
              "solidity": 0.2
             }
            },
            "type": "bar"
           }
          ],
          "barpolar": [
           {
            "marker": {
             "line": {
              "color": "#E5ECF6",
              "width": 0.5
             },
             "pattern": {
              "fillmode": "overlay",
              "size": 10,
              "solidity": 0.2
             }
            },
            "type": "barpolar"
           }
          ],
          "carpet": [
           {
            "aaxis": {
             "endlinecolor": "#2a3f5f",
             "gridcolor": "white",
             "linecolor": "white",
             "minorgridcolor": "white",
             "startlinecolor": "#2a3f5f"
            },
            "baxis": {
             "endlinecolor": "#2a3f5f",
             "gridcolor": "white",
             "linecolor": "white",
             "minorgridcolor": "white",
             "startlinecolor": "#2a3f5f"
            },
            "type": "carpet"
           }
          ],
          "choropleth": [
           {
            "colorbar": {
             "outlinewidth": 0,
             "ticks": ""
            },
            "type": "choropleth"
           }
          ],
          "contour": [
           {
            "colorbar": {
             "outlinewidth": 0,
             "ticks": ""
            },
            "colorscale": [
             [
              0,
              "#0d0887"
             ],
             [
              0.1111111111111111,
              "#46039f"
             ],
             [
              0.2222222222222222,
              "#7201a8"
             ],
             [
              0.3333333333333333,
              "#9c179e"
             ],
             [
              0.4444444444444444,
              "#bd3786"
             ],
             [
              0.5555555555555556,
              "#d8576b"
             ],
             [
              0.6666666666666666,
              "#ed7953"
             ],
             [
              0.7777777777777778,
              "#fb9f3a"
             ],
             [
              0.8888888888888888,
              "#fdca26"
             ],
             [
              1,
              "#f0f921"
             ]
            ],
            "type": "contour"
           }
          ],
          "contourcarpet": [
           {
            "colorbar": {
             "outlinewidth": 0,
             "ticks": ""
            },
            "type": "contourcarpet"
           }
          ],
          "heatmap": [
           {
            "colorbar": {
             "outlinewidth": 0,
             "ticks": ""
            },
            "colorscale": [
             [
              0,
              "#0d0887"
             ],
             [
              0.1111111111111111,
              "#46039f"
             ],
             [
              0.2222222222222222,
              "#7201a8"
             ],
             [
              0.3333333333333333,
              "#9c179e"
             ],
             [
              0.4444444444444444,
              "#bd3786"
             ],
             [
              0.5555555555555556,
              "#d8576b"
             ],
             [
              0.6666666666666666,
              "#ed7953"
             ],
             [
              0.7777777777777778,
              "#fb9f3a"
             ],
             [
              0.8888888888888888,
              "#fdca26"
             ],
             [
              1,
              "#f0f921"
             ]
            ],
            "type": "heatmap"
           }
          ],
          "histogram": [
           {
            "marker": {
             "pattern": {
              "fillmode": "overlay",
              "size": 10,
              "solidity": 0.2
             }
            },
            "type": "histogram"
           }
          ],
          "histogram2d": [
           {
            "colorbar": {
             "outlinewidth": 0,
             "ticks": ""
            },
            "colorscale": [
             [
              0,
              "#0d0887"
             ],
             [
              0.1111111111111111,
              "#46039f"
             ],
             [
              0.2222222222222222,
              "#7201a8"
             ],
             [
              0.3333333333333333,
              "#9c179e"
             ],
             [
              0.4444444444444444,
              "#bd3786"
             ],
             [
              0.5555555555555556,
              "#d8576b"
             ],
             [
              0.6666666666666666,
              "#ed7953"
             ],
             [
              0.7777777777777778,
              "#fb9f3a"
             ],
             [
              0.8888888888888888,
              "#fdca26"
             ],
             [
              1,
              "#f0f921"
             ]
            ],
            "type": "histogram2d"
           }
          ],
          "histogram2dcontour": [
           {
            "colorbar": {
             "outlinewidth": 0,
             "ticks": ""
            },
            "colorscale": [
             [
              0,
              "#0d0887"
             ],
             [
              0.1111111111111111,
              "#46039f"
             ],
             [
              0.2222222222222222,
              "#7201a8"
             ],
             [
              0.3333333333333333,
              "#9c179e"
             ],
             [
              0.4444444444444444,
              "#bd3786"
             ],
             [
              0.5555555555555556,
              "#d8576b"
             ],
             [
              0.6666666666666666,
              "#ed7953"
             ],
             [
              0.7777777777777778,
              "#fb9f3a"
             ],
             [
              0.8888888888888888,
              "#fdca26"
             ],
             [
              1,
              "#f0f921"
             ]
            ],
            "type": "histogram2dcontour"
           }
          ],
          "mesh3d": [
           {
            "colorbar": {
             "outlinewidth": 0,
             "ticks": ""
            },
            "type": "mesh3d"
           }
          ],
          "parcoords": [
           {
            "line": {
             "colorbar": {
              "outlinewidth": 0,
              "ticks": ""
             }
            },
            "type": "parcoords"
           }
          ],
          "pie": [
           {
            "automargin": true,
            "type": "pie"
           }
          ],
          "scatter": [
           {
            "fillpattern": {
             "fillmode": "overlay",
             "size": 10,
             "solidity": 0.2
            },
            "type": "scatter"
           }
          ],
          "scatter3d": [
           {
            "line": {
             "colorbar": {
              "outlinewidth": 0,
              "ticks": ""
             }
            },
            "marker": {
             "colorbar": {
              "outlinewidth": 0,
              "ticks": ""
             }
            },
            "type": "scatter3d"
           }
          ],
          "scattercarpet": [
           {
            "marker": {
             "colorbar": {
              "outlinewidth": 0,
              "ticks": ""
             }
            },
            "type": "scattercarpet"
           }
          ],
          "scattergeo": [
           {
            "marker": {
             "colorbar": {
              "outlinewidth": 0,
              "ticks": ""
             }
            },
            "type": "scattergeo"
           }
          ],
          "scattergl": [
           {
            "marker": {
             "colorbar": {
              "outlinewidth": 0,
              "ticks": ""
             }
            },
            "type": "scattergl"
           }
          ],
          "scattermap": [
           {
            "marker": {
             "colorbar": {
              "outlinewidth": 0,
              "ticks": ""
             }
            },
            "type": "scattermap"
           }
          ],
          "scattermapbox": [
           {
            "marker": {
             "colorbar": {
              "outlinewidth": 0,
              "ticks": ""
             }
            },
            "type": "scattermapbox"
           }
          ],
          "scatterpolar": [
           {
            "marker": {
             "colorbar": {
              "outlinewidth": 0,
              "ticks": ""
             }
            },
            "type": "scatterpolar"
           }
          ],
          "scatterpolargl": [
           {
            "marker": {
             "colorbar": {
              "outlinewidth": 0,
              "ticks": ""
             }
            },
            "type": "scatterpolargl"
           }
          ],
          "scatterternary": [
           {
            "marker": {
             "colorbar": {
              "outlinewidth": 0,
              "ticks": ""
             }
            },
            "type": "scatterternary"
           }
          ],
          "surface": [
           {
            "colorbar": {
             "outlinewidth": 0,
             "ticks": ""
            },
            "colorscale": [
             [
              0,
              "#0d0887"
             ],
             [
              0.1111111111111111,
              "#46039f"
             ],
             [
              0.2222222222222222,
              "#7201a8"
             ],
             [
              0.3333333333333333,
              "#9c179e"
             ],
             [
              0.4444444444444444,
              "#bd3786"
             ],
             [
              0.5555555555555556,
              "#d8576b"
             ],
             [
              0.6666666666666666,
              "#ed7953"
             ],
             [
              0.7777777777777778,
              "#fb9f3a"
             ],
             [
              0.8888888888888888,
              "#fdca26"
             ],
             [
              1,
              "#f0f921"
             ]
            ],
            "type": "surface"
           }
          ],
          "table": [
           {
            "cells": {
             "fill": {
              "color": "#EBF0F8"
             },
             "line": {
              "color": "white"
             }
            },
            "header": {
             "fill": {
              "color": "#C8D4E3"
             },
             "line": {
              "color": "white"
             }
            },
            "type": "table"
           }
          ]
         },
         "layout": {
          "annotationdefaults": {
           "arrowcolor": "#2a3f5f",
           "arrowhead": 0,
           "arrowwidth": 1
          },
          "autotypenumbers": "strict",
          "coloraxis": {
           "colorbar": {
            "outlinewidth": 0,
            "ticks": ""
           }
          },
          "colorscale": {
           "diverging": [
            [
             0,
             "#8e0152"
            ],
            [
             0.1,
             "#c51b7d"
            ],
            [
             0.2,
             "#de77ae"
            ],
            [
             0.3,
             "#f1b6da"
            ],
            [
             0.4,
             "#fde0ef"
            ],
            [
             0.5,
             "#f7f7f7"
            ],
            [
             0.6,
             "#e6f5d0"
            ],
            [
             0.7,
             "#b8e186"
            ],
            [
             0.8,
             "#7fbc41"
            ],
            [
             0.9,
             "#4d9221"
            ],
            [
             1,
             "#276419"
            ]
           ],
           "sequential": [
            [
             0,
             "#0d0887"
            ],
            [
             0.1111111111111111,
             "#46039f"
            ],
            [
             0.2222222222222222,
             "#7201a8"
            ],
            [
             0.3333333333333333,
             "#9c179e"
            ],
            [
             0.4444444444444444,
             "#bd3786"
            ],
            [
             0.5555555555555556,
             "#d8576b"
            ],
            [
             0.6666666666666666,
             "#ed7953"
            ],
            [
             0.7777777777777778,
             "#fb9f3a"
            ],
            [
             0.8888888888888888,
             "#fdca26"
            ],
            [
             1,
             "#f0f921"
            ]
           ],
           "sequentialminus": [
            [
             0,
             "#0d0887"
            ],
            [
             0.1111111111111111,
             "#46039f"
            ],
            [
             0.2222222222222222,
             "#7201a8"
            ],
            [
             0.3333333333333333,
             "#9c179e"
            ],
            [
             0.4444444444444444,
             "#bd3786"
            ],
            [
             0.5555555555555556,
             "#d8576b"
            ],
            [
             0.6666666666666666,
             "#ed7953"
            ],
            [
             0.7777777777777778,
             "#fb9f3a"
            ],
            [
             0.8888888888888888,
             "#fdca26"
            ],
            [
             1,
             "#f0f921"
            ]
           ]
          },
          "colorway": [
           "#636efa",
           "#EF553B",
           "#00cc96",
           "#ab63fa",
           "#FFA15A",
           "#19d3f3",
           "#FF6692",
           "#B6E880",
           "#FF97FF",
           "#FECB52"
          ],
          "font": {
           "color": "#2a3f5f"
          },
          "geo": {
           "bgcolor": "white",
           "lakecolor": "white",
           "landcolor": "#E5ECF6",
           "showlakes": true,
           "showland": true,
           "subunitcolor": "white"
          },
          "hoverlabel": {
           "align": "left"
          },
          "hovermode": "closest",
          "mapbox": {
           "style": "light"
          },
          "paper_bgcolor": "white",
          "plot_bgcolor": "#E5ECF6",
          "polar": {
           "angularaxis": {
            "gridcolor": "white",
            "linecolor": "white",
            "ticks": ""
           },
           "bgcolor": "#E5ECF6",
           "radialaxis": {
            "gridcolor": "white",
            "linecolor": "white",
            "ticks": ""
           }
          },
          "scene": {
           "xaxis": {
            "backgroundcolor": "#E5ECF6",
            "gridcolor": "white",
            "gridwidth": 2,
            "linecolor": "white",
            "showbackground": true,
            "ticks": "",
            "zerolinecolor": "white"
           },
           "yaxis": {
            "backgroundcolor": "#E5ECF6",
            "gridcolor": "white",
            "gridwidth": 2,
            "linecolor": "white",
            "showbackground": true,
            "ticks": "",
            "zerolinecolor": "white"
           },
           "zaxis": {
            "backgroundcolor": "#E5ECF6",
            "gridcolor": "white",
            "gridwidth": 2,
            "linecolor": "white",
            "showbackground": true,
            "ticks": "",
            "zerolinecolor": "white"
           }
          },
          "shapedefaults": {
           "line": {
            "color": "#2a3f5f"
           }
          },
          "ternary": {
           "aaxis": {
            "gridcolor": "white",
            "linecolor": "white",
            "ticks": ""
           },
           "baxis": {
            "gridcolor": "white",
            "linecolor": "white",
            "ticks": ""
           },
           "bgcolor": "#E5ECF6",
           "caxis": {
            "gridcolor": "white",
            "linecolor": "white",
            "ticks": ""
           }
          },
          "title": {
           "x": 0.05
          },
          "xaxis": {
           "automargin": true,
           "gridcolor": "white",
           "linecolor": "white",
           "ticks": "",
           "title": {
            "standoff": 15
           },
           "zerolinecolor": "white",
           "zerolinewidth": 2
          },
          "yaxis": {
           "automargin": true,
           "gridcolor": "white",
           "linecolor": "white",
           "ticks": "",
           "title": {
            "standoff": 15
           },
           "zerolinecolor": "white",
           "zerolinewidth": 2
          }
         }
        },
        "title": {
         "text": "Gene Expression Log2 Fold Change by Therapeutic Subcategory and Clinical Trial Status"
        },
        "uniformtext": {
         "minsize": 8,
         "mode": "hide"
        },
        "width": 1400,
        "xaxis": {
         "anchor": "y",
         "domain": [
          0,
          0.31999999999999995
         ],
         "title": {
          "text": "Gene"
         }
        },
        "xaxis2": {
         "anchor": "y2",
         "domain": [
          0.33999999999999997,
          0.6599999999999999
         ],
         "matches": "x",
         "showticklabels": true,
         "title": {
          "text": "Gene"
         }
        },
        "xaxis3": {
         "anchor": "y3",
         "domain": [
          0.6799999999999999,
          0.9999999999999999
         ],
         "matches": "x",
         "title": {
          "text": "Gene"
         }
        },
        "yaxis": {
         "anchor": "x",
         "domain": [
          0,
          1
         ],
         "title": {
          "text": "Log2 Fold Change"
         }
        },
        "yaxis2": {
         "anchor": "x2",
         "domain": [
          0,
          1
         ],
         "matches": "y",
         "showticklabels": false
        },
        "yaxis3": {
         "anchor": "x3",
         "domain": [
          0,
          1
         ],
         "matches": "y",
         "showticklabels": false
        }
       }
      }
     },
     "metadata": {},
     "output_type": "display_data"
    }
   ],
   "source": [
    "import plotly.express as px\n",
    "\n",
    "import plotly.express as px\n",
    "\n",
    "df_sorted = df_unique.sort_values(by=['Therapeutic Subcategory', 'log2_fc'], ascending=[True, False])\n",
    "\n",
    "fig = px.bar(\n",
    "    df_sorted,\n",
    "    x='gene',\n",
    "    y='log2_fc',\n",
    "    color='Clinical_Trial_Status',\n",
    "    facet_col='Therapeutic Subcategory',\n",
    "    category_orders={\n",
    "        'Therapeutic Subcategory': [\n",
    "            'FDA-approved for Breast Cancer',\n",
    "            'Emerging Breast Cancer Target',\n",
    "            'Lacks Breast Cancer Evidence'\n",
    "        ]\n",
    "    },\n",
    "    color_discrete_map={\n",
    "        'In Breast Cancer Trial': 'blue',\n",
    "        'No Breast Cancer Trial': 'red'\n",
    "    },\n",
    "    labels={\n",
    "        'log2_fc': 'Log2 Fold Change',\n",
    "        'gene': 'Gene',\n",
    "        'Clinical_Trial_Status': 'Clinical Trial Status',\n",
    "        'Therapeutic Subcategory': 'Therapeutic Subcategory'\n",
    "    },\n",
    "    title='Gene Expression Log2 Fold Change by Therapeutic Subcategory and Clinical Trial Status',\n",
    "    height=600,\n",
    "    width=1400,  # Widen the figure more for space\n",
    ")\n",
    "\n",
    "# Adjust margins and spacing between facets\n",
    "fig.update_layout(\n",
    "    margin=dict(l=50, r=20, t=80, b=150),\n",
    "    uniformtext_minsize=8,\n",
    "    uniformtext_mode='hide',\n",
    "    bargap=0.2,\n",
    "    # Optionally, add spacing between facets\n",
    "    # You can adjust domain if needed\n",
    ")\n",
    "# After creating your figure `fig`..\n",
    "# For the second facet (Emerging Breast Cancer Target)\n",
    "fig.update_xaxes(showticklabels=True, row=1, col=2)\n",
    "fig.show()\n",
    "\n",
    "\n"
   ]
  },
  {
   "cell_type": "code",
   "execution_count": 46,
   "id": "a64a5bc5",
   "metadata": {},
   "outputs": [
    {
     "name": "stderr",
     "output_type": "stream",
     "text": [
      "/var/folders/kx/1z2nljtd7zqgfpqmrmskdmqc0000gn/T/ipykernel_67893/1810301233.py:6: FutureWarning:\n",
      "\n",
      "The default value of observed=False is deprecated and will change to observed=True in a future version of pandas. Specify observed=False to silence this warning and retain the current behavior\n",
      "\n"
     ]
    },
    {
     "data": {
      "image/png": "[encoded data removed]",
      "text/plain": [
       "<Figure size 1200x1500 with 2 Axes>"
      ]
     },
     "metadata": {},
     "output_type": "display_data"
    }
   ],
   "source": [
    "import seaborn as sns\n",
    "import matplotlib.pyplot as plt\n",
    "import pandas as pd\n",
    "\n",
    "# Prepare pivot table: genes on y-axis, categories/pathways on x-axis, colored by mean log2FC\n",
    "heatmap_data = df_unique.pivot_table(\n",
    "    index='gene',\n",
    "    columns='Therapeutic Subcategory',  # or 'Pathway Category'\n",
    "    values='log2_fc',\n",
    "    aggfunc='mean',\n",
    "    fill_value=0\n",
    ")\n",
    "\n",
    "plt.figure(figsize=(12, 15))\n",
    "sns.heatmap(heatmap_data, cmap='bwr', center=0, linewidths=0.5)\n",
    "plt.title(\"Heatmap: Mean Log2 Fold Change of Genes by Therapeutic Subcategory\")\n",
    "plt.ylabel('Gene')\n",
    "plt.xlabel('Therapeutic Subcategory')\n",
    "plt.tight_layout()\n",
    "plt.show()\n"
   ]
  },
  {
   "cell_type": "code",
   "execution_count": 47,
   "id": "331a5534",
   "metadata": {},
   "outputs": [
    {
     "data": {
      "image/png": "[encoded data removed]",
      "text/plain": [
       "<Figure size 1000x600 with 1 Axes>"
      ]
     },
     "metadata": {},
     "output_type": "display_data"
    }
   ],
   "source": [
    "import numpy as np\n",
    "import matplotlib.pyplot as plt\n",
    "\n",
    "df_unique['-log10_pval'] = -np.log10(df_unique['p_value'] + 1e-300)  # avoid log(0)\n",
    "plt.figure(figsize=(10, 6))\n",
    "plt.scatter(df_unique['log2_fc'], df_unique['-log10_pval'],\n",
    "            c=df_unique['Therapeutic Subcategory'].map({\n",
    "                'FDA-approved for Breast Cancer': 'green',\n",
    "                'Emerging Breast Cancer Target': 'orange',\n",
    "                'Lacks Breast Cancer Evidence': 'red'\n",
    "            }),\n",
    "            alpha=0.7)\n",
    "plt.xlabel('Log2 Fold Change')\n",
    "plt.ylabel('-log10(p-value)')\n",
    "plt.title('Volcano Plot: Differential Expression by Therapeutic Category')\n",
    "plt.axvline(0, color='black', linestyle='--')\n",
    "plt.show()\n"
   ]
  },
  {
   "cell_type": "code",
   "execution_count": 48,
   "id": "b23216f4",
   "metadata": {},
   "outputs": [
    {
     "name": "stderr",
     "output_type": "stream",
     "text": [
      "/var/folders/kx/1z2nljtd7zqgfpqmrmskdmqc0000gn/T/ipykernel_67893/3411071497.py:4: FutureWarning:\n",
      "\n",
      "\n",
      "\n",
      "Passing `palette` without assigning `hue` is deprecated and will be removed in v0.14.0. Assign the `y` variable to `hue` and set `legend=False` for the same effect.\n",
      "\n",
      "\n"
     ]
    },
    {
     "data": {
      "image/png": "[encoded data removed]",
      "text/plain": [
       "<Figure size 1000x600 with 1 Axes>"
      ]
     },
     "metadata": {},
     "output_type": "display_data"
    }
   ],
   "source": [
    "pathway_counts = df_unique.groupby('Pathway Category')['gene'].count().sort_values(ascending=False)\n",
    "\n",
    "plt.figure(figsize=(10,6))\n",
    "sns.barplot(x=pathway_counts.values, y=pathway_counts.index, palette='viridis')\n",
    "plt.xlabel('Number of Genes')\n",
    "plt.ylabel('Pathway Category')\n",
    "plt.title('Gene Counts per Pathway Category')\n",
    "plt.show()\n"
   ]
  },
  {
   "cell_type": "code",
   "execution_count": 49,
   "id": "e24e49a5",
   "metadata": {},
   "outputs": [
    {
     "name": "stderr",
     "output_type": "stream",
     "text": [
      "/var/folders/kx/1z2nljtd7zqgfpqmrmskdmqc0000gn/T/ipykernel_67893/1158567580.py:1: FutureWarning:\n",
      "\n",
      "The default of observed=False is deprecated and will be changed to True in a future version of pandas. Pass observed=False to retain current behavior or observed=True to adopt the future default and silence this warning.\n",
      "\n"
     ]
    },
    {
     "data": {
      "image/png": "[encoded data removed]",
      "text/plain": [
       "<Figure size 800x500 with 1 Axes>"
      ]
     },
     "metadata": {},
     "output_type": "display_data"
    }
   ],
   "source": [
    "trial_counts = df_unique.groupby(['Therapeutic Subcategory', 'Clinical_Trial_Status']).size().unstack().fillna(0)\n",
    "\n",
    "trial_counts.plot(kind='bar', stacked=True, figsize=(8,5), colormap='Set2')\n",
    "plt.ylabel('Gene Counts')\n",
    "plt.title('Clinical Trial Status by Therapeutic Subcategory')\n",
    "plt.xticks(rotation=45)\n",
    "plt.legend(title='Clinical Trial Status')\n",
    "plt.tight_layout()\n",
    "plt.show()\n"
   ]
  }
 ],
 "metadata": {
  "kernelspec": {
   "display_name": "venv",
   "language": "python",
   "name": "python3"
  },
  "language_info": {
   "codemirror_mode": {
    "name": "ipython",
    "version": 3
   },
   "file_extension": ".py",
   "mimetype": "text/x-python",
   "name": "python",
   "nbconvert_exporter": "python",
   "pygments_lexer": "ipython3",
   "version": "3.11.9"
  }
 },
 "nbformat": 4,
 "nbformat_minor": 5
}

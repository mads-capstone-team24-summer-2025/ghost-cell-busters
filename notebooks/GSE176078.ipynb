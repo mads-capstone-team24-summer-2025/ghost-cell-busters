{
 "cells": [
  {
   "cell_type": "code",
   "execution_count": null,
   "metadata": {},
   "outputs": [],
   "source": [
    "import os\n",
    "from scipy.io import mmread\n",
    "import pandas as pd\n",
    "import scanpy as sc\n",
    "import numpy as np\n",
    "import urllib.request\n",
    "from gtfparse import read_gtf\n",
    "import infercnvpy as cnv"
   ]
  },
  {
   "cell_type": "code",
   "execution_count": null,
   "metadata": {},
   "outputs": [
    {
     "name": "stdout",
     "output_type": "stream",
     "text": [
      "AnnData object with n_obs × n_vars = 100064 × 29733\n",
      "    obs: 'Unnamed: 0', 'orig.ident', 'nCount_RNA', 'nFeature_RNA', 'percent.mito', 'subtype', 'celltype_subset', 'celltype_minor', 'celltype_major'\n"
     ]
    }
   ],
   "source": [
    "## This is the beginning of SE176078 data from a single-cell and spatially \n",
    "### resolved atlas of human breast cancers.\n",
    "\n",
    "extract_dir = os.path.expanduser(\"~/Desktop/Capstone/Raw Data/GSE176078/\")\n",
    "\n",
    "# 1. Load matrix and transpose\n",
    "X = mmread(os.path.join(extract_dir, \"count_matrix_sparse.mtx\")).tocsr().T\n",
    "\n",
    "# 2. Load genes\n",
    "genes = pd.read_csv(os.path.join(extract_dir, \"count_matrix_genes.tsv\"), sep=\"\\t\", header=None)\n",
    "genes.columns = [\"gene_id\"]\n",
    "\n",
    "# 3. Load barcodes\n",
    "barcodes = pd.read_csv(os.path.join(extract_dir, \"count_matrix_barcodes.tsv\"), sep=\"\\t\", header=None)\n",
    "barcodes.columns = [\"cell_id\"]\n",
    "\n",
    "# 4. Load metadata\n",
    "metadata = pd.read_csv(os.path.join(extract_dir, \"metadata.csv\"))\n",
    "\n",
    "# 5. Build AnnData object\n",
    "adata = sc.AnnData(X)\n",
    "\n",
    "# Assign gene names (columns)\n",
    "adata.var_names = genes[\"gene_id\"].astype(str).values\n",
    "adata.var_names_make_unique()\n",
    "\n",
    "# Assign cell barcodes (rows)\n",
    "adata.obs_names = barcodes[\"cell_id\"].astype(str).values\n",
    "\n",
    "# Assign metadata\n",
    "metadata.index = adata.obs_names\n",
    "adata.obs = metadata\n",
    "\n",
    "print(adata)"
   ]
  },
  {
   "cell_type": "code",
   "execution_count": 2,
   "metadata": {},
   "outputs": [
    {
     "name": "stdout",
     "output_type": "stream",
     "text": [
      "AnnData object with n_obs × n_vars = 100064 × 29733\n",
      "    obs: 'Unnamed: 0', 'orig.ident', 'nCount_RNA', 'nFeature_RNA', 'percent.mito', 'subtype', 'celltype_subset', 'celltype_minor', 'celltype_major'\n",
      "🧬 Tumor subtypes: ['HER2+' 'TNBC' 'ER+']\n"
     ]
    }
   ],
   "source": [
    "extract_dir = \"/Users/adi/Desktop/Capstone/Raw data/GSE176078\"\n",
    "\n",
    "# Load count matrix\n",
    "X = mmread(os.path.join(extract_dir, \"count_matrix_sparse.mtx\")).T.tocsr()  # Transpose needed\n",
    "\n",
    "# Load barcodes (cells)\n",
    "barcodes = pd.read_csv(os.path.join(extract_dir, \"count_matrix_barcodes.tsv\"), header=None)[0].tolist()\n",
    "\n",
    "# Load genes\n",
    "#genes = pd.read_csv(os.path.join(extract_dir, \"count_matrix_genes.tsv\"), header=None)\n",
    "#gene_symbols = genes[1].tolist()\n",
    "\n",
    "genes = pd.read_csv(os.path.join(extract_dir, \"count_matrix_genes.tsv\"), header=None, sep=\"\\t\")\n",
    "gene_symbols = genes[0].tolist()\n",
    "\n",
    "# Create AnnData object\n",
    "adata = sc.AnnData(X=X)\n",
    "adata.obs_names = barcodes\n",
    "adata.var_names = gene_symbols\n",
    "\n",
    "# Load metadata\n",
    "metadata = pd.read_csv(os.path.join(extract_dir, \"metadata.csv\"))\n",
    "adata.obs = metadata.set_index(adata.obs_names)\n",
    "\n",
    "# Final check\n",
    "print(adata)\n",
    "print(\"🧬 Tumor subtypes:\", adata.obs['subtype'].unique())"
   ]
  },
  {
   "cell_type": "code",
   "execution_count": null,
   "metadata": {},
   "outputs": [
    {
     "name": "stdout",
     "output_type": "stream",
     "text": [
      "                                        Unnamed: 0 orig.ident  nCount_RNA  \\\n",
      "CID3586_AAGACCTCAGCATGAG  CID3586_AAGACCTCAGCATGAG    CID3586        4581   \n",
      "CID3586_AAGGTTCGTAGTACCT  CID3586_AAGGTTCGTAGTACCT    CID3586        1726   \n",
      "\n",
      "                          nFeature_RNA  percent.mito subtype  \\\n",
      "CID3586_AAGACCTCAGCATGAG          1689      1.506221   HER2+   \n",
      "CID3586_AAGGTTCGTAGTACCT           779      5.793743   HER2+   \n",
      "\n",
      "                            celltype_subset     celltype_minor celltype_major  \n",
      "CID3586_AAGACCTCAGCATGAG  Endothelial ACKR1  Endothelial ACKR1    Endothelial  \n",
      "CID3586_AAGGTTCGTAGTACCT  Endothelial ACKR1  Endothelial ACKR1    Endothelial  \n"
     ]
    }
   ],
   "source": [
    "mtx_path = os.path.join(extract_dir, \"count_matrix_sparse.mtx\")\n",
    "X = mmread(os.path.join(extract_dir, \"count_matrix_sparse.mtx\")).tocsr().T\n",
    "\n",
    "# Load genes\n",
    "genes = pd.read_csv(os.path.join(extract_dir, \"count_matrix_genes.tsv\"), sep=\"\\t\", header=None)\n",
    "genes.columns = [\"gene_id\"]\n",
    "\n",
    "# Load barcodes\n",
    "barcodes = pd.read_csv(os.path.join(extract_dir, \"count_matrix_barcodes.tsv\"), sep=\"\\t\", header=None)\n",
    "barcodes.columns = [\"cell_id\"]\n",
    "\n",
    "# Load metadata\n",
    "metadata = pd.read_csv(os.path.join(extract_dir, \"metadata.csv\"))\n",
    "\n",
    "# Create AnnData\n",
    "adata = sc.AnnData(X)\n",
    "\n",
    "# Set .var_names using gene IDs\n",
    "adata.var_names = genes[\"gene_id\"].astype(str).values\n",
    "adata.var_names_make_unique()\n",
    "\n",
    "# Set .obs using barcodes and align metadata\n",
    "adata.obs_names = barcodes[\"cell_id\"].astype(str).values\n",
    "metadata.index = adata.obs_names\n",
    "adata.obs = metadata\n",
    "print(adata.obs.head(2))"
   ]
  },
  {
   "cell_type": "code",
   "execution_count": 4,
   "metadata": {},
   "outputs": [
    {
     "name": "stdout",
     "output_type": "stream",
     "text": [
      "📋 Metadata columns in adata.obs:\n",
      "['Unnamed: 0', 'orig.ident', 'nCount_RNA', 'nFeature_RNA', 'percent.mito', 'subtype', 'celltype_subset', 'celltype_minor', 'celltype_major']\n",
      "\n",
      "🔍 Sample of adata.obs:\n",
      "                                        Unnamed: 0 orig.ident  nCount_RNA  \\\n",
      "CID3586_AAGACCTCAGCATGAG  CID3586_AAGACCTCAGCATGAG    CID3586        4581   \n",
      "CID3586_AAGGTTCGTAGTACCT  CID3586_AAGGTTCGTAGTACCT    CID3586        1726   \n",
      "CID3586_ACCAGTAGTTGTGGCC  CID3586_ACCAGTAGTTGTGGCC    CID3586        1229   \n",
      "CID3586_ACCCACTAGATGTCGG  CID3586_ACCCACTAGATGTCGG    CID3586        1352   \n",
      "CID3586_ACTGATGGTCAACTGT  CID3586_ACTGATGGTCAACTGT    CID3586        1711   \n",
      "\n",
      "                          nFeature_RNA  percent.mito subtype  \\\n",
      "CID3586_AAGACCTCAGCATGAG          1689      1.506221   HER2+   \n",
      "CID3586_AAGGTTCGTAGTACCT           779      5.793743   HER2+   \n",
      "CID3586_ACCAGTAGTTGTGGCC           514      1.383238   HER2+   \n",
      "CID3586_ACCCACTAGATGTCGG           609      1.923077   HER2+   \n",
      "CID3586_ACTGATGGTCAACTGT           807     13.325541   HER2+   \n",
      "\n",
      "                            celltype_subset     celltype_minor celltype_major  \n",
      "CID3586_AAGACCTCAGCATGAG  Endothelial ACKR1  Endothelial ACKR1    Endothelial  \n",
      "CID3586_AAGGTTCGTAGTACCT  Endothelial ACKR1  Endothelial ACKR1    Endothelial  \n",
      "CID3586_ACCAGTAGTTGTGGCC  Endothelial ACKR1  Endothelial ACKR1    Endothelial  \n",
      "CID3586_ACCCACTAGATGTCGG  Endothelial ACKR1  Endothelial ACKR1    Endothelial  \n",
      "CID3586_ACTGATGGTCAACTGT  Endothelial ACKR1  Endothelial ACKR1    Endothelial  \n"
     ]
    }
   ],
   "source": [
    "print(\"📋 Metadata columns in adata.obs:\")\n",
    "print(adata.obs.columns.tolist())\n",
    "\n",
    "# Show first few rows to inspect the actual metadata\n",
    "print(\"\\n🔍 Sample of adata.obs:\")\n",
    "print(adata.obs.head())"
   ]
  },
  {
   "cell_type": "code",
   "execution_count": null,
   "metadata": {},
   "outputs": [
    {
     "name": "stdout",
     "output_type": "stream",
     "text": [
      "celltype_major\n",
      "T-cells              35214\n",
      "Cancer Epithelial    24489\n",
      "Myeloid               9675\n",
      "Endothelial           7605\n",
      "CAFs                  6573\n",
      "PVL                   5423\n",
      "Normal Epithelial     4355\n",
      "Plasmablasts          3524\n",
      "B-cells               3206\n",
      "Name: count, dtype: int64\n",
      "celltype_minor\n",
      "T cells CD4+                   19231\n",
      "T cells CD8+                   11487\n",
      "Cancer LumA SC                  7742\n",
      "Macrophage                      5929\n",
      "Cancer Cycling                  5359\n",
      "Endothelial ACKR1               4611\n",
      "Cancer Basal SC                 4312\n",
      "Cancer Her2 SC                  3708\n",
      "Plasmablasts                    3524\n",
      "PVL Differentiated              3487\n",
      "CAFs myCAF-like                 3420\n",
      "Cancer LumB SC                  3368\n",
      "CAFs MSC iCAF-like              3153\n",
      "B cells Memory                  2581\n",
      "Monocyte                        2328\n",
      "Luminal Progenitors             1992\n",
      "PVL Immature                    1886\n",
      "NK cells                        1846\n",
      "Endothelial CXCL12              1644\n",
      "Cycling T-cells                 1528\n",
      "Mature Luminal                  1265\n",
      "Endothelial RGS5                1147\n",
      "NKT cells                       1122\n",
      "Myoepithelial                   1098\n",
      "DCs                              955\n",
      "B cells Naive                    625\n",
      "Cycling_Myeloid                  463\n",
      "Endothelial Lymphatic LYVE1      203\n",
      "Cycling PVL                       50\n",
      "Name: count, dtype: int64\n"
     ]
    }
   ],
   "source": [
    "print(adata.obs['celltype_major'].value_counts())\n",
    "print(adata.obs['celltype_minor'].value_counts())"
   ]
  },
  {
   "cell_type": "code",
   "execution_count": 7,
   "metadata": {},
   "outputs": [
    {
     "name": "stdout",
     "output_type": "stream",
     "text": [
      "subtype\n",
      "TNBC     42512\n",
      "ER+      38241\n",
      "HER2+    19311\n",
      "Name: count, dtype: int64\n"
     ]
    }
   ],
   "source": [
    "print(adata.obs['subtype'].value_counts())"
   ]
  },
  {
   "cell_type": "code",
   "execution_count": null,
   "metadata": {},
   "outputs": [
    {
     "name": "stdout",
     "output_type": "stream",
     "text": [
      "43\n",
      "54\n"
     ]
    }
   ],
   "source": [
    "## Cell cycle genes feature in our datset\n",
    "# Seurat v3 cell cycle gene sets (subset)\n",
    "s_genes = [\n",
    "    'MCM5', 'PCNA', 'TYMS', 'FEN1', 'MCM2', 'MCM4', 'RRM1', 'UNG', 'GINS2',\n",
    "    'MCM6', 'CDCA7', 'DTL', 'PRIM1', 'UHRF1', 'MCM10', 'HELLS', 'RFC2', 'RPA2',\n",
    "    'NASP', 'RAD51AP1', 'GMNN', 'WDR76', 'SLBP', 'CCNE2', 'UBR7', 'POLD3',\n",
    "    'MSH2', 'ATAD2', 'RAD51', 'RRM2', 'CDC45', 'CDC6', 'EXO1', 'TIPIN', 'DSCC1',\n",
    "    'BLM', 'CASP8AP2', 'USP1', 'CLSPN', 'POLA1', 'CHAF1B', 'BRIP1', 'E2F8'\n",
    "]\n",
    "\n",
    "g2m_genes = [\n",
    "    'HMGB2', 'CDK1', 'NUSAP1', 'UBE2C', 'BIRC5', 'TPX2', 'TOP2A', 'NDC80',\n",
    "    'CKS2', 'NUF2', 'CKS1B', 'MKI67', 'TMPO', 'CENPF', 'TACC3', 'FAM64A',\n",
    "    'SMC4', 'CCNB2', 'CKAP2L', 'CKAP2', 'AURKB', 'BUB1', 'KIF11', 'ANP32E',\n",
    "    'TUBB4B', 'GTSE1', 'KIF20B', 'HJURP', 'CDC20', 'TTK', 'CDC25C', 'KIF2C',\n",
    "    'RANGAP1', 'NCAPD2', 'DLGAP5', 'CDCA3', 'HN1', 'CDC45', 'CDCA8', 'ECT2',\n",
    "    'KIF23', 'HMMR', 'AURKA', 'PSRC1', 'ANLN', 'LBR', 'CKAP5', 'CENPE',\n",
    "    'CTCF', 'NEK2', 'G2E3', 'GAS2L3', 'CBX5', 'CENPA'\n",
    "]\n",
    "print(len(s_genes))\n",
    "print(len(g2m_genes))\n",
    "# Filter for genes present in your dataset\n",
    "s_genes = [g for g in s_genes if g in adata.var_names]\n",
    "g2m_genes = [g for g in g2m_genes if g in adata.var_names]\n",
    "\n",
    "# Compute cell cycle scores\n",
    "sc.tl.score_genes_cell_cycle(adata, s_genes=s_genes, g2m_genes=g2m_genes)\n",
    "\n",
    "# Output: adata.obs now includes:\n",
    "# 'S_score', 'G2M_score', 'phase'"
   ]
  },
  {
   "cell_type": "code",
   "execution_count": 9,
   "metadata": {},
   "outputs": [],
   "source": [
    "## Apoptosis score feature\n",
    "# Apoptosis gene list (example set — you can refine this)\n",
    "apoptosis_genes = [\n",
    "    'BAX', 'BAK1', 'CASP3', 'CASP8', 'BCL2L11', 'FAS', 'TP53', 'BBC3', 'CYCS'\n",
    "]\n",
    "apoptosis_genes = [gene for gene in apoptosis_genes if gene in adata.var_names]\n",
    "\n",
    "# Compute score\n",
    "sc.tl.score_genes(adata, gene_list=apoptosis_genes, score_name='apoptosis_score')"
   ]
  },
  {
   "cell_type": "code",
   "execution_count": null,
   "metadata": {},
   "outputs": [],
   "source": [
    "## % Ribosomal as a feature\n",
    "\n",
    "# Identify ribosomal genes (common prefixes: RPS, RPL)\n",
    "ribo_genes = [gene for gene in adata.var_names if gene.startswith('RPS') or gene.startswith('RPL')]\n",
    "\n",
    "# Total counts per cell\n",
    "total_counts = adata.X.sum(axis=1).A1 if isinstance(adata.X, np.matrix) or hasattr(adata.X, 'A1') else adata.X.sum(axis=1)\n",
    "\n",
    "# Ribosomal counts per cell\n",
    "ribo_counts = adata[:, ribo_genes].X.sum(axis=1).A1 if hasattr(adata[:, ribo_genes].X, 'A1') else adata[:, ribo_genes].X.sum(axis=1)\n",
    "\n",
    "# Percent ribosomal\n",
    "adata.obs['pct_counts_ribo'] = (ribo_counts / total_counts) * 100"
   ]
  },
  {
   "cell_type": "code",
   "execution_count": 11,
   "metadata": {},
   "outputs": [],
   "source": [
    "## Oxphos genes\n",
    "oxphos_genes = [\n",
    "    \"ATP5F1A\", \"ATP5F1B\", \"ATP5MC1\", \"ATP5MC2\", \"ATP5ME\", \"ATP5MG\",\n",
    "    \"COX4I1\", \"COX5A\", \"COX6A1\", \"COX6C\", \"NDUFA1\", \"NDUFA2\", \"NDUFA4\",\n",
    "    \"NDUFAB1\", \"NDUFB2\", \"NDUFB3\", \"NDUFS1\", \"NDUFS2\", \"NDUFV1\", \"UQCRC1\",\n",
    "    \"UQCRC2\", \"UQCRH\", \"SDHA\", \"SDHB\", \"SDHC\", \"SDHD\", \"CYCS\"\n",
    "]\n",
    "# Filter genes present in the dataset\n",
    "oxphos_genes_present = [g for g in oxphos_genes if g in adata.var_names]\n",
    "sc.tl.score_genes(adata, gene_list=oxphos_genes_present, score_name=\"oxphos_score\")"
   ]
  },
  {
   "cell_type": "code",
   "execution_count": 12,
   "metadata": {},
   "outputs": [
    {
     "name": "stdout",
     "output_type": "stream",
     "text": [
      "✅ Found 10 Proto-oncogenes in dataset: ['MYC', 'KRAS', 'EGFR', 'BRAF', 'AKT1', 'PIK3CA', 'CCND1', 'ERBB2', 'FGFR1', 'MDM2']\n"
     ]
    }
   ],
   "source": [
    "## Protooncogene score\n",
    "proto_oncogenes = ['MYC', 'KRAS', 'EGFR', 'BRAF', 'AKT1', 'PIK3CA', 'CCND1', 'ERBB2', 'FGFR1', 'MDM2']\n",
    "\n",
    "# ---------------------------------------\n",
    "# 🧪 Step 2: Score Proto-oncogene activity\n",
    "# Filter to genes in adata\n",
    "valid_protooncogenes = [g for g in proto_oncogenes if g in adata.var_names]\n",
    "sc.tl.score_genes(adata, gene_list=oxphos_genes_present, score_name=\"proto_oncogenescore\")\n",
    "print(f\"✅ Found {len(valid_protooncogenes)} Proto-oncogenes in dataset: {valid_protooncogenes}\")"
   ]
  },
  {
   "cell_type": "code",
   "execution_count": null,
   "metadata": {},
   "outputs": [
    {
     "data": {
      "text/plain": [
       "Index(['Unnamed: 0', 'orig.ident', 'nCount_RNA', 'nFeature_RNA',\n",
       "       'percent.mito', 'subtype', 'celltype_subset', 'celltype_minor',\n",
       "       'celltype_major', 'S_score', 'G2M_score', 'phase', 'apoptosis_score',\n",
       "       'pct_counts_ribo', 'oxphos_score', 'proto_oncogenescore'],\n",
       "      dtype='object')"
      ]
     },
     "execution_count": 13,
     "metadata": {},
     "output_type": "execute_result"
    }
   ],
   "source": [
    "adata.obs.sample(5)\n",
    "adata.obs.columns"
   ]
  },
  {
   "cell_type": "code",
   "execution_count": null,
   "metadata": {},
   "outputs": [
    {
     "name": "stdout",
     "output_type": "stream",
     "text": [
      "✅ GTF file already exists.\n"
     ]
    },
    {
     "name": "stderr",
     "output_type": "stream",
     "text": [
      "INFO:root:Extracted GTF attributes: ['gene_id', 'gene_type', 'gene_name', 'level', 'tag', 'transcript_id', 'transcript_type', 'transcript_name', 'transcript_support_level', 'havana_transcript', 'exon_number', 'exon_id', 'hgnc_id', 'havana_gene', 'ont', 'protein_id', 'ccdsid', 'artif_dupl']\n"
     ]
    }
   ],
   "source": [
    "gtf_url = \"https://ftp.ebi.ac.uk/pub/databases/gencode/Gencode_human/release_44/gencode.v44.annotation.gtf.gz\"\n",
    "gtf_file = \"gencode.v44.annotation.gtf.gz\"\n",
    "\n",
    "if not os.path.exists(gtf_file):\n",
    "    print(\"📥 Downloading GTF file...\")\n",
    "    urllib.request.urlretrieve(gtf_url, gtf_file)\n",
    "else:\n",
    "    print(\"✅ GTF file already exists.\")\n",
    "\n",
    "# Load and filter for gene info\n",
    "gtf = read_gtf(gtf_file).to_pandas()\n",
    "genes = gtf[gtf[\"feature\"] == \"gene\"]\n",
    "gene_pos = genes[[\"gene_name\", \"seqname\", \"start\", \"end\"]].drop_duplicates()\n",
    "gene_pos.columns = [\"gene\", \"chromosome\", \"start\", \"end\"]"
   ]
  },
  {
   "cell_type": "code",
   "execution_count": 15,
   "metadata": {},
   "outputs": [
    {
     "name": "stdout",
     "output_type": "stream",
     "text": [
      "✅ Chromosomal annotations added to adata.var\n"
     ]
    }
   ],
   "source": [
    "##STEP 2: Merge gene location with adata.var\n",
    "# Match gene names\n",
    "adata.var[\"gene\"] = adata.var_names\n",
    "gene_pos_filtered = gene_pos[gene_pos[\"gene\"].isin(adata.var[\"gene\"])].drop_duplicates(subset=\"gene\")\n",
    "gene_pos_filtered = gene_pos_filtered.set_index(\"gene\")\n",
    "\n",
    "# Merge and reindex\n",
    "merged_var = adata.var.join(gene_pos_filtered, on=\"gene\")\n",
    "merged_var = merged_var.reindex(adata.var_names)\n",
    "adata.var = merged_var\n",
    "\n",
    "print(\"✅ Chromosomal annotations added to adata.var\")"
   ]
  },
  {
   "cell_type": "code",
   "execution_count": null,
   "metadata": {},
   "outputs": [
    {
     "name": "stdout",
     "output_type": "stream",
     "text": [
      "🔍 CNV reference group counts:\n",
      " cnv_reference\n",
      "tumor     95709\n",
      "normal     4355\n",
      "Name: count, dtype: int64\n",
      "WARNING: Skipped 10173 genes because they don't have a genomic position annotated. \n"
     ]
    },
    {
     "data": {
      "application/vnd.jupyter.widget-view+json": {
       "model_id": "7d3beb7edd8c4b0f9832d0c889adc251",
       "version_major": 2,
       "version_minor": 0
      },
      "text/plain": [
       "  0%|          | 0/21 [00:00<?, ?it/s]"
      ]
     },
     "metadata": {},
     "output_type": "display_data"
    },
    {
     "name": "stdout",
     "output_type": "stream",
     "text": [
      "✅ CNV inference completed.\n"
     ]
    }
   ],
   "source": [
    "##STEP 3: Define reference group using Normal Epithelial cells\n",
    "# Create reference labels\n",
    "adata.obs[\"cnv_reference\"] = \"tumor\"\n",
    "adata.obs.loc[adata.obs[\"celltype_major\"] == \"Normal Epithelial\", \"cnv_reference\"] = \"normal\"\n",
    "\n",
    "print(\"🔍 CNV reference group counts:\\n\", adata.obs[\"cnv_reference\"].value_counts())\n",
    "\n",
    "## STEP 4: Run inferCNV with infercnvpy\n",
    "cnv.tl.infercnv(\n",
    "    adata,\n",
    "    reference_key=\"cnv_reference\",\n",
    "    reference_cat=\"normal\",\n",
    "    window_size=100,\n",
    "    step=10,\n",
    "    n_jobs=4  # Adjust depending on your CPU\n",
    ")\n",
    "\n",
    "print(\"✅ CNV inference completed.\")"
   ]
  },
  {
   "cell_type": "code",
   "execution_count": 17,
   "metadata": {},
   "outputs": [
    {
     "data": {
      "text/html": [
       "<div>\n",
       "<style scoped>\n",
       "    .dataframe tbody tr th:only-of-type {\n",
       "        vertical-align: middle;\n",
       "    }\n",
       "\n",
       "    .dataframe tbody tr th {\n",
       "        vertical-align: top;\n",
       "    }\n",
       "\n",
       "    .dataframe thead th {\n",
       "        text-align: right;\n",
       "    }\n",
       "</style>\n",
       "<table border=\"1\" class=\"dataframe\">\n",
       "  <thead>\n",
       "    <tr style=\"text-align: right;\">\n",
       "      <th></th>\n",
       "      <th>Unnamed: 0</th>\n",
       "      <th>orig.ident</th>\n",
       "      <th>nCount_RNA</th>\n",
       "      <th>nFeature_RNA</th>\n",
       "      <th>percent.mito</th>\n",
       "      <th>subtype</th>\n",
       "      <th>celltype_subset</th>\n",
       "      <th>celltype_minor</th>\n",
       "      <th>celltype_major</th>\n",
       "      <th>S_score</th>\n",
       "      <th>G2M_score</th>\n",
       "      <th>phase</th>\n",
       "      <th>apoptosis_score</th>\n",
       "      <th>pct_counts_ribo</th>\n",
       "      <th>oxphos_score</th>\n",
       "      <th>proto_oncogenescore</th>\n",
       "      <th>cnv_reference</th>\n",
       "    </tr>\n",
       "  </thead>\n",
       "  <tbody>\n",
       "    <tr>\n",
       "      <th>CID3586_AAGACCTCAGCATGAG</th>\n",
       "      <td>CID3586_AAGACCTCAGCATGAG</td>\n",
       "      <td>CID3586</td>\n",
       "      <td>4581</td>\n",
       "      <td>1689</td>\n",
       "      <td>1.506221</td>\n",
       "      <td>HER2+</td>\n",
       "      <td>Endothelial ACKR1</td>\n",
       "      <td>Endothelial ACKR1</td>\n",
       "      <td>Endothelial</td>\n",
       "      <td>-0.038055</td>\n",
       "      <td>-0.312865</td>\n",
       "      <td>G1</td>\n",
       "      <td>-0.632049</td>\n",
       "      <td>25.889544</td>\n",
       "      <td>0.495952</td>\n",
       "      <td>0.495952</td>\n",
       "      <td>tumor</td>\n",
       "    </tr>\n",
       "    <tr>\n",
       "      <th>CID3586_AAGGTTCGTAGTACCT</th>\n",
       "      <td>CID3586_AAGGTTCGTAGTACCT</td>\n",
       "      <td>CID3586</td>\n",
       "      <td>1726</td>\n",
       "      <td>779</td>\n",
       "      <td>5.793743</td>\n",
       "      <td>HER2+</td>\n",
       "      <td>Endothelial ACKR1</td>\n",
       "      <td>Endothelial ACKR1</td>\n",
       "      <td>Endothelial</td>\n",
       "      <td>-0.048626</td>\n",
       "      <td>-0.187135</td>\n",
       "      <td>G1</td>\n",
       "      <td>-0.286432</td>\n",
       "      <td>26.303592</td>\n",
       "      <td>0.075952</td>\n",
       "      <td>0.075952</td>\n",
       "      <td>tumor</td>\n",
       "    </tr>\n",
       "  </tbody>\n",
       "</table>\n",
       "</div>"
      ],
      "text/plain": [
       "                                        Unnamed: 0 orig.ident  nCount_RNA  \\\n",
       "CID3586_AAGACCTCAGCATGAG  CID3586_AAGACCTCAGCATGAG    CID3586        4581   \n",
       "CID3586_AAGGTTCGTAGTACCT  CID3586_AAGGTTCGTAGTACCT    CID3586        1726   \n",
       "\n",
       "                          nFeature_RNA  percent.mito subtype  \\\n",
       "CID3586_AAGACCTCAGCATGAG          1689      1.506221   HER2+   \n",
       "CID3586_AAGGTTCGTAGTACCT           779      5.793743   HER2+   \n",
       "\n",
       "                            celltype_subset     celltype_minor celltype_major  \\\n",
       "CID3586_AAGACCTCAGCATGAG  Endothelial ACKR1  Endothelial ACKR1    Endothelial   \n",
       "CID3586_AAGGTTCGTAGTACCT  Endothelial ACKR1  Endothelial ACKR1    Endothelial   \n",
       "\n",
       "                           S_score  G2M_score phase  apoptosis_score  \\\n",
       "CID3586_AAGACCTCAGCATGAG -0.038055  -0.312865    G1        -0.632049   \n",
       "CID3586_AAGGTTCGTAGTACCT -0.048626  -0.187135    G1        -0.286432   \n",
       "\n",
       "                          pct_counts_ribo  oxphos_score  proto_oncogenescore  \\\n",
       "CID3586_AAGACCTCAGCATGAG        25.889544      0.495952             0.495952   \n",
       "CID3586_AAGGTTCGTAGTACCT        26.303592      0.075952             0.075952   \n",
       "\n",
       "                         cnv_reference  \n",
       "CID3586_AAGACCTCAGCATGAG         tumor  \n",
       "CID3586_AAGGTTCGTAGTACCT         tumor  "
      ]
     },
     "execution_count": 17,
     "metadata": {},
     "output_type": "execute_result"
    }
   ],
   "source": [
    "adata.obs.head(2)"
   ]
  },
  {
   "cell_type": "code",
   "execution_count": 17,
   "metadata": {},
   "outputs": [],
   "source": [
    "## Run this block first \n",
    "# Step 1: Clean and filter chromosome annotations\n",
    "# adata.var[\"chromosome\"] = adata.var[\"chromosome\"].astype(str).str.replace(\"chr\", \"\").str.upper()\n",
    "# valid_chroms = [str(i) for i in range(1, 23)] + [\"X\", \"Y\"]\n",
    "# filtered_var = adata.var[adata.var[\"chromosome\"].isin(valid_chroms)]\n",
    "\n",
    "# # Step 2: Subset the AnnData object to these genes\n",
    "# adata_chr = adata[:, filtered_var.index].copy()  # creates new adata_chr with only valid chromosomes\n",
    "\n",
    "# # Step 3: Proceed with visualization on this cleaned object\n",
    "# sc.pp.scale(adata_chr, zero_center=True, max_value=10)\n",
    "\n",
    "# # Step 4: Calculate per-chromosome CNV signal\n",
    "# import numpy as np\n",
    "# import pandas as pd\n",
    "# import matplotlib.pyplot as plt\n",
    "# import seaborn as sns\n",
    "\n",
    "# chrom_scores = {}\n",
    "# for chrom in sorted(adata_chr.var[\"chromosome\"].unique(), key=lambda x: (x not in \"XY\", x)):\n",
    "#     chrom_genes = adata_chr.var[adata_chr.var[\"chromosome\"] == chrom].index\n",
    "#     if len(chrom_genes) < 10:\n",
    "#         continue\n",
    "#     expr = adata_chr[:, chrom_genes].X\n",
    "#     chrom_score = np.abs(expr).mean(axis=1)\n",
    "#     chrom_scores[chrom] = chrom_score\n",
    "\n",
    "# # Step 5: Melt and plot\n",
    "# cnv_df = pd.DataFrame({chrom: chrom_scores[chrom].A1 if hasattr(chrom_scores[chrom], 'A1') else chrom_scores[chrom]\n",
    "#                        for chrom in chrom_scores})\n",
    "# cnv_df = cnv_df.melt(var_name=\"Chromosome\", value_name=\"Mean Abs Z-score\")\n",
    "\n",
    "# plt.figure(figsize=(12, 6))\n",
    "# sns.boxplot(data=cnv_df, x=\"Chromosome\", y=\"Mean Abs Z-score\", order=sorted(cnv_df[\"Chromosome\"].unique(), key=lambda x: (x not in \"XY\", x)))\n",
    "# plt.xticks(rotation=45)\n",
    "# plt.title(\"📊 CNV Signal Intensity by Chromosome\")\n",
    "# plt.tight_layout()\n",
    "# plt.show()"
   ]
  },
  {
   "cell_type": "code",
   "execution_count": 18,
   "metadata": {},
   "outputs": [],
   "source": [
    "# Calculate the mean (or median, which is more robust to outliers) of Mean Abs Z-score for each chromosome\n",
    "# chromosome_cnv_summary = cnv_df.groupby(\"Chromosome\")[\"Mean Abs Z-score\"].mean().sort_values(ascending=False)\n",
    "# # You could also use .median() for a more robust measure:\n",
    "# # chromosome_cnv_summary = cnv_df.groupby(\"Chromosome\")[\"Mean Abs Z-score\"].median().sort_values(ascending=False)\n",
    "\n",
    "# print(\"📈 Chromosomes Ranked by Mean Abs Z-score:\\n\")\n",
    "# print(chromosome_cnv_summary)\n",
    "\n",
    "# print(\"\\n--- Top 10 High Burden Chromosomes ---\")\n",
    "# print(chromosome_cnv_summary.head(10))"
   ]
  },
  {
   "cell_type": "code",
   "execution_count": null,
   "metadata": {},
   "outputs": [],
   "source": [
    "## Step-by-step CNV Scoring on Selected Chromosomes\n",
    "# Step 1: Ensure chromosome formatting is consistent\n",
    "adata.var[\"chromosome\"] = adata.var[\"chromosome\"].astype(str).str.replace(\"chr\", \"\").str.upper()\n",
    "\n",
    "# Step 2: Define high-CNV burden chromosomes based on literature\n",
    "#selected_chroms = [\"1\", \"6\", \"7\", \"10\", \"14\", \"18\"]\n",
    "#selected_chroms = [\"1\", \"6\", \"7\", \"8\", \"10\", \"14\", \"17\", \"18\"]\n",
    "selected_chroms = [\n",
    "    \"16\",\n",
    "    \"12\",\n",
    "    \"1\",\n",
    "    \"19\",\n",
    "    \"17\",\n",
    "    \"6\",\n",
    "    \"2\",\n",
    "    \"11\",\n",
    "    \"15\",\n",
    "    \"5\"\n",
    "]\n",
    "\n",
    "# Step 3: Subset genes from these chromosomes\n",
    "cnv_genes = adata.var[adata.var[\"chromosome\"].isin(selected_chroms)]\n",
    "\n",
    "# Step 4: Subset the AnnData object to CNV-related genes\n",
    "adata_cnv = adata[:, cnv_genes.index].copy()\n",
    "\n",
    "# Step 5: Normalize expression per gene (Z-score across all cells)\n",
    "# This helps detect CNV-like expression shifts (amplifications/deletions)\n",
    "sc.pp.scale(adata_cnv, zero_center=True, max_value=10)  # Clip extreme values\n",
    "\n",
    "# Step 6: Calculate CNV score as mean absolute Z-score per cell\n",
    "adata.obs['cnv_score'] = np.abs(adata_cnv.X).mean(axis=1)"
   ]
  },
  {
   "cell_type": "code",
   "execution_count": 19,
   "metadata": {},
   "outputs": [
    {
     "data": {
      "text/html": [
       "<div>\n",
       "<style scoped>\n",
       "    .dataframe tbody tr th:only-of-type {\n",
       "        vertical-align: middle;\n",
       "    }\n",
       "\n",
       "    .dataframe tbody tr th {\n",
       "        vertical-align: top;\n",
       "    }\n",
       "\n",
       "    .dataframe thead th {\n",
       "        text-align: right;\n",
       "    }\n",
       "</style>\n",
       "<table border=\"1\" class=\"dataframe\">\n",
       "  <thead>\n",
       "    <tr style=\"text-align: right;\">\n",
       "      <th></th>\n",
       "      <th>Unnamed: 0</th>\n",
       "      <th>orig.ident</th>\n",
       "      <th>nCount_RNA</th>\n",
       "      <th>nFeature_RNA</th>\n",
       "      <th>percent.mito</th>\n",
       "      <th>subtype</th>\n",
       "      <th>celltype_subset</th>\n",
       "      <th>celltype_minor</th>\n",
       "      <th>celltype_major</th>\n",
       "      <th>S_score</th>\n",
       "      <th>G2M_score</th>\n",
       "      <th>phase</th>\n",
       "      <th>apoptosis_score</th>\n",
       "      <th>pct_counts_ribo</th>\n",
       "      <th>oxphos_score</th>\n",
       "      <th>proto_oncogenescore</th>\n",
       "      <th>cnv_reference</th>\n",
       "      <th>cnv_score</th>\n",
       "    </tr>\n",
       "  </thead>\n",
       "  <tbody>\n",
       "    <tr>\n",
       "      <th>CID3586_AAGACCTCAGCATGAG</th>\n",
       "      <td>CID3586_AAGACCTCAGCATGAG</td>\n",
       "      <td>CID3586</td>\n",
       "      <td>4581</td>\n",
       "      <td>1689</td>\n",
       "      <td>1.506221</td>\n",
       "      <td>HER2+</td>\n",
       "      <td>Endothelial ACKR1</td>\n",
       "      <td>Endothelial ACKR1</td>\n",
       "      <td>Endothelial</td>\n",
       "      <td>-0.038055</td>\n",
       "      <td>-0.312865</td>\n",
       "      <td>G1</td>\n",
       "      <td>-0.632049</td>\n",
       "      <td>25.889544</td>\n",
       "      <td>0.495952</td>\n",
       "      <td>0.495952</td>\n",
       "      <td>tumor</td>\n",
       "      <td>0.258242</td>\n",
       "    </tr>\n",
       "    <tr>\n",
       "      <th>CID3586_AAGGTTCGTAGTACCT</th>\n",
       "      <td>CID3586_AAGGTTCGTAGTACCT</td>\n",
       "      <td>CID3586</td>\n",
       "      <td>1726</td>\n",
       "      <td>779</td>\n",
       "      <td>5.793743</td>\n",
       "      <td>HER2+</td>\n",
       "      <td>Endothelial ACKR1</td>\n",
       "      <td>Endothelial ACKR1</td>\n",
       "      <td>Endothelial</td>\n",
       "      <td>-0.048626</td>\n",
       "      <td>-0.187135</td>\n",
       "      <td>G1</td>\n",
       "      <td>-0.286432</td>\n",
       "      <td>26.303592</td>\n",
       "      <td>0.075952</td>\n",
       "      <td>0.075952</td>\n",
       "      <td>tumor</td>\n",
       "      <td>0.208406</td>\n",
       "    </tr>\n",
       "  </tbody>\n",
       "</table>\n",
       "</div>"
      ],
      "text/plain": [
       "                                        Unnamed: 0 orig.ident  nCount_RNA  \\\n",
       "CID3586_AAGACCTCAGCATGAG  CID3586_AAGACCTCAGCATGAG    CID3586        4581   \n",
       "CID3586_AAGGTTCGTAGTACCT  CID3586_AAGGTTCGTAGTACCT    CID3586        1726   \n",
       "\n",
       "                          nFeature_RNA  percent.mito subtype  \\\n",
       "CID3586_AAGACCTCAGCATGAG          1689      1.506221   HER2+   \n",
       "CID3586_AAGGTTCGTAGTACCT           779      5.793743   HER2+   \n",
       "\n",
       "                            celltype_subset     celltype_minor celltype_major  \\\n",
       "CID3586_AAGACCTCAGCATGAG  Endothelial ACKR1  Endothelial ACKR1    Endothelial   \n",
       "CID3586_AAGGTTCGTAGTACCT  Endothelial ACKR1  Endothelial ACKR1    Endothelial   \n",
       "\n",
       "                           S_score  G2M_score phase  apoptosis_score  \\\n",
       "CID3586_AAGACCTCAGCATGAG -0.038055  -0.312865    G1        -0.632049   \n",
       "CID3586_AAGGTTCGTAGTACCT -0.048626  -0.187135    G1        -0.286432   \n",
       "\n",
       "                          pct_counts_ribo  oxphos_score  proto_oncogenescore  \\\n",
       "CID3586_AAGACCTCAGCATGAG        25.889544      0.495952             0.495952   \n",
       "CID3586_AAGGTTCGTAGTACCT        26.303592      0.075952             0.075952   \n",
       "\n",
       "                         cnv_reference  cnv_score  \n",
       "CID3586_AAGACCTCAGCATGAG         tumor   0.258242  \n",
       "CID3586_AAGGTTCGTAGTACCT         tumor   0.208406  "
      ]
     },
     "execution_count": 19,
     "metadata": {},
     "output_type": "execute_result"
    }
   ],
   "source": [
    "adata.obs.head(2)"
   ]
  },
  {
   "cell_type": "code",
   "execution_count": 21,
   "metadata": {},
   "outputs": [
    {
     "name": "stdout",
     "output_type": "stream",
     "text": [
      "(100064, 19)\n"
     ]
    }
   ],
   "source": [
    "df_old = pd.read_csv(\"adata_obs_full.csv\")\n",
    "print(df_old.shape)\n"
   ]
  },
  {
   "cell_type": "code",
   "execution_count": 22,
   "metadata": {},
   "outputs": [],
   "source": [
    "old_columns = df_old.columns.tolist()\n",
    "old_index = df_old.index.tolist()\n",
    "df_new = adata.obs.copy()\n"
   ]
  },
  {
   "cell_type": "code",
   "execution_count": 23,
   "metadata": {},
   "outputs": [
    {
     "name": "stdout",
     "output_type": "stream",
     "text": [
      "Missing columns in new df: set()\n"
     ]
    }
   ],
   "source": [
    "#df_new_aligned = df_new[old_columns]  # Reorder columns\n",
    "\n",
    "# Read old file\n",
    "df_old = pd.read_csv(\"adata_obs_full.csv\")\n",
    "\n",
    "# Clean up the column list (remove auto-generated index columns)\n",
    "old_columns = [col for col in df_old.columns if not col.startswith(\"Unnamed\")]\n",
    "\n",
    "# Create new DataFrame from current AnnData object\n",
    "df_new = adata.obs.copy()\n",
    "\n",
    "# Check what's extra/missing\n",
    "missing_in_new = set(old_columns) - set(df_new.columns)\n",
    "print(\"Missing columns in new df:\", missing_in_new)\n",
    "\n",
    "# Align columns (skip Unnamed ones)\n",
    "df_new_aligned = df_new[old_columns]\n",
    "\n"
   ]
  },
  {
   "cell_type": "code",
   "execution_count": 24,
   "metadata": {},
   "outputs": [],
   "source": [
    "df_new.to_csv(\"adata_obs_full_17July.csv\", index=False)\n"
   ]
  },
  {
   "cell_type": "code",
   "execution_count": 29,
   "metadata": {},
   "outputs": [
    {
     "name": "stdout",
     "output_type": "stream",
     "text": [
      "🔍 Preview of old vs new:\n",
      "               Unnamed: 0.1                Unnamed: 0 orig.ident  nCount_RNA  \\\n",
      "0  CID3586_AAGACCTCAGCATGAG  CID3586_AAGACCTCAGCATGAG    CID3586        4581   \n",
      "1  CID3586_AAGGTTCGTAGTACCT  CID3586_AAGGTTCGTAGTACCT    CID3586        1726   \n",
      "\n",
      "   nFeature_RNA  percent.mito subtype    celltype_subset     celltype_minor  \\\n",
      "0          1689      1.506221   HER2+  Endothelial ACKR1  Endothelial ACKR1   \n",
      "1           779      5.793743   HER2+  Endothelial ACKR1  Endothelial ACKR1   \n",
      "\n",
      "  celltype_major   S_score  G2M_score phase  apoptosis_score  pct_counts_ribo  \\\n",
      "0    Endothelial -0.038055  -0.312865    G1        -0.632049        25.889544   \n",
      "1    Endothelial -0.048626  -0.187135    G1        -0.286432        26.303592   \n",
      "\n",
      "   oxphos_score  proto_oncogenescore cnv_reference  cnv_score  \n",
      "0      0.495952             0.495952         tumor   0.258242  \n",
      "1      0.075952             0.075952         tumor   0.208406  \n",
      "                 Unnamed: 0 orig.ident  nCount_RNA  nFeature_RNA  \\\n",
      "0  CID3586_AAGACCTCAGCATGAG    CID3586        4581          1689   \n",
      "1  CID3586_AAGGTTCGTAGTACCT    CID3586        1726           779   \n",
      "\n",
      "   percent.mito subtype    celltype_subset     celltype_minor celltype_major  \\\n",
      "0      1.506221   HER2+  Endothelial ACKR1  Endothelial ACKR1    Endothelial   \n",
      "1      5.793743   HER2+  Endothelial ACKR1  Endothelial ACKR1    Endothelial   \n",
      "\n",
      "    S_score  G2M_score phase  apoptosis_score  pct_counts_ribo  oxphos_score  \\\n",
      "0 -0.038055  -0.312865    G1        -0.632049        25.889544      0.495952   \n",
      "1 -0.048626  -0.187135    G1        -0.286432        26.303592      0.075952   \n",
      "\n",
      "   proto_oncogenescore cnv_reference  cnv_score  \n",
      "0             0.495952         tumor   0.258242  \n",
      "1             0.075952         tumor   0.208406  \n"
     ]
    },
    {
     "data": {
      "text/html": [
       "<div>\n",
       "<style scoped>\n",
       "    .dataframe tbody tr th:only-of-type {\n",
       "        vertical-align: middle;\n",
       "    }\n",
       "\n",
       "    .dataframe tbody tr th {\n",
       "        vertical-align: top;\n",
       "    }\n",
       "\n",
       "    .dataframe thead tr th {\n",
       "        text-align: left;\n",
       "    }\n",
       "</style>\n",
       "<table border=\"1\" class=\"dataframe\">\n",
       "  <thead>\n",
       "  </thead>\n",
       "  <tbody>\n",
       "  </tbody>\n",
       "</table>\n",
       "</div>"
      ],
      "text/plain": [
       "Empty DataFrame\n",
       "Columns: []\n",
       "Index: []"
      ]
     },
     "execution_count": 29,
     "metadata": {},
     "output_type": "execute_result"
    }
   ],
   "source": [
    "df_old = pd.read_csv(\"adata_obs_full.csv\")\n",
    "df_new = pd.read_csv(\"adata_obs_full_17July.csv\")\n",
    "\n",
    "# Compare head\n",
    "print(\"🔍 Preview of old vs new:\")\n",
    "print(df_old.head(2))\n",
    "print(df_new.head(2))\n",
    "\n",
    "# Optional: Spot check values\n",
    "#assert df_old.shape == df_new.shape\n",
    "#assert all(df_old.columns == df_new.columns)\n",
    "\n",
    "# Compare a few columns\n",
    "(df_old[[\"S_score\",\"G2M_score\", \"proto_oncogenescore\", \"cnv_score\",\"proto_oncogenescore\"]]\n",
    " .compare(df_new[[\"S_score\",\"G2M_score\", \"proto_oncogenescore\", \"cnv_score\", \"proto_oncogenescore\"]],))\n"
   ]
  },
  {
   "cell_type": "code",
   "execution_count": 26,
   "metadata": {},
   "outputs": [
    {
     "name": "stdout",
     "output_type": "stream",
     "text": [
      "✅ adata_obs_full_17July.csv is consistent with the original version (except for index columns).\n"
     ]
    }
   ],
   "source": [
    "# Step 1: Identify unwanted index-like columns\n",
    "cols_to_drop_old = [col for col in df_old.columns if col.startswith(\"Unnamed\")]\n",
    "cols_to_drop_new = [col for col in df_new.columns if col.startswith(\"Unnamed\")]\n",
    "\n",
    "# Step 2: Drop those columns from both DataFrames\n",
    "df_old_clean = df_old.drop(columns=cols_to_drop_old)\n",
    "df_new_clean = df_new.drop(columns=cols_to_drop_new)\n",
    "\n",
    "# Step 3: Now compare\n",
    "assert df_old_clean.shape == df_new_clean.shape, \"Shape mismatch\"\n",
    "assert all(df_old_clean.columns == df_new_clean.columns), \"Column order mismatch\"\n",
    "\n",
    "print(\"✅ adata_obs_full_17July.csv is consistent with the original version (except for index columns).\")\n",
    "\n"
   ]
  },
  {
   "cell_type": "code",
   "execution_count": 27,
   "metadata": {},
   "outputs": [],
   "source": [
    "df_new.to_csv(\"GSE176078_adata_obs_full_17July.csv\", index=False)\n"
   ]
  }
 ],
 "metadata": {
  "kernelspec": {
   "display_name": "Python 3",
   "language": "python",
   "name": "python3"
  },
  "language_info": {
   "codemirror_mode": {
    "name": "ipython",
    "version": 3
   },
   "file_extension": ".py",
   "mimetype": "text/x-python",
   "name": "python",
   "nbconvert_exporter": "python",
   "pygments_lexer": "ipython3",
   "version": "3.9.6"
  }
 },
 "nbformat": 4,
 "nbformat_minor": 2
}
